{
 "cells": [
  {
   "cell_type": "markdown",
   "metadata": {
    "colab_type": "text",
    "id": "_CrNkA-MMjkB"
   },
   "source": [
    "# Algoritmo para geração do Dataset baseado na energia do Hassel e nos autovalores do Kapetanovic"
   ]
  },
  {
   "cell_type": "markdown",
   "metadata": {
    "colab_type": "text",
    "id": "CRvoKiWrMjkF"
   },
   "source": [
    "## Importações"
   ]
  },
  {
   "cell_type": "code",
   "execution_count": 1,
   "metadata": {
    "colab": {},
    "colab_type": "code",
    "executionInfo": {
     "elapsed": 897,
     "status": "ok",
     "timestamp": 1597165790547,
     "user": {
      "displayName": "Pedro Ivo Da Cruz",
      "photoUrl": "https://lh3.googleusercontent.com/a-/AOh14Gi6gSI4jdkG_h-XMsvq_m9Lmz9TBC6YvBx1NRiqHg=s64",
      "userId": "00923469177734285874"
     },
     "user_tz": 180
    },
    "id": "0QIQaRO3MjkK"
   },
   "outputs": [],
   "source": [
    "import numpy as np\n",
    "import matplotlib.pyplot as plt\n",
    "import scipy.signal as sig\n",
    "import sys\n",
    "import pandas as pd\n",
    "from joblib import Parallel, delayed\n",
    "from time import time\n",
    "from IPython.display import display, clear_output"
   ]
  },
  {
   "cell_type": "code",
   "execution_count": null,
   "metadata": {},
   "outputs": [],
   "source": []
  },
  {
   "cell_type": "markdown",
   "metadata": {},
   "source": [
    "## Definição de funções\n",
    "\n",
    "Vou copiar as funções do arquivo comm.py aqui pra garantir que se mudar lá não vai mudar aqui, e tb pq vou fazer algumas modificações na função da matriz R. "
   ]
  },
  {
   "cell_type": "code",
   "execution_count": 2,
   "metadata": {},
   "outputs": [],
   "source": [
    "def bin2gray(bi):\n",
    "    order = bi.shape[1]\n",
    "    lin = bi.shape[0]\n",
    "    g = np.zeros((lin, order))\n",
    "\n",
    "    idx = 0\n",
    "    for bits in bi:\n",
    "        g[idx, 0] = int(bits[0])\n",
    "        for l in range(1, order):\n",
    "            g[idx, l] = int(bits[l] ^ bits[l - 1])\n",
    "        idx = idx + 1\n",
    "\n",
    "    return g"
   ]
  },
  {
   "cell_type": "code",
   "execution_count": 3,
   "metadata": {},
   "outputs": [],
   "source": [
    "def qpskmodulator(input_bits, average_power=1, phase_offset=np.pi / 4):\n",
    "\n",
    "    # Generate symbols\n",
    "    symbols = np.array([1, 1j, -1, -1j]) * np.exp(1j * phase_offset)\n",
    "    symbols = np.sqrt(average_power) * symbols\n",
    "\n",
    "    input_arr = input_bits.reshape((int(len(input_bits) / 2)), 2)\n",
    "    gray_code = bin2gray(input_arr)\n",
    "\n",
    "    output = [\n",
    "    ]  # Pre allocate in the future to prevent unnecessary memory usage\n",
    "    for symbol in gray_code:\n",
    "        #         print(symbol)\n",
    "        s = int(2 * symbol[0] + symbol[1])\n",
    "        output.append(symbols[s])\n",
    "\n",
    "    return np.array(output)"
   ]
  },
  {
   "cell_type": "code",
   "execution_count": 4,
   "metadata": {},
   "outputs": [],
   "source": [
    "def awgn(sig, SNR, sig_power=1):\n",
    "    # SNR in dB\n",
    "\n",
    "    SNR_linear = 10**(SNR / 10)  #SNR to linear scale\n",
    "    noise_power = sig_power / SNR_linear\n",
    "    # Noise power\n",
    "\n",
    "    dim = sig.shape\n",
    "    if not np.isreal(sig[1, 1]):\n",
    "        noise = np.sqrt(noise_power / 2) * (np.random.normal(0, 1, dim) +\n",
    "                                            1j * np.random.normal(0, 1, dim))\n",
    "    else:\n",
    "        noise = np.sqrt(noise_power) * np.random.normal(0, 1, dim)\n",
    "\n",
    "    sig_noisy = sig + noise\n",
    "\n",
    "    return sig_noisy"
   ]
  },
  {
   "cell_type": "code",
   "execution_count": 5,
   "metadata": {},
   "outputs": [],
   "source": [
    "def razaoMatrizR(Y, qtdSimbolosPiloto, qtdAntenas, snr, potenciaSinal=1):\n",
    "    \n",
    "    # OBTENDO A POTENCIA DO RUIDO N0\n",
    "    N0 = potenciaSinal/(10**(snr/10))\n",
    "    \n",
    "    # CRIANDO A MATRIZ IDENTIDADE E FAZENDO A OPERACAO HERMITIANA EM Y\n",
    "    I  = np.identity(qtdSimbolosPiloto)\n",
    "    YH = np.conjugate(Y).T\n",
    "    \n",
    "    # CONSTRUINDO A MATRIZ R\n",
    "    R = np.matmul(YH, Y)/qtdAntenas - N0 * I\n",
    "    \n",
    "    # DOIS MAIORES AUTOVALORES\n",
    "    autovalores = np.sort(np.linalg.eigvals(R))\n",
    "    a1 = autovalores[-1]\n",
    "    a2 = autovalores[-2]\n",
    "    a3 = autovalores[-3]\n",
    "    \n",
    "    return a1.real, a2.real, a3.real"
   ]
  },
  {
   "cell_type": "code",
   "execution_count": 6,
   "metadata": {},
   "outputs": [],
   "source": [
    "def simularPropagacaoSinal(qtdSimbolosPiloto, bitsPorSimbolo, qtdAntenas, qtdUsuarios, potenciaEspiao, snr, qtdEspioes=1):\n",
    "    \n",
    "    # SIMULANDO OS CANAIS DO USUARIO E DO ESPIAO\n",
    "    Haut = np.sqrt(0.5)*(np.random.normal(0, 1, size=(qtdAntenas, qtdUsuarios)) + 1j*np.random.normal(0, 1, size=(qtdAntenas, qtdUsuarios)))\n",
    "    g    = np.sqrt(0.5)*(np.random.normal(0, 1, size=(qtdAntenas, qtdEspioes)) + 1j*np.random.normal(0, 1, (qtdAntenas, qtdEspioes)))\n",
    "\n",
    "    # SEQUENCIA PILOTO ALEATORIA + MODULACAO PARA TODOS OS USUARIOS:\n",
    "    bitStream = np.random.choice([0, 1], qtdSimbolosPiloto*bitsPorSimbolo*qtdUsuarios)\n",
    "    symb      = qpskmodulator(bitStream) # QPSK Modulator\n",
    "    xp        = symb.reshape(qtdUsuarios, qtdSimbolosPiloto)\n",
    "\n",
    "    # ESPIAO ENTRANDO NA JOGADA (SE A POTENCIA DELE FOR 0 ELE NAO ENTRA NA JOGADA):\n",
    "    xpe  = np.sqrt(potenciaEspiao)*xp[0, :] # xpe vai ser a sequencia piloto do primeiro usuario multiplicada pela raiz da potencia do espiao\n",
    "    xptx = np.concatenate((xp, [xpe])) # xptx sera a matriz xp com uma linha a mais: xpe\n",
    "    H    = np.concatenate((Haut, g), axis=1) # H vai ser Haut com uma COLUNA a mais, que vai ser g\n",
    "\n",
    "    # TRANSMISSAO PELO CANAL\n",
    "    Y = np.dot(H, xptx) # fading\n",
    "    Y = awgn(Y, SNR=snr) # ruido branco\n",
    "    \n",
    "    return Y, xp, H[:,0]"
   ]
  },
  {
   "cell_type": "code",
   "execution_count": 7,
   "metadata": {},
   "outputs": [],
   "source": [
    "def estimarCanal(Y, xp):\n",
    "    # HEST =(Y * xptranspostoconjugado ) * ((xp*xptranspconj)^(-1))\n",
    "    # HEST -> cada coluna um usuario. No caso de um único usuário pegar a primeira coluna\n",
    "    # return Hest(coluna 0)\n",
    "    \n",
    "    Hest = np.matmul(np.matmul(Y, np.conjugate(xp).T), np.linalg.lstsq(np.matmul(xp, np.conjugate(xp).T), np.eye(np.matmul(xp, np.conjugate(xp).T).shape[0], np.matmul(xp, np.conjugate(xp).T).shape[0]))[0])\n",
    "    \n",
    "    return Hest[:,0]"
   ]
  },
  {
   "cell_type": "code",
   "execution_count": 8,
   "metadata": {},
   "outputs": [],
   "source": [
    "def calcularEnergiaHassan(HestCol0, snr, qtdAntenas, qtdSimbolosPiloto):\n",
    "    \n",
    "    N0       = 1/(10**(snr/10))\n",
    "    sovertau = qtdAntenas*N0/qtdSimbolosPiloto\n",
    "    ln       = np.log((2+sovertau)/(1+sovertau))\n",
    "    eta      = (1 + sovertau)*(2+sovertau)*ln\n",
    "    E        = np.matmul(np.conjugate(HestCol0).T, HestCol0)/qtdAntenas\n",
    "    \n",
    "    return E.real, eta.real"
   ]
  },
  {
   "cell_type": "code",
   "execution_count": 9,
   "metadata": {},
   "outputs": [],
   "source": [
    "def obterPrincipaisFeatures(qtdSimbolos, bitsPorSimbolo, qtdAntenas, qtdUsuarios, potenciaEspiao, snr, qtdEspioes):\n",
    "    \n",
    "    # PROPAGACAO DO SINAL\n",
    "    Y, xp, HCol0 = simularPropagacaoSinal(qtdSimbolos, bitsPorSimbolo, qtdAntenas, qtdUsuarios, potenciaEspiao, snr, qtdEspioes)\n",
    "        \n",
    "    # CALCULANDO A RAZAO DOS AUTOVALORES (kapetanovik)\n",
    "    a1, a2, a3 = razaoMatrizR(Y, qtdSimbolos, qtdAntenas, snr)    \n",
    "    \n",
    "    # ESTIMATIVA DO CANAL (hassel)\n",
    "    HestCol0 = estimarCanal(Y, xp)\n",
    "    \n",
    "    # CALCULO DA ENERGIA (hassel)\n",
    "    E, eta = calcularEnergiaHassan(HestCol0, snr, qtdAntenas, qtdSimbolos)\n",
    "    \n",
    "    return E, eta, a1, a2, a3"
   ]
  },
  {
   "cell_type": "code",
   "execution_count": 10,
   "metadata": {},
   "outputs": [],
   "source": [
    "def main(qtdSimbolos, bitsPorSimbolo, qtdAntenas, qtdUsuarios, potenciaEspiao, snr, qtdEspioes, caminhoCSV):\n",
    "    \n",
    "    # OBTENDO AS PRINCIPAIS FEATURES\n",
    "    E, eta, a1, a2, a3 = obterPrincipaisFeatures(qtdSimbolos, bitsPorSimbolo, qtdAntenas, qtdUsuarios, potenciaEspiao, snr, qtdEspioes)\n",
    "\n",
    "    # FAZENDO O TARGET DO DATASET\n",
    "    ataquePresente = 0\n",
    "    if potenciaEspiao > 0:\n",
    "        ataquePresente = 1\n",
    "\n",
    "    # SALVANDO NO CSV - mode='a' significa append\n",
    "    linhaNovaCSV = pd.DataFrame([[\n",
    "        qtdAntenas, #qtdUsuarios, #snr, \n",
    "        E,\n",
    "        eta,\n",
    "        a1,\n",
    "        a2,\n",
    "        a3,\n",
    "        potenciaEspiao, \n",
    "        ataquePresente\n",
    "    ]]).to_csv(caminhoCSV, mode='a', header=False, index=False)"
   ]
  },
  {
   "cell_type": "code",
   "execution_count": 11,
   "metadata": {},
   "outputs": [],
   "source": [
    "def criarDatasetTeste0(qtdUsuarios, qtdAntenas, qtdSimbolos, rangePotenciaEspiao, rangeSNRs, qtdBitsPorSimbolo, qtdEspioes, repetibilidade, colunas):\n",
    "    # INICIANDO O CSV\n",
    "    caminhoCSV = \"../../CSV/train_0_influencia_snr/test_dataset_\"+str(qtdUsuarios)+\"usuarios_\"+str(qtdAntenas)+\"antenas_\"+str(qtdSimbolos)+\"simbolos_\"+str(time())+\".csv\"\n",
    "    dataframe   = pd.DataFrame(columns=colunas).to_csv(caminhoCSV, index=False)\n",
    "\n",
    "    # PARA PRINTAR O PROGRESSO\n",
    "    iteracaoAtual     = 1 \n",
    "    qtdPossibilidades = len(rangePotenciaEspiao) * len(rangeSNRs)\n",
    "\n",
    "    # ITERANDO TODAS AS COMBINACOES POSSIVEIS DE VARIAVEIS\n",
    "    for potenciaEspiaoAtual in rangePotenciaEspiao:\n",
    "        for snrAtual in rangeSNRs:\n",
    "\n",
    "            # VAMOS PARALELIZAR PQ NEM DEUS TEM A PACIENCIA NECESSARIA KKKKK\n",
    "            Parallel(n_jobs=nJobs, verbose=0)(delayed(main)(qtdSimbolos, qtdBitsPorSimbolo, qtdAntenas, qtdUsuarios, potenciaEspiaoAtual, snrAtual, qtdEspioes, caminhoCSV) for repetibilidadeAtual in range(repetibilidade))            \n",
    "            \n",
    "            # PRINT\n",
    "            clear_output(wait=True)\n",
    "            display(\"Usuários: \"+str(qtdUsuarios)+\". Antenas: \"+str(qtdAntenas)+\". Símbolos: \"+str(qtdSimbolos)+\". Progresso: \"+str(100*(iteracaoAtual/qtdPossibilidades))[:7]+\"%.\")\n",
    "            iteracaoAtual += 1"
   ]
  },
  {
   "cell_type": "code",
   "execution_count": 12,
   "metadata": {},
   "outputs": [],
   "source": [
    "def criarDatasetTeste1(snr, qtdAntenas, qtdSimbolos, rangePotenciaEspiao, rangeQtdUsuarios, qtdBitsPorSimbolo, qtdEspioes, repetibilidade, colunas):\n",
    "    # INICIANDO O CSV\n",
    "    caminhoCSV = \"../../CSV/teste_1_influencia_qtd_usuarios/train_dataset_\"+str(snr)+\"dB_\"+str(qtdAntenas)+\"antenas_\"+str(qtdSimbolos)+\"simbolos_\"+str(time())+\".csv\"\n",
    "    dataframe   = pd.DataFrame(columns=colunas).to_csv(caminhoCSV, index=False)\n",
    "\n",
    "    # PARA PRINTAR O PROGRESSO\n",
    "    iteracaoAtual     = 1 \n",
    "    qtdPossibilidades = len(rangePotenciaEspiao) * len(rangeQtdUsuarios)\n",
    "\n",
    "    # ITERANDO TODAS AS COMBINACOES POSSIVEIS DE VARIAVEIS\n",
    "    for potenciaEspiaoAtual in rangePotenciaEspiao:\n",
    "        for qtdUsuarios in rangeQtdUsuarios:\n",
    "\n",
    "            # VAMOS PARALELIZAR PQ NEM DEUS TEM A PACIENCIA NECESSARIA KKKKK\n",
    "            Parallel(n_jobs=nJobs, verbose=0)(delayed(main)(qtdSimbolos, qtdBitsPorSimbolo, qtdAntenas, qtdUsuarios, potenciaEspiaoAtual, snr, qtdEspioes, caminhoCSV) for repetibilidadeAtual in range(repetibilidade))            \n",
    "            \n",
    "            # PRINT\n",
    "            clear_output(wait=True)\n",
    "            display(\"SNR: \"+str(snr)+\". Antenas: \"+str(qtdAntenas)+\". Símbolos: \"+str(qtdSimbolos)+\". Progresso: \"+str(100*(iteracaoAtual/qtdPossibilidades))[:7]+\"%.\")\n",
    "            iteracaoAtual += 1"
   ]
  },
  {
   "cell_type": "code",
   "execution_count": 13,
   "metadata": {},
   "outputs": [],
   "source": [
    "def criarDatasetTeste2(snr, rangeQtdAntenas, qtdSimbolos, rangePotenciaEspiao, qtdUsuarios, qtdBitsPorSimbolo, qtdEspioes, repetibilidade, colunas):\n",
    "    # INICIANDO O CSV\n",
    "    caminhoCSV  = \"../../CSV/teste_2_influencia_qtd_antenas/test_dataset_\"+str(snr)+\"dB_\"+str(qtdUsuarios)+\"usuarios_\"+str(qtdSimbolos)+\"simbolos_\"+str(time())+\".csv\"\n",
    "    dataframe   = pd.DataFrame(columns=colunas).to_csv(caminhoCSV, index=False)\n",
    "\n",
    "    # PARA PRINTAR O PROGRESSO\n",
    "    iteracaoAtual     = 1 \n",
    "    qtdPossibilidades = len(rangePotenciaEspiao) * len(rangeQtdAntenas)\n",
    "\n",
    "    # ITERANDO TODAS AS COMBINACOES POSSIVEIS DE VARIAVEIS\n",
    "    for potenciaEspiaoAtual in rangePotenciaEspiao:\n",
    "        for qtdAntenas in rangeQtdAntenas:\n",
    "\n",
    "            # VAMOS PARALELIZAR PQ NEM DEUS TEM A PACIENCIA NECESSARIA KKKKK\n",
    "            Parallel(n_jobs=nJobs, verbose=0)(delayed(main)(qtdSimbolos, qtdBitsPorSimbolo, qtdAntenas, qtdUsuarios, potenciaEspiaoAtual, snr, qtdEspioes, caminhoCSV) for repetibilidadeAtual in range(repetibilidade))            \n",
    "            \n",
    "            # PRINT\n",
    "            clear_output(wait=True)\n",
    "            display(\"SNR: \"+str(snr)+\". Usuários: \"+str(qtdUsuarios)+\". Símbolos: \"+str(qtdSimbolos)+\". Progresso: \"+str(100*(iteracaoAtual/qtdPossibilidades))[:7]+\"%.\")\n",
    "            iteracaoAtual += 1"
   ]
  },
  {
   "cell_type": "code",
   "execution_count": null,
   "metadata": {},
   "outputs": [],
   "source": []
  },
  {
   "cell_type": "markdown",
   "metadata": {
    "colab_type": "text",
    "id": "4kVQGeT2Mjkc"
   },
   "source": [
    "## Parâmetros Iniciais"
   ]
  },
  {
   "cell_type": "code",
   "execution_count": 14,
   "metadata": {},
   "outputs": [],
   "source": [
    "# PARAMETROS FIXOS\n",
    "nJobs             = 3\n",
    "qtdEspioes        = 1\n",
    "qtdBitsPorSimbolo = 2\n",
    "repetibilidade    = 1000\n",
    "potenciaUsuario   = 1\n",
    "\n",
    "# PARAMETROS DOS CSVS\n",
    "colunas = [\n",
    "    \"qtdAntenas\", #\"qtdUsuarios\", #\"snr\",\n",
    "    \"E\",\n",
    "    \"eta\",\n",
    "    \"a1\",\n",
    "    \"a2\",\n",
    "    \"a3\",\n",
    "    \"potenciaEspiao\", \n",
    "    \"ataquePresente\"\n",
    "]\n",
    "\n",
    "# PARAMETROS VARIAVEIS\n",
    "rangePotenciaEspiao = np.arange(0.0, 2.51, 0.5)\n",
    "rangeSNRs           = np.array([10])\n",
    "rangeQtdUsuarios    = np.array([64])\n",
    "rangeQtdAntenas     = np.arange(64, 257, 8)\n",
    "rangeQtdSimbolos    = np.array([128])\n",
    "\n",
    "# # TESTES RAPIDOS - DEIXAR COMENTADOOOOOOO\n",
    "# repetibilidade      = 10                    # TESTES RAPIDOS\n",
    "# rangePotenciaEspiao = np.array([0, 1, 2])   # TESTES RAPIDOS\n",
    "# rangeSNRs           = np.arange(-10, 31, 5) # TESTES RAPIDOS \n",
    "# rangeQtdUsuarios    = np.array([1])         # TESTES RAPIDOS \n",
    "# rangeQtdAntenas     = np.array([256])       # TESTES RAPIDOS \n",
    "# rangeQtdSimbolos    = np.array([128])       # TESTES RAPIDOS "
   ]
  },
  {
   "cell_type": "code",
   "execution_count": null,
   "metadata": {},
   "outputs": [],
   "source": []
  },
  {
   "cell_type": "markdown",
   "metadata": {},
   "source": [
    "## Balanceamento do Dataset\n",
    "\n",
    "Queremos que a quantidade de cenários em que há ataque seja igual à quantidade de casos em que não há. Se o array de potências do espião for [0.0, 0.5, 1.0, 1.5, 2.0, 2.5], teremos 5x mais dados em que há contaminação. Nesse caso, temos que fazer o array se transformar em [0.0, 0.0, 0.0, 0.0, 0.0, 0.5, 1.0, 1.5, 2.0, 2.5]. SE RODAR A CÉLULA ABAIXO MAIS DE UMA VEZ ELE VAI FICAR ADICIONANDO ZEROS. CUIDADO!"
   ]
  },
  {
   "cell_type": "code",
   "execution_count": 15,
   "metadata": {},
   "outputs": [
    {
     "name": "stdout",
     "output_type": "stream",
     "text": [
      "[0.  0.  0.  0.  0.  0.5 1.  1.5 2.  2.5]\n"
     ]
    }
   ],
   "source": [
    "rangePotenciaEspiao = np.concatenate((np.zeros(len(rangePotenciaEspiao - 1) - 1), rangePotenciaEspiao[1:]))\n",
    "print(rangePotenciaEspiao)"
   ]
  },
  {
   "cell_type": "code",
   "execution_count": null,
   "metadata": {},
   "outputs": [],
   "source": []
  },
  {
   "cell_type": "markdown",
   "metadata": {},
   "source": [
    "## Criando os Datasets\n",
    "\n",
    "Vamos criar um dataset para cada combinação de qtd de usuários, antenas e símbolos."
   ]
  },
  {
   "cell_type": "code",
   "execution_count": 16,
   "metadata": {},
   "outputs": [],
   "source": [
    "# TESTE_0_INFLUENCIA_DA_SNR\n",
    "# for qtdUsuarios in rangeQtdUsuarios:\n",
    "#     for qtdAntenas in rangeQtdAntenas:\n",
    "#         for qtdSimbolos in rangeQtdSimbolos:\n",
    "#             criarDatasetTeste0(qtdUsuarios, qtdAntenas, qtdSimbolos, rangePotenciaEspiao, rangeSNRs, qtdBitsPorSimbolo, qtdEspioes, repetibilidade, colunas)"
   ]
  },
  {
   "cell_type": "code",
   "execution_count": 17,
   "metadata": {},
   "outputs": [],
   "source": [
    "# TESTE_1_INFLUENCIA_DA_QTD_USUARIOS\n",
    "# for snr in rangeSNRs:\n",
    "#     for qtdAntenas in rangeQtdAntenas:\n",
    "#         for qtdSimbolos in rangeQtdSimbolos:\n",
    "#             criarDatasetTeste1(snr, qtdAntenas, qtdSimbolos, rangePotenciaEspiao, rangeQtdUsuarios, qtdBitsPorSimbolo, qtdEspioes, repetibilidade, colunas)"
   ]
  },
  {
   "cell_type": "code",
   "execution_count": 18,
   "metadata": {},
   "outputs": [
    {
     "data": {
      "text/plain": [
       "'SNR: 10. Usuários: 64. Símbolos: 128. Progresso: 100.0%.'"
      ]
     },
     "metadata": {},
     "output_type": "display_data"
    }
   ],
   "source": [
    "# TESTE_2_INFLUENCIA_DA_QTD_ANTENAS\n",
    "for snr in rangeSNRs:\n",
    "    for qtdUsuarios in rangeQtdUsuarios:\n",
    "        for qtdSimbolos in rangeQtdSimbolos:\n",
    "            criarDatasetTeste2(snr, rangeQtdAntenas, qtdSimbolos, rangePotenciaEspiao, qtdUsuarios, qtdBitsPorSimbolo, qtdEspioes, repetibilidade, colunas)"
   ]
  },
  {
   "cell_type": "code",
   "execution_count": null,
   "metadata": {
    "colab": {},
    "colab_type": "code",
    "id": "c6keHDvpknmn"
   },
   "outputs": [],
   "source": []
  },
  {
   "cell_type": "code",
   "execution_count": null,
   "metadata": {},
   "outputs": [],
   "source": []
  }
 ],
 "metadata": {
  "colab": {
   "collapsed_sections": [],
   "name": "Massive-MIMO-Data-Set-Generation.ipynb",
   "provenance": []
  },
  "kernelspec": {
   "display_name": "Python 3",
   "language": "python",
   "name": "python3"
  },
  "language_info": {
   "codemirror_mode": {
    "name": "ipython",
    "version": 3
   },
   "file_extension": ".py",
   "mimetype": "text/x-python",
   "name": "python",
   "nbconvert_exporter": "python",
   "pygments_lexer": "ipython3",
   "version": "3.6.12"
  }
 },
 "nbformat": 4,
 "nbformat_minor": 1
}
