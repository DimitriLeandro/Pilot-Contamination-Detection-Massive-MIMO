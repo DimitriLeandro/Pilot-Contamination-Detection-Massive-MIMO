{
 "cells": [
  {
   "cell_type": "markdown",
   "metadata": {},
   "source": [
    "## Imports"
   ]
  },
  {
   "cell_type": "code",
   "execution_count": 1,
   "metadata": {},
   "outputs": [],
   "source": [
    "import numpy as np\n",
    "import pandas as pd\n",
    "import matplotlib.pyplot as plt\n",
    "import json\n",
    "from pathlib import Path\n",
    "from time import time\n",
    "from sklearn.metrics import confusion_matrix, accuracy_score, recall_score, precision_score\n",
    "from sklearn.ensemble import RandomForestClassifier\n",
    "from sklearn.linear_model import Perceptron\n",
    "from sklearn.tree import DecisionTreeClassifier\n",
    "from sklearn.svm import SVC\n",
    "from sklearn.discriminant_analysis import LinearDiscriminantAnalysis\n",
    "from sklearn.utils import shuffle\n",
    "from joblib import Parallel, delayed"
   ]
  },
  {
   "cell_type": "code",
   "execution_count": 2,
   "metadata": {},
   "outputs": [],
   "source": [
    "#DEFININDO ALGUNS PARÂMETROS DO GRÁFICO\n",
    "%matplotlib inline\n",
    "%config InlineBackend.figure_format = 'svg'\n",
    "params = {\n",
    "    'figure.figsize': [12, 3.3], \n",
    "    'axes.labelsize': 12,\n",
    "    'axes.titlesize':14, \n",
    "    'font.size': 12,\n",
    "    'legend.fontsize': 10, \n",
    "    'xtick.labelsize': 10, \n",
    "    'ytick.labelsize': 10,\n",
    "    'axes.axisbelow': True\n",
    "}\n",
    "plt.rcParams.update(params)"
   ]
  },
  {
   "cell_type": "markdown",
   "metadata": {},
   "source": [
    "## Definição de funções"
   ]
  },
  {
   "cell_type": "code",
   "execution_count": 13,
   "metadata": {},
   "outputs": [],
   "source": [
    "def abrirDataframe(snr, tipo, caminhoPastaCSVs=\"../../CSV/teste_1_influencia_qtd_usuarios/\"):\n",
    "    if tipo==\"treinamento\":\n",
    "        caminhoCSV = list(Path(caminhoPastaCSVs).glob(\"train_dataset_\" + str(snr) + \"dB_*.csv\"))[0]\n",
    "    else:\n",
    "        caminhoCSV = list(Path(caminhoPastaCSVs).glob(\"test_dataset_\" + str(snr) + \"dB_*.csv\"))[0]\n",
    "    df = pd.read_csv(caminhoCSV)\n",
    "    return df"
   ]
  },
  {
   "cell_type": "code",
   "execution_count": 12,
   "metadata": {},
   "outputs": [],
   "source": [
    "def separarXeY(dfTreinamento, dfTeste, featuresSelecionadas=None):\n",
    "    \n",
    "    # SELECIONANDO TODAS AS FEATURES SE FEATURESSELECIONADAS VIER NONE\n",
    "    if featuresSelecionadas == None:\n",
    "        featuresSelecionadas = df.columns.drop([\"qtdUsuarios\", \"potenciaEspiao\", \"ataquePresente\"])\n",
    "    \n",
    "    # SEPARANDO OS ARRAYS\n",
    "    XTrain           = dfTreinamento[featuresSelecionadas]\n",
    "    XTest            = dfTeste[featuresSelecionadas]\n",
    "    yTrain           = dfTreinamento[\"ataquePresente\"]\n",
    "    yTest            = dfTeste[\"ataquePresente\"]\n",
    "    qtdUsuariosTrain = dfTreinamento[\"qtdUsuarios\"]\n",
    "    qtdUsuariosTest  = dfTeste[\"qtdUsuarios\"]\n",
    "    potEspiaoTrain   = dfTreinamento[\"potenciaEspiao\"]\n",
    "    potEspiaoTest    = dfTeste[\"potenciaEspiao\"]\n",
    "    \n",
    "    return XTrain, XTest, yTrain, yTest, qtdUsuariosTrain, qtdUsuariosTest, potEspiaoTrain, potEspiaoTest"
   ]
  },
  {
   "cell_type": "code",
   "execution_count": 5,
   "metadata": {},
   "outputs": [],
   "source": [
    "def deteccaoMachineLearning(XTrain, XTest, yTrain, objClassificador):\n",
    "\n",
    "    # TREINANDO O CLASSIFICADOR\n",
    "    objClassificador.fit(XTrain, yTrain)\n",
    "\n",
    "    # PREDIZENDO OS DE TESTE\n",
    "    arrayTempos = []\n",
    "    yPred       = []\n",
    "    for i, amostraTeste in XTest.iterrows():\n",
    "        tic = time()\n",
    "        yPred.append(objClassificador.predict([amostraTeste.to_numpy()])[0])\n",
    "        toc = time()\n",
    "        arrayTempos.append(toc-tic)\n",
    "        \n",
    "    return np.array(yPred), np.mean(arrayTempos), np.std(arrayTempos)"
   ]
  },
  {
   "cell_type": "code",
   "execution_count": 6,
   "metadata": {},
   "outputs": [],
   "source": [
    "def deteccaoHassan(XTest):\n",
    "    arrayTempos = []\n",
    "    yPred       = []\n",
    "    for i, amostraTeste in XTest.iterrows():\n",
    "        tic = time()\n",
    "        yPred.append(1 if amostraTeste[\"E\"] > amostraTeste[\"eta\"] else 0)\n",
    "        toc = time()\n",
    "        arrayTempos.append(toc-tic)\n",
    "        \n",
    "    return np.array(yPred), np.mean(arrayTempos), np.std(arrayTempos)"
   ]
  },
  {
   "cell_type": "code",
   "execution_count": 7,
   "metadata": {},
   "outputs": [],
   "source": [
    "def deteccaoKapetanovic(XTest, threshold):\n",
    "    arrayTempos = []\n",
    "    yPred       = []\n",
    "    for i, amostraTeste in XTest.iterrows():\n",
    "        tic = time()\n",
    "        yPred.append(1 if amostraTeste[\"a1\"]/amostraTeste[\"a2\"] > threshold else 0)\n",
    "        toc = time()\n",
    "        arrayTempos.append(toc-tic)\n",
    "        \n",
    "    return np.array(yPred), np.mean(arrayTempos), np.std(arrayTempos)"
   ]
  },
  {
   "cell_type": "code",
   "execution_count": 8,
   "metadata": {},
   "outputs": [],
   "source": [
    "def obterValoresUnicos(arrayUsuarios, arrayPotEspiao):\n",
    "    rangeQtdUsuarios = np.unique(arrayUsuarios)\n",
    "    rangePotEspiao   = np.unique(arrayPotEspiao)\n",
    "    return rangeQtdUsuarios, rangePotEspiao"
   ]
  },
  {
   "cell_type": "code",
   "execution_count": 9,
   "metadata": {},
   "outputs": [],
   "source": [
    "def calcularMetricas(yTest, yPred):\n",
    "    acuracia       = accuracy_score(yTest, yPred)\n",
    "    precisao       = precision_score(yTest, yPred)\n",
    "    revocacao      = recall_score(yTest, yPred)\n",
    "    matrizConfusao = confusion_matrix(yTest, yPred)\n",
    "    return acuracia, precisao, revocacao, matrizConfusao"
   ]
  },
  {
   "cell_type": "code",
   "execution_count": 10,
   "metadata": {},
   "outputs": [],
   "source": [
    "def plotarResultado(matrizProbabilidadeDeteccao, matrizConfusao, rangePotEspiao, rangeQtdUsuarios, snr, qtdAntenas, qtdSimbolos, descricao, acuracia, precisao, revocacao):\n",
    "    \n",
    "    # MONTANDO O TITULO DA FIGURA\n",
    "    titulo  = descricao + \"\\n\"\n",
    "    titulo += \"SNR: \" + str(snr) + \" - Antenas: \" + str(qtdAntenas) + \" - Símbolos: \" + str(qtdSimbolos) + \"\\n\"\n",
    "    titulo += \"Acurácia: \" + str(acuracia)[:7] + \" - Precisão: \" + str(precisao)[:7] + \" - Revocação: \" + str(revocacao)[:7] + \"\\n\"\n",
    "    \n",
    "    # CRIANDO O PRIMEIRO GRAFICO\n",
    "    fig, axs = plt.subplots(1, 2)\n",
    "    for i in range(len(rangePotEspiao)):\n",
    "        axs[0].plot(rangeQtdUsuarios, matrizProbabilidadeDeteccao[i], label=\"Potência do Espião: \"+str(rangePotEspiao[i]))\n",
    "    axs[0].set_xlabel(\"Qtd Usuários\")\n",
    "    axs[0].set_ylabel(\"Probabilidade de Detecção\")\n",
    "    axs[0].grid(alpha=0.5)\n",
    "    axs[0].legend()\n",
    "    \n",
    "    # CRIANDO A MATRIZ DE CONFUSAO\n",
    "    axs[1].imshow(matrizConfusao, cmap=\"gray\")\n",
    "    for (j,i), total in np.ndenumerate(matrizConfusao):\n",
    "        axs[1].text(i, j, int(total), ha=\"center\", va=\"center\", color=\"#e6005c\", size=15)\n",
    "    axs[1].set_xlabel(\"Predito\")\n",
    "    axs[1].set_ylabel(\"Real\")\n",
    "    axs[1].set_xticklabels([])\n",
    "    axs[1].set_yticklabels([])\n",
    "    \n",
    "    # PRINTANDO\n",
    "    plt.suptitle(titulo, y=1.15)\n",
    "    plt.show()"
   ]
  },
  {
   "cell_type": "code",
   "execution_count": 11,
   "metadata": {},
   "outputs": [],
   "source": [
    "def obterDictNovoResultado(classificador, matrizProbabilidadeDeteccao, matrizConfusao, rangePotEspiao, rangeQtdUsuarios, snr, qtdAntenas, qtdSimbolos, featuresSelecionadas, acuracia, precisao, revocacao, tempoMedioPredicao, tempoDesvioPredicao, repetibilidadeDataset):\n",
    "    \n",
    "    classificador = classificador.__class__.__name__ if type(classificador) != str else classificador\n",
    "    descricao = \"Deteccao baseada em \" + classificador + \" com \" + \" \".join(featuresSelecionadas)\n",
    "    \n",
    "    dictNovoResultado = {\n",
    "        classificador + \"_\" + str(time()): {\n",
    "            \"snr\":                         float(snr),\n",
    "            \"qtdAntenas\":                  int(qtdAntenas),\n",
    "            \"qtdSimbolos\":                 int(qtdSimbolos),\n",
    "            \"descricao\":                   descricao,\n",
    "            \"repetibilidadeDataset\":       int(repetibilidadeDataset),\n",
    "            \"acuracia\":                    float(acuracia),\n",
    "            \"precisao\":                    float(precisao),\n",
    "            \"revocacao\":                   float(revocacao),\n",
    "            \"tempoMedioPredicao\":          tempoMedioPredicao,\n",
    "            \"tempoDesvioPredicao\":         tempoDesvioPredicao, \n",
    "            \"featuresSelecionadas\":        featuresSelecionadas,\n",
    "            \"rangePotEspiao\":              rangePotEspiao.tolist(),\n",
    "            \"rangeQtdUsuarios\":            rangeQtdUsuarios.tolist(),\n",
    "            \"matrizProbabilidadeDeteccao\": matrizProbabilidadeDeteccao.tolist(),\n",
    "            \"matrizConfusao\":              matrizConfusao.tolist()\n",
    "        }\n",
    "    }\n",
    "    \n",
    "    return dictNovoResultado"
   ]
  },
  {
   "cell_type": "code",
   "execution_count": 14,
   "metadata": {},
   "outputs": [],
   "source": [
    "def rodarTesteDeteccao(snr, featuresSelecionadas, classificador, esquemaDeteccao, repetibilidadeDataset, thresholdKapetanovic=100):\n",
    "    \n",
    "    # PEGO O QUE E O QUE\n",
    "    XTrain, XTest, yTrain, yTest, qtdUsuariosTrain, qtdUsuariosTest, potEspiaoTrain, potEspiaoTest = separarXeY(abrirDataframe(snr, \"treinamento\"), abrirDataframe(snr, \"teste\"), featuresSelecionadas)\n",
    "    \n",
    "    # VALORES UNICOS DE SNR E POTENCIA DE ESPIAO PRA EU SABER O INDEX DAS MATRIZES DE RESULTADOS\n",
    "    rangeQtdUsuarios, rangePotEspiao = obterValoresUnicos(qtdUsuariosTest, potEspiaoTest)\n",
    "    \n",
    "    # MATRIZES QUE VAO GUARDAR OS RESULTADOS\n",
    "    matrizProbabilidadeDeteccao = np.zeros(shape=(len(rangePotEspiao), len(rangeQtdUsuarios)))\n",
    "    \n",
    "    # PREDICAO\n",
    "    if esquemaDeteccao == \"ML\":\n",
    "        yPred, tempoMedioPredicao, tempoDesvioPredicao = deteccaoMachineLearning(XTrain, XTest, yTrain, classificador)\n",
    "    elif esquemaDeteccao == \"Hassan\":\n",
    "        yPred, tempoMedioPredicao, tempoDesvioPredicao = deteccaoHassan(XTest)\n",
    "    else:\n",
    "        yPred, tempoMedioPredicao, tempoDesvioPredicao = deteccaoKapetanovic(XTest, thresholdKapetanovic)\n",
    "\n",
    "    # AGREGO NA MATRIZ DE PROB DE DETECCAO\n",
    "    for (indexTesteAtual, predicaoAtual) in zip(yTest.index, yPred):\n",
    "\n",
    "        # PEGANDO EM QUAL LINHA E EM QUAL COLUNA DA MATRIZ EU VOU COLOCAR O RESULTADO\n",
    "        indexPotEsp      = np.where(rangePotEspiao==potEspiaoTest[indexTesteAtual])[0][0]\n",
    "        indexQtdUsuarios = np.where(rangeQtdUsuarios==qtdUsuariosTest[indexTesteAtual])[0][0]\n",
    "\n",
    "        # JA SOMO COM A PROBABILIDADE (DIVIDINDO PELA REPETIBILIDADE)\n",
    "        matrizProbabilidadeDeteccao[indexPotEsp][indexQtdUsuarios] += predicaoAtual/repetibilidadeDataset       \n",
    "    \n",
    "    # CONSIDERANDO QUE O DATASET ESTA BALANCEADO, HA MUITO MAIS REPETIBILIDADE QUANDO POTESP = 0\n",
    "    matrizProbabilidadeDeteccao[0] /= (len(rangePotEspiao) - 1)\n",
    "    \n",
    "    # METRICAS\n",
    "    acuracia, precisao, revocacao, matrizConfusao = calcularMetricas(yTest, yPred)\n",
    "    \n",
    "    # DICIONARIOS COM OS RESULTADOS \n",
    "    dictNovoResultado = obterDictNovoResultado(classificador, matrizProbabilidadeDeteccao, matrizConfusao, rangePotEspiao, rangeQtdUsuarios, snr, qtdAntenas, qtdSimbolos, featuresSelecionadas, acuracia, precisao, revocacao, tempoMedioPredicao, tempoDesvioPredicao, repetibilidadeDataset)\n",
    "    \n",
    "    return dictNovoResultado"
   ]
  },
  {
   "cell_type": "code",
   "execution_count": 15,
   "metadata": {},
   "outputs": [],
   "source": [
    "def salvarNovosResultados(arrayResultados, arquivoSalvar):\n",
    "    for dictNovoResultado in arrayResultados:\n",
    "        keyNova    = list(dictNovoResultado.keys())[0]\n",
    "        valuesNovo = dictNovoResultado[list(dictNovoResultado.keys())[0]]\n",
    "        with open(arquivoSalvar, mode=\"r+\") as file:\n",
    "            dictResultados = json.load(file)\n",
    "            dictResultados[keyNova] = valuesNovo\n",
    "            file.seek(0)\n",
    "            json.dump(dictResultados, file, indent=4)\n",
    "            file.truncate()"
   ]
  },
  {
   "cell_type": "markdown",
   "metadata": {},
   "source": [
    "## Parâmetros iniciais"
   ]
  },
  {
   "cell_type": "code",
   "execution_count": 16,
   "metadata": {},
   "outputs": [],
   "source": [
    "classificadores       = [DecisionTreeClassifier()]\n",
    "rangeSNRs             = np.array([10])\n",
    "qtdAntenas            = 256\n",
    "qtdSimbolos           = 128\n",
    "repetibilidadeDataset = 1000\n",
    "nucleosProcessador    = -1\n",
    "thresholdKapetanovic  = 100\n",
    "plotar                = True\n",
    "verbose               = 100\n",
    "combinacoesFeaturesML = [\n",
    "    [\"E\"],\n",
    "#     [\"E\", \"a1\", \"a2\"],\n",
    "#     [\"a1\", \"a2\"]\n",
    "]\n",
    "dictResultados = {}\n",
    "arquivoSalvar = Path(\"../../Resultados/probabilidadeDeteccao_teste1_influencia_qtd_usuarios_\" + str(time()) + \".json\")\n",
    "with open(arquivoSalvar, mode=\"w\") as file:\n",
    "    json.dump(dictResultados, file)"
   ]
  },
  {
   "cell_type": "markdown",
   "metadata": {},
   "source": [
    "## Rodando os testes de detecção com machine learning, hassan e kapetanovic"
   ]
  },
  {
   "cell_type": "code",
   "execution_count": 18,
   "metadata": {
    "scrolled": false
   },
   "outputs": [
    {
     "name": "stdout",
     "output_type": "stream",
     "text": [
      "[Parallel(n_jobs=-1)]: Using backend LokyBackend with 8 concurrent workers.\n",
      "[Parallel(n_jobs=-1)]: Done   1 tasks      | elapsed:  1.1min\n",
      "[Parallel(n_jobs=-1)]: Done   1 out of   1 | elapsed:  1.1min finished\n"
     ]
    }
   ],
   "source": [
    "esquemaDeteccao = \"ML\"\n",
    "arrayResultados = Parallel(verbose=verbose, n_jobs=nucleosProcessador)(delayed(rodarTesteDeteccao)(snr, featuresSelecionadas, classificador, esquemaDeteccao, repetibilidadeDataset, thresholdKapetanovic) for classificador in classificadores for snr in rangeSNRs for featuresSelecionadas in combinacoesFeaturesML)\n",
    "salvarNovosResultados(arrayResultados, arquivoSalvar)"
   ]
  },
  {
   "cell_type": "code",
   "execution_count": 19,
   "metadata": {},
   "outputs": [
    {
     "name": "stdout",
     "output_type": "stream",
     "text": [
      "[Parallel(n_jobs=-1)]: Using backend LokyBackend with 8 concurrent workers.\n",
      "[Parallel(n_jobs=-1)]: Done   1 tasks      | elapsed:   35.4s\n",
      "[Parallel(n_jobs=-1)]: Done   1 out of   1 | elapsed:   35.5s finished\n"
     ]
    }
   ],
   "source": [
    "esquemaDeteccao      = \"Hassan\"\n",
    "classificador        = esquemaDeteccao\n",
    "featuresSelecionadas = [\"E\", \"eta\"]\n",
    "arrayResultados      = Parallel(verbose=verbose, n_jobs=nucleosProcessador)(delayed(rodarTesteDeteccao)(snr, featuresSelecionadas, classificador, esquemaDeteccao, repetibilidadeDataset, thresholdKapetanovic) for snr in rangeSNRs)\n",
    "salvarNovosResultados(arrayResultados, arquivoSalvar)"
   ]
  },
  {
   "cell_type": "code",
   "execution_count": 20,
   "metadata": {},
   "outputs": [
    {
     "name": "stdout",
     "output_type": "stream",
     "text": [
      "[Parallel(n_jobs=-1)]: Using backend LokyBackend with 8 concurrent workers.\n",
      "[Parallel(n_jobs=-1)]: Done   1 tasks      | elapsed:   37.4s\n",
      "[Parallel(n_jobs=-1)]: Done   1 out of   1 | elapsed:   37.4s finished\n"
     ]
    }
   ],
   "source": [
    "esquemaDeteccao      = \"Kapetanovic\"\n",
    "classificador        = esquemaDeteccao\n",
    "featuresSelecionadas = [\"a1\", \"a2\"]\n",
    "arrayResultados      = Parallel(verbose=verbose, n_jobs=nucleosProcessador)(delayed(rodarTesteDeteccao)(snr, featuresSelecionadas, classificador, esquemaDeteccao, repetibilidadeDataset, thresholdKapetanovic) for snr in rangeSNRs)\n",
    "salvarNovosResultados(arrayResultados, arquivoSalvar)"
   ]
  },
  {
   "cell_type": "code",
   "execution_count": null,
   "metadata": {},
   "outputs": [],
   "source": []
  },
  {
   "cell_type": "code",
   "execution_count": null,
   "metadata": {},
   "outputs": [],
   "source": []
  },
  {
   "cell_type": "code",
   "execution_count": null,
   "metadata": {},
   "outputs": [],
   "source": []
  }
 ],
 "metadata": {
  "kernelspec": {
   "display_name": "Python 3",
   "language": "python",
   "name": "python3"
  },
  "language_info": {
   "codemirror_mode": {
    "name": "ipython",
    "version": 3
   },
   "file_extension": ".py",
   "mimetype": "text/x-python",
   "name": "python",
   "nbconvert_exporter": "python",
   "pygments_lexer": "ipython3",
   "version": "3.6.12"
  }
 },
 "nbformat": 4,
 "nbformat_minor": 4
}
