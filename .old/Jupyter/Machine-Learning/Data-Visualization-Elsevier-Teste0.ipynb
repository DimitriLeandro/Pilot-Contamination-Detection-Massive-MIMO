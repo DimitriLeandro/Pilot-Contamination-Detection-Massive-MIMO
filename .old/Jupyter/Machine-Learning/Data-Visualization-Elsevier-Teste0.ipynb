{
 "cells": [
  {
   "cell_type": "code",
   "execution_count": 1,
   "metadata": {},
   "outputs": [],
   "source": [
    "import matplotlib.pyplot as plt\n",
    "import numpy as np\n",
    "import json\n",
    "from time import time\n",
    "from pathlib import Path"
   ]
  },
  {
   "cell_type": "code",
   "execution_count": 2,
   "metadata": {},
   "outputs": [],
   "source": [
    "# Defining figure parameters\n",
    "%matplotlib inline\n",
    "%config InlineBackend.figure_format = 'svg'\n",
    "params = {\n",
    "    'figure.figsize': [3.4, 2.1],\n",
    "    'axes.labelsize': 8,\n",
    "    #'axes.titlesize':14,\n",
    "    'font.size': 8,\n",
    "    'legend.fontsize': 8,\n",
    "    'xtick.labelsize': 8,\n",
    "    'ytick.labelsize': 8,\n",
    "    'axes.axisbelow': True,\n",
    "    \"text.usetex\": True,\n",
    "    \"font.family\": \"serif\",\n",
    "    \"font.serif\": [\"Times\"],\n",
    "}\n",
    "plt.rcParams.update(params)"
   ]
  },
  {
   "cell_type": "code",
   "execution_count": 3,
   "metadata": {},
   "outputs": [],
   "source": [
    "def printarResultado(matrizProbabilidadeDeteccao, matrizConfusao, rangePotEspiao, rangeSNRs, qtdUsuarios, qtdAntenas, qtdSimbolos, descricao, acuracia, precisao, revocacao, tempoMedio, tempoDesvio):\n",
    "    \n",
    "    # Figure name\n",
    "    titulo  = descricao\n",
    "    titulo += \"_Users(\" + str(qtdUsuarios) + \")_Antennas(\" + str(qtdAntenas) + \")_Symbols(\" + str(qtdSimbolos) + \")\"\n",
    "    #titulo += \"_Accuracy(\" + str(acuracia)[:7] + \")_Precision(\" + str(precisao)[:7] + \")_Recall(\" + str(revocacao)[:7] + \")\"\n",
    "    titulo = titulo.replace(\" \", \"_\")\n",
    "    print(titulo)\n",
    "    \n",
    "    # Detection probabilities\n",
    "    for i in range(len(rangePotEspiao)):\n",
    "        plt.plot(rangeSNRs, matrizProbabilidadeDeteccao[i], label=\"$ P_{e} = $ \"+str(rangePotEspiao[i]))\n",
    "    plt.xlabel(\"SNR\")\n",
    "    plt.ylabel(\"$ p_{d} $\")\n",
    "    plt.grid(alpha=0.5)\n",
    "    plt.legend()\n",
    "    \n",
    "    # CRIANDO A MATRIZ DE CONFUSAO\n",
    "    #axs[1].imshow(matrizConfusao, cmap=\"gray\")\n",
    "    #for (j,i), total in np.ndenumerate(matrizConfusao):\n",
    "    #    axs[1].text(i, j, int(total), ha=\"center\", va=\"center\", color=\"#e6005c\", size=15)\n",
    "    #axs[1].set_xlabel(\"Predito\")\n",
    "    #axs[1].set_ylabel(\"Real\")\n",
    "    #axs[1].set_xticklabels([])\n",
    "    #axs[1].set_yticklabels([])\n",
    "    \n",
    "    # PRINTANDO\n",
    "    #plt.suptitle(titulo, y=1.15)\n",
    "    path_name = \"Figures/\"\n",
    "    fig_name = path_name + titulo + \".pdf\"\n",
    "    plt.savefig(fig_name, bbox_inches=\"tight\")\n",
    "    plt.show()"
   ]
  },
  {
   "cell_type": "code",
   "execution_count": 4,
   "metadata": {
    "scrolled": false
   },
   "outputs": [
    {
     "ename": "KeyError",
     "evalue": "'rangeSNRs'",
     "output_type": "error",
     "traceback": [
      "\u001b[1;31m---------------------------------------------------------------------------\u001b[0m",
      "\u001b[1;31mKeyError\u001b[0m                                  Traceback (most recent call last)",
      "\u001b[1;32m<ipython-input-4-d56d06ca5f82>\u001b[0m in \u001b[0;36m<module>\u001b[1;34m\u001b[0m\n\u001b[0;32m     11\u001b[0m         \u001b[0mmatrizConfusao\u001b[0m              \u001b[1;33m=\u001b[0m \u001b[0mvalues\u001b[0m\u001b[1;33m[\u001b[0m\u001b[1;34m\"matrizConfusao\"\u001b[0m\u001b[1;33m]\u001b[0m\u001b[1;33m\u001b[0m\u001b[1;33m\u001b[0m\u001b[0m\n\u001b[0;32m     12\u001b[0m         \u001b[0mrangePotEspiao\u001b[0m              \u001b[1;33m=\u001b[0m \u001b[0mvalues\u001b[0m\u001b[1;33m[\u001b[0m\u001b[1;34m\"rangePotEspiao\"\u001b[0m\u001b[1;33m]\u001b[0m\u001b[1;33m\u001b[0m\u001b[1;33m\u001b[0m\u001b[0m\n\u001b[1;32m---> 13\u001b[1;33m         \u001b[0mrangeSNRs\u001b[0m                   \u001b[1;33m=\u001b[0m \u001b[0mvalues\u001b[0m\u001b[1;33m[\u001b[0m\u001b[1;34m\"rangeSNRs\"\u001b[0m\u001b[1;33m]\u001b[0m\u001b[1;33m\u001b[0m\u001b[1;33m\u001b[0m\u001b[0m\n\u001b[0m\u001b[0;32m     14\u001b[0m         \u001b[0mqtdUsuarios\u001b[0m                 \u001b[1;33m=\u001b[0m \u001b[0mvalues\u001b[0m\u001b[1;33m[\u001b[0m\u001b[1;34m\"qtdUsuarios\"\u001b[0m\u001b[1;33m]\u001b[0m\u001b[1;33m\u001b[0m\u001b[1;33m\u001b[0m\u001b[0m\n\u001b[0;32m     15\u001b[0m         \u001b[0mqtdAntenas\u001b[0m                  \u001b[1;33m=\u001b[0m \u001b[0mvalues\u001b[0m\u001b[1;33m[\u001b[0m\u001b[1;34m\"qtdAntenas\"\u001b[0m\u001b[1;33m]\u001b[0m\u001b[1;33m\u001b[0m\u001b[1;33m\u001b[0m\u001b[0m\n",
      "\u001b[1;31mKeyError\u001b[0m: 'rangeSNRs'"
     ]
    }
   ],
   "source": [
    "tecnicaDeteccao      = \"hassan\" # svc, perceptron, linear, tree\n",
    "featuresSelecionadas = [\"E\", \"eta\"] # Se usar \"hassan\", features tem que ser [\"E\", \"eta\"]\n",
    "\n",
    "arquivoUltimosResultados = sorted(Path(\"../../Resultados/\").glob(\"probabilidadeDeteccao_*.json\"))[-1]\n",
    "dictResultados = json.load(open(arquivoUltimosResultados))\n",
    "\n",
    "for key, values in dictResultados.items():\n",
    "    if tecnicaDeteccao.upper() in key.upper() and featuresSelecionadas == values[\"featuresSelecionadas\"]:\n",
    "        \n",
    "        matrizProbabilidadeDeteccao = values[\"matrizProbabilidadeDeteccao\"]\n",
    "        matrizConfusao              = values[\"matrizConfusao\"]\n",
    "        rangePotEspiao              = values[\"rangePotEspiao\"] \n",
    "        rangeSNRs                   = values[\"rangeSNRs\"]\n",
    "        qtdUsuarios                 = values[\"qtdUsuarios\"]\n",
    "        qtdAntenas                  = values[\"qtdAntenas\"] \n",
    "        qtdSimbolos                 = values[\"qtdSimbolos\"] \n",
    "        descricao                   = values[\"descricao\"]\n",
    "        acuracia                    = values[\"acuracia\"]\n",
    "        precisao                    = values[\"precisao\"] \n",
    "        revocacao                   = values[\"revocacao\"]\n",
    "        tempoMedio                  = values[\"tempoMedioPredicao\"]\n",
    "        tempoDesvio                 = values[\"tempoDesvioPredicao\"]\n",
    "        \n",
    "        printarResultado(matrizProbabilidadeDeteccao, matrizConfusao, rangePotEspiao, rangeSNRs, qtdUsuarios, qtdAntenas, qtdSimbolos, descricao, acuracia, precisao, revocacao, tempoMedio, tempoDesvio)"
   ]
  },
  {
   "cell_type": "code",
   "execution_count": null,
   "metadata": {},
   "outputs": [],
   "source": []
  }
 ],
 "metadata": {
  "kernelspec": {
   "display_name": "Python 3",
   "language": "python",
   "name": "python3"
  },
  "language_info": {
   "codemirror_mode": {
    "name": "ipython",
    "version": 3
   },
   "file_extension": ".py",
   "mimetype": "text/x-python",
   "name": "python",
   "nbconvert_exporter": "python",
   "pygments_lexer": "ipython3",
   "version": "3.7.9"
  }
 },
 "nbformat": 4,
 "nbformat_minor": 4
}
