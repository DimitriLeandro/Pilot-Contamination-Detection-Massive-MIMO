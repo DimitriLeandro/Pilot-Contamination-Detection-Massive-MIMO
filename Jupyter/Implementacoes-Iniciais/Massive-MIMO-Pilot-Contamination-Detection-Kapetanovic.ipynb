{
 "cells": [
  {
   "cell_type": "markdown",
   "metadata": {
    "colab_type": "text",
    "id": "_CrNkA-MMjkB"
   },
   "source": [
    "# Visualização do funcionamento do algoritmo do Kapetanovic\n",
    "\n",
    "Esse jupyter tem como objetivo verificar o funcionamento do esquema de detecção de contaminação piloto 1B do artigo do Kapetanovic. O esquema é baseado na razão dos dois maiores autovalores da matriz R. Vamos ver como essa razão é alterada em função do número de usuários conectados na rede, qtd de antenas, SNR, e qtd de símbolos na sequência piloto."
   ]
  },
  {
   "cell_type": "markdown",
   "metadata": {
    "colab_type": "text",
    "id": "CRvoKiWrMjkF"
   },
   "source": [
    "### Importações\n",
    "\n",
    "O arquivo \"comm\" possui as funções necessárias para simular a modulação QPSK, adicionar ruído branco na transmissão, e, por último, uma função que constroi a matriz R e retorna a razão de seus dois maiores autovalores."
   ]
  },
  {
   "cell_type": "code",
   "execution_count": 4,
   "metadata": {
    "colab": {},
    "colab_type": "code",
    "executionInfo": {
     "elapsed": 1121,
     "status": "ok",
     "timestamp": 1597172289990,
     "user": {
      "displayName": "Pedro Ivo Da Cruz",
      "photoUrl": "https://lh3.googleusercontent.com/a-/AOh14Gi6gSI4jdkG_h-XMsvq_m9Lmz9TBC6YvBx1NRiqHg=s64",
      "userId": "00923469177734285874"
     },
     "user_tz": 180
    },
    "id": "0QIQaRO3MjkK"
   },
   "outputs": [],
   "source": [
    "import numpy as np\n",
    "import matplotlib.pyplot as plt\n",
    "import scipy.signal as sig\n",
    "import sys\n",
    "from IPython.display import display, clear_output\n",
    "\n",
    "sys.path.append(\"../../Python/\")\n",
    "import comm"
   ]
  },
  {
   "cell_type": "code",
   "execution_count": 5,
   "metadata": {},
   "outputs": [],
   "source": [
    "#DEFININDO ALGUNS PARÂMETROS DO GRÁFICO\n",
    "%matplotlib inline\n",
    "%config InlineBackend.figure_format = 'svg'\n",
    "params = {\n",
    "    'figure.figsize': [21, 3],\n",
    "    'figure.titlesize': 12, \n",
    "    'axes.labelsize': 8,\n",
    "    'axes.titlesize': 10, \n",
    "    'font.size': 8,\n",
    "    'legend.fontsize': 8, \n",
    "    'xtick.labelsize': 6, \n",
    "    'ytick.labelsize': 6,\n",
    "    'axes.axisbelow': True\n",
    "}\n",
    "plt.rcParams.update(params)"
   ]
  },
  {
   "cell_type": "markdown",
   "metadata": {
    "colab_type": "text",
    "id": "4kVQGeT2Mjkc"
   },
   "source": [
    "### Definição de Funções"
   ]
  },
  {
   "cell_type": "code",
   "execution_count": 6,
   "metadata": {},
   "outputs": [],
   "source": [
    "def simularPropagacaoSinal(qtdSimbolosPiloto, bitsPorSimbolo, qtdAntenas, qtdUsuarios, potenciaEspiao, snr, qtdEspioes=1):\n",
    "    \n",
    "    # SIMULANDO OS CANAIS DO USUARIO E DO ESPIAO\n",
    "    Haut = np.sqrt(0.5)*(np.random.normal(0, 1, size=(qtdAntenas, qtdUsuarios)) + 1j*np.random.normal(0, 1, size=(qtdAntenas, qtdUsuarios)))\n",
    "    g    = np.sqrt(0.5)*(np.random.normal(0, 1, size=(qtdAntenas, qtdEspioes)) + 1j*np.random.normal(0, 1, (qtdAntenas, qtdEspioes)))\n",
    "\n",
    "    # SEQUENCIA PILOTO ALEATORIA + MODULACAO PARA TODOS OS USUARIOS:\n",
    "    bitStream = np.random.choice([0, 1], qtdSimbolosPiloto*bitsPorSimbolo*qtdUsuarios)\n",
    "    symb      = comm.qpskmodulator(bitStream) # QPSK Modulator\n",
    "    xp        = symb.reshape(qtdUsuarios, qtdSimbolosPiloto)\n",
    "\n",
    "    # ESPIAO ENTRANDO NA JOGADA (SE A POTENCIA DELE FOR 0 ELE NAO ENTRA NA JOGADA):\n",
    "    xpe  = np.sqrt(potenciaEspiao)*xp[0, :] # xpe vai ser a sequencia piloto do primeiro usuario multiplicada pela raiz da potencia do espiao\n",
    "    xptx = np.concatenate((xp, [xpe])) # xptx sera a matriz xp com uma linha a mais: xpe\n",
    "    H    = np.concatenate((Haut, g), axis=1) # H vai ser Haut com uma COLUNA a mais, que vai ser g\n",
    "\n",
    "    # TRANSMISSAO PELO CANAL\n",
    "    Y = np.dot(H, xptx) # fading\n",
    "    Y = comm.awgn(Y, SNR=snr) # ruido branco\n",
    "    \n",
    "    return Y"
   ]
  },
  {
   "cell_type": "code",
   "execution_count": 7,
   "metadata": {},
   "outputs": [],
   "source": [
    "def printar(qtdUsuariosAtual, qtdAntenasAtual, rangePotenciaEspiao, rangeQtdSimbolos, limiteEixoY=None):\n",
    "    \n",
    "    fig, axs  = plt.subplots(1, len(rangePotenciaEspiao))\n",
    "    eixoAtual = 0\n",
    "\n",
    "    for potenciaEspiaoAtual in rangePotenciaEspiao:\n",
    "        axs[eixoAtual].set_title(\"Potência Espião: \"+str(potenciaEspiaoAtual))\n",
    "\n",
    "        for qtdSimbolosAtual in rangeQtdSimbolos:        \n",
    "            eixoSNRs          = []\n",
    "            mediaParaCadaSNR  = []\n",
    "            desvioParaCadaSNR = []  \n",
    "\n",
    "            for chaveAtual in dictGlobal:\n",
    "                if dictGlobal[chaveAtual][\"qtdAntenas\"] == qtdAntenasAtual and dictGlobal[chaveAtual][\"qtdUsuarios\"] == qtdUsuariosAtual and dictGlobal[chaveAtual][\"potenciaEspiao\"] == potenciaEspiaoAtual and dictGlobal[chaveAtual][\"qtdSimbolos\"] == qtdSimbolosAtual:\n",
    "                    eixoSNRs.append(dictGlobal[chaveAtual][\"snr\"])\n",
    "                    mediaParaCadaSNR.append(dictGlobal[chaveAtual][\"mediaRazoes\"])\n",
    "                    desvioParaCadaSNR.append(dictGlobal[chaveAtual][\"desvioRazoes\"])\n",
    "\n",
    "            axs[eixoAtual].errorbar(eixoSNRs, mediaParaCadaSNR, yerr=desvioParaCadaSNR, fmt=\"--\", label=str(qtdSimbolosAtual)+\" símbolos\")\n",
    "\n",
    "        axs[eixoAtual].legend()\n",
    "        axs[eixoAtual].set_xlabel(\"SNR\")\n",
    "        axs[eixoAtual].set_ylabel(\"Razão dos Autovalores\")\n",
    "        axs[eixoAtual].grid(alpha=0.5)\n",
    "        if limiteEixoY != None: \n",
    "            axs[eixoAtual].set_ylim(0, limiteEixoY)    \n",
    "        eixoAtual += 1\n",
    "\n",
    "    fig.suptitle(str(qtdUsuariosAtual) + \" Usuário(s) - \" + str(qtdAntenasAtual) + \" Antenas\\n\\n\", y=1.1)\n",
    "    fig.show()"
   ]
  },
  {
   "cell_type": "markdown",
   "metadata": {},
   "source": [
    "### Parâmetros Fixos"
   ]
  },
  {
   "cell_type": "code",
   "execution_count": 8,
   "metadata": {},
   "outputs": [],
   "source": [
    "qtdEspioes        = 1\n",
    "qtdBitsPorSimbolo = 2\n",
    "repetibilidade    = 10\n",
    "potenciaUsuario   = 1"
   ]
  },
  {
   "cell_type": "markdown",
   "metadata": {},
   "source": [
    "### Parâmetros Variáveis"
   ]
  },
  {
   "cell_type": "code",
   "execution_count": 11,
   "metadata": {
    "colab": {},
    "colab_type": "code",
    "executionInfo": {
     "elapsed": 1097,
     "status": "ok",
     "timestamp": 1597172289995,
     "user": {
      "displayName": "Pedro Ivo Da Cruz",
      "photoUrl": "https://lh3.googleusercontent.com/a-/AOh14Gi6gSI4jdkG_h-XMsvq_m9Lmz9TBC6YvBx1NRiqHg=s64",
      "userId": "00923469177734285874"
     },
     "user_tz": 180
    },
    "id": "IhDIzlTsMjkf"
   },
   "outputs": [],
   "source": [
    "rangeQtdUsuarios    = np.arange(1, 3)\n",
    "rangeQtdAntenas     = np.array([64, 128, 256])\n",
    "rangePotenciaEspiao = np.arange(0.0, 2.1, 0.5)\n",
    "rangeQtdSimbolos    = np.arange(15, 101, 15)\n",
    "rangeSNRs           = np.arange(-10, 21, 5)"
   ]
  },
  {
   "cell_type": "markdown",
   "metadata": {
    "colab_type": "text",
    "id": "3dHHzjjIMjlD"
   },
   "source": [
    "### Rodando a Simulação - Esquema 1B"
   ]
  },
  {
   "cell_type": "code",
   "execution_count": null,
   "metadata": {
    "colab": {
     "base_uri": "https://localhost:8080/",
     "height": 1000
    },
    "colab_type": "code",
    "executionInfo": {
     "elapsed": 2421,
     "status": "ok",
     "timestamp": 1597172291335,
     "user": {
      "displayName": "Pedro Ivo Da Cruz",
      "photoUrl": "https://lh3.googleusercontent.com/a-/AOh14Gi6gSI4jdkG_h-XMsvq_m9Lmz9TBC6YvBx1NRiqHg=s64",
      "userId": "00923469177734285874"
     },
     "user_tz": 180
    },
    "id": "vfwgRRbNMjlG",
    "outputId": "1c586624-a6e9-4cea-9afa-97ebd047fba7",
    "scrolled": false
   },
   "outputs": [],
   "source": [
    "dictGlobal        = {} # dicionario que vai guardar os resultados de cada iteracao\n",
    "iteracaoAtual     = 1 # para contar as iteracoes e printar um percentual de progresso\n",
    "qtdPossibilidades = len(rangeQtdUsuarios) * len(rangeQtdAntenas) * len(rangePotenciaEspiao) * len(rangeQtdSimbolos) * len(rangeSNRs) * repetibilidade\n",
    "\n",
    "for qtdUsuariosAtual in rangeQtdUsuarios: # Tirar este cara\n",
    "    for qtdAntenasAtual in rangeQtdAntenas:\n",
    "        for potenciaEspiaoAtual in rangePotenciaEspiao:\n",
    "            for qtdSimbolosAtual in rangeQtdSimbolos:\n",
    "                for snrAtual in rangeSNRs:\n",
    "                    # VARIAR THRESHOLD\n",
    "                    \n",
    "                    # ESTABELECIDO UM CENARIO, VAMOS PARTIR PRA REPETIBILIDADE\n",
    "                    arrayRazoesCenarioAtual = []\n",
    "                    for repetibilidadeAtual in range(repetibilidade):\n",
    "\n",
    "                        # PROPAGACAO DO SINAL\n",
    "                        Y = simularPropagacaoSinal(qtdSimbolosAtual, qtdBitsPorSimbolo, qtdAntenasAtual, qtdUsuariosAtual, potenciaEspiaoAtual, snrAtual, qtdEspioes)\n",
    "\n",
    "                        # CALCULANDO A RAZAO DOS AUTOVALORES\n",
    "                        arrayRazoesCenarioAtual.append(comm.razaoMatrizR(Y, qtdSimbolosAtual, M=qtdAntenasAtual, SNR=snrAtual))\n",
    "                        \n",
    "                        # CALCULANDO A PROBABILIDADE DE DETCçÃO\n",
    "                        \n",
    "                        \n",
    "                        # CALCULAR FALSO POSITIVO\n",
    "                        \n",
    "                        \n",
    "                        # PRINT\n",
    "                        clear_output(wait=True)\n",
    "                        display(\"Progresso: \" + str(100*(iteracaoAtual/qtdPossibilidades))[:7] + \"%\")\n",
    "                        iteracaoAtual += 1\n",
    "                        \n",
    "                    # ARMAZENANDO O RESULTADO DO CENARIO ATUAL\n",
    "                    dictGlobal[int(iteracaoAtual/repetibilidade)] = {\n",
    "                        \"qtdUsuarios\":    qtdUsuariosAtual, \n",
    "                        \"qtdAntenas\":     qtdAntenasAtual, \n",
    "                        \"potenciaEspiao\": potenciaEspiaoAtual, \n",
    "                        \"qtdSimbolos\":    qtdSimbolosAtual, \n",
    "                        \"snr\":            snrAtual, \n",
    "                        \"mediaRazoes\":    np.mean(arrayRazoesCenarioAtual), \n",
    "                        \"desvioRazoes\":   np.std(arrayRazoesCenarioAtual) \n",
    "                    }"
   ]
  },
  {
   "cell_type": "markdown",
   "metadata": {},
   "source": [
    "## Visualizando - Esquema 1B"
   ]
  },
  {
   "cell_type": "markdown",
   "metadata": {},
   "source": [
    "### 1 usuário conectado"
   ]
  },
  {
   "cell_type": "code",
   "execution_count": null,
   "metadata": {},
   "outputs": [],
   "source": [
    "for qtdAntenasAtual in rangeQtdAntenas:\n",
    "    printar(rangeQtdUsuarios[0], qtdAntenasAtual, rangePotenciaEspiao, rangeQtdSimbolos, limiteEixoY=20000)"
   ]
  },
  {
   "cell_type": "code",
   "execution_count": null,
   "metadata": {},
   "outputs": [],
   "source": []
  },
  {
   "cell_type": "code",
   "execution_count": null,
   "metadata": {},
   "outputs": [],
   "source": []
  }
 ],
 "metadata": {
  "colab": {
   "collapsed_sections": [],
   "name": "Massive-MIMO-Pilot-Contamination-Detection-Kapetanovic.ipynb",
   "provenance": []
  },
  "kernelspec": {
   "display_name": "Python 3",
   "language": "python",
   "name": "python3"
  },
  "language_info": {
   "codemirror_mode": {
    "name": "ipython",
    "version": 3
   },
   "file_extension": ".py",
   "mimetype": "text/x-python",
   "name": "python",
   "nbconvert_exporter": "python",
   "pygments_lexer": "ipython3",
   "version": "3.6.9"
  }
 },
 "nbformat": 4,
 "nbformat_minor": 1
}
