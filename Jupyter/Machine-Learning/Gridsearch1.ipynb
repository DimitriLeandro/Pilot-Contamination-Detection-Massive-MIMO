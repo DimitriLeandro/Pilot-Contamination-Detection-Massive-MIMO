{
 "cells": [
  {
   "cell_type": "markdown",
   "metadata": {},
   "source": [
    "# Gridsearch\n",
    "\n",
    "Vamos usar um dos datasets gerados para fazer um gridsearch com alguns classificadores. \n",
    "\n",
    "O dataset que será utilizado conta com 1 usuário conectado, 256 antenas e 128 símbolos na sequência piloto. \n",
    "\n",
    "Features: snr, E, eta, a1, a2 e a3. Target: se tem ou não contaminação."
   ]
  },
  {
   "cell_type": "markdown",
   "metadata": {},
   "source": [
    "### Importações"
   ]
  },
  {
   "cell_type": "code",
   "execution_count": 1,
   "metadata": {},
   "outputs": [],
   "source": [
    "import pandas as pd\n",
    "import numpy as np\n",
    "from IPython.display import display, clear_output\n",
    "from sklearn.utils import shuffle\n",
    "from sklearn.model_selection import GridSearchCV\n",
    "from sklearn.ensemble import RandomForestClassifier\n",
    "from sklearn.discriminant_analysis import LinearDiscriminantAnalysis\n",
    "from sklearn.discriminant_analysis import QuadraticDiscriminantAnalysis\n",
    "from sklearn.neighbors import KNeighborsClassifier\n",
    "from sklearn.svm import SVC\n",
    "from sklearn.linear_model import Perceptron, SGDClassifier\n",
    "from sklearn.neighbors import KNeighborsClassifier\n",
    "from sklearn.neural_network import MLPClassifier"
   ]
  },
  {
   "cell_type": "markdown",
   "metadata": {},
   "source": [
    "### Abrindo o Banco de Dados"
   ]
  },
  {
   "cell_type": "code",
   "execution_count": 2,
   "metadata": {},
   "outputs": [],
   "source": [
    "# ABRO O CSV\n",
    "caminhoCSV = \"../../CSV/dataset_1usuarios_256antenas_128simbolos_1599161115.4013596.csv\"\n",
    "datasetCSV = pd.read_csv(caminhoCSV)\n",
    "\n",
    "# SEPARANDO DATA E TARGET E DANDO UM SHUFFLEZINHO\n",
    "data         = datasetCSV[datasetCSV.columns[:-2]].to_numpy()\n",
    "target       = datasetCSV[datasetCSV.columns[-1]].to_numpy()\n",
    "data, target = shuffle(data, target)"
   ]
  },
  {
   "cell_type": "markdown",
   "metadata": {},
   "source": [
    "### Parâmetros Inicias"
   ]
  },
  {
   "cell_type": "code",
   "execution_count": 3,
   "metadata": {},
   "outputs": [],
   "source": [
    "# VAMOS FAZER UM KFOLD COM qtdFolds PASTAS\n",
    "qtdFolds = 5\n",
    "\n",
    "# O GRIDSEARCH VAI TENTAR MELHORAR QUAL METRICA?\n",
    "avaliarComBaseEm = 'accuracy' # outras: 'accuracy', 'f1', ‘precision’... -> https://scikit-learn.org/stable/modules/model_evaluation.html#scoring-parameter\n",
    "\n",
    "# QUANTOS NUCLEOS VAMOS USAR?\n",
    "nJobs = -1\n",
    "\n",
    "# MATRIZ DE RESULTADOS: vou fazer uma tabela pra guardar os resultados, cada linha um classificador. As colunas vão ser: classificador, mediametrica, desviometrica, tempomedio, desviotempo e melhor modelo\n",
    "tabelaResultados = []"
   ]
  },
  {
   "cell_type": "markdown",
   "metadata": {},
   "source": [
    "### Random Forest"
   ]
  },
  {
   "cell_type": "code",
   "execution_count": 4,
   "metadata": {},
   "outputs": [
    {
     "data": {
      "text/plain": [
       "['RF',\n",
       " 0.9997058823529412,\n",
       " 0.0002630668208823372,\n",
       " 0.13696303367614746,\n",
       " 0.048001056103757926,\n",
       " RandomForestClassifier(max_features='sqrt', min_samples_split=4,\n",
       "                        n_estimators=50)]"
      ]
     },
     "metadata": {},
     "output_type": "display_data"
    }
   ],
   "source": [
    "# NOME DO CLASSIFICADOR (PRA GUARDAR NOS RESULTADOS)\n",
    "classificador = \"RF\"\n",
    "\n",
    "# PARAMETROS PRA TESTAR NO GRIDSEARCH\n",
    "parametrosGrid = [{\n",
    "    'n_estimators': [1, 10, 50],\n",
    "    'criterion': ['gini', 'entropy'],\n",
    "    'min_samples_split': [2,4,6],\n",
    "    'min_samples_leaf': [1,2,3],\n",
    "    'max_features': [None, 'sqrt', 'log2']\n",
    "}]\n",
    "\n",
    "# AJUSTANDO O GRIDSEARCH E RODANDO\n",
    "objGS = GridSearchCV(RandomForestClassifier(), parametrosGrid, verbose=10, cv=qtdFolds, n_jobs=nJobs, scoring=avaliarComBaseEm)\n",
    "objGS.fit(X=data, y=target)\n",
    "\n",
    "# SALVANDO O RESULTADO (classificador, mediametrica, desviometrica, tempomedio, desviotempo e melhor modelo)\n",
    "tabelaResultados.append([classificador, objGS.cv_results_[\"mean_test_score\"][objGS.best_index_], objGS.cv_results_[\"std_test_score\"][objGS.best_index_], objGS.cv_results_['mean_score_time'][objGS.best_index_], objGS.cv_results_['std_score_time'][objGS.best_index_], objGS.best_estimator_])\n",
    "\n",
    "# PRINT\n",
    "clear_output(wait=True)\n",
    "display(tabelaResultados[len(tabelaResultados)-1])"
   ]
  },
  {
   "cell_type": "markdown",
   "metadata": {},
   "source": [
    "### LDA"
   ]
  },
  {
   "cell_type": "code",
   "execution_count": 5,
   "metadata": {},
   "outputs": [
    {
     "data": {
      "text/plain": [
       "['LDA',\n",
       " 0.8979411764705881,\n",
       " 0.003757345746510907,\n",
       " 0.0019526004791259766,\n",
       " 0.0016497366122920753,\n",
       " LinearDiscriminantAnalysis(tol=1e-05)]"
      ]
     },
     "metadata": {},
     "output_type": "display_data"
    }
   ],
   "source": [
    "# NOME DO CLASSIFICADOR (PRA GUARDAR NOS RESULTADOS)\n",
    "classificador = \"LDA\"\n",
    "\n",
    "# PARAMETROS PRA TESTAR NO GRIDSEARCH\n",
    "parametrosGrid = [{\n",
    "    'solver': ['svd', 'lsqr', 'eigen'],\n",
    "    'tol': [1e-5, 1e-4, 1e-3]\n",
    "}]\n",
    "\n",
    "# AJUSTANDO O GRIDSEARCH E RODANDO\n",
    "objGS = GridSearchCV(LinearDiscriminantAnalysis(), parametrosGrid, verbose=10, cv=qtdFolds, n_jobs=nJobs, scoring=avaliarComBaseEm)\n",
    "objGS.fit(X=data, y=target)\n",
    "\n",
    "# SALVANDO O RESULTADO (classificador, mediametrica, desviometrica, tempomedio, desviotempo e melhor modelo)\n",
    "tabelaResultados.append([classificador, objGS.cv_results_[\"mean_test_score\"][objGS.best_index_], objGS.cv_results_[\"std_test_score\"][objGS.best_index_], objGS.cv_results_['mean_score_time'][objGS.best_index_], objGS.cv_results_['std_score_time'][objGS.best_index_], objGS.best_estimator_])\n",
    "\n",
    "# PRINT\n",
    "clear_output(wait=True)\n",
    "display(tabelaResultados[len(tabelaResultados)-1])"
   ]
  },
  {
   "cell_type": "markdown",
   "metadata": {},
   "source": [
    "### QDA"
   ]
  },
  {
   "cell_type": "code",
   "execution_count": 6,
   "metadata": {},
   "outputs": [
    {
     "data": {
      "text/plain": [
       "['QDA',\n",
       " 0.9950588235294117,\n",
       " 0.0006550311015094208,\n",
       " 0.0035558223724365236,\n",
       " 0.003251279920056544,\n",
       " QuadraticDiscriminantAnalysis(tol=1e-06)]"
      ]
     },
     "metadata": {},
     "output_type": "display_data"
    }
   ],
   "source": [
    "# NOME DO CLASSIFICADOR (PRA GUARDAR NOS RESULTADOS)\n",
    "classificador = \"QDA\"\n",
    "\n",
    "# PARAMETROS PRA TESTAR NO GRIDSEARCH\n",
    "parametrosGrid = [{\n",
    "    'tol': [1e-6, 1e-5, 1e-4, 1e-3, 1e-2]\n",
    "}]\n",
    "\n",
    "# AJUSTANDO O GRIDSEARCH E RODANDO\n",
    "objGS = GridSearchCV(QuadraticDiscriminantAnalysis(), parametrosGrid, verbose=10, cv=qtdFolds, n_jobs=nJobs, scoring=avaliarComBaseEm)\n",
    "objGS.fit(X=data, y=target)\n",
    "\n",
    "# SALVANDO O RESULTADO (classificador, mediametrica, desviometrica, tempomedio, desviotempo e melhor modelo)\n",
    "tabelaResultados.append([classificador, objGS.cv_results_[\"mean_test_score\"][objGS.best_index_], objGS.cv_results_[\"std_test_score\"][objGS.best_index_], objGS.cv_results_['mean_score_time'][objGS.best_index_], objGS.cv_results_['std_score_time'][objGS.best_index_], objGS.best_estimator_])\n",
    "\n",
    "# PRINT\n",
    "clear_output(wait=True)\n",
    "display(tabelaResultados[len(tabelaResultados)-1])"
   ]
  },
  {
   "cell_type": "markdown",
   "metadata": {},
   "source": [
    "### Perceptron"
   ]
  },
  {
   "cell_type": "code",
   "execution_count": 7,
   "metadata": {},
   "outputs": [
    {
     "data": {
      "text/plain": [
       "['Perceptron',\n",
       " 0.9966470588235292,\n",
       " 0.0018092419410858517,\n",
       " 0.007531642913818359,\n",
       " 0.012724637138696314,\n",
       " Perceptron(penalty='l2', tol=0.01)]"
      ]
     },
     "metadata": {},
     "output_type": "display_data"
    }
   ],
   "source": [
    "# NOME DO CLASSIFICADOR (PRA GUARDAR NOS RESULTADOS)\n",
    "classificador = \"Perceptron\"\n",
    "\n",
    "# PARAMETROS PRA TESTAR NO GRIDSEARCH\n",
    "parametrosGrid = [{\n",
    "    'penalty': ['none', 'l2', 'l1', 'elasticnet'],\n",
    "    'alpha': [0.00001, 0.00001, 0.0001, 0.001, 0.01],\n",
    "    'tol': [0.01, 0.001, 0.0001, 0.00001]\n",
    "}]\n",
    "\n",
    "# AJUSTANDO O GRIDSEARCH E RODANDO\n",
    "objGS = GridSearchCV(Perceptron(), parametrosGrid, verbose=10, cv=qtdFolds, n_jobs=nJobs, scoring=avaliarComBaseEm)\n",
    "objGS.fit(X=data, y=target)\n",
    "\n",
    "# SALVANDO O RESULTADO (classificador, mediametrica, desviometrica, tempomedio, desviotempo e melhor modelo)\n",
    "tabelaResultados.append([classificador, objGS.cv_results_[\"mean_test_score\"][objGS.best_index_], objGS.cv_results_[\"std_test_score\"][objGS.best_index_], objGS.cv_results_['mean_score_time'][objGS.best_index_], objGS.cv_results_['std_score_time'][objGS.best_index_], objGS.best_estimator_])\n",
    "\n",
    "# PRINT\n",
    "clear_output(wait=True)\n",
    "display(tabelaResultados[len(tabelaResultados)-1])"
   ]
  },
  {
   "cell_type": "markdown",
   "metadata": {},
   "source": [
    "### SGD"
   ]
  },
  {
   "cell_type": "code",
   "execution_count": 8,
   "metadata": {
    "scrolled": true
   },
   "outputs": [
    {
     "data": {
      "text/plain": [
       "['SGD',\n",
       " 0.999764705882353,\n",
       " 0.0002200974933396452,\n",
       " 0.0011622905731201172,\n",
       " 6.0863551657138254e-05,\n",
       " SGDClassifier(loss='modified_huber', tol=0.0001)]"
      ]
     },
     "metadata": {},
     "output_type": "display_data"
    }
   ],
   "source": [
    "# NOME DO CLASSIFICADOR (PRA GUARDAR NOS RESULTADOS)\n",
    "classificador = \"SGD\"\n",
    "\n",
    "# PARAMETROS PRA TESTAR NO GRIDSEARCH\n",
    "parametrosGrid = [{\n",
    "    'loss': ['hinge', 'log', 'modified_huber', 'squared_hinge', 'perceptron'],\n",
    "    'penalty': ['none', 'l2', 'l1', 'elasticnet'],\n",
    "    'alpha': [0.00001, 0.0001, 0.001],\n",
    "    'tol': [0.01, 0.001, 0.0001]\n",
    "}]\n",
    "\n",
    "# AJUSTANDO O GRIDSEARCH E RODANDO\n",
    "objGS = GridSearchCV(SGDClassifier(), parametrosGrid, verbose=10, cv=qtdFolds, n_jobs=nJobs, scoring=avaliarComBaseEm)\n",
    "objGS.fit(X=data, y=target)\n",
    "\n",
    "# SALVANDO O RESULTADO (classificador, mediametrica, desviometrica, tempomedio, desviotempo e melhor modelo)\n",
    "tabelaResultados.append([classificador, objGS.cv_results_[\"mean_test_score\"][objGS.best_index_], objGS.cv_results_[\"std_test_score\"][objGS.best_index_], objGS.cv_results_['mean_score_time'][objGS.best_index_], objGS.cv_results_['std_score_time'][objGS.best_index_], objGS.best_estimator_])\n",
    "\n",
    "# PRINT\n",
    "clear_output(wait=True)\n",
    "display(tabelaResultados[len(tabelaResultados)-1])"
   ]
  },
  {
   "cell_type": "markdown",
   "metadata": {},
   "source": [
    "### SVM"
   ]
  },
  {
   "cell_type": "code",
   "execution_count": 9,
   "metadata": {},
   "outputs": [
    {
     "data": {
      "text/plain": [
       "['SVM',\n",
       " 0.999764705882353,\n",
       " 0.0002200974933396452,\n",
       " 0.007303857803344726,\n",
       " 0.006504270438978004,\n",
       " SVC(C=0.1, decision_function_shape='ovo', kernel='linear')]"
      ]
     },
     "metadata": {},
     "output_type": "display_data"
    }
   ],
   "source": [
    "# NOME DO CLASSIFICADOR (PRA GUARDAR NOS RESULTADOS)\n",
    "classificador = \"SVM\"\n",
    "\n",
    "# PARAMETROS PRA TESTAR NO GRIDSEARCH\n",
    "parametrosGrid = [{\n",
    "    'C': [0.01, 0.1, 1],\n",
    "    'kernel': ['linear', 'poly', 'rbf'],\n",
    "    'degree': [3,4,5],\n",
    "    'decision_function_shape': ['ovo', 'ovr']\n",
    "}]\n",
    "\n",
    "# AJUSTANDO O GRIDSEARCH E RODANDO\n",
    "objGS = GridSearchCV(SVC(), parametrosGrid, verbose=10, cv=qtdFolds, n_jobs=nJobs, scoring=avaliarComBaseEm)\n",
    "objGS.fit(X=data, y=target)\n",
    "\n",
    "# SALVANDO O RESULTADO (classificador, mediametrica, desviometrica, tempomedio, desviotempo e melhor modelo)\n",
    "tabelaResultados.append([classificador, objGS.cv_results_[\"mean_test_score\"][objGS.best_index_], objGS.cv_results_[\"std_test_score\"][objGS.best_index_], objGS.cv_results_['mean_score_time'][objGS.best_index_], objGS.cv_results_['std_score_time'][objGS.best_index_], objGS.best_estimator_])\n",
    "\n",
    "# PRINT\n",
    "clear_output(wait=True)\n",
    "display(tabelaResultados[len(tabelaResultados)-1])"
   ]
  },
  {
   "cell_type": "markdown",
   "metadata": {},
   "source": [
    "### KNN"
   ]
  },
  {
   "cell_type": "code",
   "execution_count": 10,
   "metadata": {},
   "outputs": [
    {
     "data": {
      "text/plain": [
       "['KNN',\n",
       " 0.9997058823529412,\n",
       " 0.000322189739708912,\n",
       " 1.2415080547332764,\n",
       " 0.11399797711488384,\n",
       " KNeighborsClassifier(metric='euclidean', n_neighbors=7)]"
      ]
     },
     "metadata": {},
     "output_type": "display_data"
    }
   ],
   "source": [
    "# NOME DO CLASSIFICADOR (PRA GUARDAR NOS RESULTADOS)\n",
    "classificador = \"KNN\"\n",
    "\n",
    "# PARAMETROS PRA TESTAR NO GRIDSEARCH\n",
    "parametrosGrid = [{\n",
    "    'n_neighbors': [1,3,5,7,9],\n",
    "    'metric': ['euclidean', \n",
    "               'manhattan']\n",
    "}]\n",
    "\n",
    "# AJUSTANDO O GRIDSEARCH E RODANDO\n",
    "objGS = GridSearchCV(KNeighborsClassifier(), parametrosGrid, verbose=10, cv=qtdFolds, n_jobs=nJobs, scoring=avaliarComBaseEm)\n",
    "objGS.fit(X=data, y=target)\n",
    "\n",
    "# SALVANDO O RESULTADO (classificador, mediametrica, desviometrica, tempomedio, desviotempo e melhor modelo)\n",
    "tabelaResultados.append([classificador, objGS.cv_results_[\"mean_test_score\"][objGS.best_index_], objGS.cv_results_[\"std_test_score\"][objGS.best_index_], objGS.cv_results_['mean_score_time'][objGS.best_index_], objGS.cv_results_['std_score_time'][objGS.best_index_], objGS.best_estimator_])\n",
    "\n",
    "# PRINT\n",
    "clear_output(wait=True)\n",
    "display(tabelaResultados[len(tabelaResultados)-1])"
   ]
  },
  {
   "cell_type": "markdown",
   "metadata": {},
   "source": [
    "### MLP"
   ]
  },
  {
   "cell_type": "code",
   "execution_count": 11,
   "metadata": {},
   "outputs": [
    {
     "data": {
      "text/plain": [
       "['MLP',\n",
       " 0.9995882352941177,\n",
       " 0.0002999423243289889,\n",
       " 0.011229467391967774,\n",
       " 0.007145504125669305,\n",
       " MLPClassifier(activation='tanh', hidden_layer_sizes=10,\n",
       "               learning_rate='adaptive')]"
      ]
     },
     "metadata": {},
     "output_type": "display_data"
    }
   ],
   "source": [
    "# NOME DO CLASSIFICADOR (PRA GUARDAR NOS RESULTADOS)\n",
    "classificador = \"MLP\"\n",
    "\n",
    "# PARAMETROS PRA TESTAR NO GRIDSEARCH\n",
    "parametrosGrid = [{\n",
    "    'hidden_layer_sizes': [(), (5), (10)],\n",
    "    'activation': ['tanh', 'relu'],\n",
    "    'solver': ['sgd', 'adam'],\n",
    "    'learning_rate': ['constant', 'adaptive'],\n",
    "    'learning_rate_init': [1e-4, 1e-3, 1e-2]\n",
    "}]\n",
    "\n",
    "# AJUSTANDO O GRIDSEARCH E RODANDO\n",
    "objGS = GridSearchCV(MLPClassifier(), parametrosGrid, verbose=10, cv=qtdFolds, n_jobs=nJobs, scoring=avaliarComBaseEm)\n",
    "objGS.fit(X=data, y=target)\n",
    "\n",
    "# SALVANDO O RESULTADO (classificador, mediametrica, desviometrica, tempomedio, desviotempo e melhor modelo)\n",
    "tabelaResultados.append([classificador, objGS.cv_results_[\"mean_test_score\"][objGS.best_index_], objGS.cv_results_[\"std_test_score\"][objGS.best_index_], objGS.cv_results_['mean_score_time'][objGS.best_index_], objGS.cv_results_['std_score_time'][objGS.best_index_], objGS.best_estimator_])\n",
    "\n",
    "# PRINT\n",
    "clear_output(wait=True)\n",
    "display(tabelaResultados[len(tabelaResultados)-1])"
   ]
  },
  {
   "cell_type": "markdown",
   "metadata": {},
   "source": [
    "### Visualizando e Salvando os Resultados"
   ]
  },
  {
   "cell_type": "code",
   "execution_count": 12,
   "metadata": {},
   "outputs": [
    {
     "data": {
      "text/html": [
       "<div>\n",
       "<style scoped>\n",
       "    .dataframe tbody tr th:only-of-type {\n",
       "        vertical-align: middle;\n",
       "    }\n",
       "\n",
       "    .dataframe tbody tr th {\n",
       "        vertical-align: top;\n",
       "    }\n",
       "\n",
       "    .dataframe thead th {\n",
       "        text-align: right;\n",
       "    }\n",
       "</style>\n",
       "<table border=\"1\" class=\"dataframe\">\n",
       "  <thead>\n",
       "    <tr style=\"text-align: right;\">\n",
       "      <th></th>\n",
       "      <th>classificador</th>\n",
       "      <th>media_accuracy</th>\n",
       "      <th>desvio_accuracy</th>\n",
       "      <th>media_tempo</th>\n",
       "      <th>desvio_tempo</th>\n",
       "      <th>melhor_modelo</th>\n",
       "    </tr>\n",
       "  </thead>\n",
       "  <tbody>\n",
       "    <tr>\n",
       "      <th>0</th>\n",
       "      <td>RF</td>\n",
       "      <td>0.999706</td>\n",
       "      <td>0.000263</td>\n",
       "      <td>0.136963</td>\n",
       "      <td>0.048001</td>\n",
       "      <td>(DecisionTreeClassifier(max_features='sqrt', m...</td>\n",
       "    </tr>\n",
       "    <tr>\n",
       "      <th>1</th>\n",
       "      <td>LDA</td>\n",
       "      <td>0.897941</td>\n",
       "      <td>0.003757</td>\n",
       "      <td>0.001953</td>\n",
       "      <td>0.001650</td>\n",
       "      <td>LinearDiscriminantAnalysis(tol=1e-05)</td>\n",
       "    </tr>\n",
       "    <tr>\n",
       "      <th>2</th>\n",
       "      <td>QDA</td>\n",
       "      <td>0.995059</td>\n",
       "      <td>0.000655</td>\n",
       "      <td>0.003556</td>\n",
       "      <td>0.003251</td>\n",
       "      <td>QuadraticDiscriminantAnalysis(tol=1e-06)</td>\n",
       "    </tr>\n",
       "    <tr>\n",
       "      <th>3</th>\n",
       "      <td>Perceptron</td>\n",
       "      <td>0.996647</td>\n",
       "      <td>0.001809</td>\n",
       "      <td>0.007532</td>\n",
       "      <td>0.012725</td>\n",
       "      <td>Perceptron(penalty='l2', tol=0.01)</td>\n",
       "    </tr>\n",
       "    <tr>\n",
       "      <th>4</th>\n",
       "      <td>SGD</td>\n",
       "      <td>0.999765</td>\n",
       "      <td>0.000220</td>\n",
       "      <td>0.001162</td>\n",
       "      <td>0.000061</td>\n",
       "      <td>SGDClassifier(loss='modified_huber', tol=0.0001)</td>\n",
       "    </tr>\n",
       "    <tr>\n",
       "      <th>5</th>\n",
       "      <td>SVM</td>\n",
       "      <td>0.999765</td>\n",
       "      <td>0.000220</td>\n",
       "      <td>0.007304</td>\n",
       "      <td>0.006504</td>\n",
       "      <td>SVC(C=0.1, decision_function_shape='ovo', kern...</td>\n",
       "    </tr>\n",
       "    <tr>\n",
       "      <th>6</th>\n",
       "      <td>KNN</td>\n",
       "      <td>0.999706</td>\n",
       "      <td>0.000322</td>\n",
       "      <td>1.241508</td>\n",
       "      <td>0.113998</td>\n",
       "      <td>KNeighborsClassifier(metric='euclidean', n_nei...</td>\n",
       "    </tr>\n",
       "    <tr>\n",
       "      <th>7</th>\n",
       "      <td>MLP</td>\n",
       "      <td>0.999588</td>\n",
       "      <td>0.000300</td>\n",
       "      <td>0.011229</td>\n",
       "      <td>0.007146</td>\n",
       "      <td>MLPClassifier(activation='tanh', hidden_layer_...</td>\n",
       "    </tr>\n",
       "  </tbody>\n",
       "</table>\n",
       "</div>"
      ],
      "text/plain": [
       "  classificador  media_accuracy  desvio_accuracy  media_tempo  desvio_tempo  \\\n",
       "0            RF        0.999706         0.000263     0.136963      0.048001   \n",
       "1           LDA        0.897941         0.003757     0.001953      0.001650   \n",
       "2           QDA        0.995059         0.000655     0.003556      0.003251   \n",
       "3    Perceptron        0.996647         0.001809     0.007532      0.012725   \n",
       "4           SGD        0.999765         0.000220     0.001162      0.000061   \n",
       "5           SVM        0.999765         0.000220     0.007304      0.006504   \n",
       "6           KNN        0.999706         0.000322     1.241508      0.113998   \n",
       "7           MLP        0.999588         0.000300     0.011229      0.007146   \n",
       "\n",
       "                                       melhor_modelo  \n",
       "0  (DecisionTreeClassifier(max_features='sqrt', m...  \n",
       "1              LinearDiscriminantAnalysis(tol=1e-05)  \n",
       "2           QuadraticDiscriminantAnalysis(tol=1e-06)  \n",
       "3                 Perceptron(penalty='l2', tol=0.01)  \n",
       "4   SGDClassifier(loss='modified_huber', tol=0.0001)  \n",
       "5  SVC(C=0.1, decision_function_shape='ovo', kern...  \n",
       "6  KNeighborsClassifier(metric='euclidean', n_nei...  \n",
       "7  MLPClassifier(activation='tanh', hidden_layer_...  "
      ]
     },
     "execution_count": 12,
     "metadata": {},
     "output_type": "execute_result"
    }
   ],
   "source": [
    "caminhoOndeSalvar   = \"../../Resultados/gridsearch_\" + avaliarComBaseEm + \"_\" + \"_\".join(caminhoCSV.split(\"_\")[1:])\n",
    "dataframeResultados = pd.DataFrame(tabelaResultados, columns=[\"classificador\", \"media_\"+avaliarComBaseEm, \"desvio_\"+avaliarComBaseEm, \"media_tempo\", \"desvio_tempo\", \"melhor_modelo\"])\n",
    "dataframeResultados.to_csv(caminhoOndeSalvar, index=False)\n",
    "dataframeResultados"
   ]
  }
 ],
 "metadata": {
  "kernelspec": {
   "display_name": "Python 3",
   "language": "python",
   "name": "python3"
  },
  "language_info": {
   "codemirror_mode": {
    "name": "ipython",
    "version": 3
   },
   "file_extension": ".py",
   "mimetype": "text/x-python",
   "name": "python",
   "nbconvert_exporter": "python",
   "pygments_lexer": "ipython3",
   "version": "3.6.9"
  }
 },
 "nbformat": 4,
 "nbformat_minor": 4
}
