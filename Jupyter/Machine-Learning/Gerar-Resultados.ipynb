{
 "cells": [
  {
   "cell_type": "markdown",
   "metadata": {},
   "source": [
    "## Imports"
   ]
  },
  {
   "cell_type": "code",
   "execution_count": 1,
   "metadata": {},
   "outputs": [],
   "source": [
    "import numpy as np\n",
    "import pandas as pd\n",
    "import matplotlib.pyplot as plt\n",
    "import json\n",
    "from pathlib import Path\n",
    "from time import time\n",
    "from sklearn.metrics import confusion_matrix, accuracy_score, recall_score, precision_score\n",
    "from sklearn.ensemble import RandomForestClassifier\n",
    "from sklearn.linear_model import Perceptron\n",
    "from sklearn.tree import DecisionTreeClassifier\n",
    "from sklearn.svm import SVC\n",
    "from sklearn.discriminant_analysis import LinearDiscriminantAnalysis\n",
    "from sklearn.utils import shuffle\n",
    "from joblib import Parallel, delayed"
   ]
  },
  {
   "cell_type": "code",
   "execution_count": 2,
   "metadata": {},
   "outputs": [],
   "source": [
    "#DEFININDO ALGUNS PARÂMETROS DO GRÁFICO\n",
    "%matplotlib inline\n",
    "%config InlineBackend.figure_format = 'svg'\n",
    "params = {\n",
    "    'figure.figsize': [12, 3.3], \n",
    "    'axes.labelsize': 12,\n",
    "    'axes.titlesize':14, \n",
    "    'font.size': 12,\n",
    "    'legend.fontsize': 10, \n",
    "    'xtick.labelsize': 10, \n",
    "    'ytick.labelsize': 10,\n",
    "    'axes.axisbelow': True\n",
    "}\n",
    "plt.rcParams.update(params)"
   ]
  },
  {
   "cell_type": "markdown",
   "metadata": {},
   "source": [
    "## Definição de funções"
   ]
  },
  {
   "cell_type": "code",
   "execution_count": 3,
   "metadata": {},
   "outputs": [],
   "source": [
    "def abrirDataframe(qtdUsuarios, tipo, caminhoPastaCSVs=\"../../CSV/\"):\n",
    "    if tipo==\"treinamento\":\n",
    "        caminhoCSV = list(Path(caminhoPastaCSVs).glob(\"train_dataset_\"+str(qtdUsuarios)+\"usuarios*.csv\"))[0]\n",
    "    else:\n",
    "        caminhoCSV = list(Path(caminhoPastaCSVs).glob(\"test_dataset_\"+str(qtdUsuarios)+\"usuarios*.csv\"))[0]\n",
    "    df = pd.read_csv(caminhoCSV)\n",
    "    return df"
   ]
  },
  {
   "cell_type": "code",
   "execution_count": 4,
   "metadata": {},
   "outputs": [],
   "source": [
    "def separarXeY(dfTreinamento, dfTeste, featuresSelecionadas=None):\n",
    "    \n",
    "    # SELECIONANDO TODAS AS FEATURES SE FEATURESSELECIONADAS VIER NONE\n",
    "    if featuresSelecionadas == None:\n",
    "        featuresSelecionadas = df.columns.drop([\"potenciaEspiao\", \"ataquePresente\"])\n",
    "    \n",
    "    # SEPARANDO OS ARRAYS\n",
    "    XTrain         = dfTreinamento[featuresSelecionadas]\n",
    "    XTest          = dfTeste[featuresSelecionadas]\n",
    "    yTrain         = dfTreinamento[\"ataquePresente\"]\n",
    "    yTest          = dfTeste[\"ataquePresente\"]\n",
    "    snrTrain       = dfTreinamento[\"snr\"]\n",
    "    snrTest        = dfTeste[\"snr\"]\n",
    "    potEspiaoTrain = dfTreinamento[\"potenciaEspiao\"]\n",
    "    potEspiaoTest  = dfTeste[\"potenciaEspiao\"]\n",
    "    \n",
    "    return XTrain, XTest, yTrain, yTest, snrTrain, snrTest, potEspiaoTrain, potEspiaoTest"
   ]
  },
  {
   "cell_type": "code",
   "execution_count": 5,
   "metadata": {},
   "outputs": [],
   "source": [
    "def deteccaoMachineLearning(XTrain, XTest, yTrain, objClassificador):\n",
    "\n",
    "    # TREINANDO O CLASSIFICADOR\n",
    "    objClassificador.fit(XTrain, yTrain)\n",
    "\n",
    "    # PREDIZENDO OS DE TESTE\n",
    "    arrayTempos = []\n",
    "    yPred       = []\n",
    "    for i, amostraTeste in XTest.iterrows():\n",
    "        tic = time()\n",
    "        yPred.append(objClassificador.predict([amostraTeste.to_numpy()])[0])\n",
    "        toc = time()\n",
    "        arrayTempos.append(toc-tic)\n",
    "        \n",
    "    return np.array(yPred), np.mean(arrayTempos), np.std(arrayTempos)"
   ]
  },
  {
   "cell_type": "code",
   "execution_count": 6,
   "metadata": {},
   "outputs": [],
   "source": [
    "def deteccaoHassan(XTest):\n",
    "    arrayTempos = []\n",
    "    yPred       = []\n",
    "    for i, amostraTeste in XTest.iterrows():\n",
    "        tic = time()\n",
    "        yPred.append(1 if amostraTeste[\"E\"] > amostraTeste[\"eta\"] else 0)\n",
    "        toc = time()\n",
    "        arrayTempos.append(toc-tic)\n",
    "        \n",
    "    return np.array(yPred), np.mean(arrayTempos), np.std(arrayTempos)"
   ]
  },
  {
   "cell_type": "code",
   "execution_count": 7,
   "metadata": {},
   "outputs": [],
   "source": [
    "def deteccaoKapetanovic(XTest, threshold):\n",
    "    arrayTempos = []\n",
    "    yPred       = []\n",
    "    for i, amostraTeste in XTest.iterrows():\n",
    "        tic = time()\n",
    "        yPred.append(1 if amostraTeste[\"a1\"]/amostraTeste[\"a2\"] > threshold else 0)\n",
    "        toc = time()\n",
    "        arrayTempos.append(toc-tic)\n",
    "        \n",
    "    return np.array(yPred), np.mean(arrayTempos), np.std(arrayTempos)"
   ]
  },
  {
   "cell_type": "code",
   "execution_count": 8,
   "metadata": {},
   "outputs": [],
   "source": [
    "def obterValoresUnicos(arraySNR, arrayPotEspiao):\n",
    "    rangeSNRs      = np.unique(arraySNR)\n",
    "    rangePotEspiao = np.unique(arrayPotEspiao)\n",
    "    return rangeSNRs, rangePotEspiao"
   ]
  },
  {
   "cell_type": "code",
   "execution_count": 9,
   "metadata": {},
   "outputs": [],
   "source": [
    "def calcularMetricas(yTest, yPred):\n",
    "    acuracia  = accuracy_score(yTest, yPred)\n",
    "    precisao  = precision_score(yTest, yPred)\n",
    "    revocacao = recall_score(yTest, yPred)\n",
    "    matrizConfusao = confusion_matrix(yTest, yPred)\n",
    "    \n",
    "    return acuracia, precisao, revocacao, matrizConfusao"
   ]
  },
  {
   "cell_type": "code",
   "execution_count": 10,
   "metadata": {},
   "outputs": [],
   "source": [
    "def plotarResultado(matrizProbabilidadeDeteccao, matrizConfusao, rangePotEspiao, rangeSNRs, qtdUsuarios, qtdAntenas, qtdSimbolos, descricao, acuracia, precisao, revocacao):\n",
    "    \n",
    "    # MONTANDO O TITULO DA FIGURA\n",
    "    titulo  = descricao + \"\\n\"\n",
    "    titulo += \"Usuários: \" + str(qtdUsuarios) + \" - Antenas: \" + str(qtdAntenas) + \" - Símbolos: \" + str(qtdSimbolos) + \"\\n\"\n",
    "    titulo += \"Acurácia: \" + str(acuracia)[:7] + \" - Precisão: \" + str(precisao)[:7] + \" - Revocação: \" + str(revocacao)[:7] + \"\\n\"\n",
    "    \n",
    "    # CRIANDO O PRIMEIRO GRAFICO\n",
    "    fig, axs = plt.subplots(1, 2)\n",
    "    for i in range(len(rangePotEspiao)):\n",
    "        axs[0].plot(rangeSNRs, matrizProbabilidadeDeteccao[i], label=\"Potência do Espião: \"+str(rangePotEspiao[i]))\n",
    "    axs[0].set_xlabel(\"SNR\")\n",
    "    axs[0].set_ylabel(\"Probabilidade de Detecção\")\n",
    "    axs[0].grid(alpha=0.5)\n",
    "    axs[0].legend()\n",
    "    \n",
    "    # CRIANDO A MATRIZ DE CONFUSAO\n",
    "    axs[1].imshow(matrizConfusao, cmap=\"gray\")\n",
    "    for (j,i), total in np.ndenumerate(matrizConfusao):\n",
    "        axs[1].text(i, j, int(total), ha=\"center\", va=\"center\", color=\"#e6005c\", size=15)\n",
    "    axs[1].set_xlabel(\"Predito\")\n",
    "    axs[1].set_ylabel(\"Real\")\n",
    "    axs[1].set_xticklabels([])\n",
    "    axs[1].set_yticklabels([])\n",
    "    \n",
    "    # PRINTANDO\n",
    "    plt.suptitle(titulo, y=1.15)\n",
    "    plt.show()"
   ]
  },
  {
   "cell_type": "code",
   "execution_count": 11,
   "metadata": {},
   "outputs": [],
   "source": [
    "def obterDictNovoResultado(classificador, matrizProbabilidadeDeteccao, matrizConfusao, rangePotEspiao, rangeSNRs, qtdUsuarios, qtdAntenas, qtdSimbolos, featuresSelecionadas, acuracia, precisao, revocacao, tempoMedioPredicao, tempoDesvioPredicao, repetibilidadeDataset):\n",
    "    \n",
    "    classificador = classificador.__class__.__name__ if type(classificador) != str else classificador\n",
    "    descricao = \"Deteccao baseada em \" + classificador + \" com \" + \" \".join(featuresSelecionadas)\n",
    "    \n",
    "    dictNovoResultado = {\n",
    "        classificador + \"_\" + str(time()): {\n",
    "            \"qtdUsuarios\": int(qtdUsuarios),\n",
    "            \"qtdAntenas\": int(qtdAntenas),\n",
    "            \"qtdSimbolos\": int(qtdSimbolos),\n",
    "            \"descricao\": descricao,\n",
    "            \"repetibilidadeDataset\": int(repetibilidadeDataset),\n",
    "            \"acuracia\": float(acuracia),\n",
    "            \"precisao\": float(precisao),\n",
    "            \"revocacao\": float(revocacao),\n",
    "            \"tempoMedioPredicao\": tempoMedioPredicao,\n",
    "            \"tempoDesvioPredicao\": tempoDesvioPredicao, \n",
    "            \"featuresSelecionadas\": featuresSelecionadas,\n",
    "            \"rangePotEspiao\": rangePotEspiao.tolist(),\n",
    "            \"rangeSNRs\": rangeSNRs.tolist(),\n",
    "            \"matrizProbabilidadeDeteccao\": matrizProbabilidadeDeteccao.tolist(),\n",
    "            \"matrizConfusao\": matrizConfusao.tolist()\n",
    "        }\n",
    "    }\n",
    "    \n",
    "    return dictNovoResultado"
   ]
  },
  {
   "cell_type": "code",
   "execution_count": 12,
   "metadata": {},
   "outputs": [],
   "source": [
    "def rodarTesteDeteccao(qtdUsuarios, featuresSelecionadas, classificador, esquemaDeteccao, repetibilidadeDataset, thresholdKapetanovic=100):\n",
    "    \n",
    "    # PEGO O QUE E O QUE\n",
    "    XTrain, XTest, yTrain, yTest, snrTrain, snrTest, potEspiaoTrain, potEspiaoTest = separarXeY(abrirDataframe(qtdUsuarios, \"treinamento\"), abrirDataframe(qtdUsuarios, \"teste\"), featuresSelecionadas)\n",
    "    \n",
    "    # VALORES UNICOS DE SNR E POTENCIA DE ESPIAO PRA EU SABER O INDEX DAS MATRIZES DE RESULTADOS\n",
    "    rangeSNRs, rangePotEspiao = obterValoresUnicos(snrTest, potEspiaoTest)\n",
    "    \n",
    "    # MATRIZES QUE VAO GUARDAR OS RESULTADOS\n",
    "    matrizProbabilidadeDeteccao = np.zeros(shape=(len(rangePotEspiao), len(rangeSNRs)))\n",
    "    \n",
    "    # PREDICAO\n",
    "    if esquemaDeteccao == \"ML\":\n",
    "        yPred, tempoMedioPredicao, tempoDesvioPredicao = deteccaoMachineLearning(XTrain, XTest, yTrain, classificador)\n",
    "    elif esquemaDeteccao == \"Hassan\":\n",
    "        yPred, tempoMedioPredicao, tempoDesvioPredicao = deteccaoHassan(XTest)\n",
    "    else:\n",
    "        yPred, tempoMedioPredicao, tempoDesvioPredicao = deteccaoKapetanovic(XTest, thresholdKapetanovic)\n",
    "\n",
    "    # AGREGO NA MATRIZ DE PROB DE DETECCAO\n",
    "    for (indexTesteAtual, predicaoAtual) in zip(yTest.index, yPred):\n",
    "\n",
    "        # PEGANDO EM QUAL LINHA E EM QUAL COLUNA DA MATRIZ EU VOU COLOCAR O RESULTADO\n",
    "        indexPotEsp = np.where(rangePotEspiao==potEspiaoTest[indexTesteAtual])[0][0]\n",
    "        indexSNR    = np.where(rangeSNRs==snrTest[indexTesteAtual])[0][0]\n",
    "\n",
    "        # JA SOMO COM A PROBABILIDADE (DIVIDINDO PELA REPETIBILIDADE)\n",
    "        matrizProbabilidadeDeteccao[indexPotEsp][indexSNR] += predicaoAtual/repetibilidadeDataset       \n",
    "    \n",
    "    # CONSIDERANDO QUE O DATASET ESTA BALANCEADO, HA MUITO MAIS REPETIBILIDADE QUANDO POTESP = 0\n",
    "    matrizProbabilidadeDeteccao[0] /= (len(rangePotEspiao) - 1)\n",
    "    \n",
    "    # METRICAS\n",
    "    acuracia, precisao, revocacao, matrizConfusao = calcularMetricas(yTest, yPred)\n",
    "    \n",
    "    # DICIONARIOS COM OS RESULTADOS \n",
    "    dictNovoResultado = obterDictNovoResultado(classificador, matrizProbabilidadeDeteccao, matrizConfusao, rangePotEspiao, rangeSNRs, qtdUsuarios, qtdAntenas, qtdSimbolos, featuresSelecionadas, acuracia, precisao, revocacao, tempoMedioPredicao, tempoDesvioPredicao, repetibilidadeDataset)\n",
    "    \n",
    "    return dictNovoResultado"
   ]
  },
  {
   "cell_type": "code",
   "execution_count": 13,
   "metadata": {},
   "outputs": [],
   "source": [
    "def salvarNovosResultados(arrayResultados, arquivoSalvar):\n",
    "    for dictNovoResultado in arrayResultados:\n",
    "        keyNova    = list(dictNovoResultado.keys())[0]\n",
    "        valuesNovo = dictNovoResultado[list(dictNovoResultado.keys())[0]]\n",
    "        with open(arquivoSalvar, mode=\"r+\") as file:\n",
    "            dictResultados = json.load(file)\n",
    "            dictResultados[keyNova] = valuesNovo\n",
    "            file.seek(0)\n",
    "            json.dump(dictResultados, file, indent=4)\n",
    "            file.truncate()"
   ]
  },
  {
   "cell_type": "markdown",
   "metadata": {},
   "source": [
    "## Parâmetros iniciais"
   ]
  },
  {
   "cell_type": "code",
   "execution_count": 14,
   "metadata": {},
   "outputs": [],
   "source": [
    "classificadores       = [DecisionTreeClassifier(), Perceptron(), LinearDiscriminantAnalysis(), SVC()]\n",
    "rangeQtdUsuarios      = np.array([1, 2, 4, 8, 16, 32, 64])\n",
    "qtdAntenas            = 256\n",
    "qtdSimbolos           = 128\n",
    "repetibilidadeDataset = 1000\n",
    "nucleosProcessador    = -1\n",
    "thresholdKapetanovic  = 100\n",
    "plotar                = True\n",
    "verbose               = 100\n",
    "combinacoesFeaturesML = [\n",
    "    [\"E\"],\n",
    "    [\"E\", \"a1\", \"a2\"],\n",
    "    [\"a1\", \"a2\"]\n",
    "]\n",
    "dictResultados = {}\n",
    "arquivoSalvar = Path(\"../../Resultados/probabilidadeDeteccao_\" + str(time()) + \".json\")\n",
    "with open(arquivoSalvar, mode=\"w\") as file:\n",
    "    json.dump(dictResultados, file)"
   ]
  },
  {
   "cell_type": "markdown",
   "metadata": {},
   "source": [
    "## Rodando os testes de detecção com machine learning, hassan e kapetanovic"
   ]
  },
  {
   "cell_type": "code",
   "execution_count": 15,
   "metadata": {
    "scrolled": false
   },
   "outputs": [
    {
     "name": "stdout",
     "output_type": "stream",
     "text": [
      "[Parallel(n_jobs=-1)]: Using backend LokyBackend with 8 concurrent workers.\n",
      "[Parallel(n_jobs=-1)]: Done   1 tasks      | elapsed:  4.3min\n",
      "[Parallel(n_jobs=-1)]: Done   2 tasks      | elapsed:  4.3min\n",
      "[Parallel(n_jobs=-1)]: Done   3 tasks      | elapsed:  4.3min\n",
      "[Parallel(n_jobs=-1)]: Done   4 tasks      | elapsed:  4.3min\n",
      "[Parallel(n_jobs=-1)]: Done   5 tasks      | elapsed:  4.4min\n",
      "[Parallel(n_jobs=-1)]: Done   6 tasks      | elapsed:  4.4min\n",
      "[Parallel(n_jobs=-1)]: Done   7 tasks      | elapsed:  4.4min\n",
      "[Parallel(n_jobs=-1)]: Done   8 tasks      | elapsed:  4.5min\n",
      "[Parallel(n_jobs=-1)]: Done   9 tasks      | elapsed:  8.8min\n",
      "[Parallel(n_jobs=-1)]: Done  10 tasks      | elapsed:  8.8min\n",
      "[Parallel(n_jobs=-1)]: Done  11 tasks      | elapsed:  8.8min\n",
      "[Parallel(n_jobs=-1)]: Done  12 tasks      | elapsed:  8.8min\n",
      "[Parallel(n_jobs=-1)]: Done  13 tasks      | elapsed:  8.9min\n",
      "[Parallel(n_jobs=-1)]: Done  14 tasks      | elapsed:  8.9min\n",
      "[Parallel(n_jobs=-1)]: Done  15 tasks      | elapsed:  8.9min\n",
      "[Parallel(n_jobs=-1)]: Done  16 tasks      | elapsed:  9.0min\n",
      "[Parallel(n_jobs=-1)]: Done  17 tasks      | elapsed: 13.3min\n",
      "[Parallel(n_jobs=-1)]: Done  18 tasks      | elapsed: 13.3min\n",
      "[Parallel(n_jobs=-1)]: Done  19 tasks      | elapsed: 13.3min\n",
      "[Parallel(n_jobs=-1)]: Done  20 tasks      | elapsed: 13.4min\n",
      "[Parallel(n_jobs=-1)]: Done  21 tasks      | elapsed: 13.4min\n",
      "[Parallel(n_jobs=-1)]: Done  22 tasks      | elapsed: 13.5min\n",
      "[Parallel(n_jobs=-1)]: Done  23 tasks      | elapsed: 13.5min\n",
      "[Parallel(n_jobs=-1)]: Done  24 tasks      | elapsed: 13.6min\n",
      "[Parallel(n_jobs=-1)]: Done  25 tasks      | elapsed: 17.8min\n",
      "[Parallel(n_jobs=-1)]: Done  26 tasks      | elapsed: 17.8min\n",
      "[Parallel(n_jobs=-1)]: Done  27 tasks      | elapsed: 17.9min\n",
      "[Parallel(n_jobs=-1)]: Done  28 tasks      | elapsed: 17.9min\n",
      "[Parallel(n_jobs=-1)]: Done  29 tasks      | elapsed: 17.9min\n",
      "[Parallel(n_jobs=-1)]: Done  30 tasks      | elapsed: 18.0min\n",
      "[Parallel(n_jobs=-1)]: Done  31 tasks      | elapsed: 18.1min\n",
      "[Parallel(n_jobs=-1)]: Done  32 tasks      | elapsed: 18.1min\n",
      "[Parallel(n_jobs=-1)]: Done  33 tasks      | elapsed: 22.2min\n",
      "[Parallel(n_jobs=-1)]: Done  34 tasks      | elapsed: 22.3min\n",
      "[Parallel(n_jobs=-1)]: Done  35 tasks      | elapsed: 22.5min\n",
      "[Parallel(n_jobs=-1)]: Done  36 tasks      | elapsed: 22.5min\n",
      "[Parallel(n_jobs=-1)]: Done  37 tasks      | elapsed: 22.5min\n",
      "[Parallel(n_jobs=-1)]: Done  38 tasks      | elapsed: 22.6min\n",
      "[Parallel(n_jobs=-1)]: Done  39 tasks      | elapsed: 22.6min\n",
      "[Parallel(n_jobs=-1)]: Done  40 tasks      | elapsed: 22.7min\n",
      "[Parallel(n_jobs=-1)]: Done  41 tasks      | elapsed: 26.8min\n",
      "[Parallel(n_jobs=-1)]: Done  42 tasks      | elapsed: 26.8min\n",
      "[Parallel(n_jobs=-1)]: Done  43 tasks      | elapsed: 27.0min\n",
      "[Parallel(n_jobs=-1)]: Done  44 tasks      | elapsed: 27.0min\n",
      "[Parallel(n_jobs=-1)]: Done  45 tasks      | elapsed: 27.1min\n",
      "[Parallel(n_jobs=-1)]: Done  46 tasks      | elapsed: 27.1min\n",
      "[Parallel(n_jobs=-1)]: Done  47 tasks      | elapsed: 27.2min\n",
      "[Parallel(n_jobs=-1)]: Done  48 tasks      | elapsed: 27.3min\n",
      "[Parallel(n_jobs=-1)]: Done  49 tasks      | elapsed: 31.3min\n",
      "[Parallel(n_jobs=-1)]: Done  50 tasks      | elapsed: 31.4min\n",
      "[Parallel(n_jobs=-1)]: Done  51 tasks      | elapsed: 31.5min\n",
      "[Parallel(n_jobs=-1)]: Done  52 tasks      | elapsed: 31.6min\n",
      "[Parallel(n_jobs=-1)]: Done  53 tasks      | elapsed: 31.7min\n",
      "[Parallel(n_jobs=-1)]: Done  54 tasks      | elapsed: 31.7min\n",
      "[Parallel(n_jobs=-1)]: Done  55 tasks      | elapsed: 31.7min\n",
      "[Parallel(n_jobs=-1)]: Done  56 tasks      | elapsed: 31.9min\n",
      "[Parallel(n_jobs=-1)]: Done  57 tasks      | elapsed: 35.8min\n",
      "[Parallel(n_jobs=-1)]: Done  58 tasks      | elapsed: 35.9min\n",
      "[Parallel(n_jobs=-1)]: Done  59 tasks      | elapsed: 36.0min\n",
      "[Parallel(n_jobs=-1)]: Done  60 tasks      | elapsed: 36.1min\n",
      "[Parallel(n_jobs=-1)]: Done  61 tasks      | elapsed: 36.2min\n",
      "[Parallel(n_jobs=-1)]: Done  62 tasks      | elapsed: 36.2min\n",
      "[Parallel(n_jobs=-1)]: Done  63 tasks      | elapsed: 36.2min\n",
      "[Parallel(n_jobs=-1)]: Done  64 tasks      | elapsed: 37.1min\n",
      "[Parallel(n_jobs=-1)]: Done  65 tasks      | elapsed: 41.0min\n",
      "[Parallel(n_jobs=-1)]: Done  66 tasks      | elapsed: 41.3min\n",
      "[Parallel(n_jobs=-1)]: Done  67 tasks      | elapsed: 41.4min\n",
      "[Parallel(n_jobs=-1)]: Done  68 tasks      | elapsed: 41.6min\n",
      "[Parallel(n_jobs=-1)]: Done  69 tasks      | elapsed: 41.7min\n",
      "[Parallel(n_jobs=-1)]: Done  70 out of  84 | elapsed: 41.9min remaining:  8.4min\n",
      "[Parallel(n_jobs=-1)]: Done  71 out of  84 | elapsed: 43.4min remaining:  7.9min\n",
      "[Parallel(n_jobs=-1)]: Done  72 out of  84 | elapsed: 45.4min remaining:  7.6min\n",
      "[Parallel(n_jobs=-1)]: Done  73 out of  84 | elapsed: 46.3min remaining:  7.0min\n",
      "[Parallel(n_jobs=-1)]: Done  74 out of  84 | elapsed: 47.0min remaining:  6.3min\n",
      "[Parallel(n_jobs=-1)]: Done  75 out of  84 | elapsed: 48.9min remaining:  5.9min\n",
      "[Parallel(n_jobs=-1)]: Done  76 out of  84 | elapsed: 53.4min remaining:  5.6min\n",
      "[Parallel(n_jobs=-1)]: Done  77 out of  84 | elapsed: 53.6min remaining:  4.9min\n",
      "[Parallel(n_jobs=-1)]: Done  78 out of  84 | elapsed: 53.9min remaining:  4.1min\n",
      "[Parallel(n_jobs=-1)]: Done  79 out of  84 | elapsed: 56.8min remaining:  3.6min\n",
      "[Parallel(n_jobs=-1)]: Done  80 out of  84 | elapsed: 57.5min remaining:  2.9min\n",
      "[Parallel(n_jobs=-1)]: Done  81 out of  84 | elapsed: 61.8min remaining:  2.3min\n",
      "[Parallel(n_jobs=-1)]: Done  82 out of  84 | elapsed: 65.2min remaining:  1.6min\n",
      "[Parallel(n_jobs=-1)]: Done  84 out of  84 | elapsed: 69.1min remaining:    0.0s\n",
      "[Parallel(n_jobs=-1)]: Done  84 out of  84 | elapsed: 69.1min finished\n"
     ]
    }
   ],
   "source": [
    "esquemaDeteccao = \"ML\"\n",
    "arrayResultados = Parallel(verbose=verbose, n_jobs=nucleosProcessador)(delayed(rodarTesteDeteccao)(qtdUsuarios, featuresSelecionadas, classificador, esquemaDeteccao, repetibilidadeDataset, thresholdKapetanovic) for classificador in classificadores for qtdUsuarios in rangeQtdUsuarios for featuresSelecionadas in combinacoesFeaturesML)\n",
    "salvarNovosResultados(arrayResultados, arquivoSalvar)"
   ]
  },
  {
   "cell_type": "code",
   "execution_count": 16,
   "metadata": {},
   "outputs": [
    {
     "name": "stdout",
     "output_type": "stream",
     "text": [
      "[Parallel(n_jobs=-1)]: Using backend LokyBackend with 8 concurrent workers.\n",
      "[Parallel(n_jobs=-1)]: Done   1 tasks      | elapsed:  2.1min\n",
      "[Parallel(n_jobs=-1)]: Done   2 out of   7 | elapsed:  2.1min remaining:  5.4min\n",
      "[Parallel(n_jobs=-1)]: Done   3 out of   7 | elapsed:  2.2min remaining:  2.9min\n",
      "[Parallel(n_jobs=-1)]: Done   4 out of   7 | elapsed:  2.2min remaining:  1.6min\n",
      "[Parallel(n_jobs=-1)]: Done   5 out of   7 | elapsed:  2.2min remaining:   52.8s\n",
      "[Parallel(n_jobs=-1)]: Done   7 out of   7 | elapsed:  2.2min remaining:    0.0s\n",
      "[Parallel(n_jobs=-1)]: Done   7 out of   7 | elapsed:  2.2min finished\n"
     ]
    }
   ],
   "source": [
    "esquemaDeteccao      = \"Hassan\"\n",
    "classificador        = esquemaDeteccao\n",
    "featuresSelecionadas = [\"E\", \"eta\"]\n",
    "arrayResultados      = Parallel(verbose=verbose, n_jobs=nucleosProcessador)(delayed(rodarTesteDeteccao)(qtdUsuarios, featuresSelecionadas, classificador, esquemaDeteccao, repetibilidadeDataset, thresholdKapetanovic) for qtdUsuarios in rangeQtdUsuarios)\n",
    "salvarNovosResultados(arrayResultados, arquivoSalvar)"
   ]
  },
  {
   "cell_type": "code",
   "execution_count": 17,
   "metadata": {},
   "outputs": [
    {
     "name": "stdout",
     "output_type": "stream",
     "text": [
      "[Parallel(n_jobs=-1)]: Using backend LokyBackend with 8 concurrent workers.\n",
      "[Parallel(n_jobs=-1)]: Done   1 tasks      | elapsed:  2.2min\n",
      "[Parallel(n_jobs=-1)]: Done   2 out of   7 | elapsed:  2.2min remaining:  5.6min\n",
      "[Parallel(n_jobs=-1)]: Done   3 out of   7 | elapsed:  2.2min remaining:  3.0min\n",
      "[Parallel(n_jobs=-1)]: Done   4 out of   7 | elapsed:  2.2min remaining:  1.7min\n",
      "[Parallel(n_jobs=-1)]: Done   5 out of   7 | elapsed:  2.2min remaining:   53.7s\n",
      "[Parallel(n_jobs=-1)]: Done   7 out of   7 | elapsed:  2.3min remaining:    0.0s\n",
      "[Parallel(n_jobs=-1)]: Done   7 out of   7 | elapsed:  2.3min finished\n"
     ]
    }
   ],
   "source": [
    "esquemaDeteccao      = \"Kapetanovic\"\n",
    "classificador        = esquemaDeteccao\n",
    "featuresSelecionadas = [\"a1\", \"a2\"]\n",
    "arrayResultados      = Parallel(verbose=verbose, n_jobs=nucleosProcessador)(delayed(rodarTesteDeteccao)(qtdUsuarios, featuresSelecionadas, classificador, esquemaDeteccao, repetibilidadeDataset, thresholdKapetanovic) for qtdUsuarios in rangeQtdUsuarios)\n",
    "salvarNovosResultados(arrayResultados, arquivoSalvar)"
   ]
  },
  {
   "cell_type": "code",
   "execution_count": null,
   "metadata": {},
   "outputs": [],
   "source": []
  },
  {
   "cell_type": "code",
   "execution_count": null,
   "metadata": {},
   "outputs": [],
   "source": []
  },
  {
   "cell_type": "code",
   "execution_count": null,
   "metadata": {},
   "outputs": [],
   "source": []
  }
 ],
 "metadata": {
  "kernelspec": {
   "display_name": "Python 3",
   "language": "python",
   "name": "python3"
  },
  "language_info": {
   "codemirror_mode": {
    "name": "ipython",
    "version": 3
   },
   "file_extension": ".py",
   "mimetype": "text/x-python",
   "name": "python",
   "nbconvert_exporter": "python",
   "pygments_lexer": "ipython3",
   "version": "3.6.12"
  }
 },
 "nbformat": 4,
 "nbformat_minor": 4
}
