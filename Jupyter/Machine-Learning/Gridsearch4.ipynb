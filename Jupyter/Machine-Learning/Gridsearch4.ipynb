{
 "cells": [
  {
   "cell_type": "markdown",
   "metadata": {},
   "source": [
    "# Gridsearch\n",
    "\n",
    "Vamos usar um dos datasets gerados para fazer um gridsearch com alguns classificadores. \n",
    "\n",
    "O dataset que será utilizado conta com 1 usuário conectado, 256 antenas e 128 símbolos na sequência piloto. \n",
    "\n",
    "Features: snr, E, eta, a1, a2 e a3. Target: se tem ou não contaminação."
   ]
  },
  {
   "cell_type": "markdown",
   "metadata": {},
   "source": [
    "### Importações"
   ]
  },
  {
   "cell_type": "code",
   "execution_count": 1,
   "metadata": {},
   "outputs": [],
   "source": [
    "import pandas as pd\n",
    "import numpy as np\n",
    "from IPython.display import display, clear_output\n",
    "from sklearn.utils import shuffle\n",
    "from sklearn.model_selection import GridSearchCV\n",
    "from sklearn.ensemble import RandomForestClassifier\n",
    "from sklearn.discriminant_analysis import LinearDiscriminantAnalysis\n",
    "from sklearn.discriminant_analysis import QuadraticDiscriminantAnalysis\n",
    "from sklearn.neighbors import KNeighborsClassifier\n",
    "from sklearn.svm import SVC\n",
    "from sklearn.linear_model import Perceptron, SGDClassifier\n",
    "from sklearn.neighbors import KNeighborsClassifier\n",
    "from sklearn.neural_network import MLPClassifier"
   ]
  },
  {
   "cell_type": "markdown",
   "metadata": {},
   "source": [
    "### Abrindo o Banco de Dados"
   ]
  },
  {
   "cell_type": "code",
   "execution_count": 2,
   "metadata": {},
   "outputs": [],
   "source": [
    "# ABRO O CSV\n",
    "caminhoCSV = \"../../CSV/dataset_4usuarios_64antenas_8simbolos_1599161657.8460925.csv\"\n",
    "datasetCSV = pd.read_csv(caminhoCSV)\n",
    "\n",
    "# SEPARANDO DATA E TARGET E DANDO UM SHUFFLEZINHO\n",
    "data         = datasetCSV[datasetCSV.columns[:-2]].to_numpy()\n",
    "target       = datasetCSV[datasetCSV.columns[-1]].to_numpy()\n",
    "data, target = shuffle(data, target)"
   ]
  },
  {
   "cell_type": "markdown",
   "metadata": {},
   "source": [
    "### Parâmetros Inicias"
   ]
  },
  {
   "cell_type": "code",
   "execution_count": 3,
   "metadata": {},
   "outputs": [],
   "source": [
    "# VAMOS FAZER UM KFOLD COM qtdFolds PASTAS\n",
    "qtdFolds = 5\n",
    "\n",
    "# O GRIDSEARCH VAI TENTAR MELHORAR QUAL METRICA?\n",
    "avaliarComBaseEm = 'f1' # outras: 'accuracy', 'f1', ‘precision’... -> https://scikit-learn.org/stable/modules/model_evaluation.html#scoring-parameter\n",
    "\n",
    "# QUANTOS NUCLEOS VAMOS USAR?\n",
    "nJobs = -1\n",
    "\n",
    "# MATRIZ DE RESULTADOS: vou fazer uma tabela pra guardar os resultados, cada linha um classificador. As colunas vão ser: classificador, mediametrica, desviometrica, tempomedio, desviotempo e melhor modelo\n",
    "tabelaResultados = []"
   ]
  },
  {
   "cell_type": "markdown",
   "metadata": {},
   "source": [
    "### Random Forest"
   ]
  },
  {
   "cell_type": "code",
   "execution_count": 4,
   "metadata": {},
   "outputs": [
    {
     "data": {
      "text/plain": [
       "['RF',\n",
       " 0.9538454711478032,\n",
       " 0.003856076667096006,\n",
       " 0.05423207283020019,\n",
       " 0.003693916120024903,\n",
       " RandomForestClassifier(criterion='entropy', max_features='log2',\n",
       "                        min_samples_leaf=3, min_samples_split=4,\n",
       "                        n_estimators=50)]"
      ]
     },
     "metadata": {},
     "output_type": "display_data"
    }
   ],
   "source": [
    "# NOME DO CLASSIFICADOR (PRA GUARDAR NOS RESULTADOS)\n",
    "classificador = \"RF\"\n",
    "\n",
    "# PARAMETROS PRA TESTAR NO GRIDSEARCH\n",
    "parametrosGrid = [{\n",
    "    'n_estimators': [1, 10, 50],\n",
    "    'criterion': ['gini', 'entropy'],\n",
    "    'min_samples_split': [2,4,6],\n",
    "    'min_samples_leaf': [1,2,3],\n",
    "    'max_features': [None, 'sqrt', 'log2']\n",
    "}]\n",
    "\n",
    "# AJUSTANDO O GRIDSEARCH E RODANDO\n",
    "objGS = GridSearchCV(RandomForestClassifier(), parametrosGrid, verbose=10, cv=qtdFolds, n_jobs=nJobs, scoring=avaliarComBaseEm)\n",
    "objGS.fit(X=data, y=target)\n",
    "\n",
    "# SALVANDO O RESULTADO (classificador, mediametrica, desviometrica, tempomedio, desviotempo e melhor modelo)\n",
    "tabelaResultados.append([classificador, objGS.cv_results_[\"mean_test_score\"][objGS.best_index_], objGS.cv_results_[\"std_test_score\"][objGS.best_index_], objGS.cv_results_['mean_score_time'][objGS.best_index_], objGS.cv_results_['std_score_time'][objGS.best_index_], objGS.best_estimator_])\n",
    "\n",
    "# PRINT\n",
    "clear_output(wait=True)\n",
    "display(tabelaResultados[len(tabelaResultados)-1])"
   ]
  },
  {
   "cell_type": "markdown",
   "metadata": {},
   "source": [
    "### LDA"
   ]
  },
  {
   "cell_type": "code",
   "execution_count": 5,
   "metadata": {},
   "outputs": [
    {
     "data": {
      "text/plain": [
       "['LDA',\n",
       " 0.8818034752352805,\n",
       " 0.005879515751670822,\n",
       " 0.016307640075683593,\n",
       " 0.005047071980519481,\n",
       " LinearDiscriminantAnalysis(tol=1e-05)]"
      ]
     },
     "metadata": {},
     "output_type": "display_data"
    }
   ],
   "source": [
    "# NOME DO CLASSIFICADOR (PRA GUARDAR NOS RESULTADOS)\n",
    "classificador = \"LDA\"\n",
    "\n",
    "# PARAMETROS PRA TESTAR NO GRIDSEARCH\n",
    "parametrosGrid = [{\n",
    "    'solver': ['svd', 'lsqr', 'eigen'],\n",
    "    'tol': [1e-5, 1e-4, 1e-3]\n",
    "}]\n",
    "\n",
    "# AJUSTANDO O GRIDSEARCH E RODANDO\n",
    "objGS = GridSearchCV(LinearDiscriminantAnalysis(), parametrosGrid, verbose=10, cv=qtdFolds, n_jobs=nJobs, scoring=avaliarComBaseEm)\n",
    "objGS.fit(X=data, y=target)\n",
    "\n",
    "# SALVANDO O RESULTADO (classificador, mediametrica, desviometrica, tempomedio, desviotempo e melhor modelo)\n",
    "tabelaResultados.append([classificador, objGS.cv_results_[\"mean_test_score\"][objGS.best_index_], objGS.cv_results_[\"std_test_score\"][objGS.best_index_], objGS.cv_results_['mean_score_time'][objGS.best_index_], objGS.cv_results_['std_score_time'][objGS.best_index_], objGS.best_estimator_])\n",
    "\n",
    "# PRINT\n",
    "clear_output(wait=True)\n",
    "display(tabelaResultados[len(tabelaResultados)-1])"
   ]
  },
  {
   "cell_type": "markdown",
   "metadata": {},
   "source": [
    "### QDA"
   ]
  },
  {
   "cell_type": "code",
   "execution_count": 6,
   "metadata": {},
   "outputs": [
    {
     "data": {
      "text/plain": [
       "['QDA',\n",
       " 0.9238748551498714,\n",
       " 0.005535142567070065,\n",
       " 0.005821371078491211,\n",
       " 0.0033540264378103726,\n",
       " QuadraticDiscriminantAnalysis(tol=1e-06)]"
      ]
     },
     "metadata": {},
     "output_type": "display_data"
    }
   ],
   "source": [
    "# NOME DO CLASSIFICADOR (PRA GUARDAR NOS RESULTADOS)\n",
    "classificador = \"QDA\"\n",
    "\n",
    "# PARAMETROS PRA TESTAR NO GRIDSEARCH\n",
    "parametrosGrid = [{\n",
    "    'tol': [1e-6, 1e-5, 1e-4, 1e-3, 1e-2]\n",
    "}]\n",
    "\n",
    "# AJUSTANDO O GRIDSEARCH E RODANDO\n",
    "objGS = GridSearchCV(QuadraticDiscriminantAnalysis(), parametrosGrid, verbose=10, cv=qtdFolds, n_jobs=nJobs, scoring=avaliarComBaseEm)\n",
    "objGS.fit(X=data, y=target)\n",
    "\n",
    "# SALVANDO O RESULTADO (classificador, mediametrica, desviometrica, tempomedio, desviotempo e melhor modelo)\n",
    "tabelaResultados.append([classificador, objGS.cv_results_[\"mean_test_score\"][objGS.best_index_], objGS.cv_results_[\"std_test_score\"][objGS.best_index_], objGS.cv_results_['mean_score_time'][objGS.best_index_], objGS.cv_results_['std_score_time'][objGS.best_index_], objGS.best_estimator_])\n",
    "\n",
    "# PRINT\n",
    "clear_output(wait=True)\n",
    "display(tabelaResultados[len(tabelaResultados)-1])"
   ]
  },
  {
   "cell_type": "markdown",
   "metadata": {},
   "source": [
    "### Perceptron"
   ]
  },
  {
   "cell_type": "code",
   "execution_count": 7,
   "metadata": {},
   "outputs": [
    {
     "data": {
      "text/plain": [
       "['Perceptron',\n",
       " 0.9263458594726985,\n",
       " 0.010253876454533652,\n",
       " 0.005129575729370117,\n",
       " 0.0033028601891030756,\n",
       " Perceptron(penalty='l1', tol=0.01)]"
      ]
     },
     "metadata": {},
     "output_type": "display_data"
    }
   ],
   "source": [
    "# NOME DO CLASSIFICADOR (PRA GUARDAR NOS RESULTADOS)\n",
    "classificador = \"Perceptron\"\n",
    "\n",
    "# PARAMETROS PRA TESTAR NO GRIDSEARCH\n",
    "parametrosGrid = [{\n",
    "    'penalty': ['none', 'l2', 'l1', 'elasticnet'],\n",
    "    'alpha': [0.00001, 0.00001, 0.0001, 0.001, 0.01],\n",
    "    'tol': [0.01, 0.001, 0.0001, 0.00001]\n",
    "}]\n",
    "\n",
    "# AJUSTANDO O GRIDSEARCH E RODANDO\n",
    "objGS = GridSearchCV(Perceptron(), parametrosGrid, verbose=10, cv=qtdFolds, n_jobs=nJobs, scoring=avaliarComBaseEm)\n",
    "objGS.fit(X=data, y=target)\n",
    "\n",
    "# SALVANDO O RESULTADO (classificador, mediametrica, desviometrica, tempomedio, desviotempo e melhor modelo)\n",
    "tabelaResultados.append([classificador, objGS.cv_results_[\"mean_test_score\"][objGS.best_index_], objGS.cv_results_[\"std_test_score\"][objGS.best_index_], objGS.cv_results_['mean_score_time'][objGS.best_index_], objGS.cv_results_['std_score_time'][objGS.best_index_], objGS.best_estimator_])\n",
    "\n",
    "# PRINT\n",
    "clear_output(wait=True)\n",
    "display(tabelaResultados[len(tabelaResultados)-1])"
   ]
  },
  {
   "cell_type": "markdown",
   "metadata": {},
   "source": [
    "### SGD"
   ]
  },
  {
   "cell_type": "code",
   "execution_count": 8,
   "metadata": {
    "scrolled": true
   },
   "outputs": [
    {
     "data": {
      "text/plain": [
       "['SGD',\n",
       " 0.950370687854039,\n",
       " 0.0049202185572967015,\n",
       " 0.0033637046813964843,\n",
       " 0.00012379987513758692,\n",
       " SGDClassifier(alpha=1e-05, penalty='none', tol=0.0001)]"
      ]
     },
     "metadata": {},
     "output_type": "display_data"
    }
   ],
   "source": [
    "# NOME DO CLASSIFICADOR (PRA GUARDAR NOS RESULTADOS)\n",
    "classificador = \"SGD\"\n",
    "\n",
    "# PARAMETROS PRA TESTAR NO GRIDSEARCH\n",
    "parametrosGrid = [{\n",
    "    'loss': ['hinge', 'log', 'modified_huber', 'squared_hinge', 'perceptron'],\n",
    "    'penalty': ['none', 'l2', 'l1', 'elasticnet'],\n",
    "    'alpha': [0.00001, 0.0001, 0.001],\n",
    "    'tol': [0.01, 0.001, 0.0001]\n",
    "}]\n",
    "\n",
    "# AJUSTANDO O GRIDSEARCH E RODANDO\n",
    "objGS = GridSearchCV(SGDClassifier(), parametrosGrid, verbose=10, cv=qtdFolds, n_jobs=nJobs, scoring=avaliarComBaseEm)\n",
    "objGS.fit(X=data, y=target)\n",
    "\n",
    "# SALVANDO O RESULTADO (classificador, mediametrica, desviometrica, tempomedio, desviotempo e melhor modelo)\n",
    "tabelaResultados.append([classificador, objGS.cv_results_[\"mean_test_score\"][objGS.best_index_], objGS.cv_results_[\"std_test_score\"][objGS.best_index_], objGS.cv_results_['mean_score_time'][objGS.best_index_], objGS.cv_results_['std_score_time'][objGS.best_index_], objGS.best_estimator_])\n",
    "\n",
    "# PRINT\n",
    "clear_output(wait=True)\n",
    "display(tabelaResultados[len(tabelaResultados)-1])"
   ]
  },
  {
   "cell_type": "markdown",
   "metadata": {},
   "source": [
    "### SVM"
   ]
  },
  {
   "cell_type": "code",
   "execution_count": 9,
   "metadata": {},
   "outputs": [
    {
     "data": {
      "text/plain": [
       "['SVM',\n",
       " 0.9478699590742741,\n",
       " 0.004023262138937729,\n",
       " 0.5787885189056396,\n",
       " 0.037129060727784206,\n",
       " SVC(C=1, decision_function_shape='ovo', kernel='linear')]"
      ]
     },
     "metadata": {},
     "output_type": "display_data"
    }
   ],
   "source": [
    "# NOME DO CLASSIFICADOR (PRA GUARDAR NOS RESULTADOS)\n",
    "classificador = \"SVM\"\n",
    "\n",
    "# PARAMETROS PRA TESTAR NO GRIDSEARCH\n",
    "parametrosGrid = [{\n",
    "    'C': [0.01, 0.1, 1],\n",
    "    'kernel': ['linear', 'poly', 'rbf'],\n",
    "    'degree': [3,4,5],\n",
    "    'decision_function_shape': ['ovo', 'ovr']\n",
    "}]\n",
    "\n",
    "# AJUSTANDO O GRIDSEARCH E RODANDO\n",
    "objGS = GridSearchCV(SVC(), parametrosGrid, verbose=10, cv=qtdFolds, n_jobs=nJobs, scoring=avaliarComBaseEm)\n",
    "objGS.fit(X=data, y=target)\n",
    "\n",
    "# SALVANDO O RESULTADO (classificador, mediametrica, desviometrica, tempomedio, desviotempo e melhor modelo)\n",
    "tabelaResultados.append([classificador, objGS.cv_results_[\"mean_test_score\"][objGS.best_index_], objGS.cv_results_[\"std_test_score\"][objGS.best_index_], objGS.cv_results_['mean_score_time'][objGS.best_index_], objGS.cv_results_['std_score_time'][objGS.best_index_], objGS.best_estimator_])\n",
    "\n",
    "# PRINT\n",
    "clear_output(wait=True)\n",
    "display(tabelaResultados[len(tabelaResultados)-1])"
   ]
  },
  {
   "cell_type": "markdown",
   "metadata": {},
   "source": [
    "### KNN"
   ]
  },
  {
   "cell_type": "code",
   "execution_count": 10,
   "metadata": {},
   "outputs": [
    {
     "data": {
      "text/plain": [
       "['KNN',\n",
       " 0.9114493566861492,\n",
       " 0.006755067864695625,\n",
       " 1.2013219356536866,\n",
       " 0.1227721350825727,\n",
       " KNeighborsClassifier(metric='manhattan', n_neighbors=7)]"
      ]
     },
     "metadata": {},
     "output_type": "display_data"
    }
   ],
   "source": [
    "# NOME DO CLASSIFICADOR (PRA GUARDAR NOS RESULTADOS)\n",
    "classificador = \"KNN\"\n",
    "\n",
    "# PARAMETROS PRA TESTAR NO GRIDSEARCH\n",
    "parametrosGrid = [{\n",
    "    'n_neighbors': [1,3,5,7,9],\n",
    "    'metric': ['euclidean', \n",
    "               'manhattan']\n",
    "}]\n",
    "\n",
    "# AJUSTANDO O GRIDSEARCH E RODANDO\n",
    "objGS = GridSearchCV(KNeighborsClassifier(), parametrosGrid, verbose=10, cv=qtdFolds, n_jobs=nJobs, scoring=avaliarComBaseEm)\n",
    "objGS.fit(X=data, y=target)\n",
    "\n",
    "# SALVANDO O RESULTADO (classificador, mediametrica, desviometrica, tempomedio, desviotempo e melhor modelo)\n",
    "tabelaResultados.append([classificador, objGS.cv_results_[\"mean_test_score\"][objGS.best_index_], objGS.cv_results_[\"std_test_score\"][objGS.best_index_], objGS.cv_results_['mean_score_time'][objGS.best_index_], objGS.cv_results_['std_score_time'][objGS.best_index_], objGS.best_estimator_])\n",
    "\n",
    "# PRINT\n",
    "clear_output(wait=True)\n",
    "display(tabelaResultados[len(tabelaResultados)-1])"
   ]
  },
  {
   "cell_type": "markdown",
   "metadata": {},
   "source": [
    "### MLP"
   ]
  },
  {
   "cell_type": "code",
   "execution_count": 11,
   "metadata": {},
   "outputs": [
    {
     "data": {
      "text/plain": [
       "['MLP',\n",
       " 0.9543654241730198,\n",
       " 0.004285781294999606,\n",
       " 0.019053077697753905,\n",
       " 0.01100930851737788,\n",
       " MLPClassifier(activation='tanh', hidden_layer_sizes=10,\n",
       "               learning_rate='adaptive')]"
      ]
     },
     "metadata": {},
     "output_type": "display_data"
    }
   ],
   "source": [
    "# NOME DO CLASSIFICADOR (PRA GUARDAR NOS RESULTADOS)\n",
    "classificador = \"MLP\"\n",
    "\n",
    "# PARAMETROS PRA TESTAR NO GRIDSEARCH\n",
    "parametrosGrid = [{\n",
    "    'hidden_layer_sizes': [(), (5), (10)],\n",
    "    'activation': ['tanh', 'relu'],\n",
    "    'solver': ['sgd', 'adam'],\n",
    "    'learning_rate': ['constant', 'adaptive'],\n",
    "    'learning_rate_init': [1e-4, 1e-3, 1e-2]\n",
    "}]\n",
    "\n",
    "# AJUSTANDO O GRIDSEARCH E RODANDO\n",
    "objGS = GridSearchCV(MLPClassifier(), parametrosGrid, verbose=10, cv=qtdFolds, n_jobs=nJobs, scoring=avaliarComBaseEm)\n",
    "objGS.fit(X=data, y=target)\n",
    "\n",
    "# SALVANDO O RESULTADO (classificador, mediametrica, desviometrica, tempomedio, desviotempo e melhor modelo)\n",
    "tabelaResultados.append([classificador, objGS.cv_results_[\"mean_test_score\"][objGS.best_index_], objGS.cv_results_[\"std_test_score\"][objGS.best_index_], objGS.cv_results_['mean_score_time'][objGS.best_index_], objGS.cv_results_['std_score_time'][objGS.best_index_], objGS.best_estimator_])\n",
    "\n",
    "# PRINT\n",
    "clear_output(wait=True)\n",
    "display(tabelaResultados[len(tabelaResultados)-1])"
   ]
  },
  {
   "cell_type": "markdown",
   "metadata": {},
   "source": [
    "### Visualizando e Salvando os Resultados"
   ]
  },
  {
   "cell_type": "code",
   "execution_count": 12,
   "metadata": {},
   "outputs": [
    {
     "data": {
      "text/html": [
       "<div>\n",
       "<style scoped>\n",
       "    .dataframe tbody tr th:only-of-type {\n",
       "        vertical-align: middle;\n",
       "    }\n",
       "\n",
       "    .dataframe tbody tr th {\n",
       "        vertical-align: top;\n",
       "    }\n",
       "\n",
       "    .dataframe thead th {\n",
       "        text-align: right;\n",
       "    }\n",
       "</style>\n",
       "<table border=\"1\" class=\"dataframe\">\n",
       "  <thead>\n",
       "    <tr style=\"text-align: right;\">\n",
       "      <th></th>\n",
       "      <th>classificador</th>\n",
       "      <th>media_f1</th>\n",
       "      <th>desvio_f1</th>\n",
       "      <th>media_tempo</th>\n",
       "      <th>desvio_tempo</th>\n",
       "      <th>melhor_modelo</th>\n",
       "    </tr>\n",
       "  </thead>\n",
       "  <tbody>\n",
       "    <tr>\n",
       "      <th>0</th>\n",
       "      <td>RF</td>\n",
       "      <td>0.953845</td>\n",
       "      <td>0.003856</td>\n",
       "      <td>0.054232</td>\n",
       "      <td>0.003694</td>\n",
       "      <td>(DecisionTreeClassifier(criterion='entropy', m...</td>\n",
       "    </tr>\n",
       "    <tr>\n",
       "      <th>1</th>\n",
       "      <td>LDA</td>\n",
       "      <td>0.881803</td>\n",
       "      <td>0.005880</td>\n",
       "      <td>0.016308</td>\n",
       "      <td>0.005047</td>\n",
       "      <td>LinearDiscriminantAnalysis(tol=1e-05)</td>\n",
       "    </tr>\n",
       "    <tr>\n",
       "      <th>2</th>\n",
       "      <td>QDA</td>\n",
       "      <td>0.923875</td>\n",
       "      <td>0.005535</td>\n",
       "      <td>0.005821</td>\n",
       "      <td>0.003354</td>\n",
       "      <td>QuadraticDiscriminantAnalysis(tol=1e-06)</td>\n",
       "    </tr>\n",
       "    <tr>\n",
       "      <th>3</th>\n",
       "      <td>Perceptron</td>\n",
       "      <td>0.926346</td>\n",
       "      <td>0.010254</td>\n",
       "      <td>0.005130</td>\n",
       "      <td>0.003303</td>\n",
       "      <td>Perceptron(penalty='l1', tol=0.01)</td>\n",
       "    </tr>\n",
       "    <tr>\n",
       "      <th>4</th>\n",
       "      <td>SGD</td>\n",
       "      <td>0.950371</td>\n",
       "      <td>0.004920</td>\n",
       "      <td>0.003364</td>\n",
       "      <td>0.000124</td>\n",
       "      <td>SGDClassifier(alpha=1e-05, penalty='none', tol...</td>\n",
       "    </tr>\n",
       "    <tr>\n",
       "      <th>5</th>\n",
       "      <td>SVM</td>\n",
       "      <td>0.947870</td>\n",
       "      <td>0.004023</td>\n",
       "      <td>0.578789</td>\n",
       "      <td>0.037129</td>\n",
       "      <td>SVC(C=1, decision_function_shape='ovo', kernel...</td>\n",
       "    </tr>\n",
       "    <tr>\n",
       "      <th>6</th>\n",
       "      <td>KNN</td>\n",
       "      <td>0.911449</td>\n",
       "      <td>0.006755</td>\n",
       "      <td>1.201322</td>\n",
       "      <td>0.122772</td>\n",
       "      <td>KNeighborsClassifier(metric='manhattan', n_nei...</td>\n",
       "    </tr>\n",
       "    <tr>\n",
       "      <th>7</th>\n",
       "      <td>MLP</td>\n",
       "      <td>0.954365</td>\n",
       "      <td>0.004286</td>\n",
       "      <td>0.019053</td>\n",
       "      <td>0.011009</td>\n",
       "      <td>MLPClassifier(activation='tanh', hidden_layer_...</td>\n",
       "    </tr>\n",
       "  </tbody>\n",
       "</table>\n",
       "</div>"
      ],
      "text/plain": [
       "  classificador  media_f1  desvio_f1  media_tempo  desvio_tempo  \\\n",
       "0            RF  0.953845   0.003856     0.054232      0.003694   \n",
       "1           LDA  0.881803   0.005880     0.016308      0.005047   \n",
       "2           QDA  0.923875   0.005535     0.005821      0.003354   \n",
       "3    Perceptron  0.926346   0.010254     0.005130      0.003303   \n",
       "4           SGD  0.950371   0.004920     0.003364      0.000124   \n",
       "5           SVM  0.947870   0.004023     0.578789      0.037129   \n",
       "6           KNN  0.911449   0.006755     1.201322      0.122772   \n",
       "7           MLP  0.954365   0.004286     0.019053      0.011009   \n",
       "\n",
       "                                       melhor_modelo  \n",
       "0  (DecisionTreeClassifier(criterion='entropy', m...  \n",
       "1              LinearDiscriminantAnalysis(tol=1e-05)  \n",
       "2           QuadraticDiscriminantAnalysis(tol=1e-06)  \n",
       "3                 Perceptron(penalty='l1', tol=0.01)  \n",
       "4  SGDClassifier(alpha=1e-05, penalty='none', tol...  \n",
       "5  SVC(C=1, decision_function_shape='ovo', kernel...  \n",
       "6  KNeighborsClassifier(metric='manhattan', n_nei...  \n",
       "7  MLPClassifier(activation='tanh', hidden_layer_...  "
      ]
     },
     "execution_count": 12,
     "metadata": {},
     "output_type": "execute_result"
    }
   ],
   "source": [
    "caminhoOndeSalvar   = \"../../Resultados/gridsearch_\" + avaliarComBaseEm + \"_\" + \"_\".join(caminhoCSV.split(\"_\")[1:])\n",
    "dataframeResultados = pd.DataFrame(tabelaResultados, columns=[\"classificador\", \"media_\"+avaliarComBaseEm, \"desvio_\"+avaliarComBaseEm, \"media_tempo\", \"desvio_tempo\", \"melhor_modelo\"])\n",
    "dataframeResultados.to_csv(caminhoOndeSalvar, index=False)\n",
    "dataframeResultados"
   ]
  }
 ],
 "metadata": {
  "kernelspec": {
   "display_name": "Python 3",
   "language": "python",
   "name": "python3"
  },
  "language_info": {
   "codemirror_mode": {
    "name": "ipython",
    "version": 3
   },
   "file_extension": ".py",
   "mimetype": "text/x-python",
   "name": "python",
   "nbconvert_exporter": "python",
   "pygments_lexer": "ipython3",
   "version": "3.6.9"
  }
 },
 "nbformat": 4,
 "nbformat_minor": 4
}
