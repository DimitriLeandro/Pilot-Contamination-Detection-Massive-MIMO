{
 "cells": [
  {
   "cell_type": "markdown",
   "metadata": {},
   "source": [
    "# Gridsearch\n",
    "\n",
    "Vamos usar um dos datasets gerados para fazer um gridsearch com alguns classificadores. \n",
    "\n",
    "O dataset que será utilizado conta com 1 usuário conectado, 256 antenas e 128 símbolos na sequência piloto. \n",
    "\n",
    "Features: snr, E, eta, a1, a2 e a3. Target: se tem ou não contaminação."
   ]
  },
  {
   "cell_type": "markdown",
   "metadata": {},
   "source": [
    "### Importações"
   ]
  },
  {
   "cell_type": "code",
   "execution_count": null,
   "metadata": {},
   "outputs": [],
   "source": [
    "import pandas as pd\n",
    "import numpy as np\n",
    "from IPython.display import display, clear_output\n",
    "from sklearn.utils import shuffle\n",
    "from sklearn.model_selection import GridSearchCV\n",
    "from sklearn.ensemble import RandomForestClassifier\n",
    "from sklearn.discriminant_analysis import LinearDiscriminantAnalysis\n",
    "from sklearn.discriminant_analysis import QuadraticDiscriminantAnalysis\n",
    "from sklearn.neighbors import KNeighborsClassifier\n",
    "from sklearn.svm import SVC\n",
    "from sklearn.linear_model import Perceptron, SGDClassifier\n",
    "from sklearn.neighbors import KNeighborsClassifier\n",
    "from sklearn.neural_network import MLPClassifier"
   ]
  },
  {
   "cell_type": "markdown",
   "metadata": {},
   "source": [
    "### Abrindo o Banco de Dados"
   ]
  },
  {
   "cell_type": "code",
   "execution_count": null,
   "metadata": {},
   "outputs": [],
   "source": [
    "# ABRO O CSV\n",
    "caminhoCSV = \"../../CSV/dataset_1usuarios_256antenas_128simbolos_1599161115.4013596.csv\"\n",
    "datasetCSV = pd.read_csv(caminhoCSV)\n",
    "\n",
    "# SEPARANDO DATA E TARGET E DANDO UM SHUFFLEZINHO\n",
    "data         = datasetCSV[datasetCSV.columns[:-2]].to_numpy()\n",
    "target       = datasetCSV[datasetCSV.columns[-1]].to_numpy()\n",
    "data, target = shuffle(data, target)"
   ]
  },
  {
   "cell_type": "markdown",
   "metadata": {},
   "source": [
    "### Parâmetros Inicias"
   ]
  },
  {
   "cell_type": "code",
   "execution_count": null,
   "metadata": {},
   "outputs": [],
   "source": [
    "# VAMOS FAZER UM KFOLD COM qtdFolds PASTAS\n",
    "qtdFolds = 5\n",
    "\n",
    "# O GRIDSEARCH VAI TENTAR MELHORAR QUAL METRICA?\n",
    "avaliarComBaseEm = 'f1' # outras: 'accuracy', 'f1', ‘precision’... -> https://scikit-learn.org/stable/modules/model_evaluation.html#scoring-parameter\n",
    "\n",
    "# QUANTOS NUCLEOS VAMOS USAR?\n",
    "nJobs = -1\n",
    "\n",
    "# MATRIZ DE RESULTADOS: vou fazer uma tabela pra guardar os resultados, cada linha um classificador. As colunas vão ser: classificador, mediametrica, desviometrica, tempomedio, desviotempo e melhor modelo\n",
    "tabelaResultados = []"
   ]
  },
  {
   "cell_type": "markdown",
   "metadata": {},
   "source": [
    "### Random Forest"
   ]
  },
  {
   "cell_type": "code",
   "execution_count": null,
   "metadata": {},
   "outputs": [],
   "source": [
    "# NOME DO CLASSIFICADOR (PRA GUARDAR NOS RESULTADOS)\n",
    "classificador = \"RF\"\n",
    "\n",
    "# PARAMETROS PRA TESTAR NO GRIDSEARCH\n",
    "parametrosGrid = [{\n",
    "    'n_estimators': [1, 10, 50],\n",
    "    'criterion': ['gini', 'entropy'],\n",
    "    'min_samples_split': [2,4,6],\n",
    "    'min_samples_leaf': [1,2,3],\n",
    "    'max_features': [None, 'sqrt', 'log2']\n",
    "}]\n",
    "\n",
    "# AJUSTANDO O GRIDSEARCH E RODANDO\n",
    "objGS = GridSearchCV(RandomForestClassifier(), parametrosGrid, verbose=10, cv=qtdFolds, n_jobs=nJobs, scoring=avaliarComBaseEm)\n",
    "objGS.fit(X=data, y=target)\n",
    "\n",
    "# SALVANDO O RESULTADO (classificador, mediametrica, desviometrica, tempomedio, desviotempo e melhor modelo)\n",
    "tabelaResultados.append([classificador, objGS.cv_results_[\"mean_test_score\"][objGS.best_index_], objGS.cv_results_[\"std_test_score\"][objGS.best_index_], objGS.cv_results_['mean_score_time'][objGS.best_index_], objGS.cv_results_['std_score_time'][objGS.best_index_], objGS.best_estimator_])\n",
    "\n",
    "# PRINT\n",
    "clear_output(wait=True)\n",
    "display(tabelaResultados[len(tabelaResultados)-1])"
   ]
  },
  {
   "cell_type": "markdown",
   "metadata": {},
   "source": [
    "### LDA"
   ]
  },
  {
   "cell_type": "code",
   "execution_count": null,
   "metadata": {},
   "outputs": [],
   "source": [
    "# NOME DO CLASSIFICADOR (PRA GUARDAR NOS RESULTADOS)\n",
    "classificador = \"LDA\"\n",
    "\n",
    "# PARAMETROS PRA TESTAR NO GRIDSEARCH\n",
    "parametrosGrid = [{\n",
    "    'solver': ['svd', 'lsqr', 'eigen'],\n",
    "    'tol': [1e-5, 1e-4, 1e-3]\n",
    "}]\n",
    "\n",
    "# AJUSTANDO O GRIDSEARCH E RODANDO\n",
    "objGS = GridSearchCV(LinearDiscriminantAnalysis(), parametrosGrid, verbose=10, cv=qtdFolds, n_jobs=nJobs, scoring=avaliarComBaseEm)\n",
    "objGS.fit(X=data, y=target)\n",
    "\n",
    "# SALVANDO O RESULTADO (classificador, mediametrica, desviometrica, tempomedio, desviotempo e melhor modelo)\n",
    "tabelaResultados.append([classificador, objGS.cv_results_[\"mean_test_score\"][objGS.best_index_], objGS.cv_results_[\"std_test_score\"][objGS.best_index_], objGS.cv_results_['mean_score_time'][objGS.best_index_], objGS.cv_results_['std_score_time'][objGS.best_index_], objGS.best_estimator_])\n",
    "\n",
    "# PRINT\n",
    "clear_output(wait=True)\n",
    "display(tabelaResultados[len(tabelaResultados)-1])"
   ]
  },
  {
   "cell_type": "markdown",
   "metadata": {},
   "source": [
    "### QDA"
   ]
  },
  {
   "cell_type": "code",
   "execution_count": null,
   "metadata": {},
   "outputs": [],
   "source": [
    "# NOME DO CLASSIFICADOR (PRA GUARDAR NOS RESULTADOS)\n",
    "classificador = \"QDA\"\n",
    "\n",
    "# PARAMETROS PRA TESTAR NO GRIDSEARCH\n",
    "parametrosGrid = [{\n",
    "    'tol': [1e-6, 1e-5, 1e-4, 1e-3, 1e-2]\n",
    "}]\n",
    "\n",
    "# AJUSTANDO O GRIDSEARCH E RODANDO\n",
    "objGS = GridSearchCV(QuadraticDiscriminantAnalysis(), parametrosGrid, verbose=10, cv=qtdFolds, n_jobs=nJobs, scoring=avaliarComBaseEm)\n",
    "objGS.fit(X=data, y=target)\n",
    "\n",
    "# SALVANDO O RESULTADO (classificador, mediametrica, desviometrica, tempomedio, desviotempo e melhor modelo)\n",
    "tabelaResultados.append([classificador, objGS.cv_results_[\"mean_test_score\"][objGS.best_index_], objGS.cv_results_[\"std_test_score\"][objGS.best_index_], objGS.cv_results_['mean_score_time'][objGS.best_index_], objGS.cv_results_['std_score_time'][objGS.best_index_], objGS.best_estimator_])\n",
    "\n",
    "# PRINT\n",
    "clear_output(wait=True)\n",
    "display(tabelaResultados[len(tabelaResultados)-1])"
   ]
  },
  {
   "cell_type": "markdown",
   "metadata": {},
   "source": [
    "### Perceptron"
   ]
  },
  {
   "cell_type": "code",
   "execution_count": null,
   "metadata": {},
   "outputs": [],
   "source": [
    "# NOME DO CLASSIFICADOR (PRA GUARDAR NOS RESULTADOS)\n",
    "classificador = \"Perceptron\"\n",
    "\n",
    "# PARAMETROS PRA TESTAR NO GRIDSEARCH\n",
    "parametrosGrid = [{\n",
    "    'penalty': ['none', 'l2', 'l1', 'elasticnet'],\n",
    "    'alpha': [0.00001, 0.00001, 0.0001, 0.001, 0.01],\n",
    "    'tol': [0.01, 0.001, 0.0001, 0.00001]\n",
    "}]\n",
    "\n",
    "# AJUSTANDO O GRIDSEARCH E RODANDO\n",
    "objGS = GridSearchCV(Perceptron(), parametrosGrid, verbose=10, cv=qtdFolds, n_jobs=nJobs, scoring=avaliarComBaseEm)\n",
    "objGS.fit(X=data, y=target)\n",
    "\n",
    "# SALVANDO O RESULTADO (classificador, mediametrica, desviometrica, tempomedio, desviotempo e melhor modelo)\n",
    "tabelaResultados.append([classificador, objGS.cv_results_[\"mean_test_score\"][objGS.best_index_], objGS.cv_results_[\"std_test_score\"][objGS.best_index_], objGS.cv_results_['mean_score_time'][objGS.best_index_], objGS.cv_results_['std_score_time'][objGS.best_index_], objGS.best_estimator_])\n",
    "\n",
    "# PRINT\n",
    "clear_output(wait=True)\n",
    "display(tabelaResultados[len(tabelaResultados)-1])"
   ]
  },
  {
   "cell_type": "markdown",
   "metadata": {},
   "source": [
    "### SGD"
   ]
  },
  {
   "cell_type": "code",
   "execution_count": null,
   "metadata": {
    "scrolled": true
   },
   "outputs": [],
   "source": [
    "# NOME DO CLASSIFICADOR (PRA GUARDAR NOS RESULTADOS)\n",
    "classificador = \"SGD\"\n",
    "\n",
    "# PARAMETROS PRA TESTAR NO GRIDSEARCH\n",
    "parametrosGrid = [{\n",
    "    'loss': ['hinge', 'log', 'modified_huber', 'squared_hinge', 'perceptron'],\n",
    "    'penalty': ['none', 'l2', 'l1', 'elasticnet'],\n",
    "    'alpha': [0.00001, 0.0001, 0.001],\n",
    "    'tol': [0.01, 0.001, 0.0001]\n",
    "}]\n",
    "\n",
    "# AJUSTANDO O GRIDSEARCH E RODANDO\n",
    "objGS = GridSearchCV(SGDClassifier(), parametrosGrid, verbose=10, cv=qtdFolds, n_jobs=nJobs, scoring=avaliarComBaseEm)\n",
    "objGS.fit(X=data, y=target)\n",
    "\n",
    "# SALVANDO O RESULTADO (classificador, mediametrica, desviometrica, tempomedio, desviotempo e melhor modelo)\n",
    "tabelaResultados.append([classificador, objGS.cv_results_[\"mean_test_score\"][objGS.best_index_], objGS.cv_results_[\"std_test_score\"][objGS.best_index_], objGS.cv_results_['mean_score_time'][objGS.best_index_], objGS.cv_results_['std_score_time'][objGS.best_index_], objGS.best_estimator_])\n",
    "\n",
    "# PRINT\n",
    "clear_output(wait=True)\n",
    "display(tabelaResultados[len(tabelaResultados)-1])"
   ]
  },
  {
   "cell_type": "markdown",
   "metadata": {},
   "source": [
    "### SVM"
   ]
  },
  {
   "cell_type": "code",
   "execution_count": null,
   "metadata": {},
   "outputs": [],
   "source": [
    "# NOME DO CLASSIFICADOR (PRA GUARDAR NOS RESULTADOS)\n",
    "classificador = \"SVM\"\n",
    "\n",
    "# PARAMETROS PRA TESTAR NO GRIDSEARCH\n",
    "parametrosGrid = [{\n",
    "    'C': [0.01, 0.1, 1],\n",
    "    'kernel': ['linear', 'poly', 'rbf'],\n",
    "    'degree': [3,4,5],\n",
    "    'decision_function_shape': ['ovo', 'ovr']\n",
    "}]\n",
    "\n",
    "# AJUSTANDO O GRIDSEARCH E RODANDO\n",
    "objGS = GridSearchCV(SVC(), parametrosGrid, verbose=10, cv=qtdFolds, n_jobs=nJobs, scoring=avaliarComBaseEm)\n",
    "objGS.fit(X=data, y=target)\n",
    "\n",
    "# SALVANDO O RESULTADO (classificador, mediametrica, desviometrica, tempomedio, desviotempo e melhor modelo)\n",
    "tabelaResultados.append([classificador, objGS.cv_results_[\"mean_test_score\"][objGS.best_index_], objGS.cv_results_[\"std_test_score\"][objGS.best_index_], objGS.cv_results_['mean_score_time'][objGS.best_index_], objGS.cv_results_['std_score_time'][objGS.best_index_], objGS.best_estimator_])\n",
    "\n",
    "# PRINT\n",
    "clear_output(wait=True)\n",
    "display(tabelaResultados[len(tabelaResultados)-1])"
   ]
  },
  {
   "cell_type": "markdown",
   "metadata": {},
   "source": [
    "### KNN"
   ]
  },
  {
   "cell_type": "code",
   "execution_count": null,
   "metadata": {},
   "outputs": [],
   "source": [
    "# NOME DO CLASSIFICADOR (PRA GUARDAR NOS RESULTADOS)\n",
    "classificador = \"KNN\"\n",
    "\n",
    "# PARAMETROS PRA TESTAR NO GRIDSEARCH\n",
    "parametrosGrid = [{\n",
    "    'n_neighbors': [1,3,5,7,9],\n",
    "    'metric': ['euclidean', \n",
    "               'manhattan']\n",
    "}]\n",
    "\n",
    "# AJUSTANDO O GRIDSEARCH E RODANDO\n",
    "objGS = GridSearchCV(KNeighborsClassifier(), parametrosGrid, verbose=10, cv=qtdFolds, n_jobs=nJobs, scoring=avaliarComBaseEm)\n",
    "objGS.fit(X=data, y=target)\n",
    "\n",
    "# SALVANDO O RESULTADO (classificador, mediametrica, desviometrica, tempomedio, desviotempo e melhor modelo)\n",
    "tabelaResultados.append([classificador, objGS.cv_results_[\"mean_test_score\"][objGS.best_index_], objGS.cv_results_[\"std_test_score\"][objGS.best_index_], objGS.cv_results_['mean_score_time'][objGS.best_index_], objGS.cv_results_['std_score_time'][objGS.best_index_], objGS.best_estimator_])\n",
    "\n",
    "# PRINT\n",
    "clear_output(wait=True)\n",
    "display(tabelaResultados[len(tabelaResultados)-1])"
   ]
  },
  {
   "cell_type": "markdown",
   "metadata": {},
   "source": [
    "### MLP"
   ]
  },
  {
   "cell_type": "code",
   "execution_count": null,
   "metadata": {},
   "outputs": [],
   "source": [
    "# NOME DO CLASSIFICADOR (PRA GUARDAR NOS RESULTADOS)\n",
    "classificador = \"MLP\"\n",
    "\n",
    "# PARAMETROS PRA TESTAR NO GRIDSEARCH\n",
    "parametrosGrid = [{\n",
    "    'hidden_layer_sizes': [(), (5), (10)],\n",
    "    'activation': ['tanh', 'relu'],\n",
    "    'solver': ['sgd', 'adam'],\n",
    "    'learning_rate': ['constant', 'adaptive'],\n",
    "    'learning_rate_init': [1e-4, 1e-3, 1e-2]\n",
    "}]\n",
    "\n",
    "# AJUSTANDO O GRIDSEARCH E RODANDO\n",
    "objGS = GridSearchCV(MLPClassifier(), parametrosGrid, verbose=10, cv=qtdFolds, n_jobs=nJobs, scoring=avaliarComBaseEm)\n",
    "objGS.fit(X=data, y=target)\n",
    "\n",
    "# SALVANDO O RESULTADO (classificador, mediametrica, desviometrica, tempomedio, desviotempo e melhor modelo)\n",
    "tabelaResultados.append([classificador, objGS.cv_results_[\"mean_test_score\"][objGS.best_index_], objGS.cv_results_[\"std_test_score\"][objGS.best_index_], objGS.cv_results_['mean_score_time'][objGS.best_index_], objGS.cv_results_['std_score_time'][objGS.best_index_], objGS.best_estimator_])\n",
    "\n",
    "# PRINT\n",
    "clear_output(wait=True)\n",
    "display(tabelaResultados[len(tabelaResultados)-1])"
   ]
  },
  {
   "cell_type": "markdown",
   "metadata": {},
   "source": [
    "### Visualizando e Salvando os Resultados"
   ]
  },
  {
   "cell_type": "code",
   "execution_count": null,
   "metadata": {},
   "outputs": [],
   "source": [
    "caminhoOndeSalvar   = \"../../Resultados/gridsearch_\" + avaliarComBaseEm + \"_\" + \"_\".join(caminhoCSV.split(\"_\")[1:])\n",
    "dataframeResultados = pd.DataFrame(tabelaResultados, columns=[\"classificador\", \"media_\"+avaliarComBaseEm, \"desvio_\"+avaliarComBaseEm, \"media_tempo\", \"desvio_tempo\", \"melhor_modelo\"])\n",
    "dataframeResultados.to_csv(caminhoOndeSalvar, index=False)\n",
    "dataframeResultados"
   ]
  }
 ],
 "metadata": {
  "kernelspec": {
   "display_name": "Python 3",
   "language": "python",
   "name": "python3"
  },
  "language_info": {
   "codemirror_mode": {
    "name": "ipython",
    "version": 3
   },
   "file_extension": ".py",
   "mimetype": "text/x-python",
   "name": "python",
   "nbconvert_exporter": "python",
   "pygments_lexer": "ipython3",
   "version": "3.6.9"
  }
 },
 "nbformat": 4,
 "nbformat_minor": 4
}
