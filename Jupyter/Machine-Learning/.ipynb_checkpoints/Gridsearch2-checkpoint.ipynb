{
 "cells": [
  {
   "cell_type": "markdown",
   "metadata": {},
   "source": [
    "# Gridsearch\n",
    "\n",
    "Vamos usar um dos datasets gerados para fazer um gridsearch com alguns classificadores. \n",
    "\n",
    "O dataset que será utilizado conta com 1 usuário conectado, 256 antenas e 128 símbolos na sequência piloto. \n",
    "\n",
    "Features: snr, E, eta, a1, a2 e a3. Target: se tem ou não contaminação."
   ]
  },
  {
   "cell_type": "markdown",
   "metadata": {},
   "source": [
    "### Importações"
   ]
  },
  {
   "cell_type": "code",
   "execution_count": 13,
   "metadata": {},
   "outputs": [],
   "source": [
    "import pandas as pd\n",
    "import numpy as np\n",
    "from IPython.display import display, clear_output\n",
    "from sklearn.utils import shuffle\n",
    "from sklearn.model_selection import GridSearchCV\n",
    "from sklearn.ensemble import RandomForestClassifier\n",
    "from sklearn.discriminant_analysis import LinearDiscriminantAnalysis\n",
    "from sklearn.discriminant_analysis import QuadraticDiscriminantAnalysis\n",
    "from sklearn.neighbors import KNeighborsClassifier\n",
    "from sklearn.svm import SVC\n",
    "from sklearn.linear_model import Perceptron, SGDClassifier\n",
    "from sklearn.neighbors import KNeighborsClassifier\n",
    "from sklearn.neural_network import MLPClassifier"
   ]
  },
  {
   "cell_type": "markdown",
   "metadata": {},
   "source": [
    "### Abrindo o Banco de Dados"
   ]
  },
  {
   "cell_type": "code",
   "execution_count": 14,
   "metadata": {},
   "outputs": [],
   "source": [
    "# ABRO O CSV\n",
    "caminhoCSV = \"../../CSV/dataset_1usuarios_256antenas_128simbolos_1599161115.4013596.csv\"\n",
    "datasetCSV = pd.read_csv(caminhoCSV)\n",
    "\n",
    "# SEPARANDO DATA E TARGET E DANDO UM SHUFFLEZINHO\n",
    "data         = datasetCSV[datasetCSV.columns[:-2]].to_numpy()\n",
    "target       = datasetCSV[datasetCSV.columns[-1]].to_numpy()\n",
    "data, target = shuffle(data, target)"
   ]
  },
  {
   "cell_type": "markdown",
   "metadata": {},
   "source": [
    "### Parâmetros Inicias"
   ]
  },
  {
   "cell_type": "code",
   "execution_count": 15,
   "metadata": {},
   "outputs": [],
   "source": [
    "# VAMOS FAZER UM KFOLD COM qtdFolds PASTAS\n",
    "qtdFolds = 5\n",
    "\n",
    "# O GRIDSEARCH VAI TENTAR MELHORAR QUAL METRICA?\n",
    "avaliarComBaseEm = 'f1' # outras: 'accuracy', 'f1', ‘precision’... -> https://scikit-learn.org/stable/modules/model_evaluation.html#scoring-parameter\n",
    "\n",
    "# QUANTOS NUCLEOS VAMOS USAR?\n",
    "nJobs = -1\n",
    "\n",
    "# MATRIZ DE RESULTADOS: vou fazer uma tabela pra guardar os resultados, cada linha um classificador. As colunas vão ser: classificador, mediametrica, desviometrica, tempomedio, desviotempo e melhor modelo\n",
    "tabelaResultados = []"
   ]
  },
  {
   "cell_type": "markdown",
   "metadata": {},
   "source": [
    "### Random Forest"
   ]
  },
  {
   "cell_type": "code",
   "execution_count": 16,
   "metadata": {},
   "outputs": [
    {
     "data": {
      "text/plain": [
       "['RF',\n",
       " 0.9997058996387151,\n",
       " 0.00018601634421410777,\n",
       " 0.025356292724609375,\n",
       " 0.008985463488689616,\n",
       " RandomForestClassifier(criterion='entropy', max_features='sqrt',\n",
       "                        min_samples_leaf=2, min_samples_split=6,\n",
       "                        n_estimators=10)]"
      ]
     },
     "metadata": {},
     "output_type": "display_data"
    }
   ],
   "source": [
    "# NOME DO CLASSIFICADOR (PRA GUARDAR NOS RESULTADOS)\n",
    "classificador = \"RF\"\n",
    "\n",
    "# PARAMETROS PRA TESTAR NO GRIDSEARCH\n",
    "parametrosGrid = [{\n",
    "    'n_estimators': [1, 10, 50],\n",
    "    'criterion': ['gini', 'entropy'],\n",
    "    'min_samples_split': [2,4,6],\n",
    "    'min_samples_leaf': [1,2,3],\n",
    "    'max_features': [None, 'sqrt', 'log2']\n",
    "}]\n",
    "\n",
    "# AJUSTANDO O GRIDSEARCH E RODANDO\n",
    "objGS = GridSearchCV(RandomForestClassifier(), parametrosGrid, verbose=10, cv=qtdFolds, n_jobs=nJobs, scoring=avaliarComBaseEm)\n",
    "objGS.fit(X=data, y=target)\n",
    "\n",
    "# SALVANDO O RESULTADO (classificador, mediametrica, desviometrica, tempomedio, desviotempo e melhor modelo)\n",
    "tabelaResultados.append([classificador, objGS.cv_results_[\"mean_test_score\"][objGS.best_index_], objGS.cv_results_[\"std_test_score\"][objGS.best_index_], objGS.cv_results_['mean_score_time'][objGS.best_index_], objGS.cv_results_['std_score_time'][objGS.best_index_], objGS.best_estimator_])\n",
    "\n",
    "# PRINT\n",
    "clear_output(wait=True)\n",
    "display(tabelaResultados[len(tabelaResultados)-1])"
   ]
  },
  {
   "cell_type": "markdown",
   "metadata": {},
   "source": [
    "### LDA"
   ]
  },
  {
   "cell_type": "code",
   "execution_count": 17,
   "metadata": {},
   "outputs": [
    {
     "data": {
      "text/plain": [
       "['LDA',\n",
       " 0.8863792813252843,\n",
       " 0.006251316693570915,\n",
       " 0.006610107421875,\n",
       " 0.00403545042922181,\n",
       " LinearDiscriminantAnalysis(tol=1e-05)]"
      ]
     },
     "metadata": {},
     "output_type": "display_data"
    }
   ],
   "source": [
    "# NOME DO CLASSIFICADOR (PRA GUARDAR NOS RESULTADOS)\n",
    "classificador = \"LDA\"\n",
    "\n",
    "# PARAMETROS PRA TESTAR NO GRIDSEARCH\n",
    "parametrosGrid = [{\n",
    "    'solver': ['svd', 'lsqr', 'eigen'],\n",
    "    'tol': [1e-5, 1e-4, 1e-3]\n",
    "}]\n",
    "\n",
    "# AJUSTANDO O GRIDSEARCH E RODANDO\n",
    "objGS = GridSearchCV(LinearDiscriminantAnalysis(), parametrosGrid, verbose=10, cv=qtdFolds, n_jobs=nJobs, scoring=avaliarComBaseEm)\n",
    "objGS.fit(X=data, y=target)\n",
    "\n",
    "# SALVANDO O RESULTADO (classificador, mediametrica, desviometrica, tempomedio, desviotempo e melhor modelo)\n",
    "tabelaResultados.append([classificador, objGS.cv_results_[\"mean_test_score\"][objGS.best_index_], objGS.cv_results_[\"std_test_score\"][objGS.best_index_], objGS.cv_results_['mean_score_time'][objGS.best_index_], objGS.cv_results_['std_score_time'][objGS.best_index_], objGS.best_estimator_])\n",
    "\n",
    "# PRINT\n",
    "clear_output(wait=True)\n",
    "display(tabelaResultados[len(tabelaResultados)-1])"
   ]
  },
  {
   "cell_type": "markdown",
   "metadata": {},
   "source": [
    "### QDA"
   ]
  },
  {
   "cell_type": "code",
   "execution_count": 18,
   "metadata": {},
   "outputs": [
    {
     "data": {
      "text/plain": [
       "['QDA',\n",
       " 0.9951993703558732,\n",
       " 0.0006281418114809642,\n",
       " 0.004860925674438477,\n",
       " 0.00103613994955932,\n",
       " QuadraticDiscriminantAnalysis(tol=1e-06)]"
      ]
     },
     "metadata": {},
     "output_type": "display_data"
    }
   ],
   "source": [
    "# NOME DO CLASSIFICADOR (PRA GUARDAR NOS RESULTADOS)\n",
    "classificador = \"QDA\"\n",
    "\n",
    "# PARAMETROS PRA TESTAR NO GRIDSEARCH\n",
    "parametrosGrid = [{\n",
    "    'tol': [1e-6, 1e-5, 1e-4, 1e-3, 1e-2]\n",
    "}]\n",
    "\n",
    "# AJUSTANDO O GRIDSEARCH E RODANDO\n",
    "objGS = GridSearchCV(QuadraticDiscriminantAnalysis(), parametrosGrid, verbose=10, cv=qtdFolds, n_jobs=nJobs, scoring=avaliarComBaseEm)\n",
    "objGS.fit(X=data, y=target)\n",
    "\n",
    "# SALVANDO O RESULTADO (classificador, mediametrica, desviometrica, tempomedio, desviotempo e melhor modelo)\n",
    "tabelaResultados.append([classificador, objGS.cv_results_[\"mean_test_score\"][objGS.best_index_], objGS.cv_results_[\"std_test_score\"][objGS.best_index_], objGS.cv_results_['mean_score_time'][objGS.best_index_], objGS.cv_results_['std_score_time'][objGS.best_index_], objGS.best_estimator_])\n",
    "\n",
    "# PRINT\n",
    "clear_output(wait=True)\n",
    "display(tabelaResultados[len(tabelaResultados)-1])"
   ]
  },
  {
   "cell_type": "markdown",
   "metadata": {},
   "source": [
    "### Perceptron"
   ]
  },
  {
   "cell_type": "code",
   "execution_count": 19,
   "metadata": {},
   "outputs": [
    {
     "data": {
      "text/plain": [
       "['Perceptron',\n",
       " 0.9825613096545919,\n",
       " 0.012234580377030499,\n",
       " 0.0037003517150878905,\n",
       " 0.0002542203366267998,\n",
       " Perceptron(alpha=0.01, penalty='l1', tol=0.01)]"
      ]
     },
     "metadata": {},
     "output_type": "display_data"
    }
   ],
   "source": [
    "# NOME DO CLASSIFICADOR (PRA GUARDAR NOS RESULTADOS)\n",
    "classificador = \"Perceptron\"\n",
    "\n",
    "# PARAMETROS PRA TESTAR NO GRIDSEARCH\n",
    "parametrosGrid = [{\n",
    "    'penalty': ['none', 'l2', 'l1', 'elasticnet'],\n",
    "    'alpha': [0.00001, 0.00001, 0.0001, 0.001, 0.01],\n",
    "    'tol': [0.01, 0.001, 0.0001, 0.00001]\n",
    "}]\n",
    "\n",
    "# AJUSTANDO O GRIDSEARCH E RODANDO\n",
    "objGS = GridSearchCV(Perceptron(), parametrosGrid, verbose=10, cv=qtdFolds, n_jobs=nJobs, scoring=avaliarComBaseEm)\n",
    "objGS.fit(X=data, y=target)\n",
    "\n",
    "# SALVANDO O RESULTADO (classificador, mediametrica, desviometrica, tempomedio, desviotempo e melhor modelo)\n",
    "tabelaResultados.append([classificador, objGS.cv_results_[\"mean_test_score\"][objGS.best_index_], objGS.cv_results_[\"std_test_score\"][objGS.best_index_], objGS.cv_results_['mean_score_time'][objGS.best_index_], objGS.cv_results_['std_score_time'][objGS.best_index_], objGS.best_estimator_])\n",
    "\n",
    "# PRINT\n",
    "clear_output(wait=True)\n",
    "display(tabelaResultados[len(tabelaResultados)-1])"
   ]
  },
  {
   "cell_type": "markdown",
   "metadata": {},
   "source": [
    "### SGD"
   ]
  },
  {
   "cell_type": "code",
   "execution_count": 20,
   "metadata": {
    "scrolled": true
   },
   "outputs": [
    {
     "data": {
      "text/plain": [
       "['SGD',\n",
       " 0.9997647404640778,\n",
       " 0.00011762978704590335,\n",
       " 0.0035799503326416015,\n",
       " 0.00015856162711215242,\n",
       " SGDClassifier(alpha=1e-05, penalty='elasticnet', tol=0.01)]"
      ]
     },
     "metadata": {},
     "output_type": "display_data"
    }
   ],
   "source": [
    "# NOME DO CLASSIFICADOR (PRA GUARDAR NOS RESULTADOS)\n",
    "classificador = \"SGD\"\n",
    "\n",
    "# PARAMETROS PRA TESTAR NO GRIDSEARCH\n",
    "parametrosGrid = [{\n",
    "    'loss': ['hinge', 'log', 'modified_huber', 'squared_hinge', 'perceptron'],\n",
    "    'penalty': ['none', 'l2', 'l1', 'elasticnet'],\n",
    "    'alpha': [0.00001, 0.0001, 0.001],\n",
    "    'tol': [0.01, 0.001, 0.0001]\n",
    "}]\n",
    "\n",
    "# AJUSTANDO O GRIDSEARCH E RODANDO\n",
    "objGS = GridSearchCV(SGDClassifier(), parametrosGrid, verbose=10, cv=qtdFolds, n_jobs=nJobs, scoring=avaliarComBaseEm)\n",
    "objGS.fit(X=data, y=target)\n",
    "\n",
    "# SALVANDO O RESULTADO (classificador, mediametrica, desviometrica, tempomedio, desviotempo e melhor modelo)\n",
    "tabelaResultados.append([classificador, objGS.cv_results_[\"mean_test_score\"][objGS.best_index_], objGS.cv_results_[\"std_test_score\"][objGS.best_index_], objGS.cv_results_['mean_score_time'][objGS.best_index_], objGS.cv_results_['std_score_time'][objGS.best_index_], objGS.best_estimator_])\n",
    "\n",
    "# PRINT\n",
    "clear_output(wait=True)\n",
    "display(tabelaResultados[len(tabelaResultados)-1])"
   ]
  },
  {
   "cell_type": "markdown",
   "metadata": {},
   "source": [
    "### SVM"
   ]
  },
  {
   "cell_type": "code",
   "execution_count": 21,
   "metadata": {},
   "outputs": [
    {
     "data": {
      "text/plain": [
       "['SVM',\n",
       " 0.9996470588133523,\n",
       " 0.0002200974974195557,\n",
       " 0.010036563873291016,\n",
       " 0.005518806073575035,\n",
       " SVC(C=0.01, decision_function_shape='ovo', kernel='linear')]"
      ]
     },
     "metadata": {},
     "output_type": "display_data"
    }
   ],
   "source": [
    "# NOME DO CLASSIFICADOR (PRA GUARDAR NOS RESULTADOS)\n",
    "classificador = \"SVM\"\n",
    "\n",
    "# PARAMETROS PRA TESTAR NO GRIDSEARCH\n",
    "parametrosGrid = [{\n",
    "    'C': [0.01, 0.1, 1],\n",
    "    'kernel': ['linear', 'poly', 'rbf'],\n",
    "    'degree': [3,4,5],\n",
    "    'decision_function_shape': ['ovo', 'ovr']\n",
    "}]\n",
    "\n",
    "# AJUSTANDO O GRIDSEARCH E RODANDO\n",
    "objGS = GridSearchCV(SVC(), parametrosGrid, verbose=10, cv=qtdFolds, n_jobs=nJobs, scoring=avaliarComBaseEm)\n",
    "objGS.fit(X=data, y=target)\n",
    "\n",
    "# SALVANDO O RESULTADO (classificador, mediametrica, desviometrica, tempomedio, desviotempo e melhor modelo)\n",
    "tabelaResultados.append([classificador, objGS.cv_results_[\"mean_test_score\"][objGS.best_index_], objGS.cv_results_[\"std_test_score\"][objGS.best_index_], objGS.cv_results_['mean_score_time'][objGS.best_index_], objGS.cv_results_['std_score_time'][objGS.best_index_], objGS.best_estimator_])\n",
    "\n",
    "# PRINT\n",
    "clear_output(wait=True)\n",
    "display(tabelaResultados[len(tabelaResultados)-1])"
   ]
  },
  {
   "cell_type": "markdown",
   "metadata": {},
   "source": [
    "### KNN"
   ]
  },
  {
   "cell_type": "code",
   "execution_count": 22,
   "metadata": {},
   "outputs": [
    {
     "data": {
      "text/plain": [
       "['KNN',\n",
       " 0.9997058650366359,\n",
       " 0.0001860163442160009,\n",
       " 0.5762840747833252,\n",
       " 0.09464412692167021,\n",
       " KNeighborsClassifier(metric='euclidean', n_neighbors=7)]"
      ]
     },
     "metadata": {},
     "output_type": "display_data"
    }
   ],
   "source": [
    "# NOME DO CLASSIFICADOR (PRA GUARDAR NOS RESULTADOS)\n",
    "classificador = \"KNN\"\n",
    "\n",
    "# PARAMETROS PRA TESTAR NO GRIDSEARCH\n",
    "parametrosGrid = [{\n",
    "    'n_neighbors': [1,3,5,7,9],\n",
    "    'metric': ['euclidean', \n",
    "               'manhattan']\n",
    "}]\n",
    "\n",
    "# AJUSTANDO O GRIDSEARCH E RODANDO\n",
    "objGS = GridSearchCV(KNeighborsClassifier(), parametrosGrid, verbose=10, cv=qtdFolds, n_jobs=nJobs, scoring=avaliarComBaseEm)\n",
    "objGS.fit(X=data, y=target)\n",
    "\n",
    "# SALVANDO O RESULTADO (classificador, mediametrica, desviometrica, tempomedio, desviotempo e melhor modelo)\n",
    "tabelaResultados.append([classificador, objGS.cv_results_[\"mean_test_score\"][objGS.best_index_], objGS.cv_results_[\"std_test_score\"][objGS.best_index_], objGS.cv_results_['mean_score_time'][objGS.best_index_], objGS.cv_results_['std_score_time'][objGS.best_index_], objGS.best_estimator_])\n",
    "\n",
    "# PRINT\n",
    "clear_output(wait=True)\n",
    "display(tabelaResultados[len(tabelaResultados)-1])"
   ]
  },
  {
   "cell_type": "markdown",
   "metadata": {},
   "source": [
    "### MLP"
   ]
  },
  {
   "cell_type": "code",
   "execution_count": 23,
   "metadata": {},
   "outputs": [
    {
     "data": {
      "text/plain": [
       "['MLP',\n",
       " 0.9995293078668388,\n",
       " 0.00014424313000843998,\n",
       " 0.0024194717407226562,\n",
       " 0.00010260190574243081,\n",
       " MLPClassifier(hidden_layer_sizes=10, learning_rate='adaptive')]"
      ]
     },
     "metadata": {},
     "output_type": "display_data"
    }
   ],
   "source": [
    "# NOME DO CLASSIFICADOR (PRA GUARDAR NOS RESULTADOS)\n",
    "classificador = \"MLP\"\n",
    "\n",
    "# PARAMETROS PRA TESTAR NO GRIDSEARCH\n",
    "parametrosGrid = [{\n",
    "    'hidden_layer_sizes': [(), (5), (10)],\n",
    "    'activation': ['tanh', 'relu'],\n",
    "    'solver': ['sgd', 'adam'],\n",
    "    'learning_rate': ['constant', 'adaptive'],\n",
    "    'learning_rate_init': [1e-4, 1e-3, 1e-2]\n",
    "}]\n",
    "\n",
    "# AJUSTANDO O GRIDSEARCH E RODANDO\n",
    "objGS = GridSearchCV(MLPClassifier(), parametrosGrid, verbose=10, cv=qtdFolds, n_jobs=nJobs, scoring=avaliarComBaseEm)\n",
    "objGS.fit(X=data, y=target)\n",
    "\n",
    "# SALVANDO O RESULTADO (classificador, mediametrica, desviometrica, tempomedio, desviotempo e melhor modelo)\n",
    "tabelaResultados.append([classificador, objGS.cv_results_[\"mean_test_score\"][objGS.best_index_], objGS.cv_results_[\"std_test_score\"][objGS.best_index_], objGS.cv_results_['mean_score_time'][objGS.best_index_], objGS.cv_results_['std_score_time'][objGS.best_index_], objGS.best_estimator_])\n",
    "\n",
    "# PRINT\n",
    "clear_output(wait=True)\n",
    "display(tabelaResultados[len(tabelaResultados)-1])"
   ]
  },
  {
   "cell_type": "markdown",
   "metadata": {},
   "source": [
    "### Visualizando e Salvando os Resultados"
   ]
  },
  {
   "cell_type": "code",
   "execution_count": 24,
   "metadata": {},
   "outputs": [
    {
     "data": {
      "text/html": [
       "<div>\n",
       "<style scoped>\n",
       "    .dataframe tbody tr th:only-of-type {\n",
       "        vertical-align: middle;\n",
       "    }\n",
       "\n",
       "    .dataframe tbody tr th {\n",
       "        vertical-align: top;\n",
       "    }\n",
       "\n",
       "    .dataframe thead th {\n",
       "        text-align: right;\n",
       "    }\n",
       "</style>\n",
       "<table border=\"1\" class=\"dataframe\">\n",
       "  <thead>\n",
       "    <tr style=\"text-align: right;\">\n",
       "      <th></th>\n",
       "      <th>classificador</th>\n",
       "      <th>media_f1</th>\n",
       "      <th>desvio_f1</th>\n",
       "      <th>media_tempo</th>\n",
       "      <th>desvio_tempo</th>\n",
       "      <th>melhor_modelo</th>\n",
       "    </tr>\n",
       "  </thead>\n",
       "  <tbody>\n",
       "    <tr>\n",
       "      <th>0</th>\n",
       "      <td>RF</td>\n",
       "      <td>0.999706</td>\n",
       "      <td>0.000186</td>\n",
       "      <td>0.025356</td>\n",
       "      <td>0.008985</td>\n",
       "      <td>(DecisionTreeClassifier(criterion='entropy', m...</td>\n",
       "    </tr>\n",
       "    <tr>\n",
       "      <th>1</th>\n",
       "      <td>LDA</td>\n",
       "      <td>0.886379</td>\n",
       "      <td>0.006251</td>\n",
       "      <td>0.006610</td>\n",
       "      <td>0.004035</td>\n",
       "      <td>LinearDiscriminantAnalysis(tol=1e-05)</td>\n",
       "    </tr>\n",
       "    <tr>\n",
       "      <th>2</th>\n",
       "      <td>QDA</td>\n",
       "      <td>0.995199</td>\n",
       "      <td>0.000628</td>\n",
       "      <td>0.004861</td>\n",
       "      <td>0.001036</td>\n",
       "      <td>QuadraticDiscriminantAnalysis(tol=1e-06)</td>\n",
       "    </tr>\n",
       "    <tr>\n",
       "      <th>3</th>\n",
       "      <td>Perceptron</td>\n",
       "      <td>0.982561</td>\n",
       "      <td>0.012235</td>\n",
       "      <td>0.003700</td>\n",
       "      <td>0.000254</td>\n",
       "      <td>Perceptron(alpha=0.01, penalty='l1', tol=0.01)</td>\n",
       "    </tr>\n",
       "    <tr>\n",
       "      <th>4</th>\n",
       "      <td>SGD</td>\n",
       "      <td>0.999765</td>\n",
       "      <td>0.000118</td>\n",
       "      <td>0.003580</td>\n",
       "      <td>0.000159</td>\n",
       "      <td>SGDClassifier(alpha=1e-05, penalty='elasticnet...</td>\n",
       "    </tr>\n",
       "    <tr>\n",
       "      <th>5</th>\n",
       "      <td>SVM</td>\n",
       "      <td>0.999647</td>\n",
       "      <td>0.000220</td>\n",
       "      <td>0.010037</td>\n",
       "      <td>0.005519</td>\n",
       "      <td>SVC(C=0.01, decision_function_shape='ovo', ker...</td>\n",
       "    </tr>\n",
       "    <tr>\n",
       "      <th>6</th>\n",
       "      <td>KNN</td>\n",
       "      <td>0.999706</td>\n",
       "      <td>0.000186</td>\n",
       "      <td>0.576284</td>\n",
       "      <td>0.094644</td>\n",
       "      <td>KNeighborsClassifier(metric='euclidean', n_nei...</td>\n",
       "    </tr>\n",
       "    <tr>\n",
       "      <th>7</th>\n",
       "      <td>MLP</td>\n",
       "      <td>0.999529</td>\n",
       "      <td>0.000144</td>\n",
       "      <td>0.002419</td>\n",
       "      <td>0.000103</td>\n",
       "      <td>MLPClassifier(hidden_layer_sizes=10, learning_...</td>\n",
       "    </tr>\n",
       "  </tbody>\n",
       "</table>\n",
       "</div>"
      ],
      "text/plain": [
       "  classificador  media_f1  desvio_f1  media_tempo  desvio_tempo  \\\n",
       "0            RF  0.999706   0.000186     0.025356      0.008985   \n",
       "1           LDA  0.886379   0.006251     0.006610      0.004035   \n",
       "2           QDA  0.995199   0.000628     0.004861      0.001036   \n",
       "3    Perceptron  0.982561   0.012235     0.003700      0.000254   \n",
       "4           SGD  0.999765   0.000118     0.003580      0.000159   \n",
       "5           SVM  0.999647   0.000220     0.010037      0.005519   \n",
       "6           KNN  0.999706   0.000186     0.576284      0.094644   \n",
       "7           MLP  0.999529   0.000144     0.002419      0.000103   \n",
       "\n",
       "                                       melhor_modelo  \n",
       "0  (DecisionTreeClassifier(criterion='entropy', m...  \n",
       "1              LinearDiscriminantAnalysis(tol=1e-05)  \n",
       "2           QuadraticDiscriminantAnalysis(tol=1e-06)  \n",
       "3     Perceptron(alpha=0.01, penalty='l1', tol=0.01)  \n",
       "4  SGDClassifier(alpha=1e-05, penalty='elasticnet...  \n",
       "5  SVC(C=0.01, decision_function_shape='ovo', ker...  \n",
       "6  KNeighborsClassifier(metric='euclidean', n_nei...  \n",
       "7  MLPClassifier(hidden_layer_sizes=10, learning_...  "
      ]
     },
     "execution_count": 24,
     "metadata": {},
     "output_type": "execute_result"
    }
   ],
   "source": [
    "caminhoOndeSalvar   = \"../../Resultados/gridsearch_\" + avaliarComBaseEm + \"_\" + \"_\".join(caminhoCSV.split(\"_\")[1:])\n",
    "dataframeResultados = pd.DataFrame(tabelaResultados, columns=[\"classificador\", \"media_\"+avaliarComBaseEm, \"desvio_\"+avaliarComBaseEm, \"media_tempo\", \"desvio_tempo\", \"melhor_modelo\"])\n",
    "dataframeResultados.to_csv(caminhoOndeSalvar, index=False)\n",
    "dataframeResultados"
   ]
  }
 ],
 "metadata": {
  "kernelspec": {
   "display_name": "Python 3",
   "language": "python",
   "name": "python3"
  },
  "language_info": {
   "codemirror_mode": {
    "name": "ipython",
    "version": 3
   },
   "file_extension": ".py",
   "mimetype": "text/x-python",
   "name": "python",
   "nbconvert_exporter": "python",
   "pygments_lexer": "ipython3",
   "version": "3.6.9"
  }
 },
 "nbformat": 4,
 "nbformat_minor": 4
}
