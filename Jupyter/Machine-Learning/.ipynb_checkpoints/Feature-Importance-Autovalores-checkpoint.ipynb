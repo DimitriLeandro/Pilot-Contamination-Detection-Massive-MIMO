{
 "cells": [
  {
   "cell_type": "markdown",
   "metadata": {},
   "source": [
    "# Feature Importance dos Autovalores do Kapetanovic\n",
    "\n",
    "Nesse jupyter, o objeitivo é verificar quantos autovalores daquela mariz R a gnt pode usar pra fazer a detecção com machine learning. Nós começamos fazendo a razão entre o maior e o segundo maior autovalor. Depois, passamos de uma feature (razão) para duas (os dois maiores autovalores em si, sem fazer a razão). A detecção melhorou! Pois bem, então vamos usar mais autovalores né? Coloca o terceiro maior ai como feature então. Beleza, parece que melhorou mais um tótózinho. Então decidimos extrair TODOS os autovalores daquela matriz, e agora vamos ver até qual a gnt vai usar.\n",
    "\n",
    "O dataset que a gnt vai usar pra verificar isso é composto por 256 antenas, 128 símbolos e 1 usuário conectado. SNR de -10 até 30 dB, passo 1. Potência do espião indo de 0 até 2.5, passo 0.5. Cada cenário tem repetibilidade 100. Como temos 128 símbolos, então são 128 autovalores na matriz R, logo, temos 128 + 3 features (autovalores + snr + E + eta). O E e o eta do Hassan vão ficar por ai msm pq a gnt já ta ligado que elas são as melhores features."
   ]
  },
  {
   "cell_type": "code",
   "execution_count": null,
   "metadata": {},
   "outputs": [],
   "source": [
    "import pandas as pd\n",
    "import numpy as np\n",
    "import matplotlib.pyplot as plt\n",
    "import os\n",
    "from time import sleep, time\n",
    "from sklearn.tree import DecisionTreeClassifier\n",
    "from sklearn.ensemble import RandomForestClassifier\n",
    "from sklearn.metrics import accuracy_score\n",
    "from sklearn.model_selection import KFold\n",
    "from sklearn.utils import shuffle"
   ]
  },
  {
   "cell_type": "code",
   "execution_count": null,
   "metadata": {},
   "outputs": [],
   "source": [
    "# SO COMECA QUANDO O ALGORITMO DE GERAR OS DATASET TERMINAR\n",
    "while os.path.isfile(\"../../CSV/dataset_256usuarios_256antenas_128simbolos_autovalores_completos.csv\") == False:\n",
    "    sleep(1 * 60)"
   ]
  },
  {
   "cell_type": "code",
   "execution_count": null,
   "metadata": {},
   "outputs": [],
   "source": [
    "#DEFININDO ALGUNS PARÂMETROS DO GRÁFICO\n",
    "%matplotlib inline\n",
    "%config InlineBackend.figure_format = 'svg'\n",
    "params = {\n",
    "    'figure.figsize': [10, 5], \n",
    "    'axes.labelsize': 18,\n",
    "    'axes.titlesize':20, \n",
    "    'font.size': 18,\n",
    "    'legend.fontsize': 14, \n",
    "    'xtick.labelsize': 12, \n",
    "    'ytick.labelsize': 12,\n",
    "    'axes.axisbelow': True\n",
    "}\n",
    "plt.rcParams.update(params)"
   ]
  },
  {
   "cell_type": "markdown",
   "metadata": {},
   "source": [
    "## Definição de Funções"
   ]
  },
  {
   "cell_type": "code",
   "execution_count": null,
   "metadata": {},
   "outputs": [],
   "source": [
    "def treinarEClassificar(xTrain, xTest, yTrain, yTest, classificador):\n",
    "    \n",
    "    # INSTANCIANDO O CLASSIFICADOR\n",
    "    objClassificador = eval(classificador)\n",
    "    \n",
    "    # TREINANDO\n",
    "    objClassificador.fit(xTrain, yTrain)\n",
    "    \n",
    "    # PREDIZENDO\n",
    "    yPred = objClassificador.predict(xTest)\n",
    "    \n",
    "    # RETORNANDO A ACURACIA\n",
    "    return accuracy_score(yTest, yPred)"
   ]
  },
  {
   "cell_type": "code",
   "execution_count": null,
   "metadata": {},
   "outputs": [],
   "source": [
    "def salvarResultado(arquivoSalvar, nomeDataset, arrayAcuraciaMedia, arrayDesvioPadrao):\n",
    "    objFile = open(arquivoSalvar, \"a\")\n",
    "    objFile.write(\"Dataset: \" + nomeDataset)\n",
    "    objFile.write(\"\\narrayAcuraciaMediaCadaQtdAutovaloresIgnorados = \" + str(arrayAcuraciaMedia))\n",
    "    objFile.write(\"\\narrayDesvioPadraoAcuraciaCadaQtdAutovaloresIgnorados = \" + str(arrayDesvioPadrao) + \"\\n\\n\")\n",
    "    objFile.close()"
   ]
  },
  {
   "cell_type": "markdown",
   "metadata": {},
   "source": [
    "## Parâmetros Iniciais"
   ]
  },
  {
   "cell_type": "code",
   "execution_count": null,
   "metadata": {},
   "outputs": [],
   "source": [
    "# TEMOS DATASETES COM QUAIS QTDs DE USUARIOS?\n",
    "rangeQtdUsuarios = [1,2,4,8,16,32,64,128,256]\n",
    "\n",
    "# CLASSIFICADOR PRA USAR NA AVALIACAO\n",
    "classificador = \"RandomForestClassifier(n_estimators=10, n_jobs=-1)\"\n",
    "\n",
    "# QTD DE ITERACOES DO K FOLD    \n",
    "qtdFoders=5\n",
    "\n",
    "# ARQUIVO DE SALVAR OS RESULTADOS\n",
    "arquivoSalvar = \"../../Resultados/featureImportanceAutovalores\"+str(time())+\".txt\""
   ]
  },
  {
   "cell_type": "markdown",
   "metadata": {},
   "source": [
    "## Feature Importance"
   ]
  },
  {
   "cell_type": "code",
   "execution_count": null,
   "metadata": {},
   "outputs": [],
   "source": [
    "for qtdUsuariosAtual in rangeQtdUsuarios:\n",
    "    \n",
    "    # ABRINDO\n",
    "    caminhoCSV = \"../../CSV/dataset_\" + str(qtdUsuariosAtual) + \"usuarios_256antenas_128simbolos_autovalores_completos.csv\"\n",
    "    dataframe = pd.read_csv(caminhoCSV)  \n",
    "\n",
    "    # SEPARANDO DATA, TARGET E FEATURES\n",
    "    data    = dataframe.iloc[:, 0:-2].to_numpy()\n",
    "    target  = dataframe.iloc[:, -1].to_numpy()\n",
    "    colunas = list(dataframe.columns[:-2])\n",
    "\n",
    "    # OBTENDO O VETOR DE IMPORTANCIA DAS FEATURES\n",
    "    objDT = DecisionTreeClassifier()\n",
    "    objDT.fit(data, target)\n",
    "    arrayImportancias = objDT.feature_importances_\n",
    "\n",
    "    # ORDENANDO DA MENOS IMPORTANTE PRA MAIS IMPORTANTE\n",
    "    arrayImportancias, colunasOrdenadas = zip(*sorted(zip(arrayImportancias, colunas)))\n",
    "\n",
    "    # PLOTANDO AS limite PRIMEIRAS\n",
    "    limite = 10\n",
    "    plt.bar(np.flip(colunasOrdenadas)[:limite], np.flip(arrayImportancias)[:limite])\n",
    "    plt.title(\"Feature Importance - Usuários: \"+str(qtdUsuariosAtual))\n",
    "    plt.yscale(\"log\")\n",
    "    plt.xticks(rotation=45)\n",
    "    plt.grid(alpha=0.5)\n",
    "    plt.show()"
   ]
  },
  {
   "cell_type": "markdown",
   "metadata": {},
   "source": [
    "## Abandonando os autovalores um por um"
   ]
  },
  {
   "cell_type": "code",
   "execution_count": null,
   "metadata": {},
   "outputs": [],
   "source": [
    "# MATRIZES QUE VAO GUARDAR OS ARRAYS DE ACURACIA MEDIA E DESVIO DE CADA QTD DE USUARIOS\n",
    "matrizAcuraciasMediasCadaQtdUsuarios = []\n",
    "matrizDesviosCadaQtdUsuarios         = []\n",
    "\n",
    "# CADA QTD DE USUARIOS\n",
    "for qtdUsuariosAtual in rangeQtdUsuarios:\n",
    "    \n",
    "    # ABRINDO\n",
    "    caminhoCSV = \"../../CSV/dataset_\" + str(qtdUsuariosAtual) + \"usuarios_256antenas_128simbolos_autovalores_completos.csv\"\n",
    "    dataframe = pd.read_csv(caminhoCSV)  \n",
    "\n",
    "    # SEPARANDO DATA, TARGET E FEATURES\n",
    "    data    = dataframe.iloc[:, 0:-2].to_numpy()\n",
    "    target  = dataframe.iloc[:, -1].to_numpy()\n",
    "    colunas = list(dataframe.columns[:-2])\n",
    "    \n",
    "#     # REDUZINDO O DATASET PARA TESTES\n",
    "#     data, target = shuffle(data, target)\n",
    "#     data   = data[:int(len(data)/100)] \n",
    "#     target = target[:int(len(target)/100)]\n",
    "    \n",
    "    # CRIANDO OS ARRAYS DE ACURACIA MEDIA E DESVIO QUE VAO GUARDAR EM CADA POSICAO O RESULTADO PARA A QTD DE AUTOVALORES IGNORADOS\n",
    "    arrayAcuraciaMedia = []\n",
    "    arrayDesvioPadrao  = []\n",
    "    \n",
    "    # DROPANDO UMA POR UMA DE CADA VEZ\n",
    "    print(\"Usuários: \"+str(qtdUsuariosAtual), end=\" - Qtd features ignoradas: \")\n",
    "    for i in range(1, len(colunas) - 2):\n",
    "        \n",
    "        # REDUZINDO A QTD DE FEATURES, DROPANDO COLUNA POR COLUNA\n",
    "        data = np.delete(data, len(data[0])-1, axis=1)\n",
    "        print(data.shape[1], end=\" \")\n",
    "        \n",
    "        # ARRAY PRA GUARDAR AS ACURACIAS DOS KFOLDS DESSA QTD DE FEATURES\n",
    "        acuraciasQtdFeaturesAtual = []\n",
    "    \n",
    "        # FAZENDO UM KFOLD\n",
    "        objKFold = KFold(n_splits=qtdFoders, shuffle=True)\n",
    "        for trainIndex, testIndex in objKFold.split(data):\n",
    "            \n",
    "            # SEPARANDO TREINAMENTO E TESTE\n",
    "            xTrain, xTest, yTrain, yTest = data[trainIndex], data[testIndex], target[trainIndex], target[testIndex]\n",
    "            \n",
    "            # OBTENDO A ACURACIA DA ITERACAO ATUAL DO K FOLD\n",
    "            acuraciasQtdFeaturesAtual.append(treinarEClassificar(xTrain, xTest, yTrain, yTest, classificador))\n",
    "            \n",
    "        # AGORA QUE TERMINOU O KFOLD PARA A QTD DE AUTOVALORES IGNORADOS DESSA ITERACAO, VOU GUARDAR A MEDIA E O DESVIO DA ACURACIA\n",
    "        arrayAcuraciaMedia.append(np.mean(acuraciasQtdFeaturesAtual))\n",
    "        arrayDesvioPadrao.append(np.std(acuraciasQtdFeaturesAtual))\n",
    "        \n",
    "    # COLOCANDO NA MATRIZ PRA PLOTAR DEPOIS E SALVANDO O RESULTADO\n",
    "    salvarResultado(arquivoSalvar, caminhoCSV, arrayAcuraciaMedia, arrayDesvioPadrao)\n",
    "    matrizAcuraciasMediasCadaQtdUsuarios.append(arrayAcuraciaMedia)\n",
    "    matrizDesviosCadaQtdUsuarios.append(arrayDesvioPadrao)"
   ]
  },
  {
   "cell_type": "markdown",
   "metadata": {},
   "source": [
    "#### Printando"
   ]
  },
  {
   "cell_type": "code",
   "execution_count": null,
   "metadata": {},
   "outputs": [],
   "source": [
    "for i, qtdUsuariosAtual in enumerate(rangeQtdUsuarios):\n",
    "    \n",
    "    arrayAcuraciaMedia = matrizAcuraciasMediasCadaQtdUsuarios[i]\n",
    "    arrayDesvioPadrao  = matrizDesviosCadaQtdUsuarios[i]\n",
    "    \n",
    "    plt.errorbar(x=np.arange(1,len(arrayAcuraciaMedia)+1), y=arrayAcuraciaMedia, yerr=arrayDesvioPadrao)\n",
    "    plt.title(\"Usuários: \"+str(qtdUsuariosAtual))\n",
    "    plt.xlabel(\"Qtd de autovalores ignorados\")\n",
    "    plt.ylabel(\"Acurácia\")\n",
    "    plt.xlim(0,129)\n",
    "    plt.ylim(0.999*(min(arrayAcuraciaMedia)-max(arrayDesvioPadrao)),1.001*(max(arrayAcuraciaMedia)+max(arrayDesvioPadrao)))\n",
    "    plt.grid(alpha=0.5)\n",
    "    plt.show()"
   ]
  },
  {
   "cell_type": "code",
   "execution_count": null,
   "metadata": {},
   "outputs": [],
   "source": []
  }
 ],
 "metadata": {
  "kernelspec": {
   "display_name": "Python 3",
   "language": "python",
   "name": "python3"
  },
  "language_info": {
   "codemirror_mode": {
    "name": "ipython",
    "version": 3
   },
   "file_extension": ".py",
   "mimetype": "text/x-python",
   "name": "python",
   "nbconvert_exporter": "python",
   "pygments_lexer": "ipython3",
   "version": "3.6.9"
  }
 },
 "nbformat": 4,
 "nbformat_minor": 4
}
