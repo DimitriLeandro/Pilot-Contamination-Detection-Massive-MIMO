{
 "cells": [
  {
   "cell_type": "markdown",
   "metadata": {},
   "source": [
    "# Comparação Probabilidade de Detecção\n",
    "\n",
    "No jupyter anterior, a ideia foi mostrar o comecinho de até onde o ML pode chegar. Aqui a ideia vai ser comparar o desempenho do ML com os algoritmos originais."
   ]
  },
  {
   "cell_type": "markdown",
   "metadata": {},
   "source": [
    "### Importações"
   ]
  },
  {
   "cell_type": "code",
   "execution_count": 1,
   "metadata": {},
   "outputs": [],
   "source": [
    "import numpy as np\n",
    "import pandas as pd\n",
    "import matplotlib.pyplot as plt\n",
    "from time import time\n",
    "from sklearn.linear_model import SGDClassifier\n",
    "from sklearn.utils import shuffle\n",
    "from sklearn.metrics import confusion_matrix\n",
    "from sklearn.ensemble import RandomForestClassifier\n",
    "from sklearn.linear_model import Perceptron\n",
    "from sklearn.tree import DecisionTreeClassifier\n",
    "\n",
    "from sklearn.model_selection import KFold\n",
    "from IPython.display import clear_output"
   ]
  },
  {
   "cell_type": "code",
   "execution_count": 2,
   "metadata": {},
   "outputs": [],
   "source": [
    "#DEFININDO ALGUNS PARÂMETROS DO GRÁFICO\n",
    "%matplotlib inline\n",
    "%config InlineBackend.figure_format = 'svg'\n",
    "params = {\n",
    "    'figure.figsize': [12, 3.3], \n",
    "    'axes.labelsize': 12,\n",
    "    'axes.titlesize':14, \n",
    "    'font.size': 12,\n",
    "    'legend.fontsize': 10, \n",
    "    'xtick.labelsize': 10, \n",
    "    'ytick.labelsize': 10,\n",
    "    'axes.axisbelow': True\n",
    "}\n",
    "plt.rcParams.update(params)"
   ]
  },
  {
   "cell_type": "markdown",
   "metadata": {},
   "source": [
    "### Definição de funções"
   ]
  },
  {
   "cell_type": "code",
   "execution_count": 3,
   "metadata": {},
   "outputs": [],
   "source": [
    "def obterDados(qtdUsuarios, qtdAntenas, qtdSimbolos, droparFeatures=None):\n",
    "    \n",
    "    # CONSTRUO O CAMINHO\n",
    "    caminhoCSV = \"../../CSV/dataset_\"+str(qtdUsuarios)+\"usuarios_\"+str(qtdAntenas)+\"antenas_\"+str(qtdSimbolos)+\"simbolos.csv\"    \n",
    "    \n",
    "    # ABRO O CSV\n",
    "    datasetCSV = pd.read_csv(caminhoCSV)\n",
    "\n",
    "    # SEPARANDO DATA, TARGET, POTENCIA DO ESPIAO E SNR DE CADA DADO\n",
    "    arrayData      = datasetCSV[datasetCSV.columns[:-2]]\n",
    "    arrayTarget    = datasetCSV[datasetCSV.columns[-1]].to_numpy()\n",
    "    arraySNR       = datasetCSV[datasetCSV.columns[0]].to_numpy()\n",
    "    arrayPotEspiao = datasetCSV[datasetCSV.columns[-2]].to_numpy()\n",
    "    \n",
    "    # DROPANDO AS FEATURES DESEJADAS\n",
    "    if droparFeatures != None:\n",
    "        arrayData = arrayData.drop(droparFeatures, axis=1)\n",
    "        \n",
    "    # PASSANDO O ARRAY DATA PRA NUMPY (isso n foi feito antes pq ainda tinha que dropar as features)\n",
    "    arrayData = arrayData.to_numpy()\n",
    "    \n",
    "    # RETORNO OS DADOS\n",
    "    return arrayData, arrayTarget, arraySNR, arrayPotEspiao"
   ]
  },
  {
   "cell_type": "code",
   "execution_count": 4,
   "metadata": {},
   "outputs": [],
   "source": [
    "def obterValoresUnicos(arraySNR, arrayPotEspiao):\n",
    "    rangeSNRs      = np.unique(arraySNR)\n",
    "    rangePotEspiao = np.unique(arrayPotEspiao)\n",
    "    return rangeSNRs, rangePotEspiao"
   ]
  },
  {
   "cell_type": "code",
   "execution_count": 5,
   "metadata": {},
   "outputs": [],
   "source": [
    "def treinarEClassificar(xTrain, xTest, yTrain, classificador):\n",
    "\n",
    "    # TREINANDO O CLASSIFICADOR\n",
    "    objClassificador = eval(classificador)\n",
    "    objClassificador.fit(xTrain, yTrain)\n",
    "\n",
    "    # PREDIZENDO OS DE TESTE\n",
    "    tempoInicio = time()\n",
    "    yPred = objClassificador.predict(xTest)\n",
    "    tempoFim = time()\n",
    "        \n",
    "    # QUAL FOI O TEMPO MEDIO PARA CLASSIFICAR CADA AMOSTRA? \n",
    "    # O DESVIO N PRECISA MANDAR PQ ESSA FUNCAO VAI RODAR A CADA ITERACAO DO KFOLD, \n",
    "    # ENTAO NO FINAL VAI ROLAR UMA MEDIA DE MEDIAS, O DESVIO VAI EM CIMA DISSO\n",
    "    tempoClassificarCadaAmostra = (tempoFim - tempoInicio)/len(xTest)\n",
    "    \n",
    "    return yPred, tempoClassificarCadaAmostra"
   ]
  },
  {
   "cell_type": "code",
   "execution_count": 6,
   "metadata": {},
   "outputs": [],
   "source": [
    "def deteccaoHassan(xTest):\n",
    "    \n",
    "    yPred = []\n",
    "    \n",
    "    tempoInicio = time()\n",
    "    for dadoAtual in xTest:\n",
    "        if dadoAtual[1] > dadoAtual[2]:\n",
    "            yPred.append(1)\n",
    "        else:\n",
    "            yPred.append(0)\n",
    "    tempoFim = time()\n",
    "    \n",
    "    tempoClassificarCadaAmostra = (tempoFim - tempoInicio)/len(xTest)\n",
    "    \n",
    "    return np.array(yPred), tempoClassificarCadaAmostra"
   ]
  },
  {
   "cell_type": "code",
   "execution_count": 7,
   "metadata": {},
   "outputs": [],
   "source": [
    "def deteccaoKapetanovic(xTest, threshold):\n",
    "    \n",
    "    yPred = []\n",
    "    \n",
    "    tempoInicio = time()\n",
    "    for dadoAtual in xTest:\n",
    "        if dadoAtual[1]/dadoAtual[2] > threshold:\n",
    "            yPred.append(1)\n",
    "        else:\n",
    "            yPred.append(0)\n",
    "    tempoFim = time()\n",
    "    \n",
    "    tempoClassificarCadaAmostra = (tempoFim - tempoInicio)/len(xTest)\n",
    "    \n",
    "    return np.array(yPred), tempoClassificarCadaAmostra"
   ]
  },
  {
   "cell_type": "code",
   "execution_count": 8,
   "metadata": {},
   "outputs": [],
   "source": [
    "def obterMetricas(matrizConfusao):\n",
    "    \n",
    "    acuracia  = 0.0\n",
    "    precisao  = 0.0\n",
    "    revocacao = 0.0\n",
    "    \n",
    "    if np.sum(matrizConfusao) != 0:\n",
    "        acuracia  = (matrizConfusao[0][0]+matrizConfusao[1][1])/np.sum(matrizConfusao)\n",
    "    if (matrizConfusao[1][1] + matrizConfusao[0][1]) != 0:\n",
    "        precisao  = matrizConfusao[1][1]/(matrizConfusao[1][1] + matrizConfusao[0][1])\n",
    "    if (matrizConfusao[1][1] + matrizConfusao[1][0]) != 0:\n",
    "        revocacao = matrizConfusao[1][1]/(matrizConfusao[1][1] + matrizConfusao[1][0])\n",
    "    \n",
    "    return acuracia, precisao, revocacao"
   ]
  },
  {
   "cell_type": "code",
   "execution_count": 9,
   "metadata": {},
   "outputs": [],
   "source": [
    "def iniciarJSON(arquivoSalvar):\n",
    "    objFile = open(arquivoSalvar, mode=\"a\")\n",
    "    objFile.write(\"[\")\n",
    "    objFile.close()"
   ]
  },
  {
   "cell_type": "code",
   "execution_count": 10,
   "metadata": {},
   "outputs": [],
   "source": [
    "def encerrarJSON(arquivoSalvar):\n",
    "    objFile = open(arquivoSalvar, mode=\"a\")\n",
    "    objFile.write(\"\\n]\")\n",
    "    objFile.close()"
   ]
  },
  {
   "cell_type": "code",
   "execution_count": 11,
   "metadata": {},
   "outputs": [],
   "source": [
    "def salvarResultado(arquivoSalvar, qtdUsuarios, qtdAntenas, qtdSimbolos, descricao, droparFeatures, repetibilidadeDataset, qtdFolders, rangePotEspiao, rangeSNRs, matrizProbabilidadeDeteccao, matrizConfusao, arraytempoClassificarCadaAmostra, plotar=True):\n",
    "    \n",
    "    acuracia, precisao, revocacao = obterMetricas(matrizConfusao)\n",
    "    \n",
    "    string  = '\\n{\"qtdUsuarios\":\"' + str(qtdUsuarios)\n",
    "    string += '\",\"qtdAntenas\":\"' + str(qtdAntenas)\n",
    "    string += '\",\"qtdSimbolos\":\"' + str(qtdSimbolos)\n",
    "    string += '\",\"descricao\":\"' + str(descricao)\n",
    "    string += '\",\"droparFeatures\":\"' + str(droparFeatures).replace('\\n', '').replace(' ', ',').replace(',,', ',')\n",
    "    string += '\",\"repetibilidadeDataset\":\"' + str(repetibilidadeDataset)\n",
    "    string += '\",\"qtdFolders\":\"' + str(qtdFolders)\n",
    "    string += '\",\"acuracia\":\"' + str(acuracia)\n",
    "    string += '\",\"precisao\":\"' + str(precisao)\n",
    "    string += '\",\"revocacao\":\"' + str(revocacao)\n",
    "    string += '\",\"rangePotEspiao\":\"' + str(rangePotEspiao).replace('\\n', '').replace(' ', ',').replace(',,', ',')\n",
    "    string += '\",\"rangeSNRs\":\"' + str(rangeSNRs).replace('\\n', '').replace(' ', ',').replace(',,', ',').replace(',,', ',')\n",
    "    string += '\",\"arraytempoClassificarCadaAmostra\":\"' + str(arraytempoClassificarCadaAmostra).replace(\" \",\"\").replace(\"\\n\",\"\")\n",
    "    string += '\",\"matrizProbabilidadeDeteccao\":\"' + str(matrizProbabilidadeDeteccao).replace('\\n', '').replace(' ', ',').replace(',,', ',').replace(',,', ',')\n",
    "    string += '\",\"matrizConfusao\":\"' + str(matrizConfusao.tolist()).replace('\\n', '').replace(' ', ',').replace(',,', ',') + '\"}'\n",
    "    \n",
    "    if sum(1 for line in open(arquivoSalvar)) != 1:\n",
    "        string = \",\" + string\n",
    "    \n",
    "    objFile = open(arquivoSalvar, mode=\"a\")\n",
    "    objFile.write(string)\n",
    "    objFile.close()\n",
    "    \n",
    "    if plotar == True:\n",
    "        printarResultado(matrizProbabilidadeDeteccao, matrizConfusao, rangePotEspiao, rangeSNRs, qtdUsuarios, qtdAntenas, qtdSimbolos, droparFeatures, acuracia, precisao, revocacao)"
   ]
  },
  {
   "cell_type": "code",
   "execution_count": 38,
   "metadata": {},
   "outputs": [],
   "source": [
    "def printarResultado(matrizProbabilidadeDeteccao, matrizConfusao, rangePotEspiao, rangeSNRs, qtdUsuarios, qtdAntenas, qtdSimbolos, descricao, acuracia, precisao, revocacao):\n",
    "    \n",
    "    # MONTANDO O TITULO DA FIGURA\n",
    "    titulo  = descricao + \"\\n\"\n",
    "    titulo += \"Usuários: \" + str(qtdUsuarios) + \" - Antenas: \" + str(qtdAntenas) + \" - Símbolos: \" + str(qtdSimbolos) + \"\\n\"\n",
    "    titulo += \"Acurácia: \" + str(acuracia)[:7] + \" - Precisão: \" + str(precisao)[:7] + \" - Revocação: \" + str(revocacao)[:7] + \"\\n\"\n",
    "    \n",
    "    # CRIANDO O PRIMEIRO GRAFICO\n",
    "    fig, axs = plt.subplots(1, 2)\n",
    "    for i in range(len(rangePotEspiao)):\n",
    "        axs[0].plot(rangeSNRs, matrizProbabilidadeDeteccao[i], label=\"Potência do Espião: \"+str(rangePotEspiao[i]))\n",
    "    axs[0].set_xlabel(\"SNR\")\n",
    "    axs[0].set_ylabel(\"Probabilidade de Detecção\")\n",
    "    axs[0].grid(alpha=0.5)\n",
    "    axs[0].legend()\n",
    "    \n",
    "    # CRIANDO A MATRIZ DE CONFUSAO\n",
    "    axs[1].imshow(matrizConfusao, cmap=\"gray\")\n",
    "    for (j,i), total in np.ndenumerate(matrizConfusao):\n",
    "        axs[1].text(i, j, int(total), ha=\"center\", va=\"center\", color=\"#e6005c\", size=15)\n",
    "    axs[1].set_xlabel(\"Predito\")\n",
    "    axs[1].set_ylabel(\"Real\")\n",
    "    axs[1].set_xticklabels([])\n",
    "    axs[1].set_yticklabels([])\n",
    "    \n",
    "    # PRINTANDO\n",
    "    plt.suptitle(titulo, y=1.15)\n",
    "    plt.show()"
   ]
  },
  {
   "cell_type": "markdown",
   "metadata": {},
   "source": [
    "### Parâmetros iniciais"
   ]
  },
  {
   "cell_type": "code",
   "execution_count": 13,
   "metadata": {},
   "outputs": [],
   "source": [
    "arquivoSalvar         = \"../../Resultados/probabilidadeDeteccao_\" + str(time()) + \".json\"\n",
    "qtdFolders            = 10\n",
    "qtdAntenas            = 256\n",
    "qtdSimbolos           = 128\n",
    "repetibilidadeDataset = 1000\n",
    "rangeQtdUsuarios      = np.array([1, 2, 4, 8, 16, 32, 64])"
   ]
  },
  {
   "cell_type": "markdown",
   "metadata": {},
   "source": [
    "### Iniciando o JSON"
   ]
  },
  {
   "cell_type": "code",
   "execution_count": 14,
   "metadata": {},
   "outputs": [],
   "source": [
    "iniciarJSON(arquivoSalvar)"
   ]
  },
  {
   "cell_type": "code",
   "execution_count": null,
   "metadata": {},
   "outputs": [],
   "source": []
  },
  {
   "cell_type": "code",
   "execution_count": null,
   "metadata": {},
   "outputs": [],
   "source": []
  },
  {
   "cell_type": "code",
   "execution_count": null,
   "metadata": {},
   "outputs": [],
   "source": []
  },
  {
   "cell_type": "markdown",
   "metadata": {},
   "source": [
    "# COMEÇANDO"
   ]
  },
  {
   "cell_type": "code",
   "execution_count": null,
   "metadata": {},
   "outputs": [],
   "source": []
  },
  {
   "cell_type": "code",
   "execution_count": null,
   "metadata": {},
   "outputs": [],
   "source": []
  },
  {
   "cell_type": "markdown",
   "metadata": {},
   "source": [
    "# 1) Random Forest"
   ]
  },
  {
   "cell_type": "code",
   "execution_count": 15,
   "metadata": {},
   "outputs": [],
   "source": [
    "classificador = \"RandomForestClassifier(n_estimators=10)\""
   ]
  },
  {
   "cell_type": "markdown",
   "metadata": {},
   "source": [
    "## Rodando com ML e todas as features"
   ]
  },
  {
   "cell_type": "code",
   "execution_count": 16,
   "metadata": {
    "scrolled": false
   },
   "outputs": [
    {
     "name": "stdout",
     "output_type": "stream",
     "text": [
      "Progresso total: 100.0%\n"
     ]
    }
   ],
   "source": [
    "# PARA COLOCAR NO JSON\n",
    "descricao      = \"Detecção baseada em \" + classificador.split(\"(\")[0] + \" com todas as features\"\n",
    "droparFeatures = None\n",
    "\n",
    "# PARA PRINTAR O PROGRESSO\n",
    "i = 0\n",
    "totalIteracoes = len(rangeQtdUsuarios)*qtdFolders\n",
    "\n",
    "# PARA CADA DATASET\n",
    "for qtdUsuarios in rangeQtdUsuarios:\n",
    "    \n",
    "    # PEGO O QUE E O QUE\n",
    "    arrayData, arrayTarget, arraySNR, arrayPotEspiao = obterDados(qtdUsuarios, qtdAntenas, qtdSimbolos, droparFeatures)\n",
    "    \n",
    "    # VALORES UNICOS DE SNR E POTENCIA DE ESPIAO PRA EU SABER O INDEX DAS MATRIZES DE RESULTADOS\n",
    "    rangeSNRs, rangePotEspiao = obterValoresUnicos(arraySNR, arrayPotEspiao)\n",
    "    \n",
    "    # MATRIZES QUE VAO GUARDAR OS RESULTADOS\n",
    "    matrizProbabilidadeDeteccao      = np.zeros(shape=(len(rangePotEspiao), len(rangeSNRs)))\n",
    "    matrizConfusao                   = np.zeros((2,2))\n",
    "    arraytempoClassificarCadaAmostra = []\n",
    "    \n",
    "    # KFOLD\n",
    "    objKFold = KFold(n_splits=qtdFolders, shuffle=True)\n",
    "    for arrayIndexesTreinamento, arrayIndexesTeste in objKFold.split(arrayData):\n",
    "        \n",
    "        # TREINO E TESTE\n",
    "        xTrain, xTest, yTrain, yTest = arrayData[arrayIndexesTreinamento], arrayData[arrayIndexesTeste], arrayTarget[arrayIndexesTreinamento], arrayTarget[arrayIndexesTeste]\n",
    "        \n",
    "        # CLASSIFICACAO\n",
    "        yPred, tempoClassificarCadaAmostra = treinarEClassificar(xTrain, xTest, yTrain, classificador)\n",
    "        \n",
    "        # AGREGO NA CONFUSION MATRIX\n",
    "        matrizConfusao += confusion_matrix(yTest, yPred)\n",
    "        \n",
    "        # AGREGO NA MATRIZ DE PROB DE DETECCAO\n",
    "        for (indexTesteAtual, predicaoAtual) in zip(arrayIndexesTeste, yPred):\n",
    "            \n",
    "            # PEGANDO EM QUAL LINHA E EM QUAL COLUNA DA MATRIZ EU VOU COLOCAR O RESULTADO\n",
    "            indexPotEsp = np.where(rangePotEspiao==arrayPotEspiao[indexTesteAtual])[0][0]\n",
    "            indexSNR    = np.where(rangeSNRs==arraySNR[indexTesteAtual])[0][0]\n",
    "            \n",
    "            # JA SOMO COM A PROBABILIDADE (DIVIDINDO PELA REPETIBILIDADE)\n",
    "            matrizProbabilidadeDeteccao[indexPotEsp][indexSNR] += predicaoAtual/repetibilidadeDataset\n",
    "            \n",
    "        # AGREGO NO ARRAY DE TEMPO MEDIO DE CLASSIFICACAO DE CADA AMOSTRA EM SEGUNDOS\n",
    "        arraytempoClassificarCadaAmostra.append(tempoClassificarCadaAmostra)\n",
    "    \n",
    "        # PRINTANDO O PROGRESSO\n",
    "        i += 1\n",
    "        clear_output(wait=True)\n",
    "        print(\"Progresso total: \" + str(100*(i/totalIteracoes))[:7] + \"%\")\n",
    "    \n",
    "    # CONSIDERANDO QUE O DATASET ESTA BALANCEADO, HA MUITO MAIS REPETIBILIDADE QUANDO POTESP = 0\n",
    "    matrizProbabilidadeDeteccao[0] /= (len(rangePotEspiao) - 1)\n",
    "    \n",
    "    # SALVANDO E PRINTANDO\n",
    "    salvarResultado(arquivoSalvar, qtdUsuarios, qtdAntenas, qtdSimbolos, descricao, droparFeatures, repetibilidadeDataset, qtdFolders, rangePotEspiao, rangeSNRs, matrizProbabilidadeDeteccao, matrizConfusao, arraytempoClassificarCadaAmostra, plotar=False)"
   ]
  },
  {
   "cell_type": "markdown",
   "metadata": {},
   "source": [
    "## Rodando com ML apenas com os autovalores"
   ]
  },
  {
   "cell_type": "code",
   "execution_count": 17,
   "metadata": {
    "scrolled": false
   },
   "outputs": [
    {
     "name": "stdout",
     "output_type": "stream",
     "text": [
      "Progresso total: 100.0%\n"
     ]
    }
   ],
   "source": [
    "# PARA COLOCAR NO JSON\n",
    "descricao      = \"Detecção baseada em \" + classificador.split(\"(\")[0] + \" apenas com os três autovalores do Kapetanovic\"\n",
    "droparFeatures = [\"E\",\"eta\"]\n",
    "\n",
    "# PARA PRINTAR O PROGRESSO\n",
    "i = 0\n",
    "totalIteracoes = len(rangeQtdUsuarios)*qtdFolders\n",
    "\n",
    "# PARA CADA DATASET\n",
    "for qtdUsuarios in rangeQtdUsuarios:\n",
    "    \n",
    "    # PEGO O QUE E O QUE\n",
    "    arrayData, arrayTarget, arraySNR, arrayPotEspiao = obterDados(qtdUsuarios, qtdAntenas, qtdSimbolos, droparFeatures)\n",
    "    \n",
    "    # VALORES UNICOS DE SNR E POTENCIA DE ESPIAO PRA EU SABER O INDEX DAS MATRIZES DE RESULTADOS\n",
    "    rangeSNRs, rangePotEspiao = obterValoresUnicos(arraySNR, arrayPotEspiao)\n",
    "    \n",
    "    # MATRIZES QUE VAO GUARDAR OS RESULTADOS\n",
    "    matrizProbabilidadeDeteccao      = np.zeros(shape=(len(rangePotEspiao), len(rangeSNRs)))\n",
    "    matrizConfusao                   = np.zeros((2,2))\n",
    "    arraytempoClassificarCadaAmostra = []\n",
    "    \n",
    "    # KFOLD\n",
    "    objKFold = KFold(n_splits=qtdFolders, shuffle=True)\n",
    "    for arrayIndexesTreinamento, arrayIndexesTeste in objKFold.split(arrayData):\n",
    "        \n",
    "        # TREINO E TESTE\n",
    "        xTrain, xTest, yTrain, yTest = arrayData[arrayIndexesTreinamento], arrayData[arrayIndexesTeste], arrayTarget[arrayIndexesTreinamento], arrayTarget[arrayIndexesTeste]\n",
    "        \n",
    "        # CLASSIFICACAO\n",
    "        yPred, tempoClassificarCadaAmostra = treinarEClassificar(xTrain, xTest, yTrain, classificador)\n",
    "        \n",
    "        # AGREGO NA CONFUSION MATRIX\n",
    "        matrizConfusao += confusion_matrix(yTest, yPred)\n",
    "        \n",
    "        # AGREGO NA MATRIZ DE PROB DE DETECCAO\n",
    "        for (indexTesteAtual, predicaoAtual) in zip(arrayIndexesTeste, yPred):\n",
    "            \n",
    "            # PEGANDO EM QUAL LINHA E EM QUAL COLUNA DA MATRIZ EU VOU COLOCAR O RESULTADO\n",
    "            indexPotEsp = np.where(rangePotEspiao==arrayPotEspiao[indexTesteAtual])[0][0]\n",
    "            indexSNR    = np.where(rangeSNRs==arraySNR[indexTesteAtual])[0][0]\n",
    "            \n",
    "            # JA SOMO COM A PROBABILIDADE (DIVIDINDO PELA REPETIBILIDADE)\n",
    "            matrizProbabilidadeDeteccao[indexPotEsp][indexSNR] += predicaoAtual/repetibilidadeDataset\n",
    "            \n",
    "        # AGREGO NO ARRAY DE TEMPO MEDIO DE CLASSIFICACAO DE CADA AMOSTRA EM SEGUNDOS\n",
    "        arraytempoClassificarCadaAmostra.append(tempoClassificarCadaAmostra)\n",
    "    \n",
    "        # PRINTANDO O PROGRESSO\n",
    "        i += 1\n",
    "        clear_output(wait=True)\n",
    "        print(\"Progresso total: \" + str(100*(i/totalIteracoes))[:7] + \"%\")\n",
    "    \n",
    "    # CONSIDERANDO QUE O DATASET ESTA BALANCEADO, HA MUITO MAIS REPETIBILIDADE QUANDO POTESP = 0\n",
    "    matrizProbabilidadeDeteccao[0] /= (len(rangePotEspiao) - 1)\n",
    "    \n",
    "    # SALVANDO E PRINTANDO\n",
    "    salvarResultado(arquivoSalvar, qtdUsuarios, qtdAntenas, qtdSimbolos, descricao, droparFeatures, repetibilidadeDataset, qtdFolders, rangePotEspiao, rangeSNRs, matrizProbabilidadeDeteccao, matrizConfusao, arraytempoClassificarCadaAmostra, plotar=False)"
   ]
  },
  {
   "cell_type": "markdown",
   "metadata": {},
   "source": [
    "## Rodando com ML apenas com E e eta"
   ]
  },
  {
   "cell_type": "code",
   "execution_count": 18,
   "metadata": {
    "scrolled": false
   },
   "outputs": [
    {
     "name": "stdout",
     "output_type": "stream",
     "text": [
      "Progresso total: 100.0%\n"
     ]
    }
   ],
   "source": [
    "descricao      = \"Detecção baseada em \" + classificador.split(\"(\")[0] + \" apenas com E e eta do Hassan\"\n",
    "droparFeatures = [\"a1\",\"a2\",\"a3\"]\n",
    "\n",
    "# PARA PRINTAR O PROGRESSO\n",
    "i = 0\n",
    "totalIteracoes = len(rangeQtdUsuarios)*qtdFolders\n",
    "\n",
    "# PARA CADA DATASET\n",
    "for qtdUsuarios in rangeQtdUsuarios:\n",
    "    \n",
    "    # PEGO O QUE E O QUE\n",
    "    arrayData, arrayTarget, arraySNR, arrayPotEspiao = obterDados(qtdUsuarios, qtdAntenas, qtdSimbolos, droparFeatures)\n",
    "    \n",
    "    # VALORES UNICOS DE SNR E POTENCIA DE ESPIAO PRA EU SABER O INDEX DAS MATRIZES DE RESULTADOS\n",
    "    rangeSNRs, rangePotEspiao = obterValoresUnicos(arraySNR, arrayPotEspiao)\n",
    "    \n",
    "    # MATRIZES QUE VAO GUARDAR OS RESULTADOS\n",
    "    matrizProbabilidadeDeteccao      = np.zeros(shape=(len(rangePotEspiao), len(rangeSNRs)))\n",
    "    matrizConfusao                   = np.zeros((2,2))\n",
    "    arraytempoClassificarCadaAmostra = []\n",
    "    \n",
    "    # KFOLD\n",
    "    objKFold = KFold(n_splits=qtdFolders, shuffle=True)\n",
    "    for arrayIndexesTreinamento, arrayIndexesTeste in objKFold.split(arrayData):\n",
    "        \n",
    "        # TREINO E TESTE\n",
    "        xTrain, xTest, yTrain, yTest = arrayData[arrayIndexesTreinamento], arrayData[arrayIndexesTeste], arrayTarget[arrayIndexesTreinamento], arrayTarget[arrayIndexesTeste]\n",
    "        \n",
    "        # CLASSIFICACAO\n",
    "        yPred, tempoClassificarCadaAmostra = treinarEClassificar(xTrain, xTest, yTrain, classificador)\n",
    "        \n",
    "        # AGREGO NA CONFUSION MATRIX\n",
    "        matrizConfusao += confusion_matrix(yTest, yPred)\n",
    "        \n",
    "        # AGREGO NA MATRIZ DE PROB DE DETECCAO\n",
    "        for (indexTesteAtual, predicaoAtual) in zip(arrayIndexesTeste, yPred):\n",
    "            \n",
    "            # PEGANDO EM QUAL LINHA E EM QUAL COLUNA DA MATRIZ EU VOU COLOCAR O RESULTADO\n",
    "            indexPotEsp = np.where(rangePotEspiao==arrayPotEspiao[indexTesteAtual])[0][0]\n",
    "            indexSNR    = np.where(rangeSNRs==arraySNR[indexTesteAtual])[0][0]\n",
    "            \n",
    "            # JA SOMO COM A PROBABILIDADE (DIVIDINDO PELA REPETIBILIDADE)\n",
    "            matrizProbabilidadeDeteccao[indexPotEsp][indexSNR] += predicaoAtual/repetibilidadeDataset\n",
    "            \n",
    "        # AGREGO NO ARRAY DE TEMPO MEDIO DE CLASSIFICACAO DE CADA AMOSTRA EM SEGUNDOS\n",
    "        arraytempoClassificarCadaAmostra.append(tempoClassificarCadaAmostra)\n",
    "    \n",
    "        # PRINTANDO O PROGRESSO\n",
    "        i += 1\n",
    "        clear_output(wait=True)\n",
    "        print(\"Progresso total: \" + str(100*(i/totalIteracoes))[:7] + \"%\")\n",
    "    \n",
    "    # CONSIDERANDO QUE O DATASET ESTA BALANCEADO, HA MUITO MAIS REPETIBILIDADE QUANDO POTESP = 0\n",
    "    matrizProbabilidadeDeteccao[0] /= (len(rangePotEspiao) - 1)\n",
    "    \n",
    "    # SALVANDO E PRINTANDO\n",
    "    salvarResultado(arquivoSalvar, qtdUsuarios, qtdAntenas, qtdSimbolos, descricao, droparFeatures, repetibilidadeDataset, qtdFolders, rangePotEspiao, rangeSNRs, matrizProbabilidadeDeteccao, matrizConfusao, arraytempoClassificarCadaAmostra, plotar=False)"
   ]
  },
  {
   "cell_type": "markdown",
   "metadata": {},
   "source": [
    "## Rodando com ML ignorando SNR e eta"
   ]
  },
  {
   "cell_type": "code",
   "execution_count": 19,
   "metadata": {
    "scrolled": false
   },
   "outputs": [
    {
     "name": "stdout",
     "output_type": "stream",
     "text": [
      "Progresso total: 100.0%\n"
     ]
    }
   ],
   "source": [
    "descricao      = \"Detecção baseada em \" + classificador.split(\"(\")[0] + \" apenas com E e os 3 autovalores\"\n",
    "droparFeatures = [\"snr\",\"eta\"]\n",
    "\n",
    "# PARA PRINTAR O PROGRESSO\n",
    "i = 0\n",
    "totalIteracoes = len(rangeQtdUsuarios)*qtdFolders\n",
    "\n",
    "# PARA CADA DATASET\n",
    "for qtdUsuarios in rangeQtdUsuarios:\n",
    "    \n",
    "    # PEGO O QUE E O QUE\n",
    "    arrayData, arrayTarget, arraySNR, arrayPotEspiao = obterDados(qtdUsuarios, qtdAntenas, qtdSimbolos, droparFeatures)\n",
    "    \n",
    "    # VALORES UNICOS DE SNR E POTENCIA DE ESPIAO PRA EU SABER O INDEX DAS MATRIZES DE RESULTADOS\n",
    "    rangeSNRs, rangePotEspiao = obterValoresUnicos(arraySNR, arrayPotEspiao)\n",
    "    \n",
    "    # MATRIZES QUE VAO GUARDAR OS RESULTADOS\n",
    "    matrizProbabilidadeDeteccao      = np.zeros(shape=(len(rangePotEspiao), len(rangeSNRs)))\n",
    "    matrizConfusao                   = np.zeros((2,2))\n",
    "    arraytempoClassificarCadaAmostra = []\n",
    "    \n",
    "    # KFOLD\n",
    "    objKFold = KFold(n_splits=qtdFolders, shuffle=True)\n",
    "    for arrayIndexesTreinamento, arrayIndexesTeste in objKFold.split(arrayData):\n",
    "        \n",
    "        # TREINO E TESTE\n",
    "        xTrain, xTest, yTrain, yTest = arrayData[arrayIndexesTreinamento], arrayData[arrayIndexesTeste], arrayTarget[arrayIndexesTreinamento], arrayTarget[arrayIndexesTeste]\n",
    "        \n",
    "        # CLASSIFICACAO\n",
    "        yPred, tempoClassificarCadaAmostra = treinarEClassificar(xTrain, xTest, yTrain, classificador)\n",
    "        \n",
    "        # AGREGO NA CONFUSION MATRIX\n",
    "        matrizConfusao += confusion_matrix(yTest, yPred)\n",
    "        \n",
    "        # AGREGO NA MATRIZ DE PROB DE DETECCAO\n",
    "        for (indexTesteAtual, predicaoAtual) in zip(arrayIndexesTeste, yPred):\n",
    "            \n",
    "            # PEGANDO EM QUAL LINHA E EM QUAL COLUNA DA MATRIZ EU VOU COLOCAR O RESULTADO\n",
    "            indexPotEsp = np.where(rangePotEspiao==arrayPotEspiao[indexTesteAtual])[0][0]\n",
    "            indexSNR    = np.where(rangeSNRs==arraySNR[indexTesteAtual])[0][0]\n",
    "            \n",
    "            # JA SOMO COM A PROBABILIDADE (DIVIDINDO PELA REPETIBILIDADE)\n",
    "            matrizProbabilidadeDeteccao[indexPotEsp][indexSNR] += predicaoAtual/repetibilidadeDataset\n",
    "            \n",
    "        # AGREGO NO ARRAY DE TEMPO MEDIO DE CLASSIFICACAO DE CADA AMOSTRA EM SEGUNDOS\n",
    "        arraytempoClassificarCadaAmostra.append(tempoClassificarCadaAmostra)\n",
    "    \n",
    "        # PRINTANDO O PROGRESSO\n",
    "        i += 1\n",
    "        clear_output(wait=True)\n",
    "        print(\"Progresso total: \" + str(100*(i/totalIteracoes))[:7] + \"%\")\n",
    "    \n",
    "    # CONSIDERANDO QUE O DATASET ESTA BALANCEADO, HA MUITO MAIS REPETIBILIDADE QUANDO POTESP = 0\n",
    "    matrizProbabilidadeDeteccao[0] /= (len(rangePotEspiao) - 1)\n",
    "    \n",
    "    # SALVANDO E PRINTANDO\n",
    "    salvarResultado(arquivoSalvar, qtdUsuarios, qtdAntenas, qtdSimbolos, descricao, droparFeatures, repetibilidadeDataset, qtdFolders, rangePotEspiao, rangeSNRs, matrizProbabilidadeDeteccao, matrizConfusao, arraytempoClassificarCadaAmostra, plotar=False)"
   ]
  },
  {
   "cell_type": "code",
   "execution_count": null,
   "metadata": {},
   "outputs": [],
   "source": []
  },
  {
   "cell_type": "code",
   "execution_count": null,
   "metadata": {},
   "outputs": [],
   "source": []
  },
  {
   "cell_type": "code",
   "execution_count": null,
   "metadata": {},
   "outputs": [],
   "source": []
  },
  {
   "cell_type": "markdown",
   "metadata": {},
   "source": [
    "# 2) Tree"
   ]
  },
  {
   "cell_type": "code",
   "execution_count": 20,
   "metadata": {},
   "outputs": [],
   "source": [
    "classificador = \"DecisionTreeClassifier()\""
   ]
  },
  {
   "cell_type": "markdown",
   "metadata": {},
   "source": [
    "## Rodando com ML e todas as features"
   ]
  },
  {
   "cell_type": "code",
   "execution_count": 21,
   "metadata": {
    "scrolled": false
   },
   "outputs": [
    {
     "name": "stdout",
     "output_type": "stream",
     "text": [
      "Progresso total: 100.0%\n"
     ]
    }
   ],
   "source": [
    "# PARA COLOCAR NO JSON\n",
    "descricao      = \"Detecção baseada em \" + classificador.split(\"(\")[0] + \" com todas as features\"\n",
    "droparFeatures = None\n",
    "\n",
    "# PARA PRINTAR O PROGRESSO\n",
    "i = 0\n",
    "totalIteracoes = len(rangeQtdUsuarios)*qtdFolders\n",
    "\n",
    "# PARA CADA DATASET\n",
    "for qtdUsuarios in rangeQtdUsuarios:\n",
    "    \n",
    "    # PEGO O QUE E O QUE\n",
    "    arrayData, arrayTarget, arraySNR, arrayPotEspiao = obterDados(qtdUsuarios, qtdAntenas, qtdSimbolos, droparFeatures)\n",
    "    \n",
    "    # VALORES UNICOS DE SNR E POTENCIA DE ESPIAO PRA EU SABER O INDEX DAS MATRIZES DE RESULTADOS\n",
    "    rangeSNRs, rangePotEspiao = obterValoresUnicos(arraySNR, arrayPotEspiao)\n",
    "    \n",
    "    # MATRIZES QUE VAO GUARDAR OS RESULTADOS\n",
    "    matrizProbabilidadeDeteccao      = np.zeros(shape=(len(rangePotEspiao), len(rangeSNRs)))\n",
    "    matrizConfusao                   = np.zeros((2,2))\n",
    "    arraytempoClassificarCadaAmostra = []\n",
    "    \n",
    "    # KFOLD\n",
    "    objKFold = KFold(n_splits=qtdFolders, shuffle=True)\n",
    "    for arrayIndexesTreinamento, arrayIndexesTeste in objKFold.split(arrayData):\n",
    "        \n",
    "        # TREINO E TESTE\n",
    "        xTrain, xTest, yTrain, yTest = arrayData[arrayIndexesTreinamento], arrayData[arrayIndexesTeste], arrayTarget[arrayIndexesTreinamento], arrayTarget[arrayIndexesTeste]\n",
    "        \n",
    "        # CLASSIFICACAO\n",
    "        yPred, tempoClassificarCadaAmostra = treinarEClassificar(xTrain, xTest, yTrain, classificador)\n",
    "        \n",
    "        # AGREGO NA CONFUSION MATRIX\n",
    "        matrizConfusao += confusion_matrix(yTest, yPred)\n",
    "        \n",
    "        # AGREGO NA MATRIZ DE PROB DE DETECCAO\n",
    "        for (indexTesteAtual, predicaoAtual) in zip(arrayIndexesTeste, yPred):\n",
    "            \n",
    "            # PEGANDO EM QUAL LINHA E EM QUAL COLUNA DA MATRIZ EU VOU COLOCAR O RESULTADO\n",
    "            indexPotEsp = np.where(rangePotEspiao==arrayPotEspiao[indexTesteAtual])[0][0]\n",
    "            indexSNR    = np.where(rangeSNRs==arraySNR[indexTesteAtual])[0][0]\n",
    "            \n",
    "            # JA SOMO COM A PROBABILIDADE (DIVIDINDO PELA REPETIBILIDADE)\n",
    "            matrizProbabilidadeDeteccao[indexPotEsp][indexSNR] += predicaoAtual/repetibilidadeDataset\n",
    "            \n",
    "        # AGREGO NO ARRAY DE TEMPO MEDIO DE CLASSIFICACAO DE CADA AMOSTRA EM SEGUNDOS\n",
    "        arraytempoClassificarCadaAmostra.append(tempoClassificarCadaAmostra)\n",
    "    \n",
    "        # PRINTANDO O PROGRESSO\n",
    "        i += 1\n",
    "        clear_output(wait=True)\n",
    "        print(\"Progresso total: \" + str(100*(i/totalIteracoes))[:7] + \"%\")\n",
    "    \n",
    "    # CONSIDERANDO QUE O DATASET ESTA BALANCEADO, HA MUITO MAIS REPETIBILIDADE QUANDO POTESP = 0\n",
    "    matrizProbabilidadeDeteccao[0] /= (len(rangePotEspiao) - 1)\n",
    "    \n",
    "    # SALVANDO E PRINTANDO\n",
    "    salvarResultado(arquivoSalvar, qtdUsuarios, qtdAntenas, qtdSimbolos, descricao, droparFeatures, repetibilidadeDataset, qtdFolders, rangePotEspiao, rangeSNRs, matrizProbabilidadeDeteccao, matrizConfusao, arraytempoClassificarCadaAmostra, plotar=False)"
   ]
  },
  {
   "cell_type": "markdown",
   "metadata": {},
   "source": [
    "## Rodando com ML apenas com os autovalores"
   ]
  },
  {
   "cell_type": "code",
   "execution_count": 22,
   "metadata": {
    "scrolled": false
   },
   "outputs": [
    {
     "name": "stdout",
     "output_type": "stream",
     "text": [
      "Progresso total: 100.0%\n"
     ]
    }
   ],
   "source": [
    "# PARA COLOCAR NO JSON\n",
    "descricao      = \"Detecção baseada em \" + classificador.split(\"(\")[0] + \" apenas com os três autovalores do Kapetanovic\"\n",
    "droparFeatures = [\"E\",\"eta\"]\n",
    "\n",
    "# PARA PRINTAR O PROGRESSO\n",
    "i = 0\n",
    "totalIteracoes = len(rangeQtdUsuarios)*qtdFolders\n",
    "\n",
    "# PARA CADA DATASET\n",
    "for qtdUsuarios in rangeQtdUsuarios:\n",
    "    \n",
    "    # PEGO O QUE E O QUE\n",
    "    arrayData, arrayTarget, arraySNR, arrayPotEspiao = obterDados(qtdUsuarios, qtdAntenas, qtdSimbolos, droparFeatures)\n",
    "    \n",
    "    # VALORES UNICOS DE SNR E POTENCIA DE ESPIAO PRA EU SABER O INDEX DAS MATRIZES DE RESULTADOS\n",
    "    rangeSNRs, rangePotEspiao = obterValoresUnicos(arraySNR, arrayPotEspiao)\n",
    "    \n",
    "    # MATRIZES QUE VAO GUARDAR OS RESULTADOS\n",
    "    matrizProbabilidadeDeteccao      = np.zeros(shape=(len(rangePotEspiao), len(rangeSNRs)))\n",
    "    matrizConfusao                   = np.zeros((2,2))\n",
    "    arraytempoClassificarCadaAmostra = []\n",
    "    \n",
    "    # KFOLD\n",
    "    objKFold = KFold(n_splits=qtdFolders, shuffle=True)\n",
    "    for arrayIndexesTreinamento, arrayIndexesTeste in objKFold.split(arrayData):\n",
    "        \n",
    "        # TREINO E TESTE\n",
    "        xTrain, xTest, yTrain, yTest = arrayData[arrayIndexesTreinamento], arrayData[arrayIndexesTeste], arrayTarget[arrayIndexesTreinamento], arrayTarget[arrayIndexesTeste]\n",
    "        \n",
    "        # CLASSIFICACAO\n",
    "        yPred, tempoClassificarCadaAmostra = treinarEClassificar(xTrain, xTest, yTrain, classificador)\n",
    "        \n",
    "        # AGREGO NA CONFUSION MATRIX\n",
    "        matrizConfusao += confusion_matrix(yTest, yPred)\n",
    "        \n",
    "        # AGREGO NA MATRIZ DE PROB DE DETECCAO\n",
    "        for (indexTesteAtual, predicaoAtual) in zip(arrayIndexesTeste, yPred):\n",
    "            \n",
    "            # PEGANDO EM QUAL LINHA E EM QUAL COLUNA DA MATRIZ EU VOU COLOCAR O RESULTADO\n",
    "            indexPotEsp = np.where(rangePotEspiao==arrayPotEspiao[indexTesteAtual])[0][0]\n",
    "            indexSNR    = np.where(rangeSNRs==arraySNR[indexTesteAtual])[0][0]\n",
    "            \n",
    "            # JA SOMO COM A PROBABILIDADE (DIVIDINDO PELA REPETIBILIDADE)\n",
    "            matrizProbabilidadeDeteccao[indexPotEsp][indexSNR] += predicaoAtual/repetibilidadeDataset\n",
    "            \n",
    "        # AGREGO NO ARRAY DE TEMPO MEDIO DE CLASSIFICACAO DE CADA AMOSTRA EM SEGUNDOS\n",
    "        arraytempoClassificarCadaAmostra.append(tempoClassificarCadaAmostra)\n",
    "    \n",
    "        # PRINTANDO O PROGRESSO\n",
    "        i += 1\n",
    "        clear_output(wait=True)\n",
    "        print(\"Progresso total: \" + str(100*(i/totalIteracoes))[:7] + \"%\")\n",
    "    \n",
    "    # CONSIDERANDO QUE O DATASET ESTA BALANCEADO, HA MUITO MAIS REPETIBILIDADE QUANDO POTESP = 0\n",
    "    matrizProbabilidadeDeteccao[0] /= (len(rangePotEspiao) - 1)\n",
    "    \n",
    "    # SALVANDO E PRINTANDO\n",
    "    salvarResultado(arquivoSalvar, qtdUsuarios, qtdAntenas, qtdSimbolos, descricao, droparFeatures, repetibilidadeDataset, qtdFolders, rangePotEspiao, rangeSNRs, matrizProbabilidadeDeteccao, matrizConfusao, arraytempoClassificarCadaAmostra, plotar=False)"
   ]
  },
  {
   "cell_type": "markdown",
   "metadata": {},
   "source": [
    "## Rodando com ML apenas com E e eta"
   ]
  },
  {
   "cell_type": "code",
   "execution_count": 23,
   "metadata": {
    "scrolled": false
   },
   "outputs": [
    {
     "name": "stdout",
     "output_type": "stream",
     "text": [
      "Progresso total: 100.0%\n"
     ]
    }
   ],
   "source": [
    "descricao      = \"Detecção baseada em \" + classificador.split(\"(\")[0] + \" apenas com E e eta do Hassan\"\n",
    "droparFeatures = [\"a1\",\"a2\",\"a3\"]\n",
    "\n",
    "# PARA PRINTAR O PROGRESSO\n",
    "i = 0\n",
    "totalIteracoes = len(rangeQtdUsuarios)*qtdFolders\n",
    "\n",
    "# PARA CADA DATASET\n",
    "for qtdUsuarios in rangeQtdUsuarios:\n",
    "    \n",
    "    # PEGO O QUE E O QUE\n",
    "    arrayData, arrayTarget, arraySNR, arrayPotEspiao = obterDados(qtdUsuarios, qtdAntenas, qtdSimbolos, droparFeatures)\n",
    "    \n",
    "    # VALORES UNICOS DE SNR E POTENCIA DE ESPIAO PRA EU SABER O INDEX DAS MATRIZES DE RESULTADOS\n",
    "    rangeSNRs, rangePotEspiao = obterValoresUnicos(arraySNR, arrayPotEspiao)\n",
    "    \n",
    "    # MATRIZES QUE VAO GUARDAR OS RESULTADOS\n",
    "    matrizProbabilidadeDeteccao      = np.zeros(shape=(len(rangePotEspiao), len(rangeSNRs)))\n",
    "    matrizConfusao                   = np.zeros((2,2))\n",
    "    arraytempoClassificarCadaAmostra = []\n",
    "    \n",
    "    # KFOLD\n",
    "    objKFold = KFold(n_splits=qtdFolders, shuffle=True)\n",
    "    for arrayIndexesTreinamento, arrayIndexesTeste in objKFold.split(arrayData):\n",
    "        \n",
    "        # TREINO E TESTE\n",
    "        xTrain, xTest, yTrain, yTest = arrayData[arrayIndexesTreinamento], arrayData[arrayIndexesTeste], arrayTarget[arrayIndexesTreinamento], arrayTarget[arrayIndexesTeste]\n",
    "        \n",
    "        # CLASSIFICACAO\n",
    "        yPred, tempoClassificarCadaAmostra = treinarEClassificar(xTrain, xTest, yTrain, classificador)\n",
    "        \n",
    "        # AGREGO NA CONFUSION MATRIX\n",
    "        matrizConfusao += confusion_matrix(yTest, yPred)\n",
    "        \n",
    "        # AGREGO NA MATRIZ DE PROB DE DETECCAO\n",
    "        for (indexTesteAtual, predicaoAtual) in zip(arrayIndexesTeste, yPred):\n",
    "            \n",
    "            # PEGANDO EM QUAL LINHA E EM QUAL COLUNA DA MATRIZ EU VOU COLOCAR O RESULTADO\n",
    "            indexPotEsp = np.where(rangePotEspiao==arrayPotEspiao[indexTesteAtual])[0][0]\n",
    "            indexSNR    = np.where(rangeSNRs==arraySNR[indexTesteAtual])[0][0]\n",
    "            \n",
    "            # JA SOMO COM A PROBABILIDADE (DIVIDINDO PELA REPETIBILIDADE)\n",
    "            matrizProbabilidadeDeteccao[indexPotEsp][indexSNR] += predicaoAtual/repetibilidadeDataset\n",
    "            \n",
    "        # AGREGO NO ARRAY DE TEMPO MEDIO DE CLASSIFICACAO DE CADA AMOSTRA EM SEGUNDOS\n",
    "        arraytempoClassificarCadaAmostra.append(tempoClassificarCadaAmostra)\n",
    "    \n",
    "        # PRINTANDO O PROGRESSO\n",
    "        i += 1\n",
    "        clear_output(wait=True)\n",
    "        print(\"Progresso total: \" + str(100*(i/totalIteracoes))[:7] + \"%\")\n",
    "    \n",
    "    # CONSIDERANDO QUE O DATASET ESTA BALANCEADO, HA MUITO MAIS REPETIBILIDADE QUANDO POTESP = 0\n",
    "    matrizProbabilidadeDeteccao[0] /= (len(rangePotEspiao) - 1)\n",
    "    \n",
    "    # SALVANDO E PRINTANDO\n",
    "    salvarResultado(arquivoSalvar, qtdUsuarios, qtdAntenas, qtdSimbolos, descricao, droparFeatures, repetibilidadeDataset, qtdFolders, rangePotEspiao, rangeSNRs, matrizProbabilidadeDeteccao, matrizConfusao, arraytempoClassificarCadaAmostra, plotar=False)"
   ]
  },
  {
   "cell_type": "markdown",
   "metadata": {},
   "source": [
    "## Rodando com ML ignorando SNR e eta"
   ]
  },
  {
   "cell_type": "code",
   "execution_count": 24,
   "metadata": {
    "scrolled": false
   },
   "outputs": [
    {
     "name": "stdout",
     "output_type": "stream",
     "text": [
      "Progresso total: 100.0%\n"
     ]
    }
   ],
   "source": [
    "descricao      = \"Detecção baseada em \" + classificador.split(\"(\")[0] + \" apenas com E e os 3 autovalores\"\n",
    "droparFeatures = [\"snr\",\"eta\"]\n",
    "\n",
    "# PARA PRINTAR O PROGRESSO\n",
    "i = 0\n",
    "totalIteracoes = len(rangeQtdUsuarios)*qtdFolders\n",
    "\n",
    "# PARA CADA DATASET\n",
    "for qtdUsuarios in rangeQtdUsuarios:\n",
    "    \n",
    "    # PEGO O QUE E O QUE\n",
    "    arrayData, arrayTarget, arraySNR, arrayPotEspiao = obterDados(qtdUsuarios, qtdAntenas, qtdSimbolos, droparFeatures)\n",
    "    \n",
    "    # VALORES UNICOS DE SNR E POTENCIA DE ESPIAO PRA EU SABER O INDEX DAS MATRIZES DE RESULTADOS\n",
    "    rangeSNRs, rangePotEspiao = obterValoresUnicos(arraySNR, arrayPotEspiao)\n",
    "    \n",
    "    # MATRIZES QUE VAO GUARDAR OS RESULTADOS\n",
    "    matrizProbabilidadeDeteccao      = np.zeros(shape=(len(rangePotEspiao), len(rangeSNRs)))\n",
    "    matrizConfusao                   = np.zeros((2,2))\n",
    "    arraytempoClassificarCadaAmostra = []\n",
    "    \n",
    "    # KFOLD\n",
    "    objKFold = KFold(n_splits=qtdFolders, shuffle=True)\n",
    "    for arrayIndexesTreinamento, arrayIndexesTeste in objKFold.split(arrayData):\n",
    "        \n",
    "        # TREINO E TESTE\n",
    "        xTrain, xTest, yTrain, yTest = arrayData[arrayIndexesTreinamento], arrayData[arrayIndexesTeste], arrayTarget[arrayIndexesTreinamento], arrayTarget[arrayIndexesTeste]\n",
    "        \n",
    "        # CLASSIFICACAO\n",
    "        yPred, tempoClassificarCadaAmostra = treinarEClassificar(xTrain, xTest, yTrain, classificador)\n",
    "        \n",
    "        # AGREGO NA CONFUSION MATRIX\n",
    "        matrizConfusao += confusion_matrix(yTest, yPred)\n",
    "        \n",
    "        # AGREGO NA MATRIZ DE PROB DE DETECCAO\n",
    "        for (indexTesteAtual, predicaoAtual) in zip(arrayIndexesTeste, yPred):\n",
    "            \n",
    "            # PEGANDO EM QUAL LINHA E EM QUAL COLUNA DA MATRIZ EU VOU COLOCAR O RESULTADO\n",
    "            indexPotEsp = np.where(rangePotEspiao==arrayPotEspiao[indexTesteAtual])[0][0]\n",
    "            indexSNR    = np.where(rangeSNRs==arraySNR[indexTesteAtual])[0][0]\n",
    "            \n",
    "            # JA SOMO COM A PROBABILIDADE (DIVIDINDO PELA REPETIBILIDADE)\n",
    "            matrizProbabilidadeDeteccao[indexPotEsp][indexSNR] += predicaoAtual/repetibilidadeDataset\n",
    "            \n",
    "        # AGREGO NO ARRAY DE TEMPO MEDIO DE CLASSIFICACAO DE CADA AMOSTRA EM SEGUNDOS\n",
    "        arraytempoClassificarCadaAmostra.append(tempoClassificarCadaAmostra)\n",
    "    \n",
    "        # PRINTANDO O PROGRESSO\n",
    "        i += 1\n",
    "        clear_output(wait=True)\n",
    "        print(\"Progresso total: \" + str(100*(i/totalIteracoes))[:7] + \"%\")\n",
    "    \n",
    "    # CONSIDERANDO QUE O DATASET ESTA BALANCEADO, HA MUITO MAIS REPETIBILIDADE QUANDO POTESP = 0\n",
    "    matrizProbabilidadeDeteccao[0] /= (len(rangePotEspiao) - 1)\n",
    "    \n",
    "    # SALVANDO E PRINTANDO\n",
    "    salvarResultado(arquivoSalvar, qtdUsuarios, qtdAntenas, qtdSimbolos, descricao, droparFeatures, repetibilidadeDataset, qtdFolders, rangePotEspiao, rangeSNRs, matrizProbabilidadeDeteccao, matrizConfusao, arraytempoClassificarCadaAmostra, plotar=False)"
   ]
  },
  {
   "cell_type": "code",
   "execution_count": null,
   "metadata": {},
   "outputs": [],
   "source": []
  },
  {
   "cell_type": "code",
   "execution_count": null,
   "metadata": {},
   "outputs": [],
   "source": []
  },
  {
   "cell_type": "code",
   "execution_count": null,
   "metadata": {},
   "outputs": [],
   "source": []
  },
  {
   "cell_type": "markdown",
   "metadata": {},
   "source": [
    "# 3) Perceptron"
   ]
  },
  {
   "cell_type": "code",
   "execution_count": 25,
   "metadata": {},
   "outputs": [],
   "source": [
    "classificador = \"Perceptron()\""
   ]
  },
  {
   "cell_type": "markdown",
   "metadata": {},
   "source": [
    "## Rodando com ML e todas as features"
   ]
  },
  {
   "cell_type": "code",
   "execution_count": 26,
   "metadata": {
    "scrolled": false
   },
   "outputs": [
    {
     "name": "stdout",
     "output_type": "stream",
     "text": [
      "Progresso total: 100.0%\n"
     ]
    }
   ],
   "source": [
    "# PARA COLOCAR NO JSON\n",
    "descricao      = \"Detecção baseada em \" + classificador.split(\"(\")[0] + \" com todas as features\"\n",
    "droparFeatures = None\n",
    "\n",
    "# PARA PRINTAR O PROGRESSO\n",
    "i = 0\n",
    "totalIteracoes = len(rangeQtdUsuarios)*qtdFolders\n",
    "\n",
    "# PARA CADA DATASET\n",
    "for qtdUsuarios in rangeQtdUsuarios:\n",
    "    \n",
    "    # PEGO O QUE E O QUE\n",
    "    arrayData, arrayTarget, arraySNR, arrayPotEspiao = obterDados(qtdUsuarios, qtdAntenas, qtdSimbolos, droparFeatures)\n",
    "    \n",
    "    # VALORES UNICOS DE SNR E POTENCIA DE ESPIAO PRA EU SABER O INDEX DAS MATRIZES DE RESULTADOS\n",
    "    rangeSNRs, rangePotEspiao = obterValoresUnicos(arraySNR, arrayPotEspiao)\n",
    "    \n",
    "    # MATRIZES QUE VAO GUARDAR OS RESULTADOS\n",
    "    matrizProbabilidadeDeteccao      = np.zeros(shape=(len(rangePotEspiao), len(rangeSNRs)))\n",
    "    matrizConfusao                   = np.zeros((2,2))\n",
    "    arraytempoClassificarCadaAmostra = []\n",
    "    \n",
    "    # KFOLD\n",
    "    objKFold = KFold(n_splits=qtdFolders, shuffle=True)\n",
    "    for arrayIndexesTreinamento, arrayIndexesTeste in objKFold.split(arrayData):\n",
    "        \n",
    "        # TREINO E TESTE\n",
    "        xTrain, xTest, yTrain, yTest = arrayData[arrayIndexesTreinamento], arrayData[arrayIndexesTeste], arrayTarget[arrayIndexesTreinamento], arrayTarget[arrayIndexesTeste]\n",
    "        \n",
    "        # CLASSIFICACAO\n",
    "        yPred, tempoClassificarCadaAmostra = treinarEClassificar(xTrain, xTest, yTrain, classificador)\n",
    "        \n",
    "        # AGREGO NA CONFUSION MATRIX\n",
    "        matrizConfusao += confusion_matrix(yTest, yPred)\n",
    "        \n",
    "        # AGREGO NA MATRIZ DE PROB DE DETECCAO\n",
    "        for (indexTesteAtual, predicaoAtual) in zip(arrayIndexesTeste, yPred):\n",
    "            \n",
    "            # PEGANDO EM QUAL LINHA E EM QUAL COLUNA DA MATRIZ EU VOU COLOCAR O RESULTADO\n",
    "            indexPotEsp = np.where(rangePotEspiao==arrayPotEspiao[indexTesteAtual])[0][0]\n",
    "            indexSNR    = np.where(rangeSNRs==arraySNR[indexTesteAtual])[0][0]\n",
    "            \n",
    "            # JA SOMO COM A PROBABILIDADE (DIVIDINDO PELA REPETIBILIDADE)\n",
    "            matrizProbabilidadeDeteccao[indexPotEsp][indexSNR] += predicaoAtual/repetibilidadeDataset\n",
    "            \n",
    "        # AGREGO NO ARRAY DE TEMPO MEDIO DE CLASSIFICACAO DE CADA AMOSTRA EM SEGUNDOS\n",
    "        arraytempoClassificarCadaAmostra.append(tempoClassificarCadaAmostra)\n",
    "    \n",
    "        # PRINTANDO O PROGRESSO\n",
    "        i += 1\n",
    "        clear_output(wait=True)\n",
    "        print(\"Progresso total: \" + str(100*(i/totalIteracoes))[:7] + \"%\")\n",
    "    \n",
    "    # CONSIDERANDO QUE O DATASET ESTA BALANCEADO, HA MUITO MAIS REPETIBILIDADE QUANDO POTESP = 0\n",
    "    matrizProbabilidadeDeteccao[0] /= (len(rangePotEspiao) - 1)\n",
    "    \n",
    "    # SALVANDO E PRINTANDO\n",
    "    salvarResultado(arquivoSalvar, qtdUsuarios, qtdAntenas, qtdSimbolos, descricao, droparFeatures, repetibilidadeDataset, qtdFolders, rangePotEspiao, rangeSNRs, matrizProbabilidadeDeteccao, matrizConfusao, arraytempoClassificarCadaAmostra, plotar=False)"
   ]
  },
  {
   "cell_type": "markdown",
   "metadata": {},
   "source": [
    "## Rodando com ML apenas com os autovalores"
   ]
  },
  {
   "cell_type": "code",
   "execution_count": 27,
   "metadata": {
    "scrolled": false
   },
   "outputs": [
    {
     "name": "stdout",
     "output_type": "stream",
     "text": [
      "Progresso total: 100.0%\n"
     ]
    }
   ],
   "source": [
    "# PARA COLOCAR NO JSON\n",
    "descricao      = \"Detecção baseada em \" + classificador.split(\"(\")[0] + \" apenas com os três autovalores do Kapetanovic\"\n",
    "droparFeatures = [\"E\",\"eta\"]\n",
    "\n",
    "# PARA PRINTAR O PROGRESSO\n",
    "i = 0\n",
    "totalIteracoes = len(rangeQtdUsuarios)*qtdFolders\n",
    "\n",
    "# PARA CADA DATASET\n",
    "for qtdUsuarios in rangeQtdUsuarios:\n",
    "    \n",
    "    # PEGO O QUE E O QUE\n",
    "    arrayData, arrayTarget, arraySNR, arrayPotEspiao = obterDados(qtdUsuarios, qtdAntenas, qtdSimbolos, droparFeatures)\n",
    "    \n",
    "    # VALORES UNICOS DE SNR E POTENCIA DE ESPIAO PRA EU SABER O INDEX DAS MATRIZES DE RESULTADOS\n",
    "    rangeSNRs, rangePotEspiao = obterValoresUnicos(arraySNR, arrayPotEspiao)\n",
    "    \n",
    "    # MATRIZES QUE VAO GUARDAR OS RESULTADOS\n",
    "    matrizProbabilidadeDeteccao      = np.zeros(shape=(len(rangePotEspiao), len(rangeSNRs)))\n",
    "    matrizConfusao                   = np.zeros((2,2))\n",
    "    arraytempoClassificarCadaAmostra = []\n",
    "    \n",
    "    # KFOLD\n",
    "    objKFold = KFold(n_splits=qtdFolders, shuffle=True)\n",
    "    for arrayIndexesTreinamento, arrayIndexesTeste in objKFold.split(arrayData):\n",
    "        \n",
    "        # TREINO E TESTE\n",
    "        xTrain, xTest, yTrain, yTest = arrayData[arrayIndexesTreinamento], arrayData[arrayIndexesTeste], arrayTarget[arrayIndexesTreinamento], arrayTarget[arrayIndexesTeste]\n",
    "        \n",
    "        # CLASSIFICACAO\n",
    "        yPred, tempoClassificarCadaAmostra = treinarEClassificar(xTrain, xTest, yTrain, classificador)\n",
    "        \n",
    "        # AGREGO NA CONFUSION MATRIX\n",
    "        matrizConfusao += confusion_matrix(yTest, yPred)\n",
    "        \n",
    "        # AGREGO NA MATRIZ DE PROB DE DETECCAO\n",
    "        for (indexTesteAtual, predicaoAtual) in zip(arrayIndexesTeste, yPred):\n",
    "            \n",
    "            # PEGANDO EM QUAL LINHA E EM QUAL COLUNA DA MATRIZ EU VOU COLOCAR O RESULTADO\n",
    "            indexPotEsp = np.where(rangePotEspiao==arrayPotEspiao[indexTesteAtual])[0][0]\n",
    "            indexSNR    = np.where(rangeSNRs==arraySNR[indexTesteAtual])[0][0]\n",
    "            \n",
    "            # JA SOMO COM A PROBABILIDADE (DIVIDINDO PELA REPETIBILIDADE)\n",
    "            matrizProbabilidadeDeteccao[indexPotEsp][indexSNR] += predicaoAtual/repetibilidadeDataset\n",
    "            \n",
    "        # AGREGO NO ARRAY DE TEMPO MEDIO DE CLASSIFICACAO DE CADA AMOSTRA EM SEGUNDOS\n",
    "        arraytempoClassificarCadaAmostra.append(tempoClassificarCadaAmostra)\n",
    "    \n",
    "        # PRINTANDO O PROGRESSO\n",
    "        i += 1\n",
    "        clear_output(wait=True)\n",
    "        print(\"Progresso total: \" + str(100*(i/totalIteracoes))[:7] + \"%\")\n",
    "    \n",
    "    # CONSIDERANDO QUE O DATASET ESTA BALANCEADO, HA MUITO MAIS REPETIBILIDADE QUANDO POTESP = 0\n",
    "    matrizProbabilidadeDeteccao[0] /= (len(rangePotEspiao) - 1)\n",
    "    \n",
    "    # SALVANDO E PRINTANDO\n",
    "    salvarResultado(arquivoSalvar, qtdUsuarios, qtdAntenas, qtdSimbolos, descricao, droparFeatures, repetibilidadeDataset, qtdFolders, rangePotEspiao, rangeSNRs, matrizProbabilidadeDeteccao, matrizConfusao, arraytempoClassificarCadaAmostra, plotar=False)"
   ]
  },
  {
   "cell_type": "markdown",
   "metadata": {},
   "source": [
    "## Rodando com ML apenas com E e eta"
   ]
  },
  {
   "cell_type": "code",
   "execution_count": 28,
   "metadata": {
    "scrolled": false
   },
   "outputs": [
    {
     "name": "stdout",
     "output_type": "stream",
     "text": [
      "Progresso total: 100.0%\n"
     ]
    }
   ],
   "source": [
    "descricao      = \"Detecção baseada em \" + classificador.split(\"(\")[0] + \" apenas com E e eta do Hassan\"\n",
    "droparFeatures = [\"a1\",\"a2\",\"a3\"]\n",
    "\n",
    "# PARA PRINTAR O PROGRESSO\n",
    "i = 0\n",
    "totalIteracoes = len(rangeQtdUsuarios)*qtdFolders\n",
    "\n",
    "# PARA CADA DATASET\n",
    "for qtdUsuarios in rangeQtdUsuarios:\n",
    "    \n",
    "    # PEGO O QUE E O QUE\n",
    "    arrayData, arrayTarget, arraySNR, arrayPotEspiao = obterDados(qtdUsuarios, qtdAntenas, qtdSimbolos, droparFeatures)\n",
    "    \n",
    "    # VALORES UNICOS DE SNR E POTENCIA DE ESPIAO PRA EU SABER O INDEX DAS MATRIZES DE RESULTADOS\n",
    "    rangeSNRs, rangePotEspiao = obterValoresUnicos(arraySNR, arrayPotEspiao)\n",
    "    \n",
    "    # MATRIZES QUE VAO GUARDAR OS RESULTADOS\n",
    "    matrizProbabilidadeDeteccao      = np.zeros(shape=(len(rangePotEspiao), len(rangeSNRs)))\n",
    "    matrizConfusao                   = np.zeros((2,2))\n",
    "    arraytempoClassificarCadaAmostra = []\n",
    "    \n",
    "    # KFOLD\n",
    "    objKFold = KFold(n_splits=qtdFolders, shuffle=True)\n",
    "    for arrayIndexesTreinamento, arrayIndexesTeste in objKFold.split(arrayData):\n",
    "        \n",
    "        # TREINO E TESTE\n",
    "        xTrain, xTest, yTrain, yTest = arrayData[arrayIndexesTreinamento], arrayData[arrayIndexesTeste], arrayTarget[arrayIndexesTreinamento], arrayTarget[arrayIndexesTeste]\n",
    "        \n",
    "        # CLASSIFICACAO\n",
    "        yPred, tempoClassificarCadaAmostra = treinarEClassificar(xTrain, xTest, yTrain, classificador)\n",
    "        \n",
    "        # AGREGO NA CONFUSION MATRIX\n",
    "        matrizConfusao += confusion_matrix(yTest, yPred)\n",
    "        \n",
    "        # AGREGO NA MATRIZ DE PROB DE DETECCAO\n",
    "        for (indexTesteAtual, predicaoAtual) in zip(arrayIndexesTeste, yPred):\n",
    "            \n",
    "            # PEGANDO EM QUAL LINHA E EM QUAL COLUNA DA MATRIZ EU VOU COLOCAR O RESULTADO\n",
    "            indexPotEsp = np.where(rangePotEspiao==arrayPotEspiao[indexTesteAtual])[0][0]\n",
    "            indexSNR    = np.where(rangeSNRs==arraySNR[indexTesteAtual])[0][0]\n",
    "            \n",
    "            # JA SOMO COM A PROBABILIDADE (DIVIDINDO PELA REPETIBILIDADE)\n",
    "            matrizProbabilidadeDeteccao[indexPotEsp][indexSNR] += predicaoAtual/repetibilidadeDataset\n",
    "            \n",
    "        # AGREGO NO ARRAY DE TEMPO MEDIO DE CLASSIFICACAO DE CADA AMOSTRA EM SEGUNDOS\n",
    "        arraytempoClassificarCadaAmostra.append(tempoClassificarCadaAmostra)\n",
    "    \n",
    "        # PRINTANDO O PROGRESSO\n",
    "        i += 1\n",
    "        clear_output(wait=True)\n",
    "        print(\"Progresso total: \" + str(100*(i/totalIteracoes))[:7] + \"%\")\n",
    "    \n",
    "    # CONSIDERANDO QUE O DATASET ESTA BALANCEADO, HA MUITO MAIS REPETIBILIDADE QUANDO POTESP = 0\n",
    "    matrizProbabilidadeDeteccao[0] /= (len(rangePotEspiao) - 1)\n",
    "    \n",
    "    # SALVANDO E PRINTANDO\n",
    "    salvarResultado(arquivoSalvar, qtdUsuarios, qtdAntenas, qtdSimbolos, descricao, droparFeatures, repetibilidadeDataset, qtdFolders, rangePotEspiao, rangeSNRs, matrizProbabilidadeDeteccao, matrizConfusao, arraytempoClassificarCadaAmostra, plotar=False)"
   ]
  },
  {
   "cell_type": "markdown",
   "metadata": {},
   "source": [
    "## Rodando com ML ignorando SNR e eta"
   ]
  },
  {
   "cell_type": "code",
   "execution_count": 29,
   "metadata": {
    "scrolled": false
   },
   "outputs": [
    {
     "name": "stdout",
     "output_type": "stream",
     "text": [
      "Progresso total: 100.0%\n"
     ]
    }
   ],
   "source": [
    "descricao      = \"Detecção baseada em \" + classificador.split(\"(\")[0] + \" apenas com E e os 3 autovalores\"\n",
    "droparFeatures = [\"snr\",\"eta\"]\n",
    "\n",
    "# PARA PRINTAR O PROGRESSO\n",
    "i = 0\n",
    "totalIteracoes = len(rangeQtdUsuarios)*qtdFolders\n",
    "\n",
    "# PARA CADA DATASET\n",
    "for qtdUsuarios in rangeQtdUsuarios:\n",
    "    \n",
    "    # PEGO O QUE E O QUE\n",
    "    arrayData, arrayTarget, arraySNR, arrayPotEspiao = obterDados(qtdUsuarios, qtdAntenas, qtdSimbolos, droparFeatures)\n",
    "    \n",
    "    # VALORES UNICOS DE SNR E POTENCIA DE ESPIAO PRA EU SABER O INDEX DAS MATRIZES DE RESULTADOS\n",
    "    rangeSNRs, rangePotEspiao = obterValoresUnicos(arraySNR, arrayPotEspiao)\n",
    "    \n",
    "    # MATRIZES QUE VAO GUARDAR OS RESULTADOS\n",
    "    matrizProbabilidadeDeteccao      = np.zeros(shape=(len(rangePotEspiao), len(rangeSNRs)))\n",
    "    matrizConfusao                   = np.zeros((2,2))\n",
    "    arraytempoClassificarCadaAmostra = []\n",
    "    \n",
    "    # KFOLD\n",
    "    objKFold = KFold(n_splits=qtdFolders, shuffle=True)\n",
    "    for arrayIndexesTreinamento, arrayIndexesTeste in objKFold.split(arrayData):\n",
    "        \n",
    "        # TREINO E TESTE\n",
    "        xTrain, xTest, yTrain, yTest = arrayData[arrayIndexesTreinamento], arrayData[arrayIndexesTeste], arrayTarget[arrayIndexesTreinamento], arrayTarget[arrayIndexesTeste]\n",
    "        \n",
    "        # CLASSIFICACAO\n",
    "        yPred, tempoClassificarCadaAmostra = treinarEClassificar(xTrain, xTest, yTrain, classificador)\n",
    "        \n",
    "        # AGREGO NA CONFUSION MATRIX\n",
    "        matrizConfusao += confusion_matrix(yTest, yPred)\n",
    "        \n",
    "        # AGREGO NA MATRIZ DE PROB DE DETECCAO\n",
    "        for (indexTesteAtual, predicaoAtual) in zip(arrayIndexesTeste, yPred):\n",
    "            \n",
    "            # PEGANDO EM QUAL LINHA E EM QUAL COLUNA DA MATRIZ EU VOU COLOCAR O RESULTADO\n",
    "            indexPotEsp = np.where(rangePotEspiao==arrayPotEspiao[indexTesteAtual])[0][0]\n",
    "            indexSNR    = np.where(rangeSNRs==arraySNR[indexTesteAtual])[0][0]\n",
    "            \n",
    "            # JA SOMO COM A PROBABILIDADE (DIVIDINDO PELA REPETIBILIDADE)\n",
    "            matrizProbabilidadeDeteccao[indexPotEsp][indexSNR] += predicaoAtual/repetibilidadeDataset\n",
    "            \n",
    "        # AGREGO NO ARRAY DE TEMPO MEDIO DE CLASSIFICACAO DE CADA AMOSTRA EM SEGUNDOS\n",
    "        arraytempoClassificarCadaAmostra.append(tempoClassificarCadaAmostra)\n",
    "    \n",
    "        # PRINTANDO O PROGRESSO\n",
    "        i += 1\n",
    "        clear_output(wait=True)\n",
    "        print(\"Progresso total: \" + str(100*(i/totalIteracoes))[:7] + \"%\")\n",
    "    \n",
    "    # CONSIDERANDO QUE O DATASET ESTA BALANCEADO, HA MUITO MAIS REPETIBILIDADE QUANDO POTESP = 0\n",
    "    matrizProbabilidadeDeteccao[0] /= (len(rangePotEspiao) - 1)\n",
    "    \n",
    "    # SALVANDO E PRINTANDO\n",
    "    salvarResultado(arquivoSalvar, qtdUsuarios, qtdAntenas, qtdSimbolos, descricao, droparFeatures, repetibilidadeDataset, qtdFolders, rangePotEspiao, rangeSNRs, matrizProbabilidadeDeteccao, matrizConfusao, arraytempoClassificarCadaAmostra, plotar=False)"
   ]
  },
  {
   "cell_type": "code",
   "execution_count": null,
   "metadata": {},
   "outputs": [],
   "source": []
  },
  {
   "cell_type": "code",
   "execution_count": null,
   "metadata": {},
   "outputs": [],
   "source": []
  },
  {
   "cell_type": "code",
   "execution_count": null,
   "metadata": {},
   "outputs": [],
   "source": []
  },
  {
   "cell_type": "markdown",
   "metadata": {},
   "source": [
    "# 4) SVM otimizado com SGD"
   ]
  },
  {
   "cell_type": "code",
   "execution_count": 30,
   "metadata": {},
   "outputs": [],
   "source": [
    "classificador = \"SGDClassifier()\""
   ]
  },
  {
   "cell_type": "markdown",
   "metadata": {},
   "source": [
    "## Rodando com ML e todas as features"
   ]
  },
  {
   "cell_type": "code",
   "execution_count": 31,
   "metadata": {
    "scrolled": false
   },
   "outputs": [
    {
     "name": "stdout",
     "output_type": "stream",
     "text": [
      "Progresso total: 100.0%\n"
     ]
    }
   ],
   "source": [
    "# PARA COLOCAR NO JSON\n",
    "descricao      = \"Detecção baseada em \" + classificador.split(\"(\")[0] + \" com todas as features\"\n",
    "droparFeatures = None\n",
    "\n",
    "# PARA PRINTAR O PROGRESSO\n",
    "i = 0\n",
    "totalIteracoes = len(rangeQtdUsuarios)*qtdFolders\n",
    "\n",
    "# PARA CADA DATASET\n",
    "for qtdUsuarios in rangeQtdUsuarios:\n",
    "    \n",
    "    # PEGO O QUE E O QUE\n",
    "    arrayData, arrayTarget, arraySNR, arrayPotEspiao = obterDados(qtdUsuarios, qtdAntenas, qtdSimbolos, droparFeatures)\n",
    "    \n",
    "    # VALORES UNICOS DE SNR E POTENCIA DE ESPIAO PRA EU SABER O INDEX DAS MATRIZES DE RESULTADOS\n",
    "    rangeSNRs, rangePotEspiao = obterValoresUnicos(arraySNR, arrayPotEspiao)\n",
    "    \n",
    "    # MATRIZES QUE VAO GUARDAR OS RESULTADOS\n",
    "    matrizProbabilidadeDeteccao      = np.zeros(shape=(len(rangePotEspiao), len(rangeSNRs)))\n",
    "    matrizConfusao                   = np.zeros((2,2))\n",
    "    arraytempoClassificarCadaAmostra = []\n",
    "    \n",
    "    # KFOLD\n",
    "    objKFold = KFold(n_splits=qtdFolders, shuffle=True)\n",
    "    for arrayIndexesTreinamento, arrayIndexesTeste in objKFold.split(arrayData):\n",
    "        \n",
    "        # TREINO E TESTE\n",
    "        xTrain, xTest, yTrain, yTest = arrayData[arrayIndexesTreinamento], arrayData[arrayIndexesTeste], arrayTarget[arrayIndexesTreinamento], arrayTarget[arrayIndexesTeste]\n",
    "        \n",
    "        # CLASSIFICACAO\n",
    "        yPred, tempoClassificarCadaAmostra = treinarEClassificar(xTrain, xTest, yTrain, classificador)\n",
    "        \n",
    "        # AGREGO NA CONFUSION MATRIX\n",
    "        matrizConfusao += confusion_matrix(yTest, yPred)\n",
    "        \n",
    "        # AGREGO NA MATRIZ DE PROB DE DETECCAO\n",
    "        for (indexTesteAtual, predicaoAtual) in zip(arrayIndexesTeste, yPred):\n",
    "            \n",
    "            # PEGANDO EM QUAL LINHA E EM QUAL COLUNA DA MATRIZ EU VOU COLOCAR O RESULTADO\n",
    "            indexPotEsp = np.where(rangePotEspiao==arrayPotEspiao[indexTesteAtual])[0][0]\n",
    "            indexSNR    = np.where(rangeSNRs==arraySNR[indexTesteAtual])[0][0]\n",
    "            \n",
    "            # JA SOMO COM A PROBABILIDADE (DIVIDINDO PELA REPETIBILIDADE)\n",
    "            matrizProbabilidadeDeteccao[indexPotEsp][indexSNR] += predicaoAtual/repetibilidadeDataset\n",
    "            \n",
    "        # AGREGO NO ARRAY DE TEMPO MEDIO DE CLASSIFICACAO DE CADA AMOSTRA EM SEGUNDOS\n",
    "        arraytempoClassificarCadaAmostra.append(tempoClassificarCadaAmostra)\n",
    "    \n",
    "        # PRINTANDO O PROGRESSO\n",
    "        i += 1\n",
    "        clear_output(wait=True)\n",
    "        print(\"Progresso total: \" + str(100*(i/totalIteracoes))[:7] + \"%\")\n",
    "    \n",
    "    # CONSIDERANDO QUE O DATASET ESTA BALANCEADO, HA MUITO MAIS REPETIBILIDADE QUANDO POTESP = 0\n",
    "    matrizProbabilidadeDeteccao[0] /= (len(rangePotEspiao) - 1)\n",
    "    \n",
    "    # SALVANDO E PRINTANDO\n",
    "    salvarResultado(arquivoSalvar, qtdUsuarios, qtdAntenas, qtdSimbolos, descricao, droparFeatures, repetibilidadeDataset, qtdFolders, rangePotEspiao, rangeSNRs, matrizProbabilidadeDeteccao, matrizConfusao, arraytempoClassificarCadaAmostra, plotar=False)"
   ]
  },
  {
   "cell_type": "markdown",
   "metadata": {},
   "source": [
    "## Rodando com ML apenas com os autovalores"
   ]
  },
  {
   "cell_type": "code",
   "execution_count": 32,
   "metadata": {
    "scrolled": false
   },
   "outputs": [
    {
     "name": "stdout",
     "output_type": "stream",
     "text": [
      "Progresso total: 100.0%\n"
     ]
    }
   ],
   "source": [
    "# PARA COLOCAR NO JSON\n",
    "descricao      = \"Detecção baseada em \" + classificador.split(\"(\")[0] + \" apenas com os três autovalores do Kapetanovic\"\n",
    "droparFeatures = [\"E\",\"eta\"]\n",
    "\n",
    "# PARA PRINTAR O PROGRESSO\n",
    "i = 0\n",
    "totalIteracoes = len(rangeQtdUsuarios)*qtdFolders\n",
    "\n",
    "# PARA CADA DATASET\n",
    "for qtdUsuarios in rangeQtdUsuarios:\n",
    "    \n",
    "    # PEGO O QUE E O QUE\n",
    "    arrayData, arrayTarget, arraySNR, arrayPotEspiao = obterDados(qtdUsuarios, qtdAntenas, qtdSimbolos, droparFeatures)\n",
    "    \n",
    "    # VALORES UNICOS DE SNR E POTENCIA DE ESPIAO PRA EU SABER O INDEX DAS MATRIZES DE RESULTADOS\n",
    "    rangeSNRs, rangePotEspiao = obterValoresUnicos(arraySNR, arrayPotEspiao)\n",
    "    \n",
    "    # MATRIZES QUE VAO GUARDAR OS RESULTADOS\n",
    "    matrizProbabilidadeDeteccao      = np.zeros(shape=(len(rangePotEspiao), len(rangeSNRs)))\n",
    "    matrizConfusao                   = np.zeros((2,2))\n",
    "    arraytempoClassificarCadaAmostra = []\n",
    "    \n",
    "    # KFOLD\n",
    "    objKFold = KFold(n_splits=qtdFolders, shuffle=True)\n",
    "    for arrayIndexesTreinamento, arrayIndexesTeste in objKFold.split(arrayData):\n",
    "        \n",
    "        # TREINO E TESTE\n",
    "        xTrain, xTest, yTrain, yTest = arrayData[arrayIndexesTreinamento], arrayData[arrayIndexesTeste], arrayTarget[arrayIndexesTreinamento], arrayTarget[arrayIndexesTeste]\n",
    "        \n",
    "        # CLASSIFICACAO\n",
    "        yPred, tempoClassificarCadaAmostra = treinarEClassificar(xTrain, xTest, yTrain, classificador)\n",
    "        \n",
    "        # AGREGO NA CONFUSION MATRIX\n",
    "        matrizConfusao += confusion_matrix(yTest, yPred)\n",
    "        \n",
    "        # AGREGO NA MATRIZ DE PROB DE DETECCAO\n",
    "        for (indexTesteAtual, predicaoAtual) in zip(arrayIndexesTeste, yPred):\n",
    "            \n",
    "            # PEGANDO EM QUAL LINHA E EM QUAL COLUNA DA MATRIZ EU VOU COLOCAR O RESULTADO\n",
    "            indexPotEsp = np.where(rangePotEspiao==arrayPotEspiao[indexTesteAtual])[0][0]\n",
    "            indexSNR    = np.where(rangeSNRs==arraySNR[indexTesteAtual])[0][0]\n",
    "            \n",
    "            # JA SOMO COM A PROBABILIDADE (DIVIDINDO PELA REPETIBILIDADE)\n",
    "            matrizProbabilidadeDeteccao[indexPotEsp][indexSNR] += predicaoAtual/repetibilidadeDataset\n",
    "            \n",
    "        # AGREGO NO ARRAY DE TEMPO MEDIO DE CLASSIFICACAO DE CADA AMOSTRA EM SEGUNDOS\n",
    "        arraytempoClassificarCadaAmostra.append(tempoClassificarCadaAmostra)\n",
    "    \n",
    "        # PRINTANDO O PROGRESSO\n",
    "        i += 1\n",
    "        clear_output(wait=True)\n",
    "        print(\"Progresso total: \" + str(100*(i/totalIteracoes))[:7] + \"%\")\n",
    "    \n",
    "    # CONSIDERANDO QUE O DATASET ESTA BALANCEADO, HA MUITO MAIS REPETIBILIDADE QUANDO POTESP = 0\n",
    "    matrizProbabilidadeDeteccao[0] /= (len(rangePotEspiao) - 1)\n",
    "    \n",
    "    # SALVANDO E PRINTANDO\n",
    "    salvarResultado(arquivoSalvar, qtdUsuarios, qtdAntenas, qtdSimbolos, descricao, droparFeatures, repetibilidadeDataset, qtdFolders, rangePotEspiao, rangeSNRs, matrizProbabilidadeDeteccao, matrizConfusao, arraytempoClassificarCadaAmostra, plotar=False)"
   ]
  },
  {
   "cell_type": "markdown",
   "metadata": {},
   "source": [
    "## Rodando com ML apenas com E e eta"
   ]
  },
  {
   "cell_type": "code",
   "execution_count": 33,
   "metadata": {
    "scrolled": false
   },
   "outputs": [
    {
     "name": "stdout",
     "output_type": "stream",
     "text": [
      "Progresso total: 100.0%\n"
     ]
    }
   ],
   "source": [
    "descricao      = \"Detecção baseada em \" + classificador.split(\"(\")[0] + \" apenas com E e eta do Hassan\"\n",
    "droparFeatures = [\"a1\",\"a2\",\"a3\"]\n",
    "\n",
    "# PARA PRINTAR O PROGRESSO\n",
    "i = 0\n",
    "totalIteracoes = len(rangeQtdUsuarios)*qtdFolders\n",
    "\n",
    "# PARA CADA DATASET\n",
    "for qtdUsuarios in rangeQtdUsuarios:\n",
    "    \n",
    "    # PEGO O QUE E O QUE\n",
    "    arrayData, arrayTarget, arraySNR, arrayPotEspiao = obterDados(qtdUsuarios, qtdAntenas, qtdSimbolos, droparFeatures)\n",
    "    \n",
    "    # VALORES UNICOS DE SNR E POTENCIA DE ESPIAO PRA EU SABER O INDEX DAS MATRIZES DE RESULTADOS\n",
    "    rangeSNRs, rangePotEspiao = obterValoresUnicos(arraySNR, arrayPotEspiao)\n",
    "    \n",
    "    # MATRIZES QUE VAO GUARDAR OS RESULTADOS\n",
    "    matrizProbabilidadeDeteccao      = np.zeros(shape=(len(rangePotEspiao), len(rangeSNRs)))\n",
    "    matrizConfusao                   = np.zeros((2,2))\n",
    "    arraytempoClassificarCadaAmostra = []\n",
    "    \n",
    "    # KFOLD\n",
    "    objKFold = KFold(n_splits=qtdFolders, shuffle=True)\n",
    "    for arrayIndexesTreinamento, arrayIndexesTeste in objKFold.split(arrayData):\n",
    "        \n",
    "        # TREINO E TESTE\n",
    "        xTrain, xTest, yTrain, yTest = arrayData[arrayIndexesTreinamento], arrayData[arrayIndexesTeste], arrayTarget[arrayIndexesTreinamento], arrayTarget[arrayIndexesTeste]\n",
    "        \n",
    "        # CLASSIFICACAO\n",
    "        yPred, tempoClassificarCadaAmostra = treinarEClassificar(xTrain, xTest, yTrain, classificador)\n",
    "        \n",
    "        # AGREGO NA CONFUSION MATRIX\n",
    "        matrizConfusao += confusion_matrix(yTest, yPred)\n",
    "        \n",
    "        # AGREGO NA MATRIZ DE PROB DE DETECCAO\n",
    "        for (indexTesteAtual, predicaoAtual) in zip(arrayIndexesTeste, yPred):\n",
    "            \n",
    "            # PEGANDO EM QUAL LINHA E EM QUAL COLUNA DA MATRIZ EU VOU COLOCAR O RESULTADO\n",
    "            indexPotEsp = np.where(rangePotEspiao==arrayPotEspiao[indexTesteAtual])[0][0]\n",
    "            indexSNR    = np.where(rangeSNRs==arraySNR[indexTesteAtual])[0][0]\n",
    "            \n",
    "            # JA SOMO COM A PROBABILIDADE (DIVIDINDO PELA REPETIBILIDADE)\n",
    "            matrizProbabilidadeDeteccao[indexPotEsp][indexSNR] += predicaoAtual/repetibilidadeDataset\n",
    "            \n",
    "        # AGREGO NO ARRAY DE TEMPO MEDIO DE CLASSIFICACAO DE CADA AMOSTRA EM SEGUNDOS\n",
    "        arraytempoClassificarCadaAmostra.append(tempoClassificarCadaAmostra)\n",
    "    \n",
    "        # PRINTANDO O PROGRESSO\n",
    "        i += 1\n",
    "        clear_output(wait=True)\n",
    "        print(\"Progresso total: \" + str(100*(i/totalIteracoes))[:7] + \"%\")\n",
    "    \n",
    "    # CONSIDERANDO QUE O DATASET ESTA BALANCEADO, HA MUITO MAIS REPETIBILIDADE QUANDO POTESP = 0\n",
    "    matrizProbabilidadeDeteccao[0] /= (len(rangePotEspiao) - 1)\n",
    "    \n",
    "    # SALVANDO E PRINTANDO\n",
    "    salvarResultado(arquivoSalvar, qtdUsuarios, qtdAntenas, qtdSimbolos, descricao, droparFeatures, repetibilidadeDataset, qtdFolders, rangePotEspiao, rangeSNRs, matrizProbabilidadeDeteccao, matrizConfusao, arraytempoClassificarCadaAmostra, plotar=False)"
   ]
  },
  {
   "cell_type": "markdown",
   "metadata": {},
   "source": [
    "## Rodando com ML ignorando SNR e eta"
   ]
  },
  {
   "cell_type": "code",
   "execution_count": 34,
   "metadata": {
    "scrolled": false
   },
   "outputs": [
    {
     "name": "stdout",
     "output_type": "stream",
     "text": [
      "Progresso total: 100.0%\n"
     ]
    }
   ],
   "source": [
    "descricao      = \"Detecção baseada em \" + classificador.split(\"(\")[0] + \" apenas com E e os 3 autovalores\"\n",
    "droparFeatures = [\"snr\",\"eta\"]\n",
    "\n",
    "# PARA PRINTAR O PROGRESSO\n",
    "i = 0\n",
    "totalIteracoes = len(rangeQtdUsuarios)*qtdFolders\n",
    "\n",
    "# PARA CADA DATASET\n",
    "for qtdUsuarios in rangeQtdUsuarios:\n",
    "    \n",
    "    # PEGO O QUE E O QUE\n",
    "    arrayData, arrayTarget, arraySNR, arrayPotEspiao = obterDados(qtdUsuarios, qtdAntenas, qtdSimbolos, droparFeatures)\n",
    "    \n",
    "    # VALORES UNICOS DE SNR E POTENCIA DE ESPIAO PRA EU SABER O INDEX DAS MATRIZES DE RESULTADOS\n",
    "    rangeSNRs, rangePotEspiao = obterValoresUnicos(arraySNR, arrayPotEspiao)\n",
    "    \n",
    "    # MATRIZES QUE VAO GUARDAR OS RESULTADOS\n",
    "    matrizProbabilidadeDeteccao      = np.zeros(shape=(len(rangePotEspiao), len(rangeSNRs)))\n",
    "    matrizConfusao                   = np.zeros((2,2))\n",
    "    arraytempoClassificarCadaAmostra = []\n",
    "    \n",
    "    # KFOLD\n",
    "    objKFold = KFold(n_splits=qtdFolders, shuffle=True)\n",
    "    for arrayIndexesTreinamento, arrayIndexesTeste in objKFold.split(arrayData):\n",
    "        \n",
    "        # TREINO E TESTE\n",
    "        xTrain, xTest, yTrain, yTest = arrayData[arrayIndexesTreinamento], arrayData[arrayIndexesTeste], arrayTarget[arrayIndexesTreinamento], arrayTarget[arrayIndexesTeste]\n",
    "        \n",
    "        # CLASSIFICACAO\n",
    "        yPred, tempoClassificarCadaAmostra = treinarEClassificar(xTrain, xTest, yTrain, classificador)\n",
    "        \n",
    "        # AGREGO NA CONFUSION MATRIX\n",
    "        matrizConfusao += confusion_matrix(yTest, yPred)\n",
    "        \n",
    "        # AGREGO NA MATRIZ DE PROB DE DETECCAO\n",
    "        for (indexTesteAtual, predicaoAtual) in zip(arrayIndexesTeste, yPred):\n",
    "            \n",
    "            # PEGANDO EM QUAL LINHA E EM QUAL COLUNA DA MATRIZ EU VOU COLOCAR O RESULTADO\n",
    "            indexPotEsp = np.where(rangePotEspiao==arrayPotEspiao[indexTesteAtual])[0][0]\n",
    "            indexSNR    = np.where(rangeSNRs==arraySNR[indexTesteAtual])[0][0]\n",
    "            \n",
    "            # JA SOMO COM A PROBABILIDADE (DIVIDINDO PELA REPETIBILIDADE)\n",
    "            matrizProbabilidadeDeteccao[indexPotEsp][indexSNR] += predicaoAtual/repetibilidadeDataset\n",
    "            \n",
    "        # AGREGO NO ARRAY DE TEMPO MEDIO DE CLASSIFICACAO DE CADA AMOSTRA EM SEGUNDOS\n",
    "        arraytempoClassificarCadaAmostra.append(tempoClassificarCadaAmostra)\n",
    "    \n",
    "        # PRINTANDO O PROGRESSO\n",
    "        i += 1\n",
    "        clear_output(wait=True)\n",
    "        print(\"Progresso total: \" + str(100*(i/totalIteracoes))[:7] + \"%\")\n",
    "    \n",
    "    # CONSIDERANDO QUE O DATASET ESTA BALANCEADO, HA MUITO MAIS REPETIBILIDADE QUANDO POTESP = 0\n",
    "    matrizProbabilidadeDeteccao[0] /= (len(rangePotEspiao) - 1)\n",
    "    \n",
    "    # SALVANDO E PRINTANDO\n",
    "    salvarResultado(arquivoSalvar, qtdUsuarios, qtdAntenas, qtdSimbolos, descricao, droparFeatures, repetibilidadeDataset, qtdFolders, rangePotEspiao, rangeSNRs, matrizProbabilidadeDeteccao, matrizConfusao, arraytempoClassificarCadaAmostra, plotar=False)"
   ]
  },
  {
   "cell_type": "code",
   "execution_count": null,
   "metadata": {},
   "outputs": [],
   "source": []
  },
  {
   "cell_type": "code",
   "execution_count": null,
   "metadata": {},
   "outputs": [],
   "source": []
  },
  {
   "cell_type": "code",
   "execution_count": null,
   "metadata": {},
   "outputs": [],
   "source": []
  },
  {
   "cell_type": "markdown",
   "metadata": {},
   "source": [
    "# 5) Rodando algoritmo do Hassan E>eta (sem ML)"
   ]
  },
  {
   "cell_type": "code",
   "execution_count": 35,
   "metadata": {
    "scrolled": false
   },
   "outputs": [
    {
     "name": "stdout",
     "output_type": "stream",
     "text": [
      "Progresso total: 100.0%\n"
     ]
    }
   ],
   "source": [
    "descricao      = \"Detecção baseada no algoritmo do Hassan (sem ML)\"\n",
    "droparFeatures = [\"a1\",\"a2\",\"a3\"]\n",
    "\n",
    "# PARA PRINTAR O PROGRESSO\n",
    "i = 0\n",
    "totalIteracoes = len(rangeQtdUsuarios)*qtdFolders\n",
    "\n",
    "# PARA CADA DATASET\n",
    "for qtdUsuarios in rangeQtdUsuarios:\n",
    "    \n",
    "    # PEGO O QUE E O QUE\n",
    "    arrayData, arrayTarget, arraySNR, arrayPotEspiao = obterDados(qtdUsuarios, qtdAntenas, qtdSimbolos, droparFeatures)\n",
    "    \n",
    "    # VALORES UNICOS DE SNR E POTENCIA DE ESPIAO PRA EU SABER O INDEX DAS MATRIZES DE RESULTADOS\n",
    "    rangeSNRs, rangePotEspiao = obterValoresUnicos(arraySNR, arrayPotEspiao)\n",
    "    \n",
    "    # MATRIZES QUE VAO GUARDAR OS RESULTADOS\n",
    "    matrizProbabilidadeDeteccao      = np.zeros(shape=(len(rangePotEspiao), len(rangeSNRs)))\n",
    "    matrizConfusao                   = np.zeros((2,2))\n",
    "    arraytempoClassificarCadaAmostra = []\n",
    "    \n",
    "    # KFOLD\n",
    "    objKFold = KFold(n_splits=qtdFolders, shuffle=True)\n",
    "    for arrayIndexesTreinamento, arrayIndexesTeste in objKFold.split(arrayData):\n",
    "        \n",
    "        # TREINO E TESTE\n",
    "        xTrain, xTest, yTrain, yTest = arrayData[arrayIndexesTreinamento], arrayData[arrayIndexesTeste], arrayTarget[arrayIndexesTreinamento], arrayTarget[arrayIndexesTeste]\n",
    "        \n",
    "        # CLASSIFICACAO\n",
    "        yPred, tempoClassificarCadaAmostra = deteccaoHassan(xTest)\n",
    "        \n",
    "        # AGREGO NA CONFUSION MATRIX\n",
    "        matrizConfusao += confusion_matrix(yTest, yPred)\n",
    "        \n",
    "        # AGREGO NA MATRIZ DE PROB DE DETECCAO\n",
    "        for (indexTesteAtual, predicaoAtual) in zip(arrayIndexesTeste, yPred):\n",
    "            \n",
    "            # PEGANDO EM QUAL LINHA E EM QUAL COLUNA DA MATRIZ EU VOU COLOCAR O RESULTADO\n",
    "            indexPotEsp = np.where(rangePotEspiao==arrayPotEspiao[indexTesteAtual])[0][0]\n",
    "            indexSNR    = np.where(rangeSNRs==arraySNR[indexTesteAtual])[0][0]\n",
    "            \n",
    "            # JA SOMO COM A PROBABILIDADE (DIVIDINDO PELA REPETIBILIDADE)\n",
    "            matrizProbabilidadeDeteccao[indexPotEsp][indexSNR] += predicaoAtual/repetibilidadeDataset\n",
    "            \n",
    "        # AGREGO NO ARRAY DE TEMPO MEDIO DE CLASSIFICACAO DE CADA AMOSTRA EM SEGUNDOS\n",
    "        arraytempoClassificarCadaAmostra.append(tempoClassificarCadaAmostra)\n",
    "            \n",
    "        # PRINTANDO O PROGRESSO\n",
    "        i += 1\n",
    "        clear_output(wait=True)\n",
    "        print(\"Progresso total: \" + str(100*(i/totalIteracoes))[:7] + \"%\")\n",
    "    \n",
    "    # CONSIDERANDO QUE O DATASET ESTA BALANCEADO, HA MUITO MAIS REPETIBILIDADE QUANDO POTESP = 0\n",
    "    matrizProbabilidadeDeteccao[0] /= (len(rangePotEspiao) - 1)\n",
    "    \n",
    "    # SALVANDO E PRINTANDO\n",
    "    salvarResultado(arquivoSalvar, qtdUsuarios, qtdAntenas, qtdSimbolos, descricao, droparFeatures, repetibilidadeDataset, qtdFolders, rangePotEspiao, rangeSNRs, matrizProbabilidadeDeteccao, matrizConfusao, arraytempoClassificarCadaAmostra, plotar=False)"
   ]
  },
  {
   "cell_type": "code",
   "execution_count": null,
   "metadata": {},
   "outputs": [],
   "source": []
  },
  {
   "cell_type": "code",
   "execution_count": null,
   "metadata": {},
   "outputs": [],
   "source": []
  },
  {
   "cell_type": "code",
   "execution_count": null,
   "metadata": {},
   "outputs": [],
   "source": []
  },
  {
   "cell_type": "markdown",
   "metadata": {},
   "source": [
    "# 6) Rodando algoritmo do Kapetanovic a1/a2 > threshold (sem ML)"
   ]
  },
  {
   "cell_type": "code",
   "execution_count": 36,
   "metadata": {
    "scrolled": false
   },
   "outputs": [
    {
     "name": "stdout",
     "output_type": "stream",
     "text": [
      "Progresso total: 100.0%\n"
     ]
    }
   ],
   "source": [
    "descricao      = \"Detecção baseada no algoritmo do Kapetanovic (sem ML)\"\n",
    "droparFeatures = [\"E\",\"eta\",\"a3\"]\n",
    "\n",
    "# PARA PRINTAR O PROGRESSO\n",
    "i = 0\n",
    "totalIteracoes = len(rangeQtdUsuarios)*qtdFolders\n",
    "\n",
    "# PARA CADA DATASET\n",
    "for qtdUsuarios in rangeQtdUsuarios:\n",
    "    \n",
    "    # PEGO O QUE E O QUE\n",
    "    arrayData, arrayTarget, arraySNR, arrayPotEspiao = obterDados(qtdUsuarios, qtdAntenas, qtdSimbolos, droparFeatures)\n",
    "    \n",
    "    # VALORES UNICOS DE SNR E POTENCIA DE ESPIAO PRA EU SABER O INDEX DAS MATRIZES DE RESULTADOS\n",
    "    rangeSNRs, rangePotEspiao = obterValoresUnicos(arraySNR, arrayPotEspiao)\n",
    "    \n",
    "    # MATRIZES QUE VAO GUARDAR OS RESULTADOS\n",
    "    matrizProbabilidadeDeteccao      = np.zeros(shape=(len(rangePotEspiao), len(rangeSNRs)))\n",
    "    matrizConfusao                   = np.zeros((2,2))\n",
    "    arraytempoClassificarCadaAmostra = []\n",
    "    \n",
    "    # KFOLD\n",
    "    objKFold = KFold(n_splits=qtdFolders, shuffle=True)\n",
    "    for arrayIndexesTreinamento, arrayIndexesTeste in objKFold.split(arrayData):\n",
    "        \n",
    "        # TREINO E TESTE\n",
    "        xTrain, xTest, yTrain, yTest = arrayData[arrayIndexesTreinamento], arrayData[arrayIndexesTeste], arrayTarget[arrayIndexesTreinamento], arrayTarget[arrayIndexesTeste]\n",
    "        \n",
    "        # CLASSIFICACAO\n",
    "        yPred, tempoClassificarCadaAmostra = deteccaoKapetanovic(xTest, 100)\n",
    "        \n",
    "        # AGREGO NA CONFUSION MATRIX\n",
    "        matrizConfusao += confusion_matrix(yTest, yPred)\n",
    "        \n",
    "        # AGREGO NA MATRIZ DE PROB DE DETECCAO\n",
    "        for (indexTesteAtual, predicaoAtual) in zip(arrayIndexesTeste, yPred):\n",
    "            \n",
    "            # PEGANDO EM QUAL LINHA E EM QUAL COLUNA DA MATRIZ EU VOU COLOCAR O RESULTADO\n",
    "            indexPotEsp = np.where(rangePotEspiao==arrayPotEspiao[indexTesteAtual])[0][0]\n",
    "            indexSNR    = np.where(rangeSNRs==arraySNR[indexTesteAtual])[0][0]\n",
    "            \n",
    "            # JA SOMO COM A PROBABILIDADE (DIVIDINDO PELA REPETIBILIDADE)\n",
    "            matrizProbabilidadeDeteccao[indexPotEsp][indexSNR] += predicaoAtual/repetibilidadeDataset\n",
    "            \n",
    "        # AGREGO NO ARRAY DE TEMPO MEDIO DE CLASSIFICACAO DE CADA AMOSTRA EM SEGUNDOS\n",
    "        arraytempoClassificarCadaAmostra.append(tempoClassificarCadaAmostra)\n",
    "            \n",
    "        # PRINTANDO O PROGRESSO\n",
    "        i += 1\n",
    "        clear_output(wait=True)\n",
    "        print(\"Progresso total: \" + str(100*(i/totalIteracoes))[:7] + \"%\")\n",
    "    \n",
    "    # CONSIDERANDO QUE O DATASET ESTA BALANCEADO, HA MUITO MAIS REPETIBILIDADE QUANDO POTESP = 0\n",
    "    matrizProbabilidadeDeteccao[0] /= (len(rangePotEspiao) - 1)\n",
    "    \n",
    "    # SALVANDO E PRINTANDO\n",
    "    salvarResultado(arquivoSalvar, qtdUsuarios, qtdAntenas, qtdSimbolos, descricao, droparFeatures, repetibilidadeDataset, qtdFolders, rangePotEspiao, rangeSNRs, matrizProbabilidadeDeteccao, matrizConfusao, arraytempoClassificarCadaAmostra, plotar=False)"
   ]
  },
  {
   "cell_type": "code",
   "execution_count": null,
   "metadata": {},
   "outputs": [],
   "source": []
  },
  {
   "cell_type": "code",
   "execution_count": null,
   "metadata": {},
   "outputs": [],
   "source": []
  },
  {
   "cell_type": "code",
   "execution_count": null,
   "metadata": {},
   "outputs": [],
   "source": []
  },
  {
   "cell_type": "markdown",
   "metadata": {},
   "source": [
    "### Encerrando o JSON"
   ]
  },
  {
   "cell_type": "code",
   "execution_count": 37,
   "metadata": {},
   "outputs": [],
   "source": [
    "encerrarJSON(arquivoSalvar)"
   ]
  }
 ],
 "metadata": {
  "kernelspec": {
   "display_name": "Python 3",
   "language": "python",
   "name": "python3"
  },
  "language_info": {
   "codemirror_mode": {
    "name": "ipython",
    "version": 3
   },
   "file_extension": ".py",
   "mimetype": "text/x-python",
   "name": "python",
   "nbconvert_exporter": "python",
   "pygments_lexer": "ipython3",
   "version": "3.6.12"
  }
 },
 "nbformat": 4,
 "nbformat_minor": 4
}
