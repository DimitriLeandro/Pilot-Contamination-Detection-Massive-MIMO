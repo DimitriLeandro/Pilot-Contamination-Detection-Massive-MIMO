{
 "cells": [
  {
   "cell_type": "markdown",
   "metadata": {},
   "source": [
    "## Imports"
   ]
  },
  {
   "cell_type": "code",
   "execution_count": 1,
   "metadata": {},
   "outputs": [],
   "source": [
    "import numpy as np\n",
    "import pandas as pd\n",
    "import matplotlib.pyplot as plt\n",
    "import json\n",
    "from pathlib import Path\n",
    "from time import time\n",
    "from sklearn.metrics import confusion_matrix, accuracy_score, recall_score, precision_score\n",
    "from sklearn.ensemble import RandomForestClassifier\n",
    "from sklearn.linear_model import Perceptron\n",
    "from sklearn.tree import DecisionTreeClassifier\n",
    "from sklearn.discriminant_analysis import LinearDiscriminantAnalysis\n",
    "from sklearn.utils import shuffle\n",
    "from joblib import Parallel, delayed"
   ]
  },
  {
   "cell_type": "code",
   "execution_count": 2,
   "metadata": {},
   "outputs": [],
   "source": [
    "#DEFININDO ALGUNS PARÂMETROS DO GRÁFICO\n",
    "%matplotlib inline\n",
    "%config InlineBackend.figure_format = 'svg'\n",
    "params = {\n",
    "    'figure.figsize': [12, 3.3], \n",
    "    'axes.labelsize': 12,\n",
    "    'axes.titlesize':14, \n",
    "    'font.size': 12,\n",
    "    'legend.fontsize': 10, \n",
    "    'xtick.labelsize': 10, \n",
    "    'ytick.labelsize': 10,\n",
    "    'axes.axisbelow': True\n",
    "}\n",
    "plt.rcParams.update(params)"
   ]
  },
  {
   "cell_type": "markdown",
   "metadata": {},
   "source": [
    "## Definição de funções"
   ]
  },
  {
   "cell_type": "code",
   "execution_count": 3,
   "metadata": {},
   "outputs": [],
   "source": [
    "def abrirDataframe(qtdUsuarios, caminhoPastaCSVs=\"../../CSV/\"):\n",
    "    caminhoCSV = list(Path(caminhoPastaCSVs).glob(\"*\"+str(qtdUsuarios)+\"usuarios*.csv\"))[0]\n",
    "    df = pd.read_csv(caminhoCSV)\n",
    "    return df"
   ]
  },
  {
   "cell_type": "code",
   "execution_count": 4,
   "metadata": {},
   "outputs": [],
   "source": [
    "def separarTreinamentoETeste(df, featuresSelecionadas=None, treinarComIntervaloDeSNR=5):\n",
    "    \n",
    "    # SELECIONANDO TODAS AS FEATURES SE FEATURESSELECIONADAS VIER NONE\n",
    "    if featuresSelecionadas == None:\n",
    "        featuresSelecionadas = df.columns.drop([\"potenciaEspiao\", \"ataquePresente\"])\n",
    "    \n",
    "    # INDEXES DE TREINAMENTO E TESTE\n",
    "    indexTrain = df.loc[df[\"snr\"] % treinarComIntervaloDeSNR == 0].index\n",
    "    indexTest  = df.loc[df[\"snr\"] % treinarComIntervaloDeSNR != 0].index\n",
    "    \n",
    "    # TIRANDO UM PERCENTUAL DO TREINAMENTO PARA QUE O TESTE TB TENHA SNRS MOD 5\n",
    "    indexesDoTreinamentoParaTeste = shuffle(indexTrain)[:int(0.1*len(indexTrain))]\n",
    "    indexTrain = indexTrain.drop(indexesDoTreinamentoParaTeste)\n",
    "    indexTest  = indexTest.append(indexesDoTreinamentoParaTeste)\n",
    "    \n",
    "    # SEPARANDO OS ARRAYS\n",
    "    XTrain         = df[featuresSelecionadas].loc[indexTrain]\n",
    "    XTest          = df[featuresSelecionadas].loc[indexTest]\n",
    "    yTrain         = df[\"ataquePresente\"].loc[indexTrain]\n",
    "    yTest          = df[\"ataquePresente\"].loc[indexTest]\n",
    "    snrTrain       = df[\"snr\"].loc[indexTrain]\n",
    "    snrTest        = df[\"snr\"].loc[indexTest]\n",
    "    potEspiaoTrain = df[\"potenciaEspiao\"].loc[indexTrain]\n",
    "    potEspiaoTest  = df[\"potenciaEspiao\"].loc[indexTest]\n",
    "    \n",
    "    return XTrain, XTest, yTrain, yTest, snrTrain, snrTest, potEspiaoTrain, potEspiaoTest"
   ]
  },
  {
   "cell_type": "code",
   "execution_count": 5,
   "metadata": {},
   "outputs": [],
   "source": [
    "def deteccaoMachineLearning(xTrain, xTest, yTrain, objClassificador):\n",
    "\n",
    "    # TREINANDO O CLASSIFICADOR\n",
    "    objClassificador.fit(xTrain, yTrain)\n",
    "\n",
    "    # PREDIZENDO OS DE TESTE\n",
    "    tic = time()\n",
    "    yPred = objClassificador.predict(xTest)\n",
    "    toc = time()\n",
    "        \n",
    "    return yPred, (toc-tic)/len(xTest)"
   ]
  },
  {
   "cell_type": "code",
   "execution_count": 6,
   "metadata": {},
   "outputs": [],
   "source": [
    "def deteccaoHassan(XTest):\n",
    "    tic = time()\n",
    "    yPred = np.array(list(map(lambda dado: 1 if dado[1][\"E\"] > dado[1][\"eta\"] else 0, XTest.iterrows())))\n",
    "    toc = time()\n",
    "    return yPred, (toc-tic)/len(XTest)"
   ]
  },
  {
   "cell_type": "code",
   "execution_count": 7,
   "metadata": {},
   "outputs": [],
   "source": [
    "def deteccaoKapetanovic(XTest, threshold):\n",
    "    tic = time()\n",
    "    yPred = np.array(list(map(lambda dado: 1 if dado[1][\"a1\"]/dado[1][\"a2\"] > threshold else 0, XTest.iterrows())))\n",
    "    toc = time()\n",
    "    return yPred, (toc-tic)/len(XTest)"
   ]
  },
  {
   "cell_type": "code",
   "execution_count": 8,
   "metadata": {},
   "outputs": [],
   "source": [
    "def obterValoresUnicos(arraySNR, arrayPotEspiao):\n",
    "    rangeSNRs      = np.unique(arraySNR)\n",
    "    rangePotEspiao = np.unique(arrayPotEspiao)\n",
    "    return rangeSNRs, rangePotEspiao"
   ]
  },
  {
   "cell_type": "code",
   "execution_count": 9,
   "metadata": {},
   "outputs": [],
   "source": [
    "def calcularMetricas(yTest, yPred):\n",
    "    acuracia  = accuracy_score(yTest, yPred)\n",
    "    precisao  = precision_score(yTest, yPred)\n",
    "    revocacao = recall_score(yTest, yPred)\n",
    "    matrizConfusao = confusion_matrix(yTest, yPred)\n",
    "    \n",
    "    return acuracia, precisao, revocacao, matrizConfusao"
   ]
  },
  {
   "cell_type": "code",
   "execution_count": 10,
   "metadata": {},
   "outputs": [],
   "source": [
    "def plotarResultado(matrizProbabilidadeDeteccao, matrizConfusao, rangePotEspiao, rangeSNRs, qtdUsuarios, qtdAntenas, qtdSimbolos, descricao, acuracia, precisao, revocacao):\n",
    "    \n",
    "    # MONTANDO O TITULO DA FIGURA\n",
    "    titulo  = descricao + \"\\n\"\n",
    "    titulo += \"Usuários: \" + str(qtdUsuarios) + \" - Antenas: \" + str(qtdAntenas) + \" - Símbolos: \" + str(qtdSimbolos) + \"\\n\"\n",
    "    titulo += \"Acurácia: \" + str(acuracia)[:7] + \" - Precisão: \" + str(precisao)[:7] + \" - Revocação: \" + str(revocacao)[:7] + \"\\n\"\n",
    "    \n",
    "    # CRIANDO O PRIMEIRO GRAFICO\n",
    "    fig, axs = plt.subplots(1, 2)\n",
    "    for i in range(len(rangePotEspiao)):\n",
    "        axs[0].plot(rangeSNRs, matrizProbabilidadeDeteccao[i], label=\"Potência do Espião: \"+str(rangePotEspiao[i]))\n",
    "    axs[0].set_xlabel(\"SNR\")\n",
    "    axs[0].set_ylabel(\"Probabilidade de Detecção\")\n",
    "    axs[0].grid(alpha=0.5)\n",
    "    axs[0].legend()\n",
    "    \n",
    "    # CRIANDO A MATRIZ DE CONFUSAO\n",
    "    axs[1].imshow(matrizConfusao, cmap=\"gray\")\n",
    "    for (j,i), total in np.ndenumerate(matrizConfusao):\n",
    "        axs[1].text(i, j, int(total), ha=\"center\", va=\"center\", color=\"#e6005c\", size=15)\n",
    "    axs[1].set_xlabel(\"Predito\")\n",
    "    axs[1].set_ylabel(\"Real\")\n",
    "    axs[1].set_xticklabels([])\n",
    "    axs[1].set_yticklabels([])\n",
    "    \n",
    "    # PRINTANDO\n",
    "    plt.suptitle(titulo, y=1.15)\n",
    "    plt.show()"
   ]
  },
  {
   "cell_type": "code",
   "execution_count": 11,
   "metadata": {},
   "outputs": [],
   "source": [
    "def obterDictNovoResultado(classificador, matrizProbabilidadeDeteccao, matrizConfusao, rangePotEspiao, rangeSNRs, qtdUsuarios, qtdAntenas, qtdSimbolos, featuresSelecionadas, acuracia, precisao, revocacao, tempoMedioPredicao, repetibilidadeDataset):\n",
    "    \n",
    "    classificador = classificador.__class__.__name__ if type(classificador) != str else classificador\n",
    "    descricao = \"Deteccao baseada em \" + classificador + \" com \" + \" \".join(featuresSelecionadas)\n",
    "    \n",
    "    dictNovoResultado = {\n",
    "        classificador + \"_\" + str(time()): {\n",
    "            \"qtdUsuarios\": int(qtdUsuarios),\n",
    "            \"qtdAntenas\": int(qtdAntenas),\n",
    "            \"qtdSimbolos\": int(qtdSimbolos),\n",
    "            \"descricao\": descricao,\n",
    "            \"repetibilidadeDataset\": int(repetibilidadeDataset),\n",
    "            \"acuracia\": float(acuracia),\n",
    "            \"precisao\": float(precisao),\n",
    "            \"revocacao\": float(revocacao),\n",
    "            \"tempoMedioPredicao\": tempoMedioPredicao, \n",
    "            \"featuresSelecionadas\": featuresSelecionadas,\n",
    "            \"rangePotEspiao\": rangePotEspiao.tolist(),\n",
    "            \"rangeSNRs\": rangeSNRs.tolist(),\n",
    "            \"matrizProbabilidadeDeteccao\": matrizProbabilidadeDeteccao.tolist(),\n",
    "            \"matrizConfusao\": matrizConfusao.tolist()\n",
    "        }\n",
    "    }\n",
    "    \n",
    "    return dictNovoResultado"
   ]
  },
  {
   "cell_type": "code",
   "execution_count": 12,
   "metadata": {},
   "outputs": [],
   "source": [
    "def rodarTesteDeteccao(qtdUsuarios, featuresSelecionadas, classificador, esquemaDeteccao, repetibilidadeDataset, thresholdKapetanovic=100):\n",
    "    \n",
    "    # PEGO O QUE E O QUE\n",
    "    XTrain, XTest, yTrain, yTest, snrTrain, snrTest, potEspiaoTrain, potEspiaoTest = separarTreinamentoETeste(abrirDataframe(qtdUsuarios), featuresSelecionadas)\n",
    "    \n",
    "    # VALORES UNICOS DE SNR E POTENCIA DE ESPIAO PRA EU SABER O INDEX DAS MATRIZES DE RESULTADOS\n",
    "    rangeSNRs, rangePotEspiao = obterValoresUnicos(snrTest, potEspiaoTest)\n",
    "    \n",
    "    # MATRIZES QUE VAO GUARDAR OS RESULTADOS\n",
    "    matrizProbabilidadeDeteccao = np.zeros(shape=(len(rangePotEspiao), len(rangeSNRs)))\n",
    "    \n",
    "    # PREDICAO\n",
    "    if esquemaDeteccao == \"ML\":\n",
    "        yPred, tempoMedioPredicao = deteccaoMachineLearning(XTrain, XTest, yTrain, classificador)\n",
    "    elif esquemaDeteccao == \"Hassan\":\n",
    "        yPred, tempoMedioPredicao = deteccaoHassan(XTest)\n",
    "    else:\n",
    "        yPred, tempoMedioPredicao = deteccaoKapetanovic(XTest, thresholdKapetanovic)\n",
    "\n",
    "    # AGREGO NA MATRIZ DE PROB DE DETECCAO\n",
    "    for (indexTesteAtual, predicaoAtual) in zip(yTest.index, yPred):\n",
    "\n",
    "        # PEGANDO EM QUAL LINHA E EM QUAL COLUNA DA MATRIZ EU VOU COLOCAR O RESULTADO\n",
    "        indexPotEsp = np.where(rangePotEspiao==potEspiaoTest[indexTesteAtual])[0][0]\n",
    "        indexSNR    = np.where(rangeSNRs==snrTest[indexTesteAtual])[0][0]\n",
    "\n",
    "        # JA SOMO COM A PROBABILIDADE (DIVIDINDO PELA REPETIBILIDADE)\n",
    "        matrizProbabilidadeDeteccao[indexPotEsp][indexSNR] += predicaoAtual/repetibilidadeDataset       \n",
    "    \n",
    "    # CONSIDERANDO QUE O DATASET ESTA BALANCEADO, HA MUITO MAIS REPETIBILIDADE QUANDO POTESP = 0\n",
    "    matrizProbabilidadeDeteccao[0] /= (len(rangePotEspiao) - 1)\n",
    "    \n",
    "    # METRICAS\n",
    "    acuracia, precisao, revocacao, matrizConfusao = calcularMetricas(yTest, yPred)\n",
    "    \n",
    "    # DICIONARIOS COM OS RESULTADOS \n",
    "    dictNovoResultado = obterDictNovoResultado(classificador, matrizProbabilidadeDeteccao, matrizConfusao, rangePotEspiao, rangeSNRs, qtdUsuarios, qtdAntenas, qtdSimbolos, featuresSelecionadas, acuracia, precisao, revocacao, tempoMedioPredicao, repetibilidadeDataset)\n",
    "    \n",
    "    return dictNovoResultado"
   ]
  },
  {
   "cell_type": "code",
   "execution_count": 13,
   "metadata": {},
   "outputs": [
    {
     "data": {
      "text/plain": [
       "10000"
      ]
     },
     "execution_count": 13,
     "metadata": {},
     "output_type": "execute_result"
    }
   ],
   "source": [
    "XTrain, XTest, yTrain, yTest, snrTrain, snrTest, potEspiaoTrain, potEspiaoTest = separarTreinamentoETeste(abrirDataframe(1), None)\n",
    "np.count_nonzero(snrTest.to_numpy()==snrTest[yTest.index[9]])"
   ]
  },
  {
   "cell_type": "code",
   "execution_count": 14,
   "metadata": {},
   "outputs": [
    {
     "data": {
      "text/html": [
       "<div>\n",
       "<style scoped>\n",
       "    .dataframe tbody tr th:only-of-type {\n",
       "        vertical-align: middle;\n",
       "    }\n",
       "\n",
       "    .dataframe tbody tr th {\n",
       "        vertical-align: top;\n",
       "    }\n",
       "\n",
       "    .dataframe thead th {\n",
       "        text-align: right;\n",
       "    }\n",
       "</style>\n",
       "<table border=\"1\" class=\"dataframe\">\n",
       "  <thead>\n",
       "    <tr style=\"text-align: right;\">\n",
       "      <th></th>\n",
       "      <th>snr</th>\n",
       "      <th>E</th>\n",
       "      <th>eta</th>\n",
       "      <th>a1</th>\n",
       "      <th>a2</th>\n",
       "      <th>a3</th>\n",
       "    </tr>\n",
       "  </thead>\n",
       "  <tbody>\n",
       "    <tr>\n",
       "      <th>1000</th>\n",
       "      <td>-9</td>\n",
       "      <td>1.031269</td>\n",
       "      <td>17.376977</td>\n",
       "      <td>128.907123</td>\n",
       "      <td>14.759075</td>\n",
       "      <td>13.662595</td>\n",
       "    </tr>\n",
       "    <tr>\n",
       "      <th>1001</th>\n",
       "      <td>-9</td>\n",
       "      <td>0.925408</td>\n",
       "      <td>17.376977</td>\n",
       "      <td>115.096375</td>\n",
       "      <td>14.339565</td>\n",
       "      <td>13.717771</td>\n",
       "    </tr>\n",
       "    <tr>\n",
       "      <th>1002</th>\n",
       "      <td>-9</td>\n",
       "      <td>1.055879</td>\n",
       "      <td>17.376977</td>\n",
       "      <td>131.315986</td>\n",
       "      <td>13.743970</td>\n",
       "      <td>13.516736</td>\n",
       "    </tr>\n",
       "    <tr>\n",
       "      <th>1003</th>\n",
       "      <td>-9</td>\n",
       "      <td>1.144799</td>\n",
       "      <td>17.376977</td>\n",
       "      <td>144.213788</td>\n",
       "      <td>13.964842</td>\n",
       "      <td>13.020309</td>\n",
       "    </tr>\n",
       "    <tr>\n",
       "      <th>1004</th>\n",
       "      <td>-9</td>\n",
       "      <td>1.061379</td>\n",
       "      <td>17.376977</td>\n",
       "      <td>131.627331</td>\n",
       "      <td>15.257838</td>\n",
       "      <td>13.854645</td>\n",
       "    </tr>\n",
       "    <tr>\n",
       "      <th>...</th>\n",
       "      <td>...</td>\n",
       "      <td>...</td>\n",
       "      <td>...</td>\n",
       "      <td>...</td>\n",
       "      <td>...</td>\n",
       "      <td>...</td>\n",
       "    </tr>\n",
       "    <tr>\n",
       "      <th>297209</th>\n",
       "      <td>0</td>\n",
       "      <td>2.253785</td>\n",
       "      <td>3.452185</td>\n",
       "      <td>287.967761</td>\n",
       "      <td>1.811167</td>\n",
       "      <td>1.684278</td>\n",
       "    </tr>\n",
       "    <tr>\n",
       "      <th>92485</th>\n",
       "      <td>0</td>\n",
       "      <td>0.921767</td>\n",
       "      <td>3.452185</td>\n",
       "      <td>117.514073</td>\n",
       "      <td>1.767238</td>\n",
       "      <td>1.708862</td>\n",
       "    </tr>\n",
       "    <tr>\n",
       "      <th>338360</th>\n",
       "      <td>0</td>\n",
       "      <td>2.920669</td>\n",
       "      <td>3.452185</td>\n",
       "      <td>373.372014</td>\n",
       "      <td>1.891009</td>\n",
       "      <td>1.634576</td>\n",
       "    </tr>\n",
       "    <tr>\n",
       "      <th>353370</th>\n",
       "      <td>15</td>\n",
       "      <td>3.032108</td>\n",
       "      <td>1.454347</td>\n",
       "      <td>388.095954</td>\n",
       "      <td>0.055554</td>\n",
       "      <td>0.053160</td>\n",
       "    </tr>\n",
       "    <tr>\n",
       "      <th>76711</th>\n",
       "      <td>25</td>\n",
       "      <td>1.002190</td>\n",
       "      <td>1.393119</td>\n",
       "      <td>128.278765</td>\n",
       "      <td>0.005671</td>\n",
       "      <td>0.005329</td>\n",
       "    </tr>\n",
       "  </tbody>\n",
       "</table>\n",
       "<p>329000 rows × 6 columns</p>\n",
       "</div>"
      ],
      "text/plain": [
       "        snr         E        eta          a1         a2         a3\n",
       "1000     -9  1.031269  17.376977  128.907123  14.759075  13.662595\n",
       "1001     -9  0.925408  17.376977  115.096375  14.339565  13.717771\n",
       "1002     -9  1.055879  17.376977  131.315986  13.743970  13.516736\n",
       "1003     -9  1.144799  17.376977  144.213788  13.964842  13.020309\n",
       "1004     -9  1.061379  17.376977  131.627331  15.257838  13.854645\n",
       "...     ...       ...        ...         ...        ...        ...\n",
       "297209    0  2.253785   3.452185  287.967761   1.811167   1.684278\n",
       "92485     0  0.921767   3.452185  117.514073   1.767238   1.708862\n",
       "338360    0  2.920669   3.452185  373.372014   1.891009   1.634576\n",
       "353370   15  3.032108   1.454347  388.095954   0.055554   0.053160\n",
       "76711    25  1.002190   1.393119  128.278765   0.005671   0.005329\n",
       "\n",
       "[329000 rows x 6 columns]"
      ]
     },
     "execution_count": 14,
     "metadata": {},
     "output_type": "execute_result"
    }
   ],
   "source": [
    "XTest"
   ]
  },
  {
   "cell_type": "code",
   "execution_count": 15,
   "metadata": {},
   "outputs": [],
   "source": [
    "def salvarNovosResultados(arrayResultados, arquivoSalvar):\n",
    "    for dictNovoResultado in arrayResultados:\n",
    "        keyNova    = list(dictNovoResultado.keys())[0]\n",
    "        valuesNovo = dictNovoResultado[list(dictNovoResultado.keys())[0]]\n",
    "        with open(arquivoSalvar, mode=\"r+\") as file:\n",
    "            dictResultados = json.load(file)\n",
    "            dictResultados[keyNova] = valuesNovo\n",
    "            file.seek(0)\n",
    "            json.dump(dictResultados, file, indent=4)\n",
    "            file.truncate()"
   ]
  },
  {
   "cell_type": "markdown",
   "metadata": {},
   "source": [
    "## Parâmetros iniciais"
   ]
  },
  {
   "cell_type": "code",
   "execution_count": 16,
   "metadata": {},
   "outputs": [],
   "source": [
    "classificadores       = [DecisionTreeClassifier()]#, Perceptron(), LinearDiscriminantAnalysis()]\n",
    "rangeQtdUsuarios      = np.array([1])#, 2, 4, 8, 16, 32, 64])\n",
    "qtdAntenas            = 256\n",
    "qtdSimbolos           = 128\n",
    "repetibilidadeDataset = 1000\n",
    "nucleosProcessador    = -1\n",
    "thresholdKapetanovic  = 100\n",
    "plotar                = True\n",
    "verbose               = 100\n",
    "combinacoesFeaturesML = [\n",
    "    [\"E\"],\n",
    "#     [\"E\", \"eta\"],\n",
    "#     [\"E\", \"eta\", \"snr\"],\n",
    "#     [\"E\", \"eta\", \"snr\", \"a1\", \"a2\", \"a3\"],\n",
    "#     [\"E\", \"eta\", \"a1\", \"a2\", \"a3\"],\n",
    "#     [\"E\", \"snr\", \"a1\", \"a2\", \"a3\"],\n",
    "#     [\"E\", \"a1\", \"a2\", \"a3\"],\n",
    "#     [\"a1\", \"a2\", \"a3\"]\n",
    "]\n",
    "dictResultados = {}\n",
    "arquivoSalvar = Path(\"../../Resultados/probabilidadeDeteccao_\" + str(time()) + \".json\")\n",
    "with open(arquivoSalvar, mode=\"w\") as file:\n",
    "    json.dump(dictResultados, file)"
   ]
  },
  {
   "cell_type": "markdown",
   "metadata": {},
   "source": [
    "## Rodando os testes de detecção com machine learning, hassan e kapetanovic"
   ]
  },
  {
   "cell_type": "code",
   "execution_count": 17,
   "metadata": {
    "scrolled": false
   },
   "outputs": [
    {
     "name": "stdout",
     "output_type": "stream",
     "text": [
      "[Parallel(n_jobs=-1)]: Using backend LokyBackend with 8 concurrent workers.\n",
      "[Parallel(n_jobs=-1)]: Done   1 tasks      | elapsed:  1.4min\n",
      "[Parallel(n_jobs=-1)]: Done   1 out of   1 | elapsed:  1.4min finished\n"
     ]
    }
   ],
   "source": [
    "esquemaDeteccao = \"ML\"\n",
    "arrayResultados = Parallel(verbose=verbose, n_jobs=nucleosProcessador)(delayed(rodarTesteDeteccao)(qtdUsuarios, featuresSelecionadas, classificador, esquemaDeteccao, repetibilidadeDataset, thresholdKapetanovic) for classificador in classificadores for qtdUsuarios in rangeQtdUsuarios for featuresSelecionadas in combinacoesFeaturesML)\n",
    "salvarNovosResultados(arrayResultados, arquivoSalvar)"
   ]
  },
  {
   "cell_type": "code",
   "execution_count": 18,
   "metadata": {},
   "outputs": [
    {
     "name": "stdout",
     "output_type": "stream",
     "text": [
      "[Parallel(n_jobs=-1)]: Using backend LokyBackend with 8 concurrent workers.\n",
      "[Parallel(n_jobs=-1)]: Done   1 tasks      | elapsed:   39.0s\n"
     ]
    },
    {
     "ename": "KeyboardInterrupt",
     "evalue": "",
     "output_type": "error",
     "traceback": [
      "\u001b[0;31m---------------------------------------------------------------------------\u001b[0m",
      "\u001b[0;31mKeyboardInterrupt\u001b[0m                         Traceback (most recent call last)",
      "\u001b[0;32m<ipython-input-18-5571bfdc0a1b>\u001b[0m in \u001b[0;36m<module>\u001b[0;34m\u001b[0m\n\u001b[1;32m      2\u001b[0m \u001b[0mclassificador\u001b[0m        \u001b[0;34m=\u001b[0m \u001b[0mesquemaDeteccao\u001b[0m\u001b[0;34m\u001b[0m\u001b[0;34m\u001b[0m\u001b[0m\n\u001b[1;32m      3\u001b[0m \u001b[0mfeaturesSelecionadas\u001b[0m \u001b[0;34m=\u001b[0m \u001b[0;34m[\u001b[0m\u001b[0;34m\"E\"\u001b[0m\u001b[0;34m,\u001b[0m \u001b[0;34m\"eta\"\u001b[0m\u001b[0;34m]\u001b[0m\u001b[0;34m\u001b[0m\u001b[0;34m\u001b[0m\u001b[0m\n\u001b[0;32m----> 4\u001b[0;31m \u001b[0marrayResultados\u001b[0m      \u001b[0;34m=\u001b[0m \u001b[0mParallel\u001b[0m\u001b[0;34m(\u001b[0m\u001b[0mverbose\u001b[0m\u001b[0;34m=\u001b[0m\u001b[0mverbose\u001b[0m\u001b[0;34m,\u001b[0m \u001b[0mn_jobs\u001b[0m\u001b[0;34m=\u001b[0m\u001b[0mnucleosProcessador\u001b[0m\u001b[0;34m)\u001b[0m\u001b[0;34m(\u001b[0m\u001b[0mdelayed\u001b[0m\u001b[0;34m(\u001b[0m\u001b[0mrodarTesteDeteccao\u001b[0m\u001b[0;34m)\u001b[0m\u001b[0;34m(\u001b[0m\u001b[0mqtdUsuarios\u001b[0m\u001b[0;34m,\u001b[0m \u001b[0mfeaturesSelecionadas\u001b[0m\u001b[0;34m,\u001b[0m \u001b[0mclassificador\u001b[0m\u001b[0;34m,\u001b[0m \u001b[0mesquemaDeteccao\u001b[0m\u001b[0;34m,\u001b[0m \u001b[0mrepetibilidadeDataset\u001b[0m\u001b[0;34m,\u001b[0m \u001b[0mthresholdKapetanovic\u001b[0m\u001b[0;34m)\u001b[0m \u001b[0;32mfor\u001b[0m \u001b[0mqtdUsuarios\u001b[0m \u001b[0;32min\u001b[0m \u001b[0mrangeQtdUsuarios\u001b[0m\u001b[0;34m)\u001b[0m\u001b[0;34m\u001b[0m\u001b[0;34m\u001b[0m\u001b[0m\n\u001b[0m\u001b[1;32m      5\u001b[0m \u001b[0msalvarNovosResultados\u001b[0m\u001b[0;34m(\u001b[0m\u001b[0marrayResultados\u001b[0m\u001b[0;34m,\u001b[0m \u001b[0marquivoSalvar\u001b[0m\u001b[0;34m)\u001b[0m\u001b[0;34m\u001b[0m\u001b[0;34m\u001b[0m\u001b[0m\n",
      "\u001b[0;32m~/.pyenv/versions/3.6.12/envs/venv_aicom/lib/python3.6/site-packages/joblib/parallel.py\u001b[0m in \u001b[0;36m__call__\u001b[0;34m(self, iterable)\u001b[0m\n\u001b[1;32m   1040\u001b[0m \u001b[0;34m\u001b[0m\u001b[0m\n\u001b[1;32m   1041\u001b[0m             \u001b[0;32mwith\u001b[0m \u001b[0mself\u001b[0m\u001b[0;34m.\u001b[0m\u001b[0m_backend\u001b[0m\u001b[0;34m.\u001b[0m\u001b[0mretrieval_context\u001b[0m\u001b[0;34m(\u001b[0m\u001b[0;34m)\u001b[0m\u001b[0;34m:\u001b[0m\u001b[0;34m\u001b[0m\u001b[0;34m\u001b[0m\u001b[0m\n\u001b[0;32m-> 1042\u001b[0;31m                 \u001b[0mself\u001b[0m\u001b[0;34m.\u001b[0m\u001b[0mretrieve\u001b[0m\u001b[0;34m(\u001b[0m\u001b[0;34m)\u001b[0m\u001b[0;34m\u001b[0m\u001b[0;34m\u001b[0m\u001b[0m\n\u001b[0m\u001b[1;32m   1043\u001b[0m             \u001b[0;31m# Make sure that we get a last message telling us we are done\u001b[0m\u001b[0;34m\u001b[0m\u001b[0;34m\u001b[0m\u001b[0;34m\u001b[0m\u001b[0m\n\u001b[1;32m   1044\u001b[0m             \u001b[0melapsed_time\u001b[0m \u001b[0;34m=\u001b[0m \u001b[0mtime\u001b[0m\u001b[0;34m.\u001b[0m\u001b[0mtime\u001b[0m\u001b[0;34m(\u001b[0m\u001b[0;34m)\u001b[0m \u001b[0;34m-\u001b[0m \u001b[0mself\u001b[0m\u001b[0;34m.\u001b[0m\u001b[0m_start_time\u001b[0m\u001b[0;34m\u001b[0m\u001b[0;34m\u001b[0m\u001b[0m\n",
      "\u001b[0;32m~/.pyenv/versions/3.6.12/envs/venv_aicom/lib/python3.6/site-packages/joblib/parallel.py\u001b[0m in \u001b[0;36mretrieve\u001b[0;34m(self)\u001b[0m\n\u001b[1;32m    919\u001b[0m             \u001b[0;32mtry\u001b[0m\u001b[0;34m:\u001b[0m\u001b[0;34m\u001b[0m\u001b[0;34m\u001b[0m\u001b[0m\n\u001b[1;32m    920\u001b[0m                 \u001b[0;32mif\u001b[0m \u001b[0mgetattr\u001b[0m\u001b[0;34m(\u001b[0m\u001b[0mself\u001b[0m\u001b[0;34m.\u001b[0m\u001b[0m_backend\u001b[0m\u001b[0;34m,\u001b[0m \u001b[0;34m'supports_timeout'\u001b[0m\u001b[0;34m,\u001b[0m \u001b[0;32mFalse\u001b[0m\u001b[0;34m)\u001b[0m\u001b[0;34m:\u001b[0m\u001b[0;34m\u001b[0m\u001b[0;34m\u001b[0m\u001b[0m\n\u001b[0;32m--> 921\u001b[0;31m                     \u001b[0mself\u001b[0m\u001b[0;34m.\u001b[0m\u001b[0m_output\u001b[0m\u001b[0;34m.\u001b[0m\u001b[0mextend\u001b[0m\u001b[0;34m(\u001b[0m\u001b[0mjob\u001b[0m\u001b[0;34m.\u001b[0m\u001b[0mget\u001b[0m\u001b[0;34m(\u001b[0m\u001b[0mtimeout\u001b[0m\u001b[0;34m=\u001b[0m\u001b[0mself\u001b[0m\u001b[0;34m.\u001b[0m\u001b[0mtimeout\u001b[0m\u001b[0;34m)\u001b[0m\u001b[0;34m)\u001b[0m\u001b[0;34m\u001b[0m\u001b[0;34m\u001b[0m\u001b[0m\n\u001b[0m\u001b[1;32m    922\u001b[0m                 \u001b[0;32melse\u001b[0m\u001b[0;34m:\u001b[0m\u001b[0;34m\u001b[0m\u001b[0;34m\u001b[0m\u001b[0m\n\u001b[1;32m    923\u001b[0m                     \u001b[0mself\u001b[0m\u001b[0;34m.\u001b[0m\u001b[0m_output\u001b[0m\u001b[0;34m.\u001b[0m\u001b[0mextend\u001b[0m\u001b[0;34m(\u001b[0m\u001b[0mjob\u001b[0m\u001b[0;34m.\u001b[0m\u001b[0mget\u001b[0m\u001b[0;34m(\u001b[0m\u001b[0;34m)\u001b[0m\u001b[0;34m)\u001b[0m\u001b[0;34m\u001b[0m\u001b[0;34m\u001b[0m\u001b[0m\n",
      "\u001b[0;32m~/.pyenv/versions/3.6.12/envs/venv_aicom/lib/python3.6/site-packages/joblib/_parallel_backends.py\u001b[0m in \u001b[0;36mwrap_future_result\u001b[0;34m(future, timeout)\u001b[0m\n\u001b[1;32m    540\u001b[0m         AsyncResults.get from multiprocessing.\"\"\"\n\u001b[1;32m    541\u001b[0m         \u001b[0;32mtry\u001b[0m\u001b[0;34m:\u001b[0m\u001b[0;34m\u001b[0m\u001b[0;34m\u001b[0m\u001b[0m\n\u001b[0;32m--> 542\u001b[0;31m             \u001b[0;32mreturn\u001b[0m \u001b[0mfuture\u001b[0m\u001b[0;34m.\u001b[0m\u001b[0mresult\u001b[0m\u001b[0;34m(\u001b[0m\u001b[0mtimeout\u001b[0m\u001b[0;34m=\u001b[0m\u001b[0mtimeout\u001b[0m\u001b[0;34m)\u001b[0m\u001b[0;34m\u001b[0m\u001b[0;34m\u001b[0m\u001b[0m\n\u001b[0m\u001b[1;32m    543\u001b[0m         \u001b[0;32mexcept\u001b[0m \u001b[0mCfTimeoutError\u001b[0m \u001b[0;32mas\u001b[0m \u001b[0me\u001b[0m\u001b[0;34m:\u001b[0m\u001b[0;34m\u001b[0m\u001b[0;34m\u001b[0m\u001b[0m\n\u001b[1;32m    544\u001b[0m             \u001b[0;32mraise\u001b[0m \u001b[0mTimeoutError\u001b[0m \u001b[0;32mfrom\u001b[0m \u001b[0me\u001b[0m\u001b[0;34m\u001b[0m\u001b[0;34m\u001b[0m\u001b[0m\n",
      "\u001b[0;32m~/.pyenv/versions/3.6.12/lib/python3.6/concurrent/futures/_base.py\u001b[0m in \u001b[0;36mresult\u001b[0;34m(self, timeout)\u001b[0m\n\u001b[1;32m    425\u001b[0m                 \u001b[0;32mreturn\u001b[0m \u001b[0mself\u001b[0m\u001b[0;34m.\u001b[0m\u001b[0m__get_result\u001b[0m\u001b[0;34m(\u001b[0m\u001b[0;34m)\u001b[0m\u001b[0;34m\u001b[0m\u001b[0;34m\u001b[0m\u001b[0m\n\u001b[1;32m    426\u001b[0m \u001b[0;34m\u001b[0m\u001b[0m\n\u001b[0;32m--> 427\u001b[0;31m             \u001b[0mself\u001b[0m\u001b[0;34m.\u001b[0m\u001b[0m_condition\u001b[0m\u001b[0;34m.\u001b[0m\u001b[0mwait\u001b[0m\u001b[0;34m(\u001b[0m\u001b[0mtimeout\u001b[0m\u001b[0;34m)\u001b[0m\u001b[0;34m\u001b[0m\u001b[0;34m\u001b[0m\u001b[0m\n\u001b[0m\u001b[1;32m    428\u001b[0m \u001b[0;34m\u001b[0m\u001b[0m\n\u001b[1;32m    429\u001b[0m             \u001b[0;32mif\u001b[0m \u001b[0mself\u001b[0m\u001b[0;34m.\u001b[0m\u001b[0m_state\u001b[0m \u001b[0;32min\u001b[0m \u001b[0;34m[\u001b[0m\u001b[0mCANCELLED\u001b[0m\u001b[0;34m,\u001b[0m \u001b[0mCANCELLED_AND_NOTIFIED\u001b[0m\u001b[0;34m]\u001b[0m\u001b[0;34m:\u001b[0m\u001b[0;34m\u001b[0m\u001b[0;34m\u001b[0m\u001b[0m\n",
      "\u001b[0;32m~/.pyenv/versions/3.6.12/lib/python3.6/threading.py\u001b[0m in \u001b[0;36mwait\u001b[0;34m(self, timeout)\u001b[0m\n\u001b[1;32m    293\u001b[0m         \u001b[0;32mtry\u001b[0m\u001b[0;34m:\u001b[0m    \u001b[0;31m# restore state no matter what (e.g., KeyboardInterrupt)\u001b[0m\u001b[0;34m\u001b[0m\u001b[0;34m\u001b[0m\u001b[0m\n\u001b[1;32m    294\u001b[0m             \u001b[0;32mif\u001b[0m \u001b[0mtimeout\u001b[0m \u001b[0;32mis\u001b[0m \u001b[0;32mNone\u001b[0m\u001b[0;34m:\u001b[0m\u001b[0;34m\u001b[0m\u001b[0;34m\u001b[0m\u001b[0m\n\u001b[0;32m--> 295\u001b[0;31m                 \u001b[0mwaiter\u001b[0m\u001b[0;34m.\u001b[0m\u001b[0macquire\u001b[0m\u001b[0;34m(\u001b[0m\u001b[0;34m)\u001b[0m\u001b[0;34m\u001b[0m\u001b[0;34m\u001b[0m\u001b[0m\n\u001b[0m\u001b[1;32m    296\u001b[0m                 \u001b[0mgotit\u001b[0m \u001b[0;34m=\u001b[0m \u001b[0;32mTrue\u001b[0m\u001b[0;34m\u001b[0m\u001b[0;34m\u001b[0m\u001b[0m\n\u001b[1;32m    297\u001b[0m             \u001b[0;32melse\u001b[0m\u001b[0;34m:\u001b[0m\u001b[0;34m\u001b[0m\u001b[0;34m\u001b[0m\u001b[0m\n",
      "\u001b[0;31mKeyboardInterrupt\u001b[0m: "
     ]
    }
   ],
   "source": [
    "esquemaDeteccao      = \"Hassan\"\n",
    "classificador        = esquemaDeteccao\n",
    "featuresSelecionadas = [\"E\", \"eta\"]\n",
    "arrayResultados      = Parallel(verbose=verbose, n_jobs=nucleosProcessador)(delayed(rodarTesteDeteccao)(qtdUsuarios, featuresSelecionadas, classificador, esquemaDeteccao, repetibilidadeDataset, thresholdKapetanovic) for qtdUsuarios in rangeQtdUsuarios)\n",
    "salvarNovosResultados(arrayResultados, arquivoSalvar)"
   ]
  },
  {
   "cell_type": "code",
   "execution_count": null,
   "metadata": {},
   "outputs": [],
   "source": [
    "esquemaDeteccao      = \"Kapetanovic\"\n",
    "classificador        = esquemaDeteccao\n",
    "featuresSelecionadas = [\"a1\", \"a2\"]\n",
    "arrayResultados      = Parallel(verbose=verbose, n_jobs=nucleosProcessador)(delayed(rodarTesteDeteccao)(qtdUsuarios, featuresSelecionadas, classificador, esquemaDeteccao, repetibilidadeDataset, thresholdKapetanovic) for qtdUsuarios in rangeQtdUsuarios)\n",
    "salvarNovosResultados(arrayResultados, arquivoSalvar)"
   ]
  }
 ],
 "metadata": {
  "kernelspec": {
   "display_name": "Python 3",
   "language": "python",
   "name": "python3"
  },
  "language_info": {
   "codemirror_mode": {
    "name": "ipython",
    "version": 3
   },
   "file_extension": ".py",
   "mimetype": "text/x-python",
   "name": "python",
   "nbconvert_exporter": "python",
   "pygments_lexer": "ipython3",
   "version": "3.6.12"
  }
 },
 "nbformat": 4,
 "nbformat_minor": 4
}
