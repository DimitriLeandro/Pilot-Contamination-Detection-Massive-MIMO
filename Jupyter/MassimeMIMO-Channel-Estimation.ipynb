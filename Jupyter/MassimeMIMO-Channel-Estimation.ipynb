{
 "cells": [
  {
   "cell_type": "markdown",
   "metadata": {
    "colab_type": "text",
    "id": "_CrNkA-MMjkB"
   },
   "source": [
    "# Visualização do funcionamento do algoritmo do Kapetanovic\n",
    "\n",
    "Esse jupyter tem como objetivo verificar o funcionamento do esquema de detecção de contaminação piloto 1B do artigo do Kapetanovic. O esquema é baseado na razão dos dois maiores autovalores da matriz R. Vamos ver como essa razão é alterada em função do número de usuários conectados na rede, qtd de antenas, SNR, e qtd de símbolos na sequência piloto."
   ]
  },
  {
   "cell_type": "markdown",
   "metadata": {
    "colab_type": "text",
    "id": "CRvoKiWrMjkF"
   },
   "source": [
    "### Importações\n",
    "\n",
    "O arquivo \"comm\" possui as funções necessárias para simular a modulação QPSK, adicionar ruído branco na transmissão, e, por último, uma função que constroi a matriz R e retorna a razão de seus dois maiores autovalores."
   ]
  },
  {
   "cell_type": "code",
   "execution_count": 1,
   "metadata": {
    "colab": {},
    "colab_type": "code",
    "executionInfo": {
     "elapsed": 1121,
     "status": "ok",
     "timestamp": 1597172289990,
     "user": {
      "displayName": "Pedro Ivo Da Cruz",
      "photoUrl": "https://lh3.googleusercontent.com/a-/AOh14Gi6gSI4jdkG_h-XMsvq_m9Lmz9TBC6YvBx1NRiqHg=s64",
      "userId": "00923469177734285874"
     },
     "user_tz": 180
    },
    "id": "0QIQaRO3MjkK"
   },
   "outputs": [],
   "source": [
    "import numpy as np\n",
    "import matplotlib.pyplot as plt\n",
    "import scipy.signal as sig\n",
    "import sys\n",
    "from IPython.display import display, clear_output\n",
    "\n",
    "sys.path.append(\"../Python/\")\n",
    "import comm"
   ]
  },
  {
   "cell_type": "code",
   "execution_count": 2,
   "metadata": {},
   "outputs": [],
   "source": [
    "#DEFININDO ALGUNS PARÂMETROS DO GRÁFICO\n",
    "%matplotlib inline\n",
    "%config InlineBackend.figure_format = 'svg'\n",
    "params = {\n",
    "    'figure.figsize': [10, 5],\n",
    "    'figure.titlesize': 12, \n",
    "    'axes.labelsize': 8,\n",
    "    'axes.titlesize': 10, \n",
    "    'font.size': 8,\n",
    "    'legend.fontsize': 8, \n",
    "    'xtick.labelsize': 6, \n",
    "    'ytick.labelsize': 6,\n",
    "    'axes.axisbelow': True\n",
    "}\n",
    "plt.rcParams.update(params)"
   ]
  },
  {
   "cell_type": "markdown",
   "metadata": {
    "colab_type": "text",
    "id": "4kVQGeT2Mjkc"
   },
   "source": [
    "### Definição de Funções"
   ]
  },
  {
   "cell_type": "code",
   "execution_count": 3,
   "metadata": {},
   "outputs": [],
   "source": [
    "def simularPropagacaoSinal(qtdSimbolosPiloto, bitsPorSimbolo, qtdAntenas, qtdUsuarios, potenciaEspiao, snr, qtdEspioes=1):\n",
    "    \n",
    "    # SIMULANDO OS CANAIS DO USUARIO E DO ESPIAO\n",
    "    Haut = np.sqrt(0.5)*(np.random.normal(0, 1, size=(qtdAntenas, qtdUsuarios)) + 1j*np.random.normal(0, 1, size=(qtdAntenas, qtdUsuarios)))\n",
    "    g    = np.sqrt(0.5)*(np.random.normal(0, 1, size=(qtdAntenas, qtdEspioes)) + 1j*np.random.normal(0, 1, (qtdAntenas, qtdEspioes)))\n",
    "\n",
    "    # SEQUENCIA PILOTO ALEATORIA + MODULACAO PARA TODOS OS USUARIOS:\n",
    "    bitStream = np.random.choice([0, 1], qtdSimbolosPiloto*bitsPorSimbolo*qtdUsuarios)\n",
    "    symb      = comm.qpskmodulator(bitStream) # QPSK Modulator\n",
    "    xp        = symb.reshape(qtdUsuarios, qtdSimbolosPiloto)\n",
    "\n",
    "    # ESPIAO ENTRANDO NA JOGADA (SE A POTENCIA DELE FOR 0 ELE NAO ENTRA NA JOGADA):\n",
    "    xpe  = np.sqrt(potenciaEspiao)*xp[0, :] # xpe vai ser a sequencia piloto do primeiro usuario multiplicada pela raiz da potencia do espiao\n",
    "    xptx = np.concatenate((xp, [xpe])) # xptx sera a matriz xp com uma linha a mais: xpe\n",
    "    H    = np.concatenate((Haut, g), axis=1) # H vai ser Haut com uma COLUNA a mais, que vai ser g\n",
    "\n",
    "    # TRANSMISSAO PELO CANAL\n",
    "    Y = np.dot(H, xptx) # fading\n",
    "    Y = comm.awgn(Y, SNR=snr) # ruido branco\n",
    "    \n",
    "    return Y, xp, H[:,0]"
   ]
  },
  {
   "cell_type": "code",
   "execution_count": 4,
   "metadata": {},
   "outputs": [],
   "source": [
    "def estimarCanal(Y, xp):\n",
    "    # HEST =(Y * xptranspostoconjugado ) * ((xp*xptranspconj)^(-1))\n",
    "    # HEST -> cada coluna um usuario. No caso de um único usuário pegar a primeira coluna\n",
    "    # return Hest(coluna 0)\n",
    "    \n",
    "    Hest = np.matmul(np.matmul(Y, np.conjugate(xp).T), np.linalg.inv(np.matmul(xp, np.conjugate(xp).T)))\n",
    "    return Hest[:,0]"
   ]
  },
  {
   "cell_type": "code",
   "execution_count": 5,
   "metadata": {},
   "outputs": [
    {
     "ename": "SyntaxError",
     "evalue": "unexpected EOF while parsing (<ipython-input-5-b181b53cf521>, line 6)",
     "output_type": "error",
     "traceback": [
      "\u001b[1;36m  File \u001b[1;32m\"<ipython-input-5-b181b53cf521>\"\u001b[1;36m, line \u001b[1;32m6\u001b[0m\n\u001b[1;33m    return np.sum(np.abs(((HestCol0 - HCol0))**2)/len(HestCol0)\u001b[0m\n\u001b[1;37m                                                               ^\u001b[0m\n\u001b[1;31mSyntaxError\u001b[0m\u001b[1;31m:\u001b[0m unexpected EOF while parsing\n"
     ]
    }
   ],
   "source": [
    "def mse(HestCol0, HCol0):\n",
    "    pass\n",
    "    # HestCol0 é o da função de cima mas só a primeira coluna\n",
    "    # HCol0 é a primeira coluna do hzão \n",
    "    # comparar os elementos desses vetores pra fazer o mse\n",
    "    return np.sum(np.abs(((HestCol0 - HCol0))**2)/len(HestCol0)"
   ]
  },
  {
   "cell_type": "markdown",
   "metadata": {},
   "source": [
    "### Verificando o MSE em função da SNR"
   ]
  },
  {
   "cell_type": "code",
   "execution_count": null,
   "metadata": {},
   "outputs": [],
   "source": [
    "# PARAMETROS\n",
    "qtdEspioes        = 1\n",
    "qtdBitsPorSimbolo = 2\n",
    "repetibilidade    = 10\n",
    "potenciaUsuario   = 1\n",
    "qtdUsuarios       = 1\n",
    "qtdAntenas        = 200\n",
    "potenciaEspiao    = 0\n",
    "qtdSimbolos       = 100\n",
    "rangeSNRs         = np.arange(-10, 21, 2.5)\n",
    "\n",
    "# VARIANDO AS SNRS\n",
    "somaMSEsCadaSNR = []\n",
    "for snrAtual in rangeSNRs:\n",
    "    \n",
    "    # REPETIBILIDADE\n",
    "    somaMSESNRAtual = 0\n",
    "    for i in range(repetibilidade):\n",
    "        \n",
    "        # PROPAGACAO DO SINAL\n",
    "        Y, xp, HCol0 = simularPropagacaoSinal(qtdSimbolos, qtdBitsPorSimbolo, qtdAntenas, qtdUsuarios, potenciaEspiao, snrAtual, qtdEspioes)\n",
    "        \n",
    "        # ESTIMATIVA DO CANAL\n",
    "        HestCol0 = estimarCanal(Y, xp)\n",
    "        \n",
    "        # MSE\n",
    "        somaMSESNRAtual += mse(HestCol0, HCol0)\n",
    "        \n",
    "    # COLOCO A SOMA DOS MSE DESSA SNR NO ARRAY\n",
    "    somaMSEsCadaSNR.append(somaMSESNRAtual/repetibilidade)"
   ]
  },
  {
   "cell_type": "code",
   "execution_count": null,
   "metadata": {},
   "outputs": [],
   "source": [
    "plt.plot(rangeSNRs, somaMSEsCadaSNR)\n",
    "plt.yscale(\"log\")"
   ]
  },
  {
   "cell_type": "code",
   "execution_count": null,
   "metadata": {},
   "outputs": [],
   "source": []
  },
  {
   "cell_type": "code",
   "execution_count": null,
   "metadata": {},
   "outputs": [],
   "source": []
  },
  {
   "cell_type": "code",
   "execution_count": null,
   "metadata": {},
   "outputs": [],
   "source": []
  }
 ],
 "metadata": {
  "colab": {
   "collapsed_sections": [],
   "name": "Massive-MIMO-Pilot-Contamination-Detection-Kapetanovic.ipynb",
   "provenance": []
  },
  "kernelspec": {
   "display_name": "Python 3",
   "language": "python",
   "name": "python3"
  },
  "language_info": {
   "codemirror_mode": {
    "name": "ipython",
    "version": 3
   },
   "file_extension": ".py",
   "mimetype": "text/x-python",
   "name": "python",
   "nbconvert_exporter": "python",
   "pygments_lexer": "ipython3",
   "version": "3.7.3"
  }
 },
 "nbformat": 4,
 "nbformat_minor": 1
}
