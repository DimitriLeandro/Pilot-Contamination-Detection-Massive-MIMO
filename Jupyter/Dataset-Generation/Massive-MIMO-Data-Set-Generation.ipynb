{
 "cells": [
  {
   "cell_type": "markdown",
   "metadata": {
    "colab_type": "text",
    "id": "_CrNkA-MMjkB"
   },
   "source": [
    "# Data Set generation for detection of pilot contamination in multi user Massive MIMO Systems\n",
    "\n",
    "Vamos fazer um esquema para gerar um dataset básico com a razão dos autovalores da matriz R, quantidade de antenas e tal pra depois tentar usar algum algoritmo de ML."
   ]
  },
  {
   "cell_type": "markdown",
   "metadata": {
    "colab_type": "text",
    "id": "CRvoKiWrMjkF"
   },
   "source": [
    "### Imports"
   ]
  },
  {
   "cell_type": "code",
   "execution_count": 1,
   "metadata": {
    "colab": {},
    "colab_type": "code",
    "executionInfo": {
     "elapsed": 897,
     "status": "ok",
     "timestamp": 1597165790547,
     "user": {
      "displayName": "Pedro Ivo Da Cruz",
      "photoUrl": "https://lh3.googleusercontent.com/a-/AOh14Gi6gSI4jdkG_h-XMsvq_m9Lmz9TBC6YvBx1NRiqHg=s64",
      "userId": "00923469177734285874"
     },
     "user_tz": 180
    },
    "id": "0QIQaRO3MjkK"
   },
   "outputs": [],
   "source": [
    "import numpy as np\n",
    "import matplotlib.pyplot as plt\n",
    "import scipy.signal as sig\n",
    "import sys\n",
    "import pandas as pd\n",
    "from joblib import Parallel, delayed\n",
    "from time import time\n",
    "from IPython.display import display, clear_output\n",
    "\n",
    "sys.path.append(\"../Python/\")\n",
    "import comm"
   ]
  },
  {
   "cell_type": "markdown",
   "metadata": {},
   "source": [
    "### Function for signal propagation"
   ]
  },
  {
   "cell_type": "code",
   "execution_count": 2,
   "metadata": {},
   "outputs": [],
   "source": [
    "def simularPropagacaoSinal(qtdSimbolosPiloto, bitsPorSimbolo, qtdAntenas, qtdUsuarios, potenciaEspiao, snr, qtdEspioes=1):\n",
    "    \n",
    "    # SIMULANDO OS CANAIS DO USUARIO E DO ESPIAO\n",
    "    Haut = np.sqrt(0.5)*(np.random.normal(0, 1, size=(qtdAntenas, qtdUsuarios)) + 1j*np.random.normal(0, 1, size=(qtdAntenas, qtdUsuarios)))\n",
    "    g    = np.sqrt(0.5)*(np.random.normal(0, 1, size=(qtdAntenas, qtdEspioes)) + 1j*np.random.normal(0, 1, (qtdAntenas, qtdEspioes)))\n",
    "\n",
    "    # SEQUENCIA PILOTO ALEATORIA + MODULACAO PARA TODOS OS USUARIOS:\n",
    "    bitStream = np.random.choice([0, 1], qtdSimbolosPiloto*bitsPorSimbolo*qtdUsuarios)\n",
    "    symb      = comm.qpskmodulator(bitStream) # QPSK Modulator\n",
    "    xp        = symb.reshape(qtdUsuarios, qtdSimbolosPiloto)\n",
    "\n",
    "    # ESPIAO ENTRANDO NA JOGADA (SE A POTENCIA DELE FOR 0 ELE NAO ENTRA NA JOGADA):\n",
    "    xpe  = np.sqrt(potenciaEspiao)*xp[0, :] # xpe vai ser a sequencia piloto do primeiro usuario multiplicada pela raiz da potencia do espiao\n",
    "    xptx = np.concatenate((xp, [xpe])) # xptx sera a matriz xp com uma linha a mais: xpe\n",
    "    H    = np.concatenate((Haut, g), axis=1) # H vai ser Haut com uma COLUNA a mais, que vai ser g\n",
    "\n",
    "    # TRANSMISSAO PELO CANAL\n",
    "    Y = np.dot(H, xptx) # fading\n",
    "    Y = comm.awgn(Y, SNR=snr) # ruido branco\n",
    "    \n",
    "    return Y"
   ]
  },
  {
   "cell_type": "markdown",
   "metadata": {},
   "source": [
    "### Main Function"
   ]
  },
  {
   "cell_type": "code",
   "execution_count": 3,
   "metadata": {},
   "outputs": [],
   "source": [
    "def main(qtdSimbolosAtual, qtdBitsPorSimbolo, qtdAntenasAtual, qtdUsuariosAtual, potenciaEspiaoAtual, snrAtual, qtdEspioes, caminhoCSV):\n",
    "    \n",
    "    # PROPAGACAO DO SINAL\n",
    "    Y = simularPropagacaoSinal(qtdSimbolosAtual, qtdBitsPorSimbolo, qtdAntenasAtual, qtdUsuariosAtual, potenciaEspiaoAtual, snrAtual, qtdEspioes)\n",
    "\n",
    "    # CALCULANDO A RAZAO DOS AUTOVALORES\n",
    "    razaoAtual = comm.razaoMatrizR(Y, qtdSimbolosAtual, M=qtdAntenasAtual, SNR=snrAtual)\n",
    "\n",
    "    # FAZENDO O TARGET DO DATASET\n",
    "    ataquePresente = 0\n",
    "    if potenciaEspiaoAtual > 0:\n",
    "        ataquePresente = 1\n",
    "\n",
    "    # SALVANDO NO CSV - mode='a' significa append\n",
    "    linhaNovaCSV = pd.DataFrame([[\n",
    "        qtdUsuariosAtual, \n",
    "        qtdAntenasAtual, \n",
    "        qtdSimbolosAtual, \n",
    "        snrAtual, \n",
    "        razaoAtual, \n",
    "        potenciaEspiaoAtual, \n",
    "        ataquePresente\n",
    "    ]]).to_csv(caminhoCSV, mode='a', header=False, index=False)"
   ]
  },
  {
   "cell_type": "markdown",
   "metadata": {
    "colab_type": "text",
    "id": "4kVQGeT2Mjkc"
   },
   "source": [
    "### System Parameters"
   ]
  },
  {
   "cell_type": "code",
   "execution_count": 4,
   "metadata": {},
   "outputs": [],
   "source": [
    "# FIXED\n",
    "nJobs             = 25\n",
    "qtdEspioes        = 1\n",
    "qtdBitsPorSimbolo = 2\n",
    "repetibilidade    = 100\n",
    "potenciaUsuario   = 1\n",
    "\n",
    "# VARIABLES\n",
    "rangeQtdUsuarios    = np.array([1,2,3])\n",
    "rangeQtdAntenas     = np.array([64, 128, 192, 256])\n",
    "rangePotenciaEspiao = np.arange(0.0, 2.51, 0.25)\n",
    "rangeQtdSimbolos    = np.arange(10, 101, 5)\n",
    "rangeSNRs           = np.arange(-30, 51, 2.5)\n",
    "\n",
    "# TESTES RAPIDOS - DEIXAR COMENTADOOOOOOO\n",
    "# rangeQtdUsuarios    = np.array([1]) # TESTES RAPIDOS \n",
    "# rangeQtdAntenas     = np.array([64, 128]) # TESTES RAPIDOS \n",
    "# rangePotenciaEspiao = np.arange(0.0, 1.1, 0.5) # TESTES RAPIDOS \n",
    "# rangeQtdSimbolos    = np.arange(20, 101, 20) # TESTES RAPIDOS \n",
    "# rangeSNRs           = np.arange(-10, 20, 5) # TESTES RAPIDOS "
   ]
  },
  {
   "cell_type": "markdown",
   "metadata": {
    "colab_type": "text",
    "id": "3dHHzjjIMjlD"
   },
   "source": [
    "### Simulate Scenarios While Creating CSV metadata"
   ]
  },
  {
   "cell_type": "code",
   "execution_count": 5,
   "metadata": {
    "colab": {
     "base_uri": "https://localhost:8080/",
     "height": 1000
    },
    "colab_type": "code",
    "executionInfo": {
     "elapsed": 6728,
     "status": "ok",
     "timestamp": 1597165796444,
     "user": {
      "displayName": "Pedro Ivo Da Cruz",
      "photoUrl": "https://lh3.googleusercontent.com/a-/AOh14Gi6gSI4jdkG_h-XMsvq_m9Lmz9TBC6YvBx1NRiqHg=s64",
      "userId": "00923469177734285874"
     },
     "user_tz": 180
    },
    "id": "vfwgRRbNMjlG",
    "outputId": "c6754988-25bb-4f9a-e73a-66106ab12b69"
   },
   "outputs": [
    {
     "data": {
      "text/plain": [
       "'Progresso: 100.0%'"
      ]
     },
     "metadata": {},
     "output_type": "display_data"
    }
   ],
   "source": [
    "# INICIANDO O CSV\n",
    "caminhoCSV = \"../CSV/dataset_\"+str(time())+\".csv\"\n",
    "colunas    = [\n",
    "    \"qtdUsuarios\", \n",
    "    \"qtdAntenas\", \n",
    "    \"qtdSimbolos\", \n",
    "    \"snr\", \n",
    "    \"razaoAutovalores\", \n",
    "    \"potenciaEspiao_TARGET\", \n",
    "    \"ataquePresente_TARGET\"\n",
    "]\n",
    "dataframe   = pd.DataFrame(columns=colunas).to_csv(caminhoCSV, index=False)\n",
    "del dataframe\n",
    "del colunas\n",
    "\n",
    "iteracaoAtual     = 1 # para contar as iteracoes e printar um percentual de progresso\n",
    "qtdPossibilidades = len(rangeQtdUsuarios) * len(rangeQtdAntenas) * len(rangePotenciaEspiao) * len(rangeQtdSimbolos) * len(rangeSNRs)\n",
    "\n",
    "# ITERANDO TODAS AS COMBINACOES POSSIVEIS DE VARIAVEIS \n",
    "for qtdUsuariosAtual in rangeQtdUsuarios:\n",
    "    for qtdAntenasAtual in rangeQtdAntenas:\n",
    "        for potenciaEspiaoAtual in rangePotenciaEspiao:\n",
    "            for qtdSimbolosAtual in rangeQtdSimbolos:\n",
    "                for snrAtual in rangeSNRs:\n",
    "                    \n",
    "                    # VAMOS PARALELIZAR PQ NEM DEUS TEM A PACIENCIA NECESSARIA KKKKK\n",
    "                    Parallel(n_jobs=nJobs, verbose=0)(delayed(main)(qtdSimbolosAtual, qtdBitsPorSimbolo, qtdAntenasAtual, qtdUsuariosAtual, potenciaEspiaoAtual, snrAtual, qtdEspioes, caminhoCSV) for repetibilidadeAtual in range(repetibilidade))\n",
    "                    \n",
    "                    # PRINT\n",
    "                    clear_output(wait=True)\n",
    "                    display(\"Progresso: \" + str(100*(iteracaoAtual/qtdPossibilidades))[:7] + \"%\")\n",
    "                    iteracaoAtual += 1"
   ]
  },
  {
   "cell_type": "code",
   "execution_count": null,
   "metadata": {
    "colab": {},
    "colab_type": "code",
    "id": "c6keHDvpknmn"
   },
   "outputs": [],
   "source": []
  }
 ],
 "metadata": {
  "colab": {
   "collapsed_sections": [],
   "name": "Massive-MIMO-Data-Set-Generation.ipynb",
   "provenance": []
  },
  "kernelspec": {
   "display_name": "Python 3",
   "language": "python",
   "name": "python3"
  },
  "language_info": {
   "codemirror_mode": {
    "name": "ipython",
    "version": 3
   },
   "file_extension": ".py",
   "mimetype": "text/x-python",
   "name": "python",
   "nbconvert_exporter": "python",
   "pygments_lexer": "ipython3",
   "version": "3.5.2"
  }
 },
 "nbformat": 4,
 "nbformat_minor": 1
}
