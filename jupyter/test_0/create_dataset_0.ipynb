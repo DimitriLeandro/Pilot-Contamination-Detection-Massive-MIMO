{
 "cells": [
  {
   "cell_type": "markdown",
   "metadata": {
    "colab_type": "text",
    "id": "_CrNkA-MMjkB"
   },
   "source": [
    "# Criação do dataset para o Teste 0: variando a SNR e a quantidade de usuários ao mesmo tempo"
   ]
  },
  {
   "cell_type": "markdown",
   "metadata": {
    "colab_type": "text",
    "id": "CRvoKiWrMjkF"
   },
   "source": [
    "## Imports"
   ]
  },
  {
   "cell_type": "code",
   "execution_count": 1,
   "metadata": {
    "colab": {},
    "colab_type": "code",
    "executionInfo": {
     "elapsed": 897,
     "status": "ok",
     "timestamp": 1597165790547,
     "user": {
      "displayName": "Pedro Ivo Da Cruz",
      "photoUrl": "https://lh3.googleusercontent.com/a-/AOh14Gi6gSI4jdkG_h-XMsvq_m9Lmz9TBC6YvBx1NRiqHg=s64",
      "userId": "00923469177734285874"
     },
     "user_tz": 180
    },
    "id": "0QIQaRO3MjkK"
   },
   "outputs": [],
   "source": [
    "import sys\n",
    "sys.path.append(\"../../python/\")\n",
    "\n",
    "import numpy as np\n",
    "import matplotlib.pyplot as plt\n",
    "import scipy.signal as sig\n",
    "import pandas as pd\n",
    "import utils\n",
    "from typing import Optional\n",
    "from pathlib import Path\n",
    "from joblib import Parallel, delayed\n",
    "from time import time\n",
    "from IPython.display import display, clear_output"
   ]
  },
  {
   "cell_type": "markdown",
   "metadata": {},
   "source": [
    "## Funções"
   ]
  },
  {
   "cell_type": "code",
   "execution_count": 2,
   "metadata": {},
   "outputs": [],
   "source": [
    "def simularPropagacaoSinal(\n",
    "    qtdSimbolosPiloto: int, \n",
    "    bitsPorSimbolo:    int, \n",
    "    qtdAntenas:        int, \n",
    "    qtdUsuarios:       int, \n",
    "    potenciaEspiao:    float, \n",
    "    snr:               float, \n",
    "    qtdEspioes:        int\n",
    ") -> (np.ndarray, np.ndarray, np.ndarray):\n",
    "    \n",
    "    # SIMULANDO OS CANAIS DO USUARIO E DO ESPIAO\n",
    "    Haut = np.sqrt(0.5)*(np.random.normal(0, 1, size=(qtdAntenas, qtdUsuarios)) + 1j*np.random.normal(0, 1, size=(qtdAntenas, qtdUsuarios)))\n",
    "    g    = np.sqrt(0.5)*(np.random.normal(0, 1, size=(qtdAntenas, qtdEspioes))  + 1j*np.random.normal(0, 1, size=(qtdAntenas, qtdEspioes)))\n",
    "\n",
    "    # SEQUENCIA PILOTO ALEATORIA + MODULACAO PARA TODOS OS USUARIOS:\n",
    "    bitStream = np.random.choice([0, 1], qtdSimbolosPiloto*bitsPorSimbolo*qtdUsuarios)\n",
    "    symb      = utils.qpskmodulator(bitStream) # QPSK Modulator\n",
    "    xp        = symb.reshape(qtdUsuarios, qtdSimbolosPiloto)\n",
    "\n",
    "    # ESPIAO ENTRANDO NA JOGADA (SE A POTENCIA DELE FOR 0 ELE NAO ENTRA NA JOGADA):\n",
    "    xpe  = np.sqrt(potenciaEspiao)*xp[0, :] # xpe vai ser a sequencia piloto do primeiro usuario multiplicada pela raiz da potencia do espiao\n",
    "    xptx = np.concatenate((xp, [xpe])) # xptx sera a matriz xp com uma linha a mais: xpe\n",
    "    H    = np.concatenate((Haut, g), axis=1) # H vai ser Haut com uma COLUNA a mais, que vai ser g\n",
    "\n",
    "    # TRANSMISSAO PELO CANAL\n",
    "    Y = np.dot(H, xptx) # fading\n",
    "    Y = utils.awgn(Y, SNR=snr) # ruido branco\n",
    "    \n",
    "    return Y, xp, H[:,0]"
   ]
  },
  {
   "cell_type": "code",
   "execution_count": 3,
   "metadata": {},
   "outputs": [],
   "source": [
    "def estimarCanal(\n",
    "    Y:  np.ndarray, \n",
    "    xp: np.ndarray\n",
    ") -> np.ndarray:\n",
    "    Hest = np.matmul(\n",
    "        np.matmul(Y, np.conjugate(xp).T), \n",
    "        np.linalg.lstsq(\n",
    "            np.matmul(xp, np.conjugate(xp).T), \n",
    "            np.eye(\n",
    "                np.matmul(xp, np.conjugate(xp).T).shape[0], \n",
    "                np.matmul(xp, np.conjugate(xp).T).shape[0]\n",
    "            )\n",
    "        )[0]\n",
    "    )\n",
    "    return Hest[:,0]"
   ]
  },
  {
   "cell_type": "code",
   "execution_count": 4,
   "metadata": {},
   "outputs": [],
   "source": [
    "def calcularEnergiaHassan(\n",
    "    HestCol0:          np.ndarray, \n",
    "    snr:               float, \n",
    "    qtdAntenas:        int, \n",
    "    qtdSimbolosPiloto: int\n",
    ") -> (float, float):\n",
    "    \n",
    "    N0       = 1/(10**(snr/10))\n",
    "    sovertau = qtdAntenas*N0/qtdSimbolosPiloto\n",
    "    ln       = np.log((2+sovertau)/(1+sovertau))\n",
    "    eta      = ((1 + sovertau)*(2+sovertau)*ln).real\n",
    "    E        = (np.matmul(np.conjugate(HestCol0).T, HestCol0)/qtdAntenas).real\n",
    "    \n",
    "    return E, eta"
   ]
  },
  {
   "cell_type": "code",
   "execution_count": 5,
   "metadata": {},
   "outputs": [],
   "source": [
    "def calcularFeatures(\n",
    "    qtdSimbolos:    int, \n",
    "    bitsPorSimbolo: int, \n",
    "    qtdAntenas:     int, \n",
    "    qtdUsuarios:    int, \n",
    "    potenciaEspiao: float, \n",
    "    snr:            float, \n",
    "    qtdEspioes:     int\n",
    ") -> (float, float):\n",
    "    \n",
    "    # PROPAGACAO DO SINAL\n",
    "    Y, xp, HCol0 = simularPropagacaoSinal(qtdSimbolos, bitsPorSimbolo, qtdAntenas, qtdUsuarios, potenciaEspiao, snr, qtdEspioes)  \n",
    "    \n",
    "    # ESTIMATIVA DO CANAL (hassan)\n",
    "    HestCol0 = estimarCanal(Y, xp)\n",
    "    \n",
    "    # CALCULO DA ENERGIA (hassan)\n",
    "    E, eta = calcularEnergiaHassan(HestCol0, snr, qtdAntenas, qtdSimbolos)\n",
    "    \n",
    "    return E, eta"
   ]
  },
  {
   "cell_type": "code",
   "execution_count": 6,
   "metadata": {},
   "outputs": [],
   "source": [
    "def gerarNovaAmostra(\n",
    "    qtdSimbolos:    int, \n",
    "    bitsPorSimbolo: int, \n",
    "    qtdAntenas:     int, \n",
    "    qtdUsuarios:    int, \n",
    "    potenciaEspiao: int, \n",
    "    snr:            float, \n",
    "    qtdEspioes:     int, \n",
    "    caminhoCSV:     Path\n",
    ") -> None:\n",
    "    \n",
    "    # OBTENDO AS PRINCIPAIS FEATURES\n",
    "    E, eta = calcularFeatures(qtdSimbolos, bitsPorSimbolo, qtdAntenas, qtdUsuarios, potenciaEspiao, snr, qtdEspioes)\n",
    "\n",
    "    # FAZENDO O TARGET DO DATASET\n",
    "    ataquePresente = True if potenciaEspiao else False\n",
    "\n",
    "    # SALVANDO NO CSV\n",
    "    linhaNovaCSV = pd.DataFrame([[\n",
    "        qtdUsuarios,\n",
    "        snr,\n",
    "        E,\n",
    "        eta,\n",
    "        potenciaEspiao, \n",
    "        ataquePresente\n",
    "    ]]).to_csv(caminhoCSV, mode=\"a\", header=False, index=False)"
   ]
  },
  {
   "cell_type": "code",
   "execution_count": 7,
   "metadata": {},
   "outputs": [],
   "source": [
    "def gerarDataset(\n",
    "    rangePotenciaEspiao: np.ndarray,\n",
    "    rangeQtdUsuarios:    np.ndarray,\n",
    "    rangeSNRs:           np.ndarray,\n",
    "    qtdAntenas:          int, \n",
    "    qtdSimbolos:         int, \n",
    "    qtdBitsPorSimbolo:   int, \n",
    "    qtdEspioes:          int, \n",
    "    repetibilidade:      int,\n",
    "    caminhoCSV:          Path\n",
    ") -> None:\n",
    "    \n",
    "    # INICIANDO O CSV\n",
    "    colunas = [\"qtdUsuarios\", \"SNR\", \"E\", \"eta\", \"potenciaEspiao\", \"ataquePresente\"]\n",
    "    dataframe = pd.DataFrame(columns=colunas).to_csv(caminhoCSV, index=False)\n",
    "\n",
    "    # PARA PRINTAR O PROGRESSO\n",
    "    iteracaoAtual     = 1 \n",
    "    qtdPossibilidades = len(rangeQtdUsuarios) * len(rangeSNRs) * len(rangePotenciaEspiao)\n",
    "\n",
    "    # ITERANDO TODAS AS COMBINACOES POSSIVEIS DE VARIAVEIS\n",
    "    for qtdUsuarios in rangeQtdUsuarios:\n",
    "        for snr in rangeSNRs:\n",
    "            for potenciaEspiaoAtual in rangePotenciaEspiao:\n",
    "\n",
    "                # PARALELIZANDO\n",
    "                Parallel(n_jobs=nJobs, verbose=0)(delayed(gerarNovaAmostra)(qtdSimbolos, qtdBitsPorSimbolo, qtdAntenas, qtdUsuarios, potenciaEspiaoAtual, snr, qtdEspioes, caminhoCSV) for repetibilidadeAtual in range(repetibilidade))            \n",
    "\n",
    "                # PRINT\n",
    "                printStr  = \"Qtd usuários:       \" + str(qtdUsuarios) + \"\\n\"\n",
    "                printStr += \"SNR:                \" + str(snr) + \"\\n\"\n",
    "                printStr += \"Potência do Espião: \" + str(potenciaEspiaoAtual) + \"\\n\"\n",
    "                printStr += \"Progresso Total:    \" + str(100*(iteracaoAtual/qtdPossibilidades))[:7] + \"%\"\n",
    "                clear_output(wait=True)\n",
    "                print(printStr)\n",
    "                iteracaoAtual += 1"
   ]
  },
  {
   "cell_type": "markdown",
   "metadata": {
    "colab_type": "text",
    "id": "4kVQGeT2Mjkc"
   },
   "source": [
    "## Parâmetros Iniciais"
   ]
  },
  {
   "cell_type": "code",
   "execution_count": 8,
   "metadata": {},
   "outputs": [],
   "source": [
    "# PARAMETROS FIXOS\n",
    "nJobs                 = 6\n",
    "qtdAntenas            = 256\n",
    "qtdSimbolos           = 300\n",
    "qtdEspioes            = 1\n",
    "qtdBitsPorSimbolo     = 2\n",
    "repetibilidade        = 100\n",
    "potenciaUsuario       = 1\n",
    "sufixoNomeCSV         = str(time()).replace(\".\", \"\")\n",
    "dirDatasets           = Path(\"../../datasets/test_0/\")\n",
    "caminhoCSVTreinamento = dirDatasets.joinpath(\"train_0_\"+str(qtdAntenas)+\"_antennas_\"+sufixoNomeCSV+\".csv\")\n",
    "caminhoCSVTeste       = dirDatasets.joinpath(\"test_0_\"+str(qtdAntenas)+\"_antennas_\"+sufixoNomeCSV+\".csv\")\n",
    "\n",
    "# PARAMETROS VARIAVEIS\n",
    "rangePotenciaEspiao         = np.arange(0, 2.51, 0.5)\n",
    "rangeQtdUsuariosTreinamento = np.concatenate(([1], np.arange(16, 257, 16)))\n",
    "rangeQtdUsuariosTeste       = rangeQtdUsuariosTreinamento\n",
    "rangeSNRsTreinamento        = np.arange(-10, 31, 5)\n",
    "rangeSNRsTeste              = rangeSNRsTreinamento"
   ]
  },
  {
   "cell_type": "markdown",
   "metadata": {},
   "source": [
    "## Balanceamento do Dataset\n",
    "\n",
    "Queremos que a quantidade de cenários em que há ataque seja igual à quantidade de casos em que não há. Se o array de potências do espião for [0.0, 0.5, 1.0, 1.5, 2.0, 2.5], teremos 5x mais dados em que há contaminação. Nesse caso, temos que fazer o array se transformar em [0.0, 0.0, 0.0, 0.0, 0.0, 0.5, 1.0, 1.5, 2.0, 2.5]. "
   ]
  },
  {
   "cell_type": "code",
   "execution_count": 9,
   "metadata": {},
   "outputs": [
    {
     "name": "stdout",
     "output_type": "stream",
     "text": [
      "[0.  0.  0.  0.  0.  0.5 1.  1.5 2.  2.5]\n"
     ]
    }
   ],
   "source": [
    "rangePotenciaEspiao = np.concatenate((np.zeros(np.count_nonzero(rangePotenciaEspiao>0)-np.count_nonzero(rangePotenciaEspiao==0)), rangePotenciaEspiao))\n",
    "print(rangePotenciaEspiao)"
   ]
  },
  {
   "cell_type": "markdown",
   "metadata": {},
   "source": [
    "## Criando os dataset"
   ]
  },
  {
   "cell_type": "markdown",
   "metadata": {},
   "source": [
    "### Treinamento"
   ]
  },
  {
   "cell_type": "code",
   "execution_count": 10,
   "metadata": {},
   "outputs": [
    {
     "name": "stdout",
     "output_type": "stream",
     "text": [
      "Qtd usuários:       256\n",
      "SNR:                30\n",
      "Potência do Espião: 2.5\n",
      "Progresso Total:    100.0%\n"
     ]
    }
   ],
   "source": [
    "gerarDataset(\n",
    "    rangePotenciaEspiao,\n",
    "    rangeQtdUsuariosTreinamento,\n",
    "    rangeSNRsTreinamento,\n",
    "    qtdAntenas,\n",
    "    qtdSimbolos,\n",
    "    qtdBitsPorSimbolo,\n",
    "    qtdEspioes,\n",
    "    repetibilidade,\n",
    "    caminhoCSVTreinamento\n",
    ") "
   ]
  },
  {
   "cell_type": "markdown",
   "metadata": {
    "colab": {},
    "colab_type": "code",
    "id": "c6keHDvpknmn"
   },
   "source": [
    "### Teste"
   ]
  },
  {
   "cell_type": "code",
   "execution_count": null,
   "metadata": {},
   "outputs": [
    {
     "name": "stdout",
     "output_type": "stream",
     "text": [
      "Qtd usuários:       176\n",
      "SNR:                15\n",
      "Potência do Espião: 2.5\n",
      "Progresso Total:    68.6274%\n"
     ]
    }
   ],
   "source": [
    "gerarDataset(\n",
    "    rangePotenciaEspiao,\n",
    "    rangeQtdUsuariosTeste,\n",
    "    rangeSNRsTeste,\n",
    "    qtdAntenas,\n",
    "    qtdSimbolos,\n",
    "    qtdBitsPorSimbolo,\n",
    "    qtdEspioes,\n",
    "    repetibilidade, \n",
    "    caminhoCSVTeste\n",
    ") "
   ]
  },
  {
   "cell_type": "code",
   "execution_count": null,
   "metadata": {},
   "outputs": [],
   "source": []
  }
 ],
 "metadata": {
  "colab": {
   "collapsed_sections": [],
   "name": "Massive-MIMO-Data-Set-Generation.ipynb",
   "provenance": []
  },
  "kernelspec": {
   "display_name": "Python 3",
   "language": "python",
   "name": "python3"
  },
  "language_info": {
   "codemirror_mode": {
    "name": "ipython",
    "version": 3
   },
   "file_extension": ".py",
   "mimetype": "text/x-python",
   "name": "python",
   "nbconvert_exporter": "python",
   "pygments_lexer": "ipython3",
   "version": "3.9.1"
  }
 },
 "nbformat": 4,
 "nbformat_minor": 1
}
