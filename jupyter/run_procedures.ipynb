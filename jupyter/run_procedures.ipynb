{
 "cells": [
  {
   "cell_type": "markdown",
   "id": "05df6db8",
   "metadata": {},
   "source": [
    "# Run procedures"
   ]
  },
  {
   "cell_type": "markdown",
   "id": "230cb7dd",
   "metadata": {},
   "source": [
    "## Imports"
   ]
  },
  {
   "cell_type": "code",
   "execution_count": 39,
   "id": "5b0c3a3b",
   "metadata": {},
   "outputs": [],
   "source": [
    "import pandas as pd\n",
    "import numpy as np\n",
    "from pathlib import Path\n",
    "from sklearn.model_selection import GridSearchCV\n",
    "from sklearn.tree import DecisionTreeClassifier, export_text\n",
    "from sklearn.metrics import classification_report"
   ]
  },
  {
   "cell_type": "code",
   "execution_count": null,
   "id": "e408556d",
   "metadata": {},
   "outputs": [],
   "source": []
  },
  {
   "cell_type": "code",
   "execution_count": 32,
   "id": "f01815e9",
   "metadata": {},
   "outputs": [],
   "source": [
    "dirDatasets = Path(\"../datasets/\")\n",
    "features    = [\"n_users\", \"E\"]\n",
    "n_jobs      = -1\n",
    "np.random.seed(0)"
   ]
  },
  {
   "cell_type": "code",
   "execution_count": 33,
   "id": "b50041f0",
   "metadata": {},
   "outputs": [],
   "source": [
    "df_train = pd.read_csv(dirDatasets.joinpath(\"procedure_1_train.csv\"))\n",
    "X_train  = df_train[features]\n",
    "y_train  = df_train[\"target\"]"
   ]
  },
  {
   "cell_type": "code",
   "execution_count": 34,
   "id": "6d1d849c",
   "metadata": {},
   "outputs": [
    {
     "name": "stdout",
     "output_type": "stream",
     "text": [
      "{'max_depth': 3}\n"
     ]
    }
   ],
   "source": [
    "gs = GridSearchCV(\n",
    "    estimator  = DecisionTreeClassifier(),\n",
    "    param_grid = {\"max_depth\": np.arange(1, 10)},\n",
    "    scoring    = \"recall\",\n",
    "    n_jobs     = n_jobs,\n",
    "    cv         = 10\n",
    ")\n",
    "gs.fit(X_train, y_train)\n",
    "print(gs.best_params_)"
   ]
  },
  {
   "cell_type": "code",
   "execution_count": 35,
   "id": "d3f10b94",
   "metadata": {},
   "outputs": [
    {
     "name": "stdout",
     "output_type": "stream",
     "text": [
      "|--- E <= 1.29\n",
      "|   |--- E <= 1.25\n",
      "|   |   |--- E <= 1.23\n",
      "|   |   |   |--- class: False\n",
      "|   |   |--- E >  1.23\n",
      "|   |   |   |--- class: False\n",
      "|   |--- E >  1.25\n",
      "|   |   |--- n_users <= 216.00\n",
      "|   |   |   |--- class: True\n",
      "|   |   |--- n_users >  216.00\n",
      "|   |   |   |--- class: False\n",
      "|--- E >  1.29\n",
      "|   |--- E <= 1.31\n",
      "|   |   |--- n_users <= 216.00\n",
      "|   |   |   |--- class: True\n",
      "|   |   |--- n_users >  216.00\n",
      "|   |   |   |--- class: False\n",
      "|   |--- E >  1.31\n",
      "|   |   |--- E <= 1.34\n",
      "|   |   |   |--- class: True\n",
      "|   |   |--- E >  1.34\n",
      "|   |   |   |--- class: True\n",
      "\n"
     ]
    }
   ],
   "source": [
    "clf = DecisionTreeClassifier(**gs.best_params_)\n",
    "clf.fit(X_train, y_train)\n",
    "print(export_text(clf, feature_names=features))"
   ]
  },
  {
   "cell_type": "code",
   "execution_count": 46,
   "id": "e8ba7afa",
   "metadata": {},
   "outputs": [],
   "source": [
    "df_test_1 = pd.read_csv(dirDatasets.joinpath(\"procedure_1_test_1.csv\"))\n",
    "X_test_1  = df_test_1[features]\n",
    "y_test_1  = df_test_1[\"target\"]"
   ]
  },
  {
   "cell_type": "code",
   "execution_count": 47,
   "id": "8daf6f65",
   "metadata": {},
   "outputs": [],
   "source": [
    "y_pred_1 = clf.predict(X_test_1)"
   ]
  },
  {
   "cell_type": "code",
   "execution_count": 48,
   "id": "7e55a5fc",
   "metadata": {
    "scrolled": true
   },
   "outputs": [
    {
     "name": "stdout",
     "output_type": "stream",
     "text": [
      "              precision    recall  f1-score   support\n",
      "\n",
      "       False       1.00      1.00      1.00      4100\n",
      "        True       1.00      1.00      1.00     20500\n",
      "\n",
      "    accuracy                           1.00     24600\n",
      "   macro avg       1.00      1.00      1.00     24600\n",
      "weighted avg       1.00      1.00      1.00     24600\n",
      "\n"
     ]
    }
   ],
   "source": [
    "print(classification_report(y_test_1, y_pred_1))"
   ]
  },
  {
   "cell_type": "code",
   "execution_count": null,
   "id": "6f795969",
   "metadata": {},
   "outputs": [],
   "source": []
  },
  {
   "cell_type": "code",
   "execution_count": null,
   "id": "86e8ef05",
   "metadata": {},
   "outputs": [],
   "source": []
  },
  {
   "cell_type": "code",
   "execution_count": null,
   "id": "bf54acfd",
   "metadata": {},
   "outputs": [],
   "source": []
  }
 ],
 "metadata": {
  "kernelspec": {
   "display_name": "Python 3 (ipykernel)",
   "language": "python",
   "name": "python3"
  },
  "language_info": {
   "codemirror_mode": {
    "name": "ipython",
    "version": 3
   },
   "file_extension": ".py",
   "mimetype": "text/x-python",
   "name": "python",
   "nbconvert_exporter": "python",
   "pygments_lexer": "ipython3",
   "version": "3.9.13"
  }
 },
 "nbformat": 4,
 "nbformat_minor": 5
}
