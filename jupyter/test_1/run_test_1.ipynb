{
 "cells": [
  {
   "cell_type": "markdown",
   "metadata": {},
   "source": [
    "# Rodar Teste 1: influência da SNR"
   ]
  },
  {
   "cell_type": "markdown",
   "metadata": {},
   "source": [
    "## Imports"
   ]
  },
  {
   "cell_type": "code",
   "execution_count": 1,
   "metadata": {},
   "outputs": [],
   "source": [
    "import numpy as np\n",
    "import pandas as pd\n",
    "import matplotlib.pyplot as plt\n",
    "import json\n",
    "from typing import Optional, Any\n",
    "from pathlib import Path\n",
    "from time import time\n",
    "from sklearn.metrics import accuracy_score, recall_score, precision_score, confusion_matrix\n",
    "from sklearn.tree import DecisionTreeClassifier\n",
    "from sklearn.utils import shuffle\n",
    "from sklearn.model_selection import KFold\n",
    "from joblib import Parallel, delayed"
   ]
  },
  {
   "cell_type": "markdown",
   "metadata": {},
   "source": [
    "## Funções"
   ]
  },
  {
   "cell_type": "code",
   "execution_count": 2,
   "metadata": {},
   "outputs": [],
   "source": [
    "def abrirDataframe(\n",
    "    dirDatasets:        Path, \n",
    "    qtdUsuarios:        int, \n",
    "    qtdAntenas:         int,\n",
    "    datasetTreinamento: bool\n",
    ") -> pd.DataFrame:\n",
    "    \n",
    "    prefixo    = \"train_1_\" if datasetTreinamento else \"test_1_\"        \n",
    "    caminhoCSV = sorted(dirDatasets.glob(prefixo+str(qtdUsuarios)+\"_users_\"+str(qtdAntenas)+\"_antenas_*.csv\"))[-1]\n",
    "    df         = pd.read_csv(caminhoCSV)\n",
    "    \n",
    "    return df"
   ]
  },
  {
   "cell_type": "code",
   "execution_count": 3,
   "metadata": {},
   "outputs": [],
   "source": [
    "def separarXeY(\n",
    "    dfTreinamento:        pd.DataFrame,\n",
    "    dfTeste:              pd.DataFrame, \n",
    "    featuresSelecionadas: Optional[list[str]] = None\n",
    ") -> (pd.Series, pd.Series, pd.Series, pd.Series, pd.Series, pd.Series, pd.Series, pd.Series):\n",
    "    \n",
    "    # SELECIONANDO TODAS AS FEATURES SE FEATURESSELECIONADAS VIER NONE\n",
    "    if featuresSelecionadas is None:\n",
    "        featuresSelecionadas = df.columns.drop([\"potenciaEspiao\", \"ataquePresente\"])\n",
    "    \n",
    "    # SEPARANDO OS ARRAYS\n",
    "    XTrain         = dfTreinamento[featuresSelecionadas]\n",
    "    XTest          = dfTeste[featuresSelecionadas]\n",
    "    yTrain         = dfTreinamento[\"ataquePresente\"]\n",
    "    yTest          = dfTeste[\"ataquePresente\"]\n",
    "    snrTrain       = dfTreinamento[\"snr\"]\n",
    "    snrTest        = dfTeste[\"snr\"]\n",
    "    potEspiaoTrain = dfTreinamento[\"potenciaEspiao\"]\n",
    "    potEspiaoTest  = dfTeste[\"potenciaEspiao\"]\n",
    "    \n",
    "    return XTrain, XTest, yTrain, yTest, snrTrain, snrTest, potEspiaoTrain, potEspiaoTest"
   ]
  },
  {
   "cell_type": "code",
   "execution_count": 4,
   "metadata": {},
   "outputs": [],
   "source": [
    "def deteccaoMachineLearning(\n",
    "    XTrain:           pd.Series, \n",
    "    XTest:            pd.Series, \n",
    "    yTrain:           pd.Series, \n",
    "    objClassificador: Any\n",
    ") -> (np.ndarray, np.float64, np.float64):\n",
    "\n",
    "    # TREINANDO O CLASSIFICADOR\n",
    "    objClassificador.fit(XTrain, yTrain)\n",
    "\n",
    "    # PREDIZENDO OS DE TESTE\n",
    "    arrayTempos = np.zeros(len(XTest))\n",
    "    yPred       = np.zeros(len(XTest))\n",
    "    for i, (id, amostraTeste) in enumerate(XTest.iterrows()):\n",
    "        tic            = time()\n",
    "        yPred[i]       = objClassificador.predict([amostraTeste.to_numpy()])[0]\n",
    "        toc            = time()\n",
    "        arrayTempos[0] = toc-tic\n",
    "        \n",
    "    # METRICAS DE TEMPO\n",
    "    mediaTempo, desvioTempo = np.mean(arrayTempos), np.std(arrayTempos)\n",
    "        \n",
    "    return yPred, mediaTempo, desvioTempo"
   ]
  },
  {
   "cell_type": "code",
   "execution_count": 5,
   "metadata": {},
   "outputs": [],
   "source": [
    "def deteccaoHassan(\n",
    "    XTest: pd.Series\n",
    ") -> (np.ndarray, np.float64, np.float64):\n",
    "    \n",
    "    arrayTempos = np.zeros(len(XTest))\n",
    "    yPred       = np.zeros(len(XTest))\n",
    "    \n",
    "    for i, (id, amostraTeste) in enumerate(XTest.iterrows()):\n",
    "        tic            = time()\n",
    "        yPred[0]       = 1 if amostraTeste[\"E\"] > amostraTeste[\"eta\"] else 0\n",
    "        toc            = time()\n",
    "        arrayTempos[0] = toc-tic\n",
    "\n",
    "    mediaTempo, desvioTempo = np.mean(arrayTempos), np.std(arrayTempos)\n",
    "        \n",
    "    return yPred, mediaTempo, desvioTempo"
   ]
  },
  {
   "cell_type": "code",
   "execution_count": 6,
   "metadata": {},
   "outputs": [],
   "source": [
    "def deteccaoKapetanovic(\n",
    "    XTest:     pd.Series, \n",
    "    threshold: float\n",
    ") -> (np.ndarray, np.float64, np.float64):\n",
    "    \n",
    "    arrayTempos = np.zeros(len(XTest))\n",
    "    yPred       = np.zeros(len(XTest))\n",
    "    \n",
    "    for i, (id, amostraTeste) in enumerate(XTest.iterrows()):\n",
    "        tic            = time()\n",
    "        yPred[0]       = 1 if amostraTeste[\"a1\"]/amostraTeste[\"a2\"] > threshold else 0\n",
    "        toc            = time()\n",
    "        arrayTempos[0] = toc-tic\n",
    "        \n",
    "    mediaTempo, desvioTempo = np.mean(arrayTempos), np.std(arrayTempos)\n",
    "        \n",
    "    return yPred, mediaTempo, desvioTempo"
   ]
  },
  {
   "cell_type": "code",
   "execution_count": 7,
   "metadata": {},
   "outputs": [],
   "source": [
    "def predizerEsquemaDeteccao(\n",
    "    esquemaDeteccao:      str,\n",
    "    XTrain:               pd.Series, \n",
    "    XTest:                pd.Series, \n",
    "    yTrain:               pd.Series, \n",
    "    classificador:        Any,\n",
    "    thresholdKapetanovic: float\n",
    ") -> (np.ndarray, np.float64, np.float64):\n",
    "    \n",
    "    if esquemaDeteccao == \"ML\":\n",
    "        yPred, tempoMedioPredicao, tempoDesvioPredicao = deteccaoMachineLearning(XTrain, XTest, yTrain, classificador)\n",
    "    elif esquemaDeteccao == \"Hassan\":\n",
    "        yPred, tempoMedioPredicao, tempoDesvioPredicao = deteccaoHassan(XTest)\n",
    "    else:\n",
    "        yPred, tempoMedioPredicao, tempoDesvioPredicao = deteccaoKapetanovic(XTest, thresholdKapetanovic)\n",
    "        \n",
    "    return yPred, tempoMedioPredicao, tempoDesvioPredicao"
   ]
  },
  {
   "cell_type": "code",
   "execution_count": 8,
   "metadata": {},
   "outputs": [],
   "source": [
    "def obterValoresUnicos(\n",
    "    arraySNRs:      np.ndarray, \n",
    "    arrayPotsEspiao: np.ndarray\n",
    ") -> (np.ndarray, np.ndarray):\n",
    "    \n",
    "    rangeSNRs      = np.unique(arraySNRs)\n",
    "    rangePotEspiao = np.unique(arrayPotsEspiao)\n",
    "    \n",
    "    return rangeSNRs, rangePotEspiao"
   ]
  },
  {
   "cell_type": "code",
   "execution_count": 9,
   "metadata": {},
   "outputs": [],
   "source": [
    "def calcularMetricas(\n",
    "    yTest: pd.Series, \n",
    "    yPred: np.ndarray\n",
    ") -> (np.float64, np.float64, np.float64, np.ndarray):\n",
    "    \n",
    "    acuracia       = accuracy_score(yTest, yPred)\n",
    "    precisao       = precision_score(yTest, yPred)\n",
    "    revocacao      = recall_score(yTest, yPred)\n",
    "    matrizConfusao = confusion_matrix(yTest, yPred)\n",
    "    \n",
    "    return acuracia, precisao, revocacao, matrizConfusao"
   ]
  },
  {
   "cell_type": "code",
   "execution_count": 10,
   "metadata": {},
   "outputs": [],
   "source": [
    "def obterDictNovoResultado(\n",
    "    classificador:               Any, \n",
    "    matrizProbabilidadeDeteccao: np.ndarray, \n",
    "    matrizConfusao:              np.ndarray, \n",
    "    rangePotEspiao:              np.ndarray, \n",
    "    rangeSNRs:                   np.ndarray, \n",
    "    qtdUsuarios:                 int, \n",
    "    qtdAntenas:                  int, \n",
    "    qtdSimbolos:                 int, \n",
    "    featuresSelecionadas:        list[str], \n",
    "    acuracia:                    np.float64, \n",
    "    precisao:                    np.float64, \n",
    "    revocacao:                   np.float64, \n",
    "    tempoMedioPredicao:          np.float64, \n",
    "    tempoDesvioPredicao:         np.float64, \n",
    "    repetibilidadeDataset:       int\n",
    ") -> dict[str, Any]:\n",
    "    \n",
    "    classificador = classificador.__class__.__name__ if type(classificador) is not str else classificador\n",
    "    descricao = \"Deteccao baseada em \" + classificador + \" com as features \" + \", \".join(featuresSelecionadas)\n",
    "    \n",
    "    dictNovoResultado = {\n",
    "        classificador + \"_\" + str(time()): {\n",
    "            \"qtdUsuarios\":                 int(qtdUsuarios),\n",
    "            \"qtdAntenas\":                  int(qtdAntenas),\n",
    "            \"qtdSimbolos\":                 int(qtdSimbolos),\n",
    "            \"descricao\":                   descricao,\n",
    "            \"repetibilidadeDataset\":       int(repetibilidadeDataset),\n",
    "            \"acuracia\":                    float(acuracia),\n",
    "            \"precisao\":                    float(precisao),\n",
    "            \"revocacao\":                   float(revocacao),\n",
    "            \"tempoMedioPredicao\":          tempoMedioPredicao,\n",
    "            \"tempoDesvioPredicao\":         tempoDesvioPredicao, \n",
    "            \"featuresSelecionadas\":        featuresSelecionadas,\n",
    "            \"rangePotEspiao\":              rangePotEspiao.tolist(),\n",
    "            \"rangeSNRs\":                   rangeSNRs.tolist(),\n",
    "            \"matrizProbabilidadeDeteccao\": matrizProbabilidadeDeteccao.tolist(),\n",
    "            \"matrizConfusao\":              matrizConfusao.tolist()\n",
    "        }\n",
    "    }\n",
    "    \n",
    "    return dictNovoResultado"
   ]
  },
  {
   "cell_type": "code",
   "execution_count": 11,
   "metadata": {},
   "outputs": [],
   "source": [
    "def salvarNovosResultados(\n",
    "    arrayResultados: list[dict], \n",
    "    arquivoSalvar:   Path\n",
    ") -> None:\n",
    "    \n",
    "    for dictNovoResultado in arrayResultados:\n",
    "        \n",
    "        keyNova    = list(dictNovoResultado.keys())[0]\n",
    "        valuesNovo = dictNovoResultado[list(dictNovoResultado.keys())[0]]\n",
    "        \n",
    "        with open(arquivoSalvar, mode=\"r+\") as file:\n",
    "            dictResultados = json.load(file)\n",
    "            dictResultados[keyNova] = valuesNovo\n",
    "            file.seek(0)\n",
    "            json.dump(dictResultados, file, indent=4)\n",
    "            file.truncate()"
   ]
  },
  {
   "cell_type": "markdown",
   "metadata": {},
   "source": [
    "## Parâmetros iniciais"
   ]
  },
  {
   "cell_type": "code",
   "execution_count": 12,
   "metadata": {},
   "outputs": [],
   "source": [
    "# PARAMETROS\n",
    "classificador                   = DecisionTreeClassifier()\n",
    "qtdUsuarios                     = 64\n",
    "qtdAntenas                      = 256\n",
    "qtdSimbolos                     = 300\n",
    "repetibilidadeDataset           = 8\n",
    "nucleosProcessador              = -1\n",
    "thresholdKapetanovic            = 100\n",
    "verbose                         = 100\n",
    "featuresSelecionadasML          = [\"E\"]\n",
    "featuresSelecionadasHassan      = [\"E\", \"eta\"]\n",
    "featuresSelecionadasKapetanovic = [\"a1\", \"a2\"]\n",
    "dirDatasets                     = Path(\"../../datasets/test_1/\")\n",
    "\n",
    "# INICIANDO O JSON QUE VAI GUARDAR OS RESULTADOS\n",
    "dictResultados = {}\n",
    "arquivoSalvar  = Path(\"../../results/test_1/detection_probability_\" + str(time()).replace(\".\", \"\") + \".json\")\n",
    "with open(arquivoSalvar, mode=\"w\") as file:\n",
    "    json.dump(dictResultados, file)"
   ]
  },
  {
   "cell_type": "code",
   "execution_count": null,
   "metadata": {},
   "outputs": [],
   "source": []
  },
  {
   "cell_type": "code",
   "execution_count": null,
   "metadata": {},
   "outputs": [],
   "source": []
  },
  {
   "cell_type": "code",
   "execution_count": null,
   "metadata": {},
   "outputs": [],
   "source": []
  },
  {
   "cell_type": "code",
   "execution_count": 24,
   "metadata": {},
   "outputs": [],
   "source": [
    "# PARAMETROS INICIAIS\n",
    "esquemaDeteccao      = \"ML\"\n",
    "featuresSelecionadas = featuresSelecionadasML\n",
    "qtdFolders           = 5\n",
    "\n",
    "# MATRIZ QUE VAi GUARDAR O RESULTADO DE CADA ITERACAO DO KFOLD\n",
    "matrizProbabilidadeDeteccaoCadaKFold = []\n",
    "\n",
    "# ABRINDO OS DATAFRAMES DE TREINAMENTO E TESTE E SEPARANDO X E Y\n",
    "dfTreinamento = abrirDataframe(dirDatasets, qtdUsuarios, qtdAntenas, datasetTreinamento=True)\n",
    "dfTeste       = abrirDataframe(dirDatasets, qtdUsuarios, qtdAntenas, datasetTreinamento=False)\n",
    "XTrainGlobal, XTestGlobal, yTrainGlobal, yTestGlobal, snrTrainGlobal, snrTestGlobal, potEspTrainGlobal, potEspTestGlobal = separarXeY(dfTreinamento, dfTeste, featuresSelecionadas)\n",
    "\n",
    "# VALORES UNICOS DE SNR E POTENCIA DE ESPIAO PRA EU SABER O INDEX DAS MATRIZES DE RESULTADOS\n",
    "rangeSNRs, rangePotEspiao = obterValoresUnicos(snrTestGlobal, potEspTestGlobal)\n",
    "\n",
    "# OBTENDO INDICES DE TREINAMENTO E TESTE COM KFOLD (NAO DA PRA USAR DO JEITO FACIL PQ SAO DOIS DATAFRAMES DIFERENTES)\n",
    "objKFold = KFold(n_splits=qtdFolders, shuffle=True)\n",
    "pastasTreinamento, _ = zip(*objKFold.split(XTrainGlobal))\n",
    "_, pastasTeste       = zip(*objKFold.split(XTestGlobal))\n",
    "\n",
    "# RODANDO O KFOLD\n",
    "for indexesTreinamento, indexesTeste in zip(pastasTreinamento, pastasTeste):\n",
    "\n",
    "    # SEPARANDO X, Y, SNRs E POTENCIAS DO ESPIAO DE TREINAMENTO E TESTE\n",
    "    XTrain, XTest           = XTrainGlobal.loc[indexesTreinamento], XTestGlobal.loc[indexesTeste]\n",
    "    yTrain, yTest           = yTrainGlobal.loc[indexesTreinamento], yTestGlobal.loc[indexesTeste]\n",
    "    snrTrain, snrTest       = snrTrainGlobal.loc[indexesTreinamento], snrTestGlobal.loc[indexesTeste]\n",
    "    potEspTrain, potEspTest = potEspTrainGlobal.loc[indexesTreinamento], potEspTestGlobal.loc[indexesTeste]\n",
    "\n",
    "    # MATRIZ QUE VAI GUARDAR OS RESULTADOS DESSA ITERACAO DO KFOLD\n",
    "    matrizContadoraDeteccoes   = np.zeros(shape=(len(rangePotEspiao), len(rangeSNRs)))\n",
    "    matrizContadoraOcorrencias = np.zeros(matrizContadoraDeteccoes.shape)\n",
    "\n",
    "    # PREDICAO\n",
    "    yPred, tempoMedioPredicao, tempoDesvioPredicao = predizerEsquemaDeteccao(esquemaDeteccao, XTrain, XTest, yTrain, classificador, thresholdKapetanovic)\n",
    "\n",
    "    # AGREGO NAS MATRIZES CONTADORAS\n",
    "    for (indexTesteAtual, predicaoAtual) in zip(yTest.index, yPred):\n",
    "\n",
    "        # PEGANDO EM QUAL LINHA E EM QUAL COLUNA DA MATRIZ EU VOU COLOCAR O RESULTADO\n",
    "        indexPotEsp = np.where(rangePotEspiao==potEspTest[indexTesteAtual])[0][0]\n",
    "        indexSNR    = np.where(rangeSNRs==snrTest[indexTesteAtual])[0][0]\n",
    "\n",
    "        # COLOCO NAS MATRIZES DE RESULTADOS\n",
    "        matrizContadoraDeteccoes[indexPotEsp][indexSNR] += predicaoAtual\n",
    "        matrizContadoraOcorrencias[indexPotEsp][indexSNR]  += 1\n",
    "\n",
    "    # MATRIZ DA PROBABILIDADE DE DETECCAO EM CADA POT ESPIAO (LINHAS) E CADA SNR (COLUNAS)\n",
    "    matrizProbabilidadeDeteccaoCadaKFold.append(matrizContadoraDeteccoes/matrizContadoraOcorrencias)\n",
    "\n",
    "# MATRIZ DE PROBABILIDADE DE DETECCAO MEDIA E DESVIO EM CADA POT ESP E CADA SNR\n",
    "matrizProbabilidadeDeteccaoMedia  = np.mean(matrizProbabilidadeDeteccaoCadaKFold, axis=0)\n",
    "matrizProbabilidadeDeteccaoDesvio = np.std(matrizProbabilidadeDeteccaoCadaKFold, axis=0)\n",
    "\n",
    "\n",
    "    \n",
    "#     return matrizProbabilidadeDeteccaoMedia, matrizProbabilidadeDeteccaoDesvio"
   ]
  },
  {
   "cell_type": "code",
   "execution_count": 25,
   "metadata": {},
   "outputs": [
    {
     "data": {
      "text/plain": [
       "array([[0.        , 0.        , 0.        , 0.        , 0.        ,\n",
       "        0.        , 0.        , 0.        , 0.        , 0.        ,\n",
       "        0.        , 0.        , 0.        , 0.        , 0.        ,\n",
       "        0.        , 0.        , 0.        , 0.        , 0.        ,\n",
       "        0.        , 0.        , 0.        , 0.        , 0.        ,\n",
       "        0.        , 0.        , 0.00238095, 0.        , 0.        ,\n",
       "        0.        , 0.        , 0.        , 0.        , 0.        ,\n",
       "        0.        , 0.        , 0.        , 0.        , 0.        ,\n",
       "        0.        ],\n",
       "       [1.        , 1.        , 1.        , 1.        , 1.        ,\n",
       "        1.        , 1.        , 1.        , 1.        , 1.        ,\n",
       "        0.992     , 1.        , 1.        , 1.        , 1.        ,\n",
       "        1.        , 1.        , 1.        , 0.9875    , 1.        ,\n",
       "        1.        , 1.        , 1.        , 1.        , 0.98823529,\n",
       "        1.        , 1.        , 1.        , 0.98181818, 1.        ,\n",
       "        1.        , 0.99166667, 1.        , 1.        , 0.99166667,\n",
       "        1.        , 0.97894737, 1.        , 0.98947368, 1.        ,\n",
       "        1.        ],\n",
       "       [1.        , 1.        , 1.        , 1.        , 1.        ,\n",
       "        1.        , 1.        , 1.        , 1.        , 1.        ,\n",
       "        1.        , 1.        , 1.        , 1.        , 1.        ,\n",
       "        1.        , 1.        , 1.        , 1.        , 1.        ,\n",
       "        1.        , 1.        , 1.        , 1.        , 1.        ,\n",
       "        1.        , 1.        , 1.        , 1.        , 1.        ,\n",
       "        1.        , 1.        , 1.        , 1.        , 1.        ,\n",
       "        1.        , 1.        , 1.        , 1.        , 1.        ,\n",
       "        1.        ],\n",
       "       [1.        , 1.        , 1.        , 1.        , 1.        ,\n",
       "        1.        , 1.        , 1.        , 1.        , 1.        ,\n",
       "        1.        , 1.        , 1.        , 1.        , 1.        ,\n",
       "        1.        , 1.        , 1.        , 1.        , 1.        ,\n",
       "        1.        , 1.        , 1.        , 1.        , 1.        ,\n",
       "        1.        , 1.        , 1.        , 1.        , 1.        ,\n",
       "        1.        , 1.        , 1.        , 1.        , 1.        ,\n",
       "        1.        , 1.        , 1.        , 1.        , 1.        ,\n",
       "        1.        ],\n",
       "       [1.        , 1.        , 1.        , 1.        , 1.        ,\n",
       "        1.        , 1.        , 1.        , 1.        , 1.        ,\n",
       "        1.        , 1.        , 1.        , 1.        , 1.        ,\n",
       "        1.        , 1.        , 1.        , 1.        , 1.        ,\n",
       "        1.        , 1.        , 1.        , 1.        , 1.        ,\n",
       "        1.        , 1.        , 1.        , 1.        , 1.        ,\n",
       "        1.        , 1.        , 1.        , 1.        , 1.        ,\n",
       "        1.        , 1.        , 1.        , 1.        , 1.        ,\n",
       "        1.        ],\n",
       "       [1.        , 1.        , 1.        , 1.        , 1.        ,\n",
       "        1.        , 1.        , 1.        , 1.        , 1.        ,\n",
       "        1.        , 1.        , 1.        , 1.        , 1.        ,\n",
       "        1.        , 1.        , 1.        , 1.        , 1.        ,\n",
       "        1.        , 1.        , 1.        , 1.        , 1.        ,\n",
       "        1.        , 1.        , 1.        , 1.        , 1.        ,\n",
       "        1.        , 1.        , 1.        , 1.        , 1.        ,\n",
       "        1.        , 1.        , 1.        , 1.        , 1.        ,\n",
       "        1.        ]])"
      ]
     },
     "execution_count": 25,
     "metadata": {},
     "output_type": "execute_result"
    }
   ],
   "source": [
    "matrizProbabilidadeDeteccaoMedia"
   ]
  },
  {
   "cell_type": "code",
   "execution_count": null,
   "metadata": {},
   "outputs": [],
   "source": []
  },
  {
   "cell_type": "code",
   "execution_count": null,
   "metadata": {},
   "outputs": [],
   "source": [
    "def rodarTesteDeteccao(qtdUsuarios, featuresSelecionadas, classificador, esquemaDeteccao, repetibilidadeDataset, thresholdKapetanovic=100):\n",
    "    \n",
    "    # PEGO O QUE E O QUE\n",
    "    XTrain, XTest, yTrain, yTest, snrTrain, snrTest, potEspiaoTrain, potEspiaoTest = separarXeY(abrirDataframe(qtdUsuarios, \"treinamento\"), abrirDataframe(qtdUsuarios, \"teste\"), featuresSelecionadas)\n",
    "    \n",
    "    # VALORES UNICOS DE SNR E POTENCIA DE ESPIAO PRA EU SABER O INDEX DAS MATRIZES DE RESULTADOS\n",
    "    rangeSNRs, rangePotEspiao = obterValoresUnicos(snrTest, potEspiaoTest)\n",
    "    \n",
    "    # MATRIZES QUE VAO GUARDAR OS RESULTADOS\n",
    "    matrizProbabilidadeDeteccao = np.zeros(shape=(len(rangePotEspiao), len(rangeSNRs)))\n",
    "    \n",
    "    # PREDICAO\n",
    "    if esquemaDeteccao == \"ML\":\n",
    "        yPred, tempoMedioPredicao, tempoDesvioPredicao = deteccaoMachineLearning(XTrain, XTest, yTrain, classificador)\n",
    "    elif esquemaDeteccao == \"Hassan\":\n",
    "        yPred, tempoMedioPredicao, tempoDesvioPredicao = deteccaoHassan(XTest)\n",
    "    else:\n",
    "        yPred, tempoMedioPredicao, tempoDesvioPredicao = deteccaoKapetanovic(XTest, thresholdKapetanovic)\n",
    "\n",
    "    # AGREGO NA MATRIZ DE PROB DE DETECCAO\n",
    "    for (indexTesteAtual, predicaoAtual) in zip(yTest.index, yPred):\n",
    "\n",
    "        # PEGANDO EM QUAL LINHA E EM QUAL COLUNA DA MATRIZ EU VOU COLOCAR O RESULTADO\n",
    "        indexPotEsp = np.where(rangePotEspiao==potEspiaoTest[indexTesteAtual])[0][0]\n",
    "        indexSNR    = np.where(rangeSNRs==snrTest[indexTesteAtual])[0][0]\n",
    "\n",
    "        # JA SOMO COM A PROBABILIDADE (DIVIDINDO PELA REPETIBILIDADE)\n",
    "        matrizProbabilidadeDeteccao[indexPotEsp][indexSNR] += predicaoAtual/repetibilidadeDataset       \n",
    "    \n",
    "    # CONSIDERANDO QUE O DATASET ESTA BALANCEADO, HA MUITO MAIS REPETIBILIDADE QUANDO POTESP = 0\n",
    "    matrizProbabilidadeDeteccao[0] /= (len(rangePotEspiao) - 1)\n",
    "    \n",
    "    # METRICAS\n",
    "    acuracia, precisao, revocacao, matrizConfusao = calcularMetricas(yTest, yPred)\n",
    "    \n",
    "    # DICIONARIOS COM OS RESULTADOS \n",
    "    dictNovoResultado = obterDictNovoResultado(classificador, matrizProbabilidadeDeteccao, matrizConfusao, rangePotEspiao, rangeSNRs, qtdUsuarios, qtdAntenas, qtdSimbolos, featuresSelecionadas, acuracia, precisao, revocacao, tempoMedioPredicao, tempoDesvioPredicao, repetibilidadeDataset)\n",
    "    \n",
    "    return dictNovoResultado"
   ]
  },
  {
   "cell_type": "code",
   "execution_count": null,
   "metadata": {},
   "outputs": [],
   "source": []
  },
  {
   "cell_type": "code",
   "execution_count": null,
   "metadata": {},
   "outputs": [],
   "source": []
  },
  {
   "cell_type": "code",
   "execution_count": null,
   "metadata": {},
   "outputs": [],
   "source": []
  },
  {
   "cell_type": "code",
   "execution_count": null,
   "metadata": {},
   "outputs": [],
   "source": []
  },
  {
   "cell_type": "code",
   "execution_count": null,
   "metadata": {},
   "outputs": [],
   "source": []
  },
  {
   "cell_type": "markdown",
   "metadata": {},
   "source": [
    "## Rodando os testes de detecção com machine learning, hassan e kapetanovic"
   ]
  },
  {
   "cell_type": "code",
   "execution_count": null,
   "metadata": {
    "scrolled": false
   },
   "outputs": [],
   "source": [
    "esquemaDeteccao = \"ML\"\n",
    "arrayResultados = Parallel(verbose=verbose, n_jobs=nucleosProcessador)(delayed(rodarTesteDeteccao)(qtdUsuarios, featuresSelecionadas, classificador, esquemaDeteccao, repetibilidadeDataset, thresholdKapetanovic) for classificador in classificadores for qtdUsuarios in rangeQtdUsuarios for featuresSelecionadas in combinacoesFeaturesML)\n",
    "salvarNovosResultados(arrayResultados, arquivoSalvar)"
   ]
  },
  {
   "cell_type": "code",
   "execution_count": null,
   "metadata": {},
   "outputs": [],
   "source": [
    "esquemaDeteccao      = \"Hassan\"\n",
    "classificador        = esquemaDeteccao\n",
    "featuresSelecionadas = [\"E\", \"eta\"]\n",
    "arrayResultados      = Parallel(verbose=verbose, n_jobs=nucleosProcessador)(delayed(rodarTesteDeteccao)(qtdUsuarios, featuresSelecionadas, classificador, esquemaDeteccao, repetibilidadeDataset, thresholdKapetanovic) for qtdUsuarios in rangeQtdUsuarios)\n",
    "salvarNovosResultados(arrayResultados, arquivoSalvar)"
   ]
  },
  {
   "cell_type": "code",
   "execution_count": null,
   "metadata": {},
   "outputs": [],
   "source": [
    "esquemaDeteccao      = \"Kapetanovic\"\n",
    "classificador        = esquemaDeteccao\n",
    "featuresSelecionadas = [\"a1\", \"a2\"]\n",
    "arrayResultados      = Parallel(verbose=verbose, n_jobs=nucleosProcessador)(delayed(rodarTesteDeteccao)(qtdUsuarios, featuresSelecionadas, classificador, esquemaDeteccao, repetibilidadeDataset, thresholdKapetanovic) for qtdUsuarios in rangeQtdUsuarios)\n",
    "salvarNovosResultados(arrayResultados, arquivoSalvar)"
   ]
  },
  {
   "cell_type": "code",
   "execution_count": null,
   "metadata": {},
   "outputs": [],
   "source": []
  },
  {
   "cell_type": "code",
   "execution_count": null,
   "metadata": {},
   "outputs": [],
   "source": []
  },
  {
   "cell_type": "code",
   "execution_count": null,
   "metadata": {},
   "outputs": [],
   "source": []
  }
 ],
 "metadata": {
  "kernelspec": {
   "display_name": "Python 3",
   "language": "python",
   "name": "python3"
  },
  "language_info": {
   "codemirror_mode": {
    "name": "ipython",
    "version": 3
   },
   "file_extension": ".py",
   "mimetype": "text/x-python",
   "name": "python",
   "nbconvert_exporter": "python",
   "pygments_lexer": "ipython3",
   "version": "3.9.1"
  }
 },
 "nbformat": 4,
 "nbformat_minor": 4
}
