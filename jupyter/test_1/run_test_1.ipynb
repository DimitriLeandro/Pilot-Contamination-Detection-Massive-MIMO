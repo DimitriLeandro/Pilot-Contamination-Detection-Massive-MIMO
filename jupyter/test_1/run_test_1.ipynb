{
 "cells": [
  {
   "cell_type": "markdown",
   "metadata": {},
   "source": [
    "# Rodar Teste 1: influência da SNR"
   ]
  },
  {
   "cell_type": "markdown",
   "metadata": {},
   "source": [
    "## Imports"
   ]
  },
  {
   "cell_type": "code",
   "execution_count": 1,
   "metadata": {},
   "outputs": [],
   "source": [
    "import numpy as np\n",
    "import pandas as pd\n",
    "import matplotlib.pyplot as plt\n",
    "import json\n",
    "from typing import Optional, Any\n",
    "from pathlib import Path\n",
    "from time import time\n",
    "from sklearn.metrics import accuracy_score, recall_score, precision_score, confusion_matrix\n",
    "from sklearn.tree import DecisionTreeClassifier\n",
    "from sklearn.utils import shuffle\n",
    "from sklearn.model_selection import KFold\n",
    "from joblib import Parallel, delayed"
   ]
  },
  {
   "cell_type": "markdown",
   "metadata": {},
   "source": [
    "## Funções"
   ]
  },
  {
   "cell_type": "code",
   "execution_count": 2,
   "metadata": {},
   "outputs": [],
   "source": [
    "def abrirDataframe(\n",
    "    dirDatasets:        Path, \n",
    "    qtdUsuarios:        int, \n",
    "    qtdAntenas:         int,\n",
    "    datasetTreinamento: bool\n",
    ") -> pd.DataFrame:\n",
    "    \n",
    "    prefixo    = \"train_1_\" if datasetTreinamento else \"test_1_\"        \n",
    "    caminhoCSV = sorted(dirDatasets.glob(prefixo+str(qtdUsuarios)+\"_users_\"+str(qtdAntenas)+\"_antenas_*.csv\"))[-1]\n",
    "    df         = pd.read_csv(caminhoCSV)\n",
    "    \n",
    "    return df"
   ]
  },
  {
   "cell_type": "code",
   "execution_count": 3,
   "metadata": {},
   "outputs": [],
   "source": [
    "def separarXeY(\n",
    "    dfTreinamento:        pd.DataFrame,\n",
    "    dfTeste:              pd.DataFrame, \n",
    "    featuresSelecionadas: Optional[list[str]] = None\n",
    ") -> (pd.Series, pd.Series, pd.Series, pd.Series, pd.Series, pd.Series, pd.Series, pd.Series):\n",
    "    \n",
    "    # SELECIONANDO TODAS AS FEATURES SE FEATURESSELECIONADAS VIER NONE\n",
    "    if featuresSelecionadas is None:\n",
    "        featuresSelecionadas = df.columns.drop([\"potenciaEspiao\", \"ataquePresente\"])\n",
    "    \n",
    "    # SEPARANDO OS ARRAYS\n",
    "    XTrain         = dfTreinamento[featuresSelecionadas]\n",
    "    XTest          = dfTeste[featuresSelecionadas]\n",
    "    yTrain         = dfTreinamento[\"ataquePresente\"]\n",
    "    yTest          = dfTeste[\"ataquePresente\"]\n",
    "    snrTrain       = dfTreinamento[\"snr\"]\n",
    "    snrTest        = dfTeste[\"snr\"]\n",
    "    potEspiaoTrain = dfTreinamento[\"potenciaEspiao\"]\n",
    "    potEspiaoTest  = dfTeste[\"potenciaEspiao\"]\n",
    "    \n",
    "    return XTrain, XTest, yTrain, yTest, snrTrain, snrTest, potEspiaoTrain, potEspiaoTest"
   ]
  },
  {
   "cell_type": "code",
   "execution_count": 4,
   "metadata": {},
   "outputs": [],
   "source": [
    "def deteccaoMachineLearning(\n",
    "    XTrain:           pd.Series, \n",
    "    XTest:            pd.Series, \n",
    "    yTrain:           pd.Series, \n",
    "    objClassificador: Any\n",
    ") -> (np.ndarray, np.float64, np.float64):\n",
    "\n",
    "    # TREINANDO O CLASSIFICADOR\n",
    "    objClassificador.fit(XTrain, yTrain)\n",
    "\n",
    "    # PREDIZENDO OS DE TESTE\n",
    "    arrayTempos = np.zeros(len(XTest))\n",
    "    yPred       = np.zeros(len(XTest))\n",
    "    for i, (id, amostraTeste) in enumerate(XTest.iterrows()):\n",
    "        tic            = time()\n",
    "        yPred[i]       = objClassificador.predict([amostraTeste.to_numpy()])[0]\n",
    "        toc            = time()\n",
    "        arrayTempos[0] = toc-tic\n",
    "        \n",
    "    # METRICAS DE TEMPO\n",
    "    mediaTempo, desvioTempo = np.mean(arrayTempos), np.std(arrayTempos)\n",
    "        \n",
    "    return yPred, mediaTempo, desvioTempo"
   ]
  },
  {
   "cell_type": "code",
   "execution_count": 5,
   "metadata": {},
   "outputs": [],
   "source": [
    "def deteccaoHassan(\n",
    "    XTest: pd.Series\n",
    ") -> (np.ndarray, np.float64, np.float64):\n",
    "    \n",
    "    arrayTempos = np.zeros(len(XTest))\n",
    "    yPred       = np.zeros(len(XTest))\n",
    "    \n",
    "    for i, (id, amostraTeste) in enumerate(XTest.iterrows()):\n",
    "        tic            = time()\n",
    "        yPred[i]       = 1 if amostraTeste[\"E\"] > amostraTeste[\"eta\"] else 0\n",
    "        toc            = time()\n",
    "        arrayTempos[i] = toc-tic\n",
    "\n",
    "    mediaTempo, desvioTempo = np.mean(arrayTempos), np.std(arrayTempos)\n",
    "        \n",
    "    return yPred, mediaTempo, desvioTempo"
   ]
  },
  {
   "cell_type": "code",
   "execution_count": 6,
   "metadata": {},
   "outputs": [],
   "source": [
    "def deteccaoKapetanovic(\n",
    "    XTest:     pd.Series, \n",
    "    threshold: float\n",
    ") -> (np.ndarray, np.float64, np.float64):\n",
    "    \n",
    "    arrayTempos = np.zeros(len(XTest))\n",
    "    yPred       = np.zeros(len(XTest))\n",
    "    \n",
    "    for i, (id, amostraTeste) in enumerate(XTest.iterrows()):\n",
    "        tic            = time()\n",
    "        yPred[i]       = 1 if amostraTeste[\"a1\"]/amostraTeste[\"a2\"] > threshold else 0\n",
    "        toc            = time()\n",
    "        arrayTempos[i] = toc-tic\n",
    "        \n",
    "    mediaTempo, desvioTempo = np.mean(arrayTempos), np.std(arrayTempos)\n",
    "        \n",
    "    return yPred, mediaTempo, desvioTempo"
   ]
  },
  {
   "cell_type": "code",
   "execution_count": 7,
   "metadata": {},
   "outputs": [],
   "source": [
    "def predizerEsquemaDeteccao(\n",
    "    esquemaDeteccao:      str,\n",
    "    XTrain:               pd.Series, \n",
    "    XTest:                pd.Series, \n",
    "    yTrain:               pd.Series, \n",
    "    classificador:        Any,\n",
    "    thresholdKapetanovic: float\n",
    ") -> (np.ndarray, np.float64, np.float64):\n",
    "    \n",
    "    if esquemaDeteccao == \"ML\":\n",
    "        yPred, tempoMedioPredicao, tempoDesvioPredicao = deteccaoMachineLearning(XTrain, XTest, yTrain, classificador)\n",
    "    elif esquemaDeteccao == \"Hassan\":\n",
    "        yPred, tempoMedioPredicao, tempoDesvioPredicao = deteccaoHassan(XTest)\n",
    "    else:\n",
    "        yPred, tempoMedioPredicao, tempoDesvioPredicao = deteccaoKapetanovic(XTest, thresholdKapetanovic)\n",
    "        \n",
    "    return yPred, tempoMedioPredicao, tempoDesvioPredicao"
   ]
  },
  {
   "cell_type": "code",
   "execution_count": 8,
   "metadata": {},
   "outputs": [],
   "source": [
    "def obterValoresUnicos(\n",
    "    arraySNRs:       np.ndarray, \n",
    "    arrayPotsEspiao: np.ndarray\n",
    ") -> (np.ndarray, np.ndarray):\n",
    "    \n",
    "    rangeSNRs      = np.unique(arraySNRs)\n",
    "    rangePotEspiao = np.unique(arrayPotsEspiao)\n",
    "    \n",
    "    return rangeSNRs, rangePotEspiao"
   ]
  },
  {
   "cell_type": "code",
   "execution_count": 9,
   "metadata": {},
   "outputs": [],
   "source": [
    "def calcularMetricas(\n",
    "    matrizProbabilidadeDeteccaoCadaKFold: list[np.ndarray],\n",
    "    matrizConfusaoCadaKFold:              list[np.ndarray],\n",
    "    acuraciaCadaKFold:                    list[np.float64],\n",
    "    precisaoCadaKFold:                    list[np.float64],\n",
    "    revocacaoCadaKFold:                   list[np.float64],\n",
    "    tempoProcessamentoCadaKFold:          list[np.float64],\n",
    "    rangePotEspiao:                       np.ndarray,\n",
    "    rangeSNRs:                            np.ndarray\n",
    ") -> dict[str, Any]:\n",
    "    \n",
    "    # MATRIZ DE PROBABILIDADE DE DETECCAO MEDIA E DESVIO EM CADA POT ESP E CADA SNR\n",
    "    matrizProbabilidadeDeteccaoMedia  = np.mean(matrizProbabilidadeDeteccaoCadaKFold, axis=0)\n",
    "    matrizProbabilidadeDeteccaoDesvio = np.std(matrizProbabilidadeDeteccaoCadaKFold, axis=0)\n",
    "\n",
    "    # MATRIZ DE CONFUSAO GERAL (SOMA DE TODAS AS ITERACOES)\n",
    "    somaMatrizesConfusao = np.sum(matrizConfusaoCadaKFold, axis=0)\n",
    "\n",
    "    # MEDIA E DESVIO DE OUTRAS METRICAS\n",
    "    acuraciaMedia, acuraciaDesvio                      = np.mean(acuraciaCadaKFold), np.std(acuraciaCadaKFold)\n",
    "    precisaoMedia, precisaoDesvio                      = np.mean(precisaoCadaKFold), np.std(precisaoCadaKFold)\n",
    "    revocacaoMedia, revocacaoDesvio                    = np.mean(revocacaoCadaKFold), np.std(revocacaoCadaKFold)\n",
    "    tempoProcessamentoMedio, tempoProcessamentoDesvio  = np.mean(tempoProcessamentoCadaKFold), np.std(tempoProcessamentoCadaKFold)\n",
    "    \n",
    "    # MONTANDO O DICIONARIO COM AS METRICAS\n",
    "    dictMetricas = {\n",
    "        \"rangePotEspiao\":                    rangePotEspiao.tolist(),\n",
    "        \"rangeSNRs\":                         rangeSNRs.tolist(),\n",
    "        \"acuraciaMedia\":                     float(acuraciaMedia),\n",
    "        \"acuraciaDesvio\":                    float(acuraciaDesvio),\n",
    "        \"precisaoMedia\":                     float(precisaoMedia),\n",
    "        \"precisaoDesvio\":                    float(precisaoDesvio),\n",
    "        \"revocacaoMedia\":                    float(revocacaoMedia),\n",
    "        \"revocacaoDesvio\":                   float(revocacaoDesvio),\n",
    "        \"tempoProcessamentoMedio\":           float(tempoProcessamentoMedio),\n",
    "        \"tempoProcessamentoDesvio\":          float(tempoProcessamentoDesvio),\n",
    "        \"somaMatrizesConfusao\":              somaMatrizesConfusao.tolist(),\n",
    "        \"matrizProbabilidadeDeteccaoMedia\":  matrizProbabilidadeDeteccaoMedia.tolist(),\n",
    "        \"matrizProbabilidadeDeteccaoDesvio\": matrizProbabilidadeDeteccaoDesvio.tolist()\n",
    "    }\n",
    "    \n",
    "    return dictMetricas"
   ]
  },
  {
   "cell_type": "code",
   "execution_count": 10,
   "metadata": {},
   "outputs": [],
   "source": [
    "def salvarResultados(\n",
    "    prefixoKeyDict:        str, \n",
    "    qtdUsuarios:           int, \n",
    "    qtdAntenas:            int, \n",
    "    qtdSimbolos:           int,\n",
    "    repetibilidadeDataset: int,\n",
    "    qtdFolders:            int, \n",
    "    featuresSelecionadas:  list[str],\n",
    "    dictMetricas:          dict[str, Any],\n",
    "    arquivoSalvar:         Path\n",
    ") -> None:\n",
    "    \n",
    "    # KEY DO JSON QUE VAI GUARDAR ESSE RESULTADO\n",
    "    key = prefixoKeyDict + \"_\" + str(time()).replace(\".\", \"\")\n",
    "    \n",
    "    # INICIANDO O DICIONARIO DE RESULTADOS\n",
    "    dictResultado = {\n",
    "        key: {\n",
    "            \"qtdUsuarios\":                 qtdUsuarios,\n",
    "            \"qtdAntenas\":                  qtdAntenas,\n",
    "            \"qtdSimbolos\":                 qtdSimbolos,\n",
    "            \"repetibilidadeDataset\":       repetibilidadeDataset,\n",
    "            \"qtdFolders\":                  qtdFolders,\n",
    "            \"featuresSelecionadas\":        featuresSelecionadas\n",
    "        }\n",
    "    }\n",
    "    \n",
    "    # CONCATENANDO COM O DICIONARIO DE METRICAS MEDIAS E DESVIOS\n",
    "    dictResultado[key] |= dictMetricas\n",
    "    \n",
    "    # SALVANDO\n",
    "    with open(arquivoSalvar, mode=\"r+\") as file:\n",
    "        dictJSON  = json.load(file)\n",
    "        dictJSON |= dictResultado\n",
    "        file.seek(0)\n",
    "        json.dump(dictJSON, file, indent=4)\n",
    "        file.truncate()"
   ]
  },
  {
   "cell_type": "code",
   "execution_count": 11,
   "metadata": {},
   "outputs": [],
   "source": [
    "def rodarTesteDeteccao(\n",
    "    esquemaDeteccao:      str,\n",
    "    featuresSelecionadas: list[str],\n",
    "    dirDatasets:          Path, \n",
    "    qtdUsuarios:          int, \n",
    "    qtdAntenas:           int,\n",
    "    qtdFolders:           int,\n",
    "    classificador:        Any, \n",
    "    thresholdKapetanovic: float\n",
    ") -> dict[str, Any]:\n",
    "\n",
    "    # ARRAYS QUE VAO GUARDAR OS RESULTADOS DE CADA ITERACAO DO KFOLD\n",
    "    matrizProbabilidadeDeteccaoCadaKFold = []\n",
    "    acuraciaCadaKFold                    = []\n",
    "    precisaoCadaKFold                    = []\n",
    "    revocacaoCadaKFold                   = []\n",
    "    matrizConfusaoCadaKFold              = []\n",
    "    tempoProcessamentoCadaKFold          = []\n",
    "\n",
    "    # ABRINDO OS DATAFRAMES DE TREINAMENTO E TESTE E SEPARANDO X E Y\n",
    "    dfTreinamento = abrirDataframe(dirDatasets, qtdUsuarios, qtdAntenas, datasetTreinamento=True)\n",
    "    dfTeste       = abrirDataframe(dirDatasets, qtdUsuarios, qtdAntenas, datasetTreinamento=False)\n",
    "    XTrainGlobal, XTestGlobal, yTrainGlobal, yTestGlobal, snrTrainGlobal, snrTestGlobal, potEspTrainGlobal, potEspTestGlobal = separarXeY(dfTreinamento, dfTeste, featuresSelecionadas)\n",
    "\n",
    "    # VALORES UNICOS DE SNR E POTENCIA DE ESPIAO PRA EU SABER O INDEX DAS MATRIZES DE RESULTADOS\n",
    "    rangeSNRs, rangePotEspiao = obterValoresUnicos(snrTestGlobal, potEspTestGlobal)\n",
    "\n",
    "    # OBTENDO INDICES DE TREINAMENTO E TESTE COM KFOLD (NAO DA PRA USAR DO JEITO FACIL PQ SAO DOIS DATAFRAMES DIFERENTES)\n",
    "    objKFold = KFold(n_splits=qtdFolders, shuffle=True)\n",
    "    pastasTreinamento, _ = zip(*objKFold.split(XTrainGlobal))\n",
    "    _, pastasTeste       = zip(*objKFold.split(XTestGlobal))\n",
    "\n",
    "    # RODANDO O KFOLD\n",
    "    for indexesTreinamento, indexesTeste in zip(pastasTreinamento, pastasTeste):\n",
    "\n",
    "        # SEPARANDO X, Y, SNRs E POTENCIAS DO ESPIAO DE TREINAMENTO E TESTE\n",
    "        XTrain, XTest           = XTrainGlobal.loc[indexesTreinamento], XTestGlobal.loc[indexesTeste]\n",
    "        yTrain, yTest           = yTrainGlobal.loc[indexesTreinamento], yTestGlobal.loc[indexesTeste]\n",
    "        snrTrain, snrTest       = snrTrainGlobal.loc[indexesTreinamento], snrTestGlobal.loc[indexesTeste]\n",
    "        potEspTrain, potEspTest = potEspTrainGlobal.loc[indexesTreinamento], potEspTestGlobal.loc[indexesTeste]\n",
    "\n",
    "        # PREDICAO\n",
    "        yPred, tempoMedioPredicao, _ = predizerEsquemaDeteccao(esquemaDeteccao, XTrain, XTest, yTrain, classificador, thresholdKapetanovic)\n",
    "        \n",
    "        # GRAVANDO METRICAS\n",
    "        acuraciaCadaKFold.append(accuracy_score(yTest, yPred))                    \n",
    "        precisaoCadaKFold.append(precision_score(yTest, yPred))                    \n",
    "        revocacaoCadaKFold.append(recall_score(yTest, yPred))\n",
    "        matrizConfusaoCadaKFold.append(confusion_matrix(yTest, yPred))\n",
    "        tempoProcessamentoCadaKFold.append(tempoMedioPredicao)          \n",
    "\n",
    "        # AGREGO NAS MATRIZES CONTADORAS\n",
    "        matrizContadoraDeteccoes   = np.zeros(shape=(len(rangePotEspiao), len(rangeSNRs)))\n",
    "        matrizContadoraOcorrencias = np.zeros(matrizContadoraDeteccoes.shape)\n",
    "        for (indexTesteAtual, predicaoAtual) in zip(yTest.index, yPred):\n",
    "\n",
    "            # PEGANDO EM QUAL LINHA E EM QUAL COLUNA DA MATRIZ EU VOU COLOCAR O RESULTADO\n",
    "            indexPotEsp = np.where(rangePotEspiao==potEspTest[indexTesteAtual])[0][0]\n",
    "            indexSNR    = np.where(rangeSNRs==snrTest[indexTesteAtual])[0][0]\n",
    "\n",
    "            # COLOCO NAS MATRIZES DE RESULTADOS\n",
    "            matrizContadoraDeteccoes[indexPotEsp][indexSNR]   += predicaoAtual\n",
    "            matrizContadoraOcorrencias[indexPotEsp][indexSNR] += 1\n",
    "\n",
    "        # MATRIZ DA PROBABILIDADE DE DETECCAO EM CADA POT ESPIAO (LINHAS) E CADA SNR (COLUNAS)\n",
    "        matrizProbabilidadeDeteccaoCadaKFold.append(matrizContadoraDeteccoes/matrizContadoraOcorrencias)\n",
    "\n",
    "    # CALCULANDO TODAS AS MEDIAS E DESVIOS DAS METRICAS AO LONGO DO KFOLD E COLOCANDO NUM DICIONARIO\n",
    "    dictMetricas = calcularMetricas(matrizProbabilidadeDeteccaoCadaKFold, matrizConfusaoCadaKFold, acuraciaCadaKFold, precisaoCadaKFold, revocacaoCadaKFold, tempoProcessamentoCadaKFold, rangePotEspiao, rangeSNRs)\n",
    "\n",
    "    return dictMetricas"
   ]
  },
  {
   "cell_type": "markdown",
   "metadata": {},
   "source": [
    "## Parâmetros iniciais"
   ]
  },
  {
   "cell_type": "code",
   "execution_count": 19,
   "metadata": {},
   "outputs": [],
   "source": [
    "# PARAMETROS\n",
    "classificador                   = DecisionTreeClassifier()\n",
    "qtdUsuarios                     = 64\n",
    "qtdAntenas                      = 256\n",
    "qtdSimbolos                     = 300\n",
    "repetibilidadeDataset           = 100\n",
    "qtdFolders                      = 10\n",
    "nucleosProcessador              = -1\n",
    "thresholdKapetanovic            = 100\n",
    "verbose                         = 100\n",
    "featuresSelecionadasML          = [\"E\"]\n",
    "featuresSelecionadasHassan      = [\"E\", \"eta\"]\n",
    "featuresSelecionadasKapetanovic = [\"a1\", \"a2\"]\n",
    "dirDatasets                     = Path(\"../../datasets/test_1/\")"
   ]
  },
  {
   "cell_type": "markdown",
   "metadata": {},
   "source": [
    "## Iniciando o JSON qe vai guardar os resultados"
   ]
  },
  {
   "cell_type": "code",
   "execution_count": null,
   "metadata": {},
   "outputs": [],
   "source": [
    "# INICIANDO O JSON QUE VAI GUARDAR OS RESULTADOS\n",
    "dictResultados = {}\n",
    "arquivoSalvar  = Path(\"../../results/test_1/detection_probability_\" + str(time()).replace(\".\", \"\") + \".json\")\n",
    "with open(arquivoSalvar, mode=\"w\") as file:\n",
    "    json.dump(dictResultados, file)"
   ]
  },
  {
   "cell_type": "markdown",
   "metadata": {},
   "source": [
    "## Rodando os testes de detecção com machine learning, hassan e kapetanovic"
   ]
  },
  {
   "cell_type": "code",
   "execution_count": 13,
   "metadata": {},
   "outputs": [],
   "source": [
    "# PARAMETROS INICIAIS\n",
    "prefixoKeyDict       = classificador.__class__.__name__\n",
    "esquemaDeteccao      = \"ML\"\n",
    "featuresSelecionadas = featuresSelecionadasML\n",
    "\n",
    "# RODANDO O TESTE E CALCULANDO METRICAS\n",
    "dictMetricas = rodarTesteDeteccao(esquemaDeteccao, featuresSelecionadas, dirDatasets, qtdUsuarios, qtdAntenas, qtdFolders, classificador, thresholdKapetanovic)\n",
    "\n",
    "# SALVANDO O RESULTADO\n",
    "salvarResultados(prefixoKeyDict, qtdUsuarios, qtdAntenas, qtdSimbolos, repetibilidadeDataset, qtdFolders, featuresSelecionadas, dictMetricas, arquivoSalvar)"
   ]
  },
  {
   "cell_type": "code",
   "execution_count": 14,
   "metadata": {},
   "outputs": [],
   "source": [
    "# PARAMETROS INICIAIS\n",
    "prefixoKeyDict       = \"Hassan\"\n",
    "esquemaDeteccao      = prefixoKeyDict\n",
    "featuresSelecionadas = featuresSelecionadasHassan\n",
    "\n",
    "# RODANDO O TESTE E CALCULANDO METRICAS\n",
    "dictMetricas = rodarTesteDeteccao(esquemaDeteccao, featuresSelecionadas, dirDatasets, qtdUsuarios, qtdAntenas, qtdFolders, classificador, thresholdKapetanovic)\n",
    "\n",
    "# SALVANDO O RESULTADO\n",
    "salvarResultados(prefixoKeyDict, qtdUsuarios, qtdAntenas, qtdSimbolos, repetibilidadeDataset, qtdFolders, featuresSelecionadas, dictMetricas, arquivoSalvar)"
   ]
  },
  {
   "cell_type": "code",
   "execution_count": 20,
   "metadata": {},
   "outputs": [
    {
     "name": "stderr",
     "output_type": "stream",
     "text": [
      "/home/dimi/.pyenv/versions/3.9.1/envs/venv_aicom/lib/python3.9/site-packages/sklearn/metrics/_classification.py:1248: UndefinedMetricWarning: Precision is ill-defined and being set to 0.0 due to no predicted samples. Use `zero_division` parameter to control this behavior.\n",
      "  _warn_prf(average, modifier, msg_start, len(result))\n",
      "/home/dimi/.pyenv/versions/3.9.1/envs/venv_aicom/lib/python3.9/site-packages/sklearn/metrics/_classification.py:1248: UndefinedMetricWarning: Precision is ill-defined and being set to 0.0 due to no predicted samples. Use `zero_division` parameter to control this behavior.\n",
      "  _warn_prf(average, modifier, msg_start, len(result))\n",
      "/home/dimi/.pyenv/versions/3.9.1/envs/venv_aicom/lib/python3.9/site-packages/sklearn/metrics/_classification.py:1248: UndefinedMetricWarning: Precision is ill-defined and being set to 0.0 due to no predicted samples. Use `zero_division` parameter to control this behavior.\n",
      "  _warn_prf(average, modifier, msg_start, len(result))\n",
      "/home/dimi/.pyenv/versions/3.9.1/envs/venv_aicom/lib/python3.9/site-packages/sklearn/metrics/_classification.py:1248: UndefinedMetricWarning: Precision is ill-defined and being set to 0.0 due to no predicted samples. Use `zero_division` parameter to control this behavior.\n",
      "  _warn_prf(average, modifier, msg_start, len(result))\n",
      "/home/dimi/.pyenv/versions/3.9.1/envs/venv_aicom/lib/python3.9/site-packages/sklearn/metrics/_classification.py:1248: UndefinedMetricWarning: Precision is ill-defined and being set to 0.0 due to no predicted samples. Use `zero_division` parameter to control this behavior.\n",
      "  _warn_prf(average, modifier, msg_start, len(result))\n",
      "/home/dimi/.pyenv/versions/3.9.1/envs/venv_aicom/lib/python3.9/site-packages/sklearn/metrics/_classification.py:1248: UndefinedMetricWarning: Precision is ill-defined and being set to 0.0 due to no predicted samples. Use `zero_division` parameter to control this behavior.\n",
      "  _warn_prf(average, modifier, msg_start, len(result))\n",
      "/home/dimi/.pyenv/versions/3.9.1/envs/venv_aicom/lib/python3.9/site-packages/sklearn/metrics/_classification.py:1248: UndefinedMetricWarning: Precision is ill-defined and being set to 0.0 due to no predicted samples. Use `zero_division` parameter to control this behavior.\n",
      "  _warn_prf(average, modifier, msg_start, len(result))\n",
      "/home/dimi/.pyenv/versions/3.9.1/envs/venv_aicom/lib/python3.9/site-packages/sklearn/metrics/_classification.py:1248: UndefinedMetricWarning: Precision is ill-defined and being set to 0.0 due to no predicted samples. Use `zero_division` parameter to control this behavior.\n",
      "  _warn_prf(average, modifier, msg_start, len(result))\n",
      "/home/dimi/.pyenv/versions/3.9.1/envs/venv_aicom/lib/python3.9/site-packages/sklearn/metrics/_classification.py:1248: UndefinedMetricWarning: Precision is ill-defined and being set to 0.0 due to no predicted samples. Use `zero_division` parameter to control this behavior.\n",
      "  _warn_prf(average, modifier, msg_start, len(result))\n",
      "/home/dimi/.pyenv/versions/3.9.1/envs/venv_aicom/lib/python3.9/site-packages/sklearn/metrics/_classification.py:1248: UndefinedMetricWarning: Precision is ill-defined and being set to 0.0 due to no predicted samples. Use `zero_division` parameter to control this behavior.\n",
      "  _warn_prf(average, modifier, msg_start, len(result))\n"
     ]
    }
   ],
   "source": [
    "# PARAMETROS INICIAIS\n",
    "prefixoKeyDict       = \"Kapetanovic\"\n",
    "esquemaDeteccao      = prefixoKeyDict\n",
    "featuresSelecionadas = featuresSelecionadasKapetanovic\n",
    "\n",
    "# RODANDO O TESTE E CALCULANDO METRICAS\n",
    "dictMetricas = rodarTesteDeteccao(esquemaDeteccao, featuresSelecionadas, dirDatasets, qtdUsuarios, qtdAntenas, qtdFolders, classificador, thresholdKapetanovic)\n",
    "\n",
    "# SALVANDO O RESULTADO\n",
    "salvarResultados(prefixoKeyDict, qtdUsuarios, qtdAntenas, qtdSimbolos, repetibilidadeDataset, qtdFolders, featuresSelecionadas, dictMetricas, arquivoSalvar)"
   ]
  },
  {
   "cell_type": "code",
   "execution_count": null,
   "metadata": {},
   "outputs": [],
   "source": []
  },
  {
   "cell_type": "code",
   "execution_count": null,
   "metadata": {},
   "outputs": [],
   "source": []
  },
  {
   "cell_type": "code",
   "execution_count": null,
   "metadata": {},
   "outputs": [],
   "source": []
  }
 ],
 "metadata": {
  "kernelspec": {
   "display_name": "Python 3",
   "language": "python",
   "name": "python3"
  },
  "language_info": {
   "codemirror_mode": {
    "name": "ipython",
    "version": 3
   },
   "file_extension": ".py",
   "mimetype": "text/x-python",
   "name": "python",
   "nbconvert_exporter": "python",
   "pygments_lexer": "ipython3",
   "version": "3.9.1"
  }
 },
 "nbformat": 4,
 "nbformat_minor": 4
}
